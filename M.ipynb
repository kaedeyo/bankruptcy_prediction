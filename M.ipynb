{
 "cells": [
  {
   "cell_type": "code",
   "execution_count": 1,
   "metadata": {},
   "outputs": [],
   "source": [
    "import pandas as pd\n",
    "import numpy as np\n",
    "import matplotlib.pyplot as plt\n",
    "import seaborn as sns\n",
    "%matplotlib inline\n",
    "\n",
    "import os"
   ]
  },
  {
   "cell_type": "markdown",
   "metadata": {},
   "source": [
    "# DATA IMPORT"
   ]
  },
  {
   "cell_type": "markdown",
   "metadata": {},
   "source": [
    "IMPORT TEXT FILES "
   ]
  },
  {
   "cell_type": "code",
   "execution_count": 2,
   "metadata": {},
   "outputs": [],
   "source": [
    "# TRAINING SET\n",
    "#Bankrupt_files\n",
    "bankrupted_reports = os.listdir('C:/Users/onjad/OneDrive/Documents/RESEARCH PHD/article 3/CODES/DATAFRAMES/kadai/bankrupted/trainB')\n",
    "bankrupted_reports = [file for file in bankrupted_reports]\n",
    "\n",
    "bankrupted_file = []\n",
    "for report in range(0, len(bankrupted_reports)):\n",
    "    with open(f\"C:/Users/onjad/OneDrive/Documents/RESEARCH PHD/article 3/CODES/DATAFRAMES/kadai/bankrupted/trainB/{bankrupted_reports[report]}\", encoding=\"utf8\") as file:\n",
    "        filesB = file.read()\n",
    "        bankrupted_file.append(filesB)\n",
    "\n",
    "df_bankrupted = pd.DataFrame(bankrupted_file)\n",
    "df_bankrupted.columns = ['text_file']\n",
    "df_bankrupted['Y'] = 0 #Y=0 means bankrupted\n",
    "# print(df_bankrupted)\n",
    "\n",
    "#Nonbankrupt_files\n",
    "nonbankrupted_reports = os.listdir('C:/Users/onjad/OneDrive/Documents/RESEARCH PHD/article 3/CODES/DATAFRAMES/kadai/nonbankrupted/trainNB')\n",
    "nonbankrupted_reports = [file for file in nonbankrupted_reports]\n",
    "\n",
    "nonbankrupted_file = []\n",
    "for report in range(0, len(nonbankrupted_reports)):\n",
    "    with open(f\"C:/Users/onjad/OneDrive/Documents/RESEARCH PHD/article 3/CODES/DATAFRAMES/kadai/nonbankrupted/trainNB/{nonbankrupted_reports[report]}\", encoding=\"utf8\") as file:\n",
    "        filesNB = file.read()\n",
    "        nonbankrupted_file.append(filesNB)\n",
    "\n",
    "df_nonbankrupted = pd.DataFrame(nonbankrupted_file)\n",
    "df_nonbankrupted.columns = ['text_file']\n",
    "df_nonbankrupted['Y'] = 1 #Y=1 means non-bankrupted\n",
    "# print(df_nonbankrupted)\n",
    "\n",
    "concatenated_train = [df_bankrupted, df_nonbankrupted]\n",
    "df_train = pd.concat(concatenated_train, ignore_index= True)\n",
    "# print(df_train)\n",
    "\n",
    "# VALIDATION SET\n",
    "#Bankrupt_files\n",
    "bankrupted_reports_val = os.listdir('C:/Users/onjad/OneDrive/Documents/RESEARCH PHD/article 3/CODES/DATAFRAMES/kadai/bankrupted/valB')\n",
    "bankrupted_reports_val = [file for file in bankrupted_reports_val]\n",
    "\n",
    "bankrupted_file_val = []\n",
    "for report in range(0, len(bankrupted_reports_val)):\n",
    "    with open(f\"C:/Users/onjad/OneDrive/Documents/RESEARCH PHD/article 3/CODES/DATAFRAMES/kadai/bankrupted/valB/{bankrupted_reports_val[report]}\", encoding=\"utf8\") as file:\n",
    "        filesB_val = file.read()\n",
    "        bankrupted_file_val.append(filesB_val)\n",
    "\n",
    "df_bankrupted_val = pd.DataFrame(bankrupted_file_val)\n",
    "df_bankrupted_val.columns = ['text_file']\n",
    "df_bankrupted_val['Y'] = 0 #Y=0 means bankrupted\n",
    "# print(df_bankrupted_val)\n",
    "\n",
    "#Nonbankrupt_files\n",
    "nonbankrupted_reports_val = os.listdir('C:/Users/onjad/OneDrive/Documents/RESEARCH PHD/article 3/CODES/DATAFRAMES/kadai/nonbankrupted/valNB')\n",
    "nonbankrupted_reports_val = [file for file in nonbankrupted_reports_val]\n",
    "\n",
    "nonbankrupted_file_val = []\n",
    "for report in range(0, len(nonbankrupted_reports_val)):\n",
    "    with open(f\"C:/Users/onjad/OneDrive/Documents/RESEARCH PHD/article 3/CODES/DATAFRAMES/kadai/nonbankrupted/valNB/{nonbankrupted_reports_val[report]}\", encoding=\"utf8\") as file:\n",
    "        filesNB_val = file.read()\n",
    "        nonbankrupted_file_val.append(filesNB_val)\n",
    "\n",
    "df_nonbankrupted_val = pd.DataFrame(nonbankrupted_file_val)\n",
    "df_nonbankrupted_val.columns = ['text_file']\n",
    "df_nonbankrupted_val['Y'] = 1 #Y=1 means non-bankrupted\n",
    "# print(df_nonbankrupted_val)\n",
    "\n",
    "concatenated_val = [df_bankrupted_val, df_nonbankrupted_val]\n",
    "df_val = pd.concat(concatenated_val, ignore_index=True)\n",
    "# print(df_val)\n",
    "\n",
    "# TEST SET\n",
    "\n",
    "#Bankrupt_files (test data)\n",
    "testbankrupted_reports = os.listdir('C:/Users/onjad/OneDrive/Documents/RESEARCH PHD/article 3/CODES/DATAFRAMES/kadai/bankrupted/testB')\n",
    "\n",
    "testbankrupted_file = []\n",
    "for report in range(0, len(testbankrupted_reports)):\n",
    "    with open(f\"C:/Users/onjad/OneDrive/Documents/RESEARCH PHD/article 3/CODES/DATAFRAMES/kadai/bankrupted/testB/{testbankrupted_reports[report]}\", encoding=\"utf8\") as file:\n",
    "        testfilesB = file.read()\n",
    "        testbankrupted_file.append(testfilesB)\n",
    "\n",
    "df_bankrupted_test = pd.DataFrame(testbankrupted_file)\n",
    "df_bankrupted_test.columns = ['text_file']\n",
    "df_bankrupted_test['Y'] = 0\n",
    "\n",
    "#Nonbankrupt_files (test data)\n",
    "testnonbankrupted_reports = os.listdir('C:/Users/onjad/OneDrive/Documents/RESEARCH PHD/article 3/CODES/DATAFRAMES/kadai/nonbankrupted/testNB')\n",
    "\n",
    "testnonbankrupted_file = []\n",
    "for report in range(0, len(testnonbankrupted_reports)):\n",
    "    with open(f\"C:/Users/onjad/OneDrive/Documents/RESEARCH PHD/article 3/CODES/DATAFRAMES/kadai/nonbankrupted/testNB/{testnonbankrupted_reports[report]}\", encoding=\"utf8\") as file:\n",
    "        testfilesNB = file.read()\n",
    "        testnonbankrupted_file.append(testfilesNB)\n",
    "\n",
    "df_nonbankrupted_test = pd.DataFrame(testnonbankrupted_file)\n",
    "df_nonbankrupted_test.columns = ['text_file']\n",
    "df_nonbankrupted_test['Y'] = 1\n",
    "\n",
    "concatenated_test = [df_bankrupted_test, df_nonbankrupted_test]\n",
    "df_test = pd.concat(concatenated_test, ignore_index=True)\n",
    "# df_test"
   ]
  },
  {
   "cell_type": "code",
   "execution_count": 3,
   "metadata": {},
   "outputs": [],
   "source": [
    "# print(df_test)"
   ]
  },
  {
   "cell_type": "markdown",
   "metadata": {},
   "source": [
    "IMPORT RATIO DATASET"
   ]
  },
  {
   "cell_type": "code",
   "execution_count": 4,
   "metadata": {},
   "outputs": [],
   "source": [
    "# TRAINING SET\n",
    "\n",
    "traindata = pd.read_csv('C:/Users/onjad/OneDrive/Documents/RESEARCH PHD/article 3/CODES/DATAFRAMES/ratios/train_ratio.csv')\n",
    "# print('TRAINING DATASET \\n:', traindata.describe().transpose())\n",
    "X_train_ratio = traindata.drop('Y', axis=1)\n",
    "y_train_ratio = traindata['Y']\n",
    "# print(sns.countplot(x = 'Y', data=traindata))\n",
    "\n",
    "# VALIDATION SET\n",
    "\n",
    "valdata = pd.read_csv('C:/Users/onjad/OneDrive/Documents/RESEARCH PHD/article 3/CODES/DATAFRAMES/ratios/val_ratio.csv')\n",
    "# print('VALIDATION DATASET \\n:', valdata.describe().transpose())\n",
    "X_val_ratio = valdata.drop('Y', axis=1)\n",
    "y_val_ratio = valdata['Y']\n",
    "\n",
    "# TEST SET\n",
    "\n",
    "testdata = pd.read_csv('C:/Users/onjad/OneDrive/Documents/RESEARCH PHD/article 3/CODES/DATAFRAMES/ratios/test_ratio.csv')\n",
    "# print('TEST DATASET \\n:', testdata.describe().transpose())\n",
    "# print('TEST DATASET \\n:', testdata)\n",
    "X_test_ratio = testdata.drop('Y', axis=1)\n",
    "y_test_ratio = testdata['Y']"
   ]
  },
  {
   "cell_type": "markdown",
   "metadata": {},
   "source": [
    "COMBINE BOTH"
   ]
  },
  {
   "cell_type": "code",
   "execution_count": 5,
   "metadata": {},
   "outputs": [],
   "source": [
    "# ADD THE A NEW COLUMN FOR TEXT FILE\n",
    "\n",
    "X_train_ratio['text'] = df_train['text_file']\n",
    "X_val_ratio['text'] = df_val['text_file']\n",
    "X_test_ratio['text'] = df_test.drop('Y', axis=1)\n",
    "\n",
    "# CREATE NEW DATAFRAME FOR COMBINED DATA\n",
    "\n",
    "X_train_both = X_train_ratio\n",
    "X_val_both = X_val_ratio\n",
    "X_test_both = X_test_ratio\n",
    "\n",
    "y_train_both = y_train_ratio\n",
    "y_val_both = y_val_ratio\n",
    "y_test_both = y_test_ratio"
   ]
  },
  {
   "cell_type": "code",
   "execution_count": 6,
   "metadata": {},
   "outputs": [],
   "source": [
    "# X_train_ratio"
   ]
  },
  {
   "cell_type": "code",
   "execution_count": 7,
   "metadata": {},
   "outputs": [
    {
     "name": "stdout",
     "output_type": "stream",
     "text": [
      "Length of X (train): 92 | Length of Y (train): 92\n",
      "Length of X (validation): 20 | Length of Y (validation): 20\n",
      "Length of X (test): 25 | Length of Y (test): 25\n"
     ]
    }
   ],
   "source": [
    "print('Length of X (train): {} | Length of Y (train): {}'.format(len(X_train_both), len(y_train_both)))\n",
    "print('Length of X (validation): {} | Length of Y (validation): {}'.format(len(X_val_both), len(y_val_both)))\n",
    "print('Length of X (test): {} | Length of Y (test): {}'.format(len(X_test_both), len(y_test_both)))"
   ]
  },
  {
   "cell_type": "code",
   "execution_count": 8,
   "metadata": {},
   "outputs": [],
   "source": [
    "# print(X_test_both)\n",
    "# print(X_train_both['text'])"
   ]
  },
  {
   "cell_type": "markdown",
   "metadata": {},
   "source": [
    "# TEXT PREPROCESSING"
   ]
  },
  {
   "cell_type": "code",
   "execution_count": 9,
   "metadata": {},
   "outputs": [],
   "source": [
    "from janome.tokenizer import Tokenizer\n",
    "from janome.analyzer import Analyzer\n",
    "from janome.charfilter import *\n",
    "from janome.tokenfilter import *\n",
    "import nltk\n",
    "import re"
   ]
  },
  {
   "cell_type": "code",
   "execution_count": 10,
   "metadata": {},
   "outputs": [],
   "source": [
    "def clean_data(report_test):\n",
    "    \"\"\"Returns cleaned text data.\"\"\"\n",
    "    \n",
    "    with open(f\"C:/Users/onjad/OneDrive/Documents/RESEARCH PHD/article 3/CODES/stop_words.txt\", mode=\"r\", encoding=\"utf8\") as file:\n",
    "        stop_words = file.read()\n",
    "    \n",
    "    with open(f\"C:/Users/onjad/OneDrive/Documents/RESEARCH PHD/article 3/CODES/stop_words_accounting.txt\", mode=\"r\", encoding=\"utf8\") as file:\n",
    "        stop_words_acc = file.read()\n",
    "    \n",
    "    with open(f\"C:/Users/onjad/OneDrive/Documents/RESEARCH PHD/article 3/CODES/onaji_kadai_vocab.txt\", mode=\"r\", encoding=\"utf8\") as file:\n",
    "        onaji_kadai_vocab = file.read()\n",
    "        \n",
    "    \n",
    "    char_filters = [UnicodeNormalizeCharFilter(), \n",
    "                    RegexReplaceCharFilter(u'キャッシュ・フロー', u'キャッシュフロー')]\n",
    "    tokenizer = Tokenizer()\n",
    "    token_filters = [CompoundNounFilter(), \n",
    "                     POSStopFilter(['記号','助詞', '数', '数接続', '接続詞','連体詞', '接頭詞', '名詞,数','非自立', '代名詞', '自動詞', '他動詞']), \n",
    "                     LowerCaseFilter()]\n",
    "\n",
    "\n",
    "    a = Analyzer(char_filters=char_filters, tokenizer=tokenizer, token_filters=token_filters)\n",
    "    \n",
    "    def filter(text):\n",
    "        \"\"\"\n",
    "        :param text: str\n",
    "        :rtype : str\n",
    "        \"\"\"\n",
    "       # アルファベットと半角英数と記号と改行とタブを排除\n",
    "        text = re.sub(r'[a-zA-Z0-9¥\"¥.¥,¥@]+', '', text)\n",
    "        text = re.sub(r'[!\"“#$%&()\\*\\+\\-\\.,\\/:;<=>?@\\[\\\\\\]^_`{|}~]', '', text)\n",
    "        text = re.sub(r'[\\n|\\r|\\t]', '', text)\n",
    "        \n",
    "        # 日本語以外の文字を排除\n",
    "        jp_chartype_tokenizer = nltk.RegexpTokenizer(u'([ぁ-んー]+|[ァ-ンー]+|[\\u4e00-\\u9FFF]+|[ぁ-んァ-ンー\\u4e00-\\u9FFF]+)')\n",
    "        text = ''.join(jp_chartype_tokenizer.tokenize(text))\n",
    "        \n",
    "        return text\n",
    "\n",
    "    nosymbol_test = filter(report_test)\n",
    "    \n",
    "    doc = []\n",
    "    for token in a.analyze(nosymbol_test):\n",
    "        doc.append(token.surface)\n",
    "    doc = [x for x in doc if x not in stop_words]\n",
    "    doc = [x for x in doc if x not in stop_words_acc]\n",
    "    doc = [x for x in doc if x not in onaji_kadai_vocab]\n",
    "    doc = np.array(doc)\n",
    "    \n",
    "    return doc\n",
    "\n",
    "#     corpus = ' '.join(doc)\n",
    "#     corpus = [corpus]\n",
    "    \n",
    "#     return corpus"
   ]
  },
  {
   "cell_type": "code",
   "execution_count": 11,
   "metadata": {},
   "outputs": [],
   "source": [
    "from sklearn.feature_extraction.text import CountVectorizer, TfidfTransformer"
   ]
  },
  {
   "cell_type": "code",
   "execution_count": 12,
   "metadata": {},
   "outputs": [],
   "source": [
    "df_text_only = pd.concat([X_train_both['text'], X_val_both['text'], X_test_both['text']], ignore_index=True)\n",
    "# print(df_text_only)"
   ]
  },
  {
   "cell_type": "code",
   "execution_count": 13,
   "metadata": {},
   "outputs": [],
   "source": [
    "# print(df_text_only[91]) #train 0 a 92\n",
    "# print(df_text_only[111]) #val 92 a 112\n",
    "# print(df_text_only[112]) #test 112 a 137"
   ]
  },
  {
   "cell_type": "code",
   "execution_count": 14,
   "metadata": {},
   "outputs": [],
   "source": [
    "clean_file_transformer = CountVectorizer(analyzer=clean_data).fit(df_text_only)\n",
    "# print(clean_file_transformer.get_feature_names())"
   ]
  },
  {
   "cell_type": "code",
   "execution_count": 15,
   "metadata": {},
   "outputs": [
    {
     "name": "stdout",
     "output_type": "stream",
     "text": [
      "8586\n"
     ]
    }
   ],
   "source": [
    "print(len(clean_file_transformer.vocabulary_))"
   ]
  },
  {
   "cell_type": "code",
   "execution_count": 16,
   "metadata": {},
   "outputs": [
    {
     "name": "stdout",
     "output_type": "stream",
     "text": [
      "Shape of Sparse Matrix:  (137, 8586)\n"
     ]
    }
   ],
   "source": [
    "clean_file_bow = clean_file_transformer.transform(df_text_only)\n",
    "# print(clean_file_bow)\n",
    "print('Shape of Sparse Matrix: ', clean_file_bow.shape)"
   ]
  },
  {
   "cell_type": "code",
   "execution_count": 17,
   "metadata": {},
   "outputs": [
    {
     "name": "stdout",
     "output_type": "stream",
     "text": [
      "(137, 8586)\n"
     ]
    }
   ],
   "source": [
    "transformer_tfidf = TfidfTransformer().fit(clean_file_bow)\n",
    "clean_file_tfidf = transformer_tfidf.transform(clean_file_bow)\n",
    "\n",
    "# print(clean_file_tfidf)\n",
    "print(clean_file_tfidf.shape)"
   ]
  },
  {
   "cell_type": "markdown",
   "metadata": {},
   "source": [
    "# RATIO PREPROCESSING"
   ]
  },
  {
   "cell_type": "code",
   "execution_count": 18,
   "metadata": {},
   "outputs": [],
   "source": [
    "# X_train_ratio"
   ]
  },
  {
   "cell_type": "code",
   "execution_count": 19,
   "metadata": {},
   "outputs": [],
   "source": [
    "# DATA PREPROCESSING\n",
    "\n",
    "from sklearn.preprocessing import MinMaxScaler\n",
    "scaler = MinMaxScaler()\n",
    "X_train_ratio = scaler.fit_transform(X_train_ratio.drop('text', axis=1))\n",
    "X_val_ratio = scaler.transform(X_val_ratio.drop('text', axis=1))\n",
    "X_test_ratio = scaler.transform(X_test_ratio.drop('text', axis=1))"
   ]
  },
  {
   "cell_type": "code",
   "execution_count": 20,
   "metadata": {},
   "outputs": [],
   "source": [
    "# X_test_ratio"
   ]
  },
  {
   "cell_type": "markdown",
   "metadata": {},
   "source": [
    "# CLASSIFICATION TASK - NEURAL NETWORK"
   ]
  },
  {
   "cell_type": "markdown",
   "metadata": {},
   "source": [
    "DATA SPLIT"
   ]
  },
  {
   "cell_type": "code",
   "execution_count": 21,
   "metadata": {},
   "outputs": [
    {
     "name": "stdout",
     "output_type": "stream",
     "text": [
      "(92, 22) (20, 22) (25, 22)\n"
     ]
    }
   ],
   "source": [
    "# RATIOS\n",
    "Xtrain_ratio = pd.DataFrame(X_train_ratio)\n",
    "Xval_ratio = pd.DataFrame(X_val_ratio)\n",
    "Xtest_ratio = pd.DataFrame(X_test_ratio)\n",
    "\n",
    "# rename columns\n",
    "Xtrain_ratio.columns = ['X19','X20','X29','X47', 'X51', 'X54', 'X59', 'X62','X63','X64','X67', 'X69', 'X70', 'X71','X72', 'X73', 'X74', 'X76','X77', 'X79', 'X80', 'X84']\n",
    "Xval_ratio.columns = ['X19','X20','X29','X47', 'X51', 'X54', 'X59', 'X62','X63','X64','X67', 'X69', 'X70', 'X71','X72', 'X73', 'X74', 'X76','X77', 'X79', 'X80', 'X84']\n",
    "Xtest_ratio.columns = ['X19','X20','X29','X47', 'X51', 'X54', 'X59', 'X62','X63','X64','X67', 'X69', 'X70', 'X71','X72', 'X73', 'X74', 'X76','X77', 'X79', 'X80', 'X84']\n",
    "\n",
    "print(Xtrain_ratio.shape, Xval_ratio.shape, Xtest_ratio.shape)"
   ]
  },
  {
   "cell_type": "code",
   "execution_count": 22,
   "metadata": {},
   "outputs": [],
   "source": [
    "# Xtest_ratio"
   ]
  },
  {
   "cell_type": "code",
   "execution_count": 23,
   "metadata": {},
   "outputs": [],
   "source": [
    "# TEXT\n",
    "X = clean_file_tfidf\n",
    "X = pd.DataFrame.sparse.from_spmatrix(X)\n",
    "X_train_text = X[:92]\n",
    "X_val_text = pd.DataFrame(X[92:112])\n",
    "X_test_text = pd.DataFrame(X[112:])"
   ]
  },
  {
   "cell_type": "code",
   "execution_count": 24,
   "metadata": {},
   "outputs": [],
   "source": [
    "X_val_text.index.delete\n",
    "X_val_text = X_val_text.reset_index(drop=True)\n",
    "# X_val_text"
   ]
  },
  {
   "cell_type": "code",
   "execution_count": 25,
   "metadata": {},
   "outputs": [],
   "source": [
    "X_test_text.index.delete\n",
    "X_test_text = X_test_text.reset_index(drop=True)\n",
    "# X_test_text"
   ]
  },
  {
   "cell_type": "code",
   "execution_count": 26,
   "metadata": {},
   "outputs": [
    {
     "name": "stdout",
     "output_type": "stream",
     "text": [
      "(92, 8586) (20, 8586) (25, 8586)\n"
     ]
    }
   ],
   "source": [
    "print(X_train_text.shape, X_val_text.shape, X_test_text.shape)"
   ]
  },
  {
   "cell_type": "code",
   "execution_count": 27,
   "metadata": {},
   "outputs": [
    {
     "name": "stdout",
     "output_type": "stream",
     "text": [
      "(92, 8608) (20, 8608) (25, 8608)\n"
     ]
    }
   ],
   "source": [
    "# INPUT VALUES X\n",
    "\n",
    "X_train = pd.concat([Xtrain_ratio, X_train_text], ignore_index=True, axis=1)\n",
    "X_val = pd.concat([Xval_ratio, X_val_text], ignore_index=True, axis=1)\n",
    "X_test = pd.concat([Xtest_ratio, X_test_text], ignore_index=True, axis=1)\n",
    "\n",
    "print(X_train.shape, X_val.shape, X_test.shape)"
   ]
  },
  {
   "cell_type": "code",
   "execution_count": 28,
   "metadata": {},
   "outputs": [],
   "source": [
    "# X_test"
   ]
  },
  {
   "cell_type": "code",
   "execution_count": 29,
   "metadata": {},
   "outputs": [
    {
     "name": "stdout",
     "output_type": "stream",
     "text": [
      "(92, 1) (20, 1) (25, 1)\n"
     ]
    }
   ],
   "source": [
    "# TARGET VALUE Y\n",
    "\n",
    "y_train = pd.DataFrame(y_train_ratio)\n",
    "y_val = pd.DataFrame(y_val_ratio)\n",
    "y_test = pd.DataFrame(y_test_ratio)\n",
    "\n",
    "print(y_train.shape, y_val.shape, y_test.shape)"
   ]
  },
  {
   "cell_type": "markdown",
   "metadata": {},
   "source": [
    "NEURAL NETWORK CLASSIFIER"
   ]
  },
  {
   "cell_type": "code",
   "execution_count": 30,
   "metadata": {},
   "outputs": [
    {
     "name": "stdout",
     "output_type": "stream",
     "text": [
      "Model: \"sequential\"\n",
      "_________________________________________________________________\n",
      "Layer (type)                 Output Shape              Param #   \n",
      "=================================================================\n",
      "dense (Dense)                (None, 500)               4304500   \n",
      "_________________________________________________________________\n",
      "dense_1 (Dense)              (None, 500)               250500    \n",
      "_________________________________________________________________\n",
      "dense_2 (Dense)              (None, 1)                 501       \n",
      "=================================================================\n",
      "Total params: 4,555,501\n",
      "Trainable params: 4,555,501\n",
      "Non-trainable params: 0\n",
      "_________________________________________________________________\n"
     ]
    }
   ],
   "source": [
    "from tensorflow.keras import Sequential\n",
    "from tensorflow.keras.layers import Dense, Dropout\n",
    "from tensorflow.keras import optimizers, regularizers\n",
    "from tensorflow.keras import optimizers, regularizers\n",
    "import tensorflow as tf\n",
    "\n",
    "model = Sequential([\n",
    "    Dense(units=500, activation='relu', input_dim=X_train.shape[1]),\n",
    "    Dense(units=500, activation='relu', kernel_initializer='normal', kernel_regularizer=regularizers.l2(0.02)),\n",
    "#     Dropout(0.8),\n",
    "    Dense(units=1, activation='sigmoid')\n",
    "])\n",
    "\n",
    "model.compile(optimizer='adam', loss='binary_crossentropy', metrics=['accuracy'])\n",
    "model.summary()"
   ]
  },
  {
   "cell_type": "code",
   "execution_count": 31,
   "metadata": {
    "scrolled": true
   },
   "outputs": [
    {
     "name": "stdout",
     "output_type": "stream",
     "text": [
      "Epoch 1/1000\n",
      "3/3 - 0s - loss: 12.7931 - accuracy: 0.4783 - val_loss: 12.0157 - val_accuracy: 0.6500\n",
      "Epoch 2/1000\n",
      "3/3 - 0s - loss: 11.6197 - accuracy: 0.9891 - val_loss: 10.9615 - val_accuracy: 0.5500\n",
      "Epoch 3/1000\n",
      "3/3 - 0s - loss: 10.5303 - accuracy: 1.0000 - val_loss: 10.0015 - val_accuracy: 0.4500\n",
      "Epoch 4/1000\n",
      "3/3 - 0s - loss: 9.5012 - accuracy: 1.0000 - val_loss: 9.1282 - val_accuracy: 0.6500\n",
      "Epoch 5/1000\n",
      "3/3 - 0s - loss: 8.5435 - accuracy: 1.0000 - val_loss: 8.3452 - val_accuracy: 0.6000\n",
      "Epoch 6/1000\n",
      "3/3 - 0s - loss: 7.6604 - accuracy: 1.0000 - val_loss: 7.6512 - val_accuracy: 0.4500\n",
      "Epoch 7/1000\n",
      "3/3 - 0s - loss: 6.8715 - accuracy: 1.0000 - val_loss: 7.0154 - val_accuracy: 0.6500\n",
      "Epoch 8/1000\n",
      "3/3 - 0s - loss: 6.1770 - accuracy: 1.0000 - val_loss: 6.4450 - val_accuracy: 0.6500\n",
      "Epoch 9/1000\n",
      "3/3 - 0s - loss: 5.5683 - accuracy: 1.0000 - val_loss: 5.9216 - val_accuracy: 0.6500\n",
      "Epoch 10/1000\n",
      "3/3 - 0s - loss: 5.0252 - accuracy: 1.0000 - val_loss: 5.4421 - val_accuracy: 0.6500\n",
      "Epoch 11/1000\n",
      "3/3 - 0s - loss: 4.5350 - accuracy: 1.0000 - val_loss: 4.9901 - val_accuracy: 0.6000\n",
      "Epoch 12/1000\n",
      "3/3 - 0s - loss: 4.0907 - accuracy: 1.0000 - val_loss: 4.5741 - val_accuracy: 0.6500\n",
      "Epoch 13/1000\n",
      "3/3 - 0s - loss: 3.6895 - accuracy: 1.0000 - val_loss: 4.1961 - val_accuracy: 0.6500\n",
      "Epoch 14/1000\n",
      "3/3 - 0s - loss: 3.3290 - accuracy: 1.0000 - val_loss: 3.8544 - val_accuracy: 0.6500\n",
      "Epoch 15/1000\n",
      "3/3 - 0s - loss: 3.0057 - accuracy: 1.0000 - val_loss: 3.5480 - val_accuracy: 0.6500\n",
      "Epoch 16/1000\n",
      "3/3 - 0s - loss: 2.7159 - accuracy: 1.0000 - val_loss: 3.2763 - val_accuracy: 0.6000\n",
      "Epoch 17/1000\n",
      "3/3 - 0s - loss: 2.4558 - accuracy: 1.0000 - val_loss: 3.0358 - val_accuracy: 0.6000\n",
      "Epoch 18/1000\n",
      "3/3 - 0s - loss: 2.2214 - accuracy: 1.0000 - val_loss: 2.8205 - val_accuracy: 0.6500\n",
      "Epoch 19/1000\n",
      "3/3 - 0s - loss: 2.0102 - accuracy: 1.0000 - val_loss: 2.6293 - val_accuracy: 0.6500\n",
      "Epoch 20/1000\n",
      "3/3 - 0s - loss: 1.8198 - accuracy: 1.0000 - val_loss: 2.4579 - val_accuracy: 0.6500\n",
      "Epoch 21/1000\n",
      "3/3 - 0s - loss: 1.6486 - accuracy: 1.0000 - val_loss: 2.3033 - val_accuracy: 0.6000\n",
      "Epoch 22/1000\n",
      "3/3 - 0s - loss: 1.4941 - accuracy: 1.0000 - val_loss: 2.1616 - val_accuracy: 0.6500\n",
      "Epoch 23/1000\n",
      "3/3 - 0s - loss: 1.3548 - accuracy: 1.0000 - val_loss: 2.0331 - val_accuracy: 0.6500\n",
      "Epoch 24/1000\n",
      "3/3 - 0s - loss: 1.2290 - accuracy: 1.0000 - val_loss: 1.9163 - val_accuracy: 0.6000\n",
      "Epoch 25/1000\n",
      "3/3 - 0s - loss: 1.1152 - accuracy: 1.0000 - val_loss: 1.8099 - val_accuracy: 0.6500\n",
      "Epoch 26/1000\n",
      "3/3 - 0s - loss: 1.0126 - accuracy: 1.0000 - val_loss: 1.7147 - val_accuracy: 0.6500\n",
      "Epoch 27/1000\n",
      "3/3 - 0s - loss: 0.9197 - accuracy: 1.0000 - val_loss: 1.6296 - val_accuracy: 0.6500\n",
      "Epoch 28/1000\n",
      "3/3 - 0s - loss: 0.8358 - accuracy: 1.0000 - val_loss: 1.5532 - val_accuracy: 0.6000\n",
      "Epoch 29/1000\n",
      "3/3 - 0s - loss: 0.7598 - accuracy: 1.0000 - val_loss: 1.4843 - val_accuracy: 0.6000\n",
      "Epoch 30/1000\n",
      "3/3 - 0s - loss: 0.6910 - accuracy: 1.0000 - val_loss: 1.4208 - val_accuracy: 0.6500\n",
      "Epoch 31/1000\n",
      "3/3 - 0s - loss: 0.6288 - accuracy: 1.0000 - val_loss: 1.3637 - val_accuracy: 0.6500\n",
      "Epoch 32/1000\n",
      "3/3 - 0s - loss: 0.5723 - accuracy: 1.0000 - val_loss: 1.3121 - val_accuracy: 0.6000\n",
      "Epoch 33/1000\n",
      "3/3 - 0s - loss: 0.5212 - accuracy: 1.0000 - val_loss: 1.2646 - val_accuracy: 0.6000\n",
      "Epoch 34/1000\n",
      "3/3 - 0s - loss: 0.4748 - accuracy: 1.0000 - val_loss: 1.2229 - val_accuracy: 0.6500\n",
      "Epoch 35/1000\n",
      "3/3 - 0s - loss: 0.4328 - accuracy: 1.0000 - val_loss: 1.1837 - val_accuracy: 0.6500\n",
      "Epoch 36/1000\n",
      "3/3 - 0s - loss: 0.3947 - accuracy: 1.0000 - val_loss: 1.1508 - val_accuracy: 0.6500\n",
      "Epoch 37/1000\n",
      "3/3 - 0s - loss: 0.3600 - accuracy: 1.0000 - val_loss: 1.1203 - val_accuracy: 0.6500\n",
      "Epoch 38/1000\n",
      "3/3 - 0s - loss: 0.3285 - accuracy: 1.0000 - val_loss: 1.0898 - val_accuracy: 0.6500\n",
      "Epoch 39/1000\n",
      "3/3 - 0s - loss: 0.2999 - accuracy: 1.0000 - val_loss: 1.0648 - val_accuracy: 0.6000\n",
      "Epoch 40/1000\n",
      "3/3 - 0s - loss: 0.2740 - accuracy: 1.0000 - val_loss: 1.0410 - val_accuracy: 0.6500\n",
      "Epoch 41/1000\n",
      "3/3 - 0s - loss: 0.2504 - accuracy: 1.0000 - val_loss: 1.0209 - val_accuracy: 0.6500\n",
      "Epoch 42/1000\n",
      "3/3 - 0s - loss: 0.2290 - accuracy: 1.0000 - val_loss: 1.0008 - val_accuracy: 0.6000\n",
      "Epoch 43/1000\n",
      "3/3 - 0s - loss: 0.2095 - accuracy: 1.0000 - val_loss: 0.9823 - val_accuracy: 0.6500\n",
      "Epoch 44/1000\n",
      "3/3 - 0s - loss: 0.1917 - accuracy: 1.0000 - val_loss: 0.9691 - val_accuracy: 0.6500\n",
      "Epoch 45/1000\n",
      "3/3 - 0s - loss: 0.1756 - accuracy: 1.0000 - val_loss: 0.9530 - val_accuracy: 0.6000\n",
      "Epoch 46/1000\n",
      "3/3 - 0s - loss: 0.1609 - accuracy: 1.0000 - val_loss: 0.9397 - val_accuracy: 0.6500\n",
      "Epoch 47/1000\n",
      "3/3 - 0s - loss: 0.1475 - accuracy: 1.0000 - val_loss: 0.9288 - val_accuracy: 0.6500\n",
      "Epoch 48/1000\n",
      "3/3 - 0s - loss: 0.1354 - accuracy: 1.0000 - val_loss: 0.9182 - val_accuracy: 0.6000\n",
      "Epoch 49/1000\n",
      "3/3 - 0s - loss: 0.1242 - accuracy: 1.0000 - val_loss: 0.9081 - val_accuracy: 0.6500\n",
      "Epoch 50/1000\n",
      "3/3 - 0s - loss: 0.1142 - accuracy: 1.0000 - val_loss: 0.8990 - val_accuracy: 0.6500\n",
      "Epoch 51/1000\n",
      "3/3 - 0s - loss: 0.1050 - accuracy: 1.0000 - val_loss: 0.8933 - val_accuracy: 0.6500\n",
      "Epoch 52/1000\n",
      "3/3 - 0s - loss: 0.0965 - accuracy: 1.0000 - val_loss: 0.8864 - val_accuracy: 0.6500\n",
      "Epoch 53/1000\n",
      "3/3 - 0s - loss: 0.0889 - accuracy: 1.0000 - val_loss: 0.8773 - val_accuracy: 0.6500\n",
      "Epoch 54/1000\n",
      "3/3 - 0s - loss: 0.0819 - accuracy: 1.0000 - val_loss: 0.8720 - val_accuracy: 0.6500\n",
      "Epoch 55/1000\n",
      "3/3 - 0s - loss: 0.0756 - accuracy: 1.0000 - val_loss: 0.8693 - val_accuracy: 0.6500\n",
      "Epoch 56/1000\n",
      "3/3 - 0s - loss: 0.0697 - accuracy: 1.0000 - val_loss: 0.8634 - val_accuracy: 0.6500\n",
      "Epoch 57/1000\n",
      "3/3 - 0s - loss: 0.0644 - accuracy: 1.0000 - val_loss: 0.8593 - val_accuracy: 0.6500\n",
      "Epoch 58/1000\n",
      "3/3 - 0s - loss: 0.0595 - accuracy: 1.0000 - val_loss: 0.8545 - val_accuracy: 0.6500\n",
      "Epoch 59/1000\n",
      "3/3 - 0s - loss: 0.0551 - accuracy: 1.0000 - val_loss: 0.8495 - val_accuracy: 0.6500\n",
      "Epoch 60/1000\n",
      "3/3 - 0s - loss: 0.0510 - accuracy: 1.0000 - val_loss: 0.8492 - val_accuracy: 0.6000\n",
      "Epoch 61/1000\n",
      "3/3 - 0s - loss: 0.0473 - accuracy: 1.0000 - val_loss: 0.8457 - val_accuracy: 0.6500\n",
      "Epoch 62/1000\n",
      "3/3 - 0s - loss: 0.0440 - accuracy: 1.0000 - val_loss: 0.8425 - val_accuracy: 0.6500\n",
      "Epoch 63/1000\n",
      "3/3 - 0s - loss: 0.0408 - accuracy: 1.0000 - val_loss: 0.8387 - val_accuracy: 0.6500\n",
      "Epoch 64/1000\n",
      "3/3 - 0s - loss: 0.0380 - accuracy: 1.0000 - val_loss: 0.8371 - val_accuracy: 0.6500\n",
      "Epoch 65/1000\n",
      "3/3 - 0s - loss: 0.0354 - accuracy: 1.0000 - val_loss: 0.8358 - val_accuracy: 0.6500\n",
      "Epoch 66/1000\n",
      "3/3 - 0s - loss: 0.0330 - accuracy: 1.0000 - val_loss: 0.8340 - val_accuracy: 0.6000\n",
      "Epoch 67/1000\n",
      "3/3 - 0s - loss: 0.0308 - accuracy: 1.0000 - val_loss: 0.8346 - val_accuracy: 0.6500\n",
      "Epoch 68/1000\n",
      "3/3 - 0s - loss: 0.0288 - accuracy: 1.0000 - val_loss: 0.8307 - val_accuracy: 0.6500\n",
      "Epoch 69/1000\n",
      "3/3 - 0s - loss: 0.0270 - accuracy: 1.0000 - val_loss: 0.8290 - val_accuracy: 0.6500\n",
      "Epoch 70/1000\n",
      "3/3 - 0s - loss: 0.0253 - accuracy: 1.0000 - val_loss: 0.8288 - val_accuracy: 0.6500\n",
      "Epoch 71/1000\n",
      "3/3 - 0s - loss: 0.0237 - accuracy: 1.0000 - val_loss: 0.8283 - val_accuracy: 0.6500\n",
      "Epoch 72/1000\n",
      "3/3 - 0s - loss: 0.0224 - accuracy: 1.0000 - val_loss: 0.8293 - val_accuracy: 0.6500\n",
      "Epoch 73/1000\n",
      "3/3 - 0s - loss: 0.0211 - accuracy: 1.0000 - val_loss: 0.8269 - val_accuracy: 0.6500\n",
      "Epoch 74/1000\n",
      "3/3 - 0s - loss: 0.0198 - accuracy: 1.0000 - val_loss: 0.8273 - val_accuracy: 0.6500\n",
      "Epoch 75/1000\n",
      "3/3 - 0s - loss: 0.0187 - accuracy: 1.0000 - val_loss: 0.8259 - val_accuracy: 0.6500\n",
      "Epoch 76/1000\n",
      "3/3 - 0s - loss: 0.0178 - accuracy: 1.0000 - val_loss: 0.8263 - val_accuracy: 0.6500\n",
      "Epoch 77/1000\n",
      "3/3 - 0s - loss: 0.0168 - accuracy: 1.0000 - val_loss: 0.8375 - val_accuracy: 0.5000\n",
      "Epoch 78/1000\n",
      "3/3 - 0s - loss: 0.0160 - accuracy: 1.0000 - val_loss: 0.8299 - val_accuracy: 0.6500\n",
      "Epoch 79/1000\n",
      "3/3 - 0s - loss: 0.0151 - accuracy: 1.0000 - val_loss: 0.8262 - val_accuracy: 0.6000\n",
      "Epoch 80/1000\n",
      "3/3 - 0s - loss: 0.0145 - accuracy: 1.0000 - val_loss: 0.8262 - val_accuracy: 0.6500\n",
      "Epoch 81/1000\n",
      "3/3 - 0s - loss: 0.0138 - accuracy: 1.0000 - val_loss: 0.8409 - val_accuracy: 0.6500\n",
      "Epoch 82/1000\n",
      "3/3 - 0s - loss: 0.0132 - accuracy: 1.0000 - val_loss: 0.8363 - val_accuracy: 0.5000\n",
      "Epoch 83/1000\n",
      "3/3 - 0s - loss: 0.0126 - accuracy: 1.0000 - val_loss: 0.8231 - val_accuracy: 0.6500\n"
     ]
    },
    {
     "name": "stdout",
     "output_type": "stream",
     "text": [
      "Epoch 84/1000\n",
      "3/3 - 0s - loss: 0.0120 - accuracy: 1.0000 - val_loss: 0.8250 - val_accuracy: 0.6500\n",
      "Epoch 85/1000\n",
      "3/3 - 0s - loss: 0.0115 - accuracy: 1.0000 - val_loss: 0.8313 - val_accuracy: 0.5500\n",
      "Epoch 86/1000\n",
      "3/3 - 0s - loss: 0.0110 - accuracy: 1.0000 - val_loss: 0.8245 - val_accuracy: 0.6500\n",
      "Epoch 87/1000\n",
      "3/3 - 0s - loss: 0.0106 - accuracy: 1.0000 - val_loss: 0.8223 - val_accuracy: 0.6500\n",
      "Epoch 88/1000\n",
      "3/3 - 0s - loss: 0.0102 - accuracy: 1.0000 - val_loss: 0.8255 - val_accuracy: 0.6500\n",
      "Epoch 89/1000\n",
      "3/3 - 0s - loss: 0.0099 - accuracy: 1.0000 - val_loss: 0.8281 - val_accuracy: 0.6500\n",
      "Epoch 90/1000\n",
      "3/3 - 0s - loss: 0.0095 - accuracy: 1.0000 - val_loss: 0.8262 - val_accuracy: 0.6500\n",
      "Epoch 91/1000\n",
      "3/3 - 0s - loss: 0.0091 - accuracy: 1.0000 - val_loss: 0.8268 - val_accuracy: 0.5500\n",
      "Epoch 92/1000\n",
      "3/3 - 0s - loss: 0.0088 - accuracy: 1.0000 - val_loss: 0.8247 - val_accuracy: 0.7000\n",
      "Epoch 93/1000\n",
      "3/3 - 0s - loss: 0.0086 - accuracy: 1.0000 - val_loss: 0.8265 - val_accuracy: 0.6500\n",
      "Epoch 94/1000\n",
      "3/3 - 0s - loss: 0.0083 - accuracy: 1.0000 - val_loss: 0.8280 - val_accuracy: 0.6500\n",
      "Epoch 95/1000\n",
      "3/3 - 0s - loss: 0.0081 - accuracy: 1.0000 - val_loss: 0.8243 - val_accuracy: 0.6500\n",
      "Epoch 96/1000\n",
      "3/3 - 0s - loss: 0.0079 - accuracy: 1.0000 - val_loss: 0.8292 - val_accuracy: 0.6500\n",
      "Epoch 97/1000\n",
      "3/3 - 0s - loss: 0.0076 - accuracy: 1.0000 - val_loss: 0.8268 - val_accuracy: 0.7000\n",
      "Epoch 98/1000\n",
      "3/3 - 0s - loss: 0.0074 - accuracy: 1.0000 - val_loss: 0.8263 - val_accuracy: 0.6500\n",
      "Epoch 99/1000\n",
      "3/3 - 0s - loss: 0.0072 - accuracy: 1.0000 - val_loss: 0.8265 - val_accuracy: 0.7000\n",
      "Epoch 100/1000\n",
      "3/3 - 0s - loss: 0.0071 - accuracy: 1.0000 - val_loss: 0.8300 - val_accuracy: 0.6500\n",
      "Epoch 101/1000\n",
      "3/3 - 0s - loss: 0.0069 - accuracy: 1.0000 - val_loss: 0.8360 - val_accuracy: 0.5500\n",
      "Epoch 102/1000\n",
      "3/3 - 0s - loss: 0.0067 - accuracy: 1.0000 - val_loss: 0.8326 - val_accuracy: 0.7000\n",
      "Epoch 103/1000\n",
      "3/3 - 0s - loss: 0.0066 - accuracy: 1.0000 - val_loss: 0.8319 - val_accuracy: 0.6000\n",
      "Epoch 104/1000\n",
      "3/3 - 0s - loss: 0.0064 - accuracy: 1.0000 - val_loss: 0.8274 - val_accuracy: 0.7000\n",
      "Epoch 105/1000\n",
      "3/3 - 0s - loss: 0.0063 - accuracy: 1.0000 - val_loss: 0.8303 - val_accuracy: 0.6500\n",
      "Epoch 106/1000\n",
      "3/3 - 0s - loss: 0.0062 - accuracy: 1.0000 - val_loss: 0.8298 - val_accuracy: 0.6500\n",
      "Epoch 107/1000\n",
      "3/3 - 0s - loss: 0.0060 - accuracy: 1.0000 - val_loss: 0.8280 - val_accuracy: 0.6500\n",
      "Epoch 108/1000\n",
      "3/3 - 0s - loss: 0.0059 - accuracy: 1.0000 - val_loss: 0.8299 - val_accuracy: 0.6500\n",
      "Epoch 109/1000\n",
      "3/3 - 0s - loss: 0.0058 - accuracy: 1.0000 - val_loss: 0.8326 - val_accuracy: 0.6000\n",
      "Epoch 110/1000\n",
      "3/3 - 0s - loss: 0.0057 - accuracy: 1.0000 - val_loss: 0.8290 - val_accuracy: 0.6500\n",
      "Epoch 111/1000\n",
      "3/3 - 0s - loss: 0.0056 - accuracy: 1.0000 - val_loss: 0.8302 - val_accuracy: 0.6500\n",
      "Epoch 112/1000\n",
      "3/3 - 0s - loss: 0.0055 - accuracy: 1.0000 - val_loss: 0.8329 - val_accuracy: 0.6500\n",
      "Epoch 00112: early stopping\n"
     ]
    },
    {
     "data": {
      "text/plain": [
       "<tensorflow.python.keras.callbacks.History at 0x16ad751b0a0>"
      ]
     },
     "execution_count": 31,
     "metadata": {},
     "output_type": "execute_result"
    }
   ],
   "source": [
    "# TRAIN MODEL\n",
    "\n",
    "from tensorflow.keras.callbacks import EarlyStopping\n",
    "early_stop = EarlyStopping(monitor='val_loss', mode='min', verbose=1, patience=25)\n",
    "\n",
    "model.fit(X_train, y_train, validation_data=(X_val, y_val) , epochs=1000, verbose=2, callbacks=[early_stop])"
   ]
  },
  {
   "cell_type": "code",
   "execution_count": 32,
   "metadata": {},
   "outputs": [
    {
     "data": {
      "image/png": "[encoded data removed]",
      "text/plain": [
       "<Figure size 576x432 with 1 Axes>"
      ]
     },
     "metadata": {
      "needs_background": "light"
     },
     "output_type": "display_data"
    }
   ],
   "source": [
    "# PLOT THE LOSS\n",
    "\n",
    "plt.figure(figsize=(8, 6))\n",
    "plt.plot(model.history.history['loss'])\n",
    "plt.plot(model.history.history['val_loss'])\n",
    "plt.title('Model loss')\n",
    "plt.ylabel('loss')\n",
    "plt.xlabel('epoch')\n",
    "plt.ylim(0, 1)\n",
    "plt.legend(['train', 'validation'], loc='upper right')\n",
    "plt.show()"
   ]
  },
  {
   "cell_type": "code",
   "execution_count": 33,
   "metadata": {},
   "outputs": [
    {
     "name": "stdout",
     "output_type": "stream",
     "text": [
      "              precision    recall  f1-score   support\n",
      "\n",
      "           0       0.56      0.42      0.48        12\n",
      "           1       0.56      0.69      0.62        13\n",
      "\n",
      "    accuracy                           0.56        25\n",
      "   macro avg       0.56      0.55      0.55        25\n",
      "weighted avg       0.56      0.56      0.55        25\n",
      "\n",
      "\n",
      " CONFUSION MATRIX:\n",
      " [[5 7]\n",
      " [4 9]]\n",
      "\n",
      "\n",
      " ACCURACY SCORE IS: 0.56\n"
     ]
    }
   ],
   "source": [
    "# PERFORMANCE EVALUATION\n",
    "\n",
    "pred_NN = []\n",
    "\n",
    "for predictions in model.predict(X_test):\n",
    "    if predictions < 0.5:\n",
    "        predictions = 0\n",
    "    else:\n",
    "        predictions=1\n",
    "    pred_NN.append(predictions)\n",
    "    \n",
    "pred = np.array(pred_NN)\n",
    "true = np.array(y_test)\n",
    "\n",
    "# print(\"PREDICTED CLASS: \", pred)\n",
    "# print(\"ACTUAL CLASS: \", true, '\\n')\n",
    "\n",
    "from sklearn.metrics import classification_report, confusion_matrix, accuracy_score\n",
    "\n",
    "print(classification_report(true, pred))\n",
    "print('\\n CONFUSION MATRIX:\\n', confusion_matrix(true, pred))\n",
    "print('\\n\\n ACCURACY SCORE IS:', accuracy_score(true, pred))"
   ]
  },
  {
   "cell_type": "code",
   "execution_count": 34,
   "metadata": {},
   "outputs": [
    {
     "name": "stderr",
     "output_type": "stream",
     "text": [
      "C:\\Users\\onjad\\anaconda3\\lib\\site-packages\\sklearn\\utils\\validation.py:509: UserWarning: pandas.DataFrame with sparse columns found.It will be converted to a dense numpy array.\n",
      "  warnings.warn(\n",
      "<ipython-input-34-79420456313a>:4: DataConversionWarning: A column-vector y was passed when a 1d array was expected. Please change the shape of y to (n_samples,), for example using ravel().\n",
      "  rfc.fit(X_train,y_train)\n",
      "C:\\Users\\onjad\\anaconda3\\lib\\site-packages\\sklearn\\utils\\validation.py:509: UserWarning: pandas.DataFrame with sparse columns found.It will be converted to a dense numpy array.\n",
      "  warnings.warn(\n"
     ]
    },
    {
     "name": "stdout",
     "output_type": "stream",
     "text": [
      "\n",
      " CONFUSION MATRIX:\n",
      " [[11  1]\n",
      " [ 4  9]]\n",
      "\n",
      "\n",
      " ACCURACY SCORE IS: 0.8\n"
     ]
    }
   ],
   "source": [
    "# Classifier (Random Forest)\n",
    "from sklearn.ensemble import RandomForestClassifier\n",
    "rfc = RandomForestClassifier(n_estimators=600)\n",
    "rfc.fit(X_train,y_train)\n",
    "pred_rfc = rfc.predict(X_test)\n",
    "print('\\n CONFUSION MATRIX:\\n', confusion_matrix(true, pred_rfc))\n",
    "print('\\n\\n ACCURACY SCORE IS:', accuracy_score(true, pred_rfc))"
   ]
  },
  {
   "cell_type": "code",
   "execution_count": 35,
   "metadata": {},
   "outputs": [
    {
     "name": "stderr",
     "output_type": "stream",
     "text": [
      "C:\\Users\\onjad\\anaconda3\\lib\\site-packages\\sklearn\\utils\\validation.py:509: UserWarning: pandas.DataFrame with sparse columns found.It will be converted to a dense numpy array.\n",
      "  warnings.warn(\n",
      "C:\\Users\\onjad\\anaconda3\\lib\\site-packages\\sklearn\\utils\\validation.py:509: UserWarning: pandas.DataFrame with sparse columns found.It will be converted to a dense numpy array.\n",
      "  warnings.warn(\n"
     ]
    },
    {
     "name": "stdout",
     "output_type": "stream",
     "text": [
      "\n",
      " CONFUSION MATRIX:\n",
      " [[8 4]\n",
      " [5 8]]\n",
      "\n",
      "\n",
      " ACCURACY SCORE IS: 0.64\n"
     ]
    }
   ],
   "source": [
    "# Classifier (Decision Tree)\n",
    "from sklearn.tree import DecisionTreeClassifier\n",
    "dtree = DecisionTreeClassifier()\n",
    "dtree.fit(X_train,y_train)\n",
    "pred_tree = dtree.predict(X_test)\n",
    "print('\\n CONFUSION MATRIX:\\n', confusion_matrix(true, pred_tree))\n",
    "print('\\n\\n ACCURACY SCORE IS:', accuracy_score(true, pred_tree))"
   ]
  },
  {
   "cell_type": "code",
   "execution_count": 36,
   "metadata": {},
   "outputs": [
    {
     "name": "stderr",
     "output_type": "stream",
     "text": [
      "C:\\Users\\onjad\\anaconda3\\lib\\site-packages\\sklearn\\utils\\validation.py:509: UserWarning: pandas.DataFrame with sparse columns found.It will be converted to a dense numpy array.\n",
      "  warnings.warn(\n",
      "C:\\Users\\onjad\\anaconda3\\lib\\site-packages\\sklearn\\utils\\validation.py:73: DataConversionWarning: A column-vector y was passed when a 1d array was expected. Please change the shape of y to (n_samples, ), for example using ravel().\n",
      "  return f(**kwargs)\n"
     ]
    },
    {
     "name": "stdout",
     "output_type": "stream",
     "text": [
      "\n",
      " CONFUSION MATRIX:\n",
      " [[10  2]\n",
      " [ 7  6]]\n",
      "\n",
      "\n",
      " ACCURACY SCORE IS: 0.64\n"
     ]
    }
   ],
   "source": [
    "# Classifier (SVM)\n",
    "from sklearn.svm import SVC\n",
    "svm_model = SVC(C=1.0, kernel='linear', degree=3, gamma='auto')\n",
    "svm_model.fit(X_train, y_train)\n",
    "pred_svm = svm_model.predict(np.array(X_test))\n",
    "print('\\n CONFUSION MATRIX:\\n', confusion_matrix(true, pred_svm))\n",
    "print('\\n\\n ACCURACY SCORE IS:', accuracy_score(true, pred_svm))"
   ]
  },
  {
   "cell_type": "code",
   "execution_count": 37,
   "metadata": {},
   "outputs": [
    {
     "name": "stderr",
     "output_type": "stream",
     "text": [
      "C:\\Users\\onjad\\anaconda3\\lib\\site-packages\\sklearn\\utils\\validation.py:509: UserWarning: pandas.DataFrame with sparse columns found.It will be converted to a dense numpy array.\n",
      "  warnings.warn(\n",
      "<ipython-input-37-81ff8b0ca0d3>:4: DataConversionWarning: A column-vector y was passed when a 1d array was expected. Please change the shape of y to (n_samples, ), for example using ravel().\n",
      "  knn.fit(X_train,y_train)\n",
      "C:\\Users\\onjad\\anaconda3\\lib\\site-packages\\sklearn\\utils\\validation.py:509: UserWarning: pandas.DataFrame with sparse columns found.It will be converted to a dense numpy array.\n",
      "  warnings.warn(\n"
     ]
    },
    {
     "name": "stdout",
     "output_type": "stream",
     "text": [
      "\n",
      "\n",
      " ACCURACY SCORE IS: 0.72\n"
     ]
    },
    {
     "name": "stderr",
     "output_type": "stream",
     "text": [
      "C:\\Users\\onjad\\anaconda3\\lib\\site-packages\\sklearn\\utils\\validation.py:509: UserWarning: pandas.DataFrame with sparse columns found.It will be converted to a dense numpy array.\n",
      "  warnings.warn(\n",
      "<ipython-input-37-81ff8b0ca0d3>:12: DataConversionWarning: A column-vector y was passed when a 1d array was expected. Please change the shape of y to (n_samples, ), for example using ravel().\n",
      "  knn.fit(X_train, y_train)\n",
      "C:\\Users\\onjad\\anaconda3\\lib\\site-packages\\sklearn\\utils\\validation.py:509: UserWarning: pandas.DataFrame with sparse columns found.It will be converted to a dense numpy array.\n",
      "  warnings.warn(\n",
      "C:\\Users\\onjad\\anaconda3\\lib\\site-packages\\sklearn\\utils\\validation.py:509: UserWarning: pandas.DataFrame with sparse columns found.It will be converted to a dense numpy array.\n",
      "  warnings.warn(\n",
      "<ipython-input-37-81ff8b0ca0d3>:12: DataConversionWarning: A column-vector y was passed when a 1d array was expected. Please change the shape of y to (n_samples, ), for example using ravel().\n",
      "  knn.fit(X_train, y_train)\n",
      "C:\\Users\\onjad\\anaconda3\\lib\\site-packages\\sklearn\\utils\\validation.py:509: UserWarning: pandas.DataFrame with sparse columns found.It will be converted to a dense numpy array.\n",
      "  warnings.warn(\n",
      "C:\\Users\\onjad\\anaconda3\\lib\\site-packages\\sklearn\\utils\\validation.py:509: UserWarning: pandas.DataFrame with sparse columns found.It will be converted to a dense numpy array.\n",
      "  warnings.warn(\n",
      "<ipython-input-37-81ff8b0ca0d3>:12: DataConversionWarning: A column-vector y was passed when a 1d array was expected. Please change the shape of y to (n_samples, ), for example using ravel().\n",
      "  knn.fit(X_train, y_train)\n",
      "C:\\Users\\onjad\\anaconda3\\lib\\site-packages\\sklearn\\utils\\validation.py:509: UserWarning: pandas.DataFrame with sparse columns found.It will be converted to a dense numpy array.\n",
      "  warnings.warn(\n",
      "C:\\Users\\onjad\\anaconda3\\lib\\site-packages\\sklearn\\utils\\validation.py:509: UserWarning: pandas.DataFrame with sparse columns found.It will be converted to a dense numpy array.\n",
      "  warnings.warn(\n",
      "<ipython-input-37-81ff8b0ca0d3>:12: DataConversionWarning: A column-vector y was passed when a 1d array was expected. Please change the shape of y to (n_samples, ), for example using ravel().\n",
      "  knn.fit(X_train, y_train)\n",
      "C:\\Users\\onjad\\anaconda3\\lib\\site-packages\\sklearn\\utils\\validation.py:509: UserWarning: pandas.DataFrame with sparse columns found.It will be converted to a dense numpy array.\n",
      "  warnings.warn(\n",
      "C:\\Users\\onjad\\anaconda3\\lib\\site-packages\\sklearn\\utils\\validation.py:509: UserWarning: pandas.DataFrame with sparse columns found.It will be converted to a dense numpy array.\n",
      "  warnings.warn(\n",
      "<ipython-input-37-81ff8b0ca0d3>:12: DataConversionWarning: A column-vector y was passed when a 1d array was expected. Please change the shape of y to (n_samples, ), for example using ravel().\n",
      "  knn.fit(X_train, y_train)\n",
      "C:\\Users\\onjad\\anaconda3\\lib\\site-packages\\sklearn\\utils\\validation.py:509: UserWarning: pandas.DataFrame with sparse columns found.It will be converted to a dense numpy array.\n",
      "  warnings.warn(\n",
      "C:\\Users\\onjad\\anaconda3\\lib\\site-packages\\sklearn\\utils\\validation.py:509: UserWarning: pandas.DataFrame with sparse columns found.It will be converted to a dense numpy array.\n",
      "  warnings.warn(\n",
      "<ipython-input-37-81ff8b0ca0d3>:12: DataConversionWarning: A column-vector y was passed when a 1d array was expected. Please change the shape of y to (n_samples, ), for example using ravel().\n",
      "  knn.fit(X_train, y_train)\n",
      "C:\\Users\\onjad\\anaconda3\\lib\\site-packages\\sklearn\\utils\\validation.py:509: UserWarning: pandas.DataFrame with sparse columns found.It will be converted to a dense numpy array.\n",
      "  warnings.warn(\n",
      "C:\\Users\\onjad\\anaconda3\\lib\\site-packages\\sklearn\\utils\\validation.py:509: UserWarning: pandas.DataFrame with sparse columns found.It will be converted to a dense numpy array.\n",
      "  warnings.warn(\n",
      "<ipython-input-37-81ff8b0ca0d3>:12: DataConversionWarning: A column-vector y was passed when a 1d array was expected. Please change the shape of y to (n_samples, ), for example using ravel().\n",
      "  knn.fit(X_train, y_train)\n",
      "C:\\Users\\onjad\\anaconda3\\lib\\site-packages\\sklearn\\utils\\validation.py:509: UserWarning: pandas.DataFrame with sparse columns found.It will be converted to a dense numpy array.\n",
      "  warnings.warn(\n",
      "C:\\Users\\onjad\\anaconda3\\lib\\site-packages\\sklearn\\utils\\validation.py:509: UserWarning: pandas.DataFrame with sparse columns found.It will be converted to a dense numpy array.\n",
      "  warnings.warn(\n",
      "<ipython-input-37-81ff8b0ca0d3>:12: DataConversionWarning: A column-vector y was passed when a 1d array was expected. Please change the shape of y to (n_samples, ), for example using ravel().\n",
      "  knn.fit(X_train, y_train)\n",
      "C:\\Users\\onjad\\anaconda3\\lib\\site-packages\\sklearn\\utils\\validation.py:509: UserWarning: pandas.DataFrame with sparse columns found.It will be converted to a dense numpy array.\n",
      "  warnings.warn(\n",
      "C:\\Users\\onjad\\anaconda3\\lib\\site-packages\\sklearn\\utils\\validation.py:509: UserWarning: pandas.DataFrame with sparse columns found.It will be converted to a dense numpy array.\n",
      "  warnings.warn(\n",
      "<ipython-input-37-81ff8b0ca0d3>:12: DataConversionWarning: A column-vector y was passed when a 1d array was expected. Please change the shape of y to (n_samples, ), for example using ravel().\n",
      "  knn.fit(X_train, y_train)\n",
      "C:\\Users\\onjad\\anaconda3\\lib\\site-packages\\sklearn\\utils\\validation.py:509: UserWarning: pandas.DataFrame with sparse columns found.It will be converted to a dense numpy array.\n",
      "  warnings.warn(\n",
      "C:\\Users\\onjad\\anaconda3\\lib\\site-packages\\sklearn\\utils\\validation.py:509: UserWarning: pandas.DataFrame with sparse columns found.It will be converted to a dense numpy array.\n",
      "  warnings.warn(\n",
      "<ipython-input-37-81ff8b0ca0d3>:12: DataConversionWarning: A column-vector y was passed when a 1d array was expected. Please change the shape of y to (n_samples, ), for example using ravel().\n",
      "  knn.fit(X_train, y_train)\n",
      "C:\\Users\\onjad\\anaconda3\\lib\\site-packages\\sklearn\\utils\\validation.py:509: UserWarning: pandas.DataFrame with sparse columns found.It will be converted to a dense numpy array.\n",
      "  warnings.warn(\n",
      "C:\\Users\\onjad\\anaconda3\\lib\\site-packages\\sklearn\\utils\\validation.py:509: UserWarning: pandas.DataFrame with sparse columns found.It will be converted to a dense numpy array.\n",
      "  warnings.warn(\n",
      "<ipython-input-37-81ff8b0ca0d3>:12: DataConversionWarning: A column-vector y was passed when a 1d array was expected. Please change the shape of y to (n_samples, ), for example using ravel().\n",
      "  knn.fit(X_train, y_train)\n",
      "C:\\Users\\onjad\\anaconda3\\lib\\site-packages\\sklearn\\utils\\validation.py:509: UserWarning: pandas.DataFrame with sparse columns found.It will be converted to a dense numpy array.\n",
      "  warnings.warn(\n",
      "C:\\Users\\onjad\\anaconda3\\lib\\site-packages\\sklearn\\utils\\validation.py:509: UserWarning: pandas.DataFrame with sparse columns found.It will be converted to a dense numpy array.\n",
      "  warnings.warn(\n",
      "<ipython-input-37-81ff8b0ca0d3>:12: DataConversionWarning: A column-vector y was passed when a 1d array was expected. Please change the shape of y to (n_samples, ), for example using ravel().\n",
      "  knn.fit(X_train, y_train)\n",
      "C:\\Users\\onjad\\anaconda3\\lib\\site-packages\\sklearn\\utils\\validation.py:509: UserWarning: pandas.DataFrame with sparse columns found.It will be converted to a dense numpy array.\n",
      "  warnings.warn(\n",
      "C:\\Users\\onjad\\anaconda3\\lib\\site-packages\\sklearn\\utils\\validation.py:509: UserWarning: pandas.DataFrame with sparse columns found.It will be converted to a dense numpy array.\n",
      "  warnings.warn(\n",
      "<ipython-input-37-81ff8b0ca0d3>:12: DataConversionWarning: A column-vector y was passed when a 1d array was expected. Please change the shape of y to (n_samples, ), for example using ravel().\n",
      "  knn.fit(X_train, y_train)\n",
      "C:\\Users\\onjad\\anaconda3\\lib\\site-packages\\sklearn\\utils\\validation.py:509: UserWarning: pandas.DataFrame with sparse columns found.It will be converted to a dense numpy array.\n",
      "  warnings.warn(\n",
      "C:\\Users\\onjad\\anaconda3\\lib\\site-packages\\sklearn\\utils\\validation.py:509: UserWarning: pandas.DataFrame with sparse columns found.It will be converted to a dense numpy array.\n",
      "  warnings.warn(\n",
      "<ipython-input-37-81ff8b0ca0d3>:12: DataConversionWarning: A column-vector y was passed when a 1d array was expected. Please change the shape of y to (n_samples, ), for example using ravel().\n",
      "  knn.fit(X_train, y_train)\n"
     ]
    },
    {
     "name": "stderr",
     "output_type": "stream",
     "text": [
      "C:\\Users\\onjad\\anaconda3\\lib\\site-packages\\sklearn\\utils\\validation.py:509: UserWarning: pandas.DataFrame with sparse columns found.It will be converted to a dense numpy array.\n",
      "  warnings.warn(\n",
      "C:\\Users\\onjad\\anaconda3\\lib\\site-packages\\sklearn\\utils\\validation.py:509: UserWarning: pandas.DataFrame with sparse columns found.It will be converted to a dense numpy array.\n",
      "  warnings.warn(\n",
      "<ipython-input-37-81ff8b0ca0d3>:12: DataConversionWarning: A column-vector y was passed when a 1d array was expected. Please change the shape of y to (n_samples, ), for example using ravel().\n",
      "  knn.fit(X_train, y_train)\n",
      "C:\\Users\\onjad\\anaconda3\\lib\\site-packages\\sklearn\\utils\\validation.py:509: UserWarning: pandas.DataFrame with sparse columns found.It will be converted to a dense numpy array.\n",
      "  warnings.warn(\n",
      "C:\\Users\\onjad\\anaconda3\\lib\\site-packages\\sklearn\\utils\\validation.py:509: UserWarning: pandas.DataFrame with sparse columns found.It will be converted to a dense numpy array.\n",
      "  warnings.warn(\n",
      "<ipython-input-37-81ff8b0ca0d3>:12: DataConversionWarning: A column-vector y was passed when a 1d array was expected. Please change the shape of y to (n_samples, ), for example using ravel().\n",
      "  knn.fit(X_train, y_train)\n",
      "C:\\Users\\onjad\\anaconda3\\lib\\site-packages\\sklearn\\utils\\validation.py:509: UserWarning: pandas.DataFrame with sparse columns found.It will be converted to a dense numpy array.\n",
      "  warnings.warn(\n",
      "C:\\Users\\onjad\\anaconda3\\lib\\site-packages\\sklearn\\utils\\validation.py:509: UserWarning: pandas.DataFrame with sparse columns found.It will be converted to a dense numpy array.\n",
      "  warnings.warn(\n",
      "<ipython-input-37-81ff8b0ca0d3>:12: DataConversionWarning: A column-vector y was passed when a 1d array was expected. Please change the shape of y to (n_samples, ), for example using ravel().\n",
      "  knn.fit(X_train, y_train)\n",
      "C:\\Users\\onjad\\anaconda3\\lib\\site-packages\\sklearn\\utils\\validation.py:509: UserWarning: pandas.DataFrame with sparse columns found.It will be converted to a dense numpy array.\n",
      "  warnings.warn(\n",
      "C:\\Users\\onjad\\anaconda3\\lib\\site-packages\\sklearn\\utils\\validation.py:509: UserWarning: pandas.DataFrame with sparse columns found.It will be converted to a dense numpy array.\n",
      "  warnings.warn(\n",
      "<ipython-input-37-81ff8b0ca0d3>:12: DataConversionWarning: A column-vector y was passed when a 1d array was expected. Please change the shape of y to (n_samples, ), for example using ravel().\n",
      "  knn.fit(X_train, y_train)\n",
      "C:\\Users\\onjad\\anaconda3\\lib\\site-packages\\sklearn\\utils\\validation.py:509: UserWarning: pandas.DataFrame with sparse columns found.It will be converted to a dense numpy array.\n",
      "  warnings.warn(\n",
      "C:\\Users\\onjad\\anaconda3\\lib\\site-packages\\sklearn\\utils\\validation.py:509: UserWarning: pandas.DataFrame with sparse columns found.It will be converted to a dense numpy array.\n",
      "  warnings.warn(\n",
      "<ipython-input-37-81ff8b0ca0d3>:12: DataConversionWarning: A column-vector y was passed when a 1d array was expected. Please change the shape of y to (n_samples, ), for example using ravel().\n",
      "  knn.fit(X_train, y_train)\n",
      "C:\\Users\\onjad\\anaconda3\\lib\\site-packages\\sklearn\\utils\\validation.py:509: UserWarning: pandas.DataFrame with sparse columns found.It will be converted to a dense numpy array.\n",
      "  warnings.warn(\n",
      "C:\\Users\\onjad\\anaconda3\\lib\\site-packages\\sklearn\\utils\\validation.py:509: UserWarning: pandas.DataFrame with sparse columns found.It will be converted to a dense numpy array.\n",
      "  warnings.warn(\n",
      "<ipython-input-37-81ff8b0ca0d3>:12: DataConversionWarning: A column-vector y was passed when a 1d array was expected. Please change the shape of y to (n_samples, ), for example using ravel().\n",
      "  knn.fit(X_train, y_train)\n",
      "C:\\Users\\onjad\\anaconda3\\lib\\site-packages\\sklearn\\utils\\validation.py:509: UserWarning: pandas.DataFrame with sparse columns found.It will be converted to a dense numpy array.\n",
      "  warnings.warn(\n",
      "C:\\Users\\onjad\\anaconda3\\lib\\site-packages\\sklearn\\utils\\validation.py:509: UserWarning: pandas.DataFrame with sparse columns found.It will be converted to a dense numpy array.\n",
      "  warnings.warn(\n",
      "<ipython-input-37-81ff8b0ca0d3>:12: DataConversionWarning: A column-vector y was passed when a 1d array was expected. Please change the shape of y to (n_samples, ), for example using ravel().\n",
      "  knn.fit(X_train, y_train)\n",
      "C:\\Users\\onjad\\anaconda3\\lib\\site-packages\\sklearn\\utils\\validation.py:509: UserWarning: pandas.DataFrame with sparse columns found.It will be converted to a dense numpy array.\n",
      "  warnings.warn(\n",
      "C:\\Users\\onjad\\anaconda3\\lib\\site-packages\\sklearn\\utils\\validation.py:509: UserWarning: pandas.DataFrame with sparse columns found.It will be converted to a dense numpy array.\n",
      "  warnings.warn(\n",
      "<ipython-input-37-81ff8b0ca0d3>:12: DataConversionWarning: A column-vector y was passed when a 1d array was expected. Please change the shape of y to (n_samples, ), for example using ravel().\n",
      "  knn.fit(X_train, y_train)\n",
      "C:\\Users\\onjad\\anaconda3\\lib\\site-packages\\sklearn\\utils\\validation.py:509: UserWarning: pandas.DataFrame with sparse columns found.It will be converted to a dense numpy array.\n",
      "  warnings.warn(\n",
      "C:\\Users\\onjad\\anaconda3\\lib\\site-packages\\sklearn\\utils\\validation.py:509: UserWarning: pandas.DataFrame with sparse columns found.It will be converted to a dense numpy array.\n",
      "  warnings.warn(\n",
      "<ipython-input-37-81ff8b0ca0d3>:12: DataConversionWarning: A column-vector y was passed when a 1d array was expected. Please change the shape of y to (n_samples, ), for example using ravel().\n",
      "  knn.fit(X_train, y_train)\n",
      "C:\\Users\\onjad\\anaconda3\\lib\\site-packages\\sklearn\\utils\\validation.py:509: UserWarning: pandas.DataFrame with sparse columns found.It will be converted to a dense numpy array.\n",
      "  warnings.warn(\n",
      "C:\\Users\\onjad\\anaconda3\\lib\\site-packages\\sklearn\\utils\\validation.py:509: UserWarning: pandas.DataFrame with sparse columns found.It will be converted to a dense numpy array.\n",
      "  warnings.warn(\n",
      "<ipython-input-37-81ff8b0ca0d3>:12: DataConversionWarning: A column-vector y was passed when a 1d array was expected. Please change the shape of y to (n_samples, ), for example using ravel().\n",
      "  knn.fit(X_train, y_train)\n",
      "C:\\Users\\onjad\\anaconda3\\lib\\site-packages\\sklearn\\utils\\validation.py:509: UserWarning: pandas.DataFrame with sparse columns found.It will be converted to a dense numpy array.\n",
      "  warnings.warn(\n",
      "C:\\Users\\onjad\\anaconda3\\lib\\site-packages\\sklearn\\utils\\validation.py:509: UserWarning: pandas.DataFrame with sparse columns found.It will be converted to a dense numpy array.\n",
      "  warnings.warn(\n",
      "<ipython-input-37-81ff8b0ca0d3>:12: DataConversionWarning: A column-vector y was passed when a 1d array was expected. Please change the shape of y to (n_samples, ), for example using ravel().\n",
      "  knn.fit(X_train, y_train)\n",
      "C:\\Users\\onjad\\anaconda3\\lib\\site-packages\\sklearn\\utils\\validation.py:509: UserWarning: pandas.DataFrame with sparse columns found.It will be converted to a dense numpy array.\n",
      "  warnings.warn(\n",
      "C:\\Users\\onjad\\anaconda3\\lib\\site-packages\\sklearn\\utils\\validation.py:509: UserWarning: pandas.DataFrame with sparse columns found.It will be converted to a dense numpy array.\n",
      "  warnings.warn(\n",
      "<ipython-input-37-81ff8b0ca0d3>:12: DataConversionWarning: A column-vector y was passed when a 1d array was expected. Please change the shape of y to (n_samples, ), for example using ravel().\n",
      "  knn.fit(X_train, y_train)\n",
      "C:\\Users\\onjad\\anaconda3\\lib\\site-packages\\sklearn\\utils\\validation.py:509: UserWarning: pandas.DataFrame with sparse columns found.It will be converted to a dense numpy array.\n",
      "  warnings.warn(\n",
      "C:\\Users\\onjad\\anaconda3\\lib\\site-packages\\sklearn\\utils\\validation.py:509: UserWarning: pandas.DataFrame with sparse columns found.It will be converted to a dense numpy array.\n",
      "  warnings.warn(\n",
      "<ipython-input-37-81ff8b0ca0d3>:12: DataConversionWarning: A column-vector y was passed when a 1d array was expected. Please change the shape of y to (n_samples, ), for example using ravel().\n",
      "  knn.fit(X_train, y_train)\n",
      "C:\\Users\\onjad\\anaconda3\\lib\\site-packages\\sklearn\\utils\\validation.py:509: UserWarning: pandas.DataFrame with sparse columns found.It will be converted to a dense numpy array.\n",
      "  warnings.warn(\n",
      "C:\\Users\\onjad\\anaconda3\\lib\\site-packages\\sklearn\\utils\\validation.py:509: UserWarning: pandas.DataFrame with sparse columns found.It will be converted to a dense numpy array.\n",
      "  warnings.warn(\n",
      "<ipython-input-37-81ff8b0ca0d3>:12: DataConversionWarning: A column-vector y was passed when a 1d array was expected. Please change the shape of y to (n_samples, ), for example using ravel().\n",
      "  knn.fit(X_train, y_train)\n"
     ]
    },
    {
     "name": "stderr",
     "output_type": "stream",
     "text": [
      "C:\\Users\\onjad\\anaconda3\\lib\\site-packages\\sklearn\\utils\\validation.py:509: UserWarning: pandas.DataFrame with sparse columns found.It will be converted to a dense numpy array.\n",
      "  warnings.warn(\n",
      "C:\\Users\\onjad\\anaconda3\\lib\\site-packages\\sklearn\\utils\\validation.py:509: UserWarning: pandas.DataFrame with sparse columns found.It will be converted to a dense numpy array.\n",
      "  warnings.warn(\n",
      "<ipython-input-37-81ff8b0ca0d3>:12: DataConversionWarning: A column-vector y was passed when a 1d array was expected. Please change the shape of y to (n_samples, ), for example using ravel().\n",
      "  knn.fit(X_train, y_train)\n",
      "C:\\Users\\onjad\\anaconda3\\lib\\site-packages\\sklearn\\utils\\validation.py:509: UserWarning: pandas.DataFrame with sparse columns found.It will be converted to a dense numpy array.\n",
      "  warnings.warn(\n",
      "C:\\Users\\onjad\\anaconda3\\lib\\site-packages\\sklearn\\utils\\validation.py:509: UserWarning: pandas.DataFrame with sparse columns found.It will be converted to a dense numpy array.\n",
      "  warnings.warn(\n",
      "<ipython-input-37-81ff8b0ca0d3>:12: DataConversionWarning: A column-vector y was passed when a 1d array was expected. Please change the shape of y to (n_samples, ), for example using ravel().\n",
      "  knn.fit(X_train, y_train)\n",
      "C:\\Users\\onjad\\anaconda3\\lib\\site-packages\\sklearn\\utils\\validation.py:509: UserWarning: pandas.DataFrame with sparse columns found.It will be converted to a dense numpy array.\n",
      "  warnings.warn(\n",
      "C:\\Users\\onjad\\anaconda3\\lib\\site-packages\\sklearn\\utils\\validation.py:509: UserWarning: pandas.DataFrame with sparse columns found.It will be converted to a dense numpy array.\n",
      "  warnings.warn(\n",
      "<ipython-input-37-81ff8b0ca0d3>:12: DataConversionWarning: A column-vector y was passed when a 1d array was expected. Please change the shape of y to (n_samples, ), for example using ravel().\n",
      "  knn.fit(X_train, y_train)\n",
      "C:\\Users\\onjad\\anaconda3\\lib\\site-packages\\sklearn\\utils\\validation.py:509: UserWarning: pandas.DataFrame with sparse columns found.It will be converted to a dense numpy array.\n",
      "  warnings.warn(\n",
      "C:\\Users\\onjad\\anaconda3\\lib\\site-packages\\sklearn\\utils\\validation.py:509: UserWarning: pandas.DataFrame with sparse columns found.It will be converted to a dense numpy array.\n",
      "  warnings.warn(\n",
      "<ipython-input-37-81ff8b0ca0d3>:12: DataConversionWarning: A column-vector y was passed when a 1d array was expected. Please change the shape of y to (n_samples, ), for example using ravel().\n",
      "  knn.fit(X_train, y_train)\n",
      "C:\\Users\\onjad\\anaconda3\\lib\\site-packages\\sklearn\\utils\\validation.py:509: UserWarning: pandas.DataFrame with sparse columns found.It will be converted to a dense numpy array.\n",
      "  warnings.warn(\n",
      "C:\\Users\\onjad\\anaconda3\\lib\\site-packages\\sklearn\\utils\\validation.py:509: UserWarning: pandas.DataFrame with sparse columns found.It will be converted to a dense numpy array.\n",
      "  warnings.warn(\n",
      "<ipython-input-37-81ff8b0ca0d3>:12: DataConversionWarning: A column-vector y was passed when a 1d array was expected. Please change the shape of y to (n_samples, ), for example using ravel().\n",
      "  knn.fit(X_train, y_train)\n",
      "C:\\Users\\onjad\\anaconda3\\lib\\site-packages\\sklearn\\utils\\validation.py:509: UserWarning: pandas.DataFrame with sparse columns found.It will be converted to a dense numpy array.\n",
      "  warnings.warn(\n",
      "C:\\Users\\onjad\\anaconda3\\lib\\site-packages\\sklearn\\utils\\validation.py:509: UserWarning: pandas.DataFrame with sparse columns found.It will be converted to a dense numpy array.\n",
      "  warnings.warn(\n",
      "<ipython-input-37-81ff8b0ca0d3>:12: DataConversionWarning: A column-vector y was passed when a 1d array was expected. Please change the shape of y to (n_samples, ), for example using ravel().\n",
      "  knn.fit(X_train, y_train)\n",
      "C:\\Users\\onjad\\anaconda3\\lib\\site-packages\\sklearn\\utils\\validation.py:509: UserWarning: pandas.DataFrame with sparse columns found.It will be converted to a dense numpy array.\n",
      "  warnings.warn(\n",
      "C:\\Users\\onjad\\anaconda3\\lib\\site-packages\\sklearn\\utils\\validation.py:509: UserWarning: pandas.DataFrame with sparse columns found.It will be converted to a dense numpy array.\n",
      "  warnings.warn(\n",
      "<ipython-input-37-81ff8b0ca0d3>:12: DataConversionWarning: A column-vector y was passed when a 1d array was expected. Please change the shape of y to (n_samples, ), for example using ravel().\n",
      "  knn.fit(X_train, y_train)\n",
      "C:\\Users\\onjad\\anaconda3\\lib\\site-packages\\sklearn\\utils\\validation.py:509: UserWarning: pandas.DataFrame with sparse columns found.It will be converted to a dense numpy array.\n",
      "  warnings.warn(\n",
      "C:\\Users\\onjad\\anaconda3\\lib\\site-packages\\sklearn\\utils\\validation.py:509: UserWarning: pandas.DataFrame with sparse columns found.It will be converted to a dense numpy array.\n",
      "  warnings.warn(\n",
      "<ipython-input-37-81ff8b0ca0d3>:12: DataConversionWarning: A column-vector y was passed when a 1d array was expected. Please change the shape of y to (n_samples, ), for example using ravel().\n",
      "  knn.fit(X_train, y_train)\n",
      "C:\\Users\\onjad\\anaconda3\\lib\\site-packages\\sklearn\\utils\\validation.py:509: UserWarning: pandas.DataFrame with sparse columns found.It will be converted to a dense numpy array.\n",
      "  warnings.warn(\n",
      "C:\\Users\\onjad\\anaconda3\\lib\\site-packages\\sklearn\\utils\\validation.py:509: UserWarning: pandas.DataFrame with sparse columns found.It will be converted to a dense numpy array.\n",
      "  warnings.warn(\n",
      "<ipython-input-37-81ff8b0ca0d3>:12: DataConversionWarning: A column-vector y was passed when a 1d array was expected. Please change the shape of y to (n_samples, ), for example using ravel().\n",
      "  knn.fit(X_train, y_train)\n",
      "C:\\Users\\onjad\\anaconda3\\lib\\site-packages\\sklearn\\utils\\validation.py:509: UserWarning: pandas.DataFrame with sparse columns found.It will be converted to a dense numpy array.\n",
      "  warnings.warn(\n",
      "C:\\Users\\onjad\\anaconda3\\lib\\site-packages\\sklearn\\utils\\validation.py:509: UserWarning: pandas.DataFrame with sparse columns found.It will be converted to a dense numpy array.\n",
      "  warnings.warn(\n",
      "<ipython-input-37-81ff8b0ca0d3>:12: DataConversionWarning: A column-vector y was passed when a 1d array was expected. Please change the shape of y to (n_samples, ), for example using ravel().\n",
      "  knn.fit(X_train, y_train)\n",
      "C:\\Users\\onjad\\anaconda3\\lib\\site-packages\\sklearn\\utils\\validation.py:509: UserWarning: pandas.DataFrame with sparse columns found.It will be converted to a dense numpy array.\n",
      "  warnings.warn(\n",
      "C:\\Users\\onjad\\anaconda3\\lib\\site-packages\\sklearn\\utils\\validation.py:509: UserWarning: pandas.DataFrame with sparse columns found.It will be converted to a dense numpy array.\n",
      "  warnings.warn(\n",
      "<ipython-input-37-81ff8b0ca0d3>:12: DataConversionWarning: A column-vector y was passed when a 1d array was expected. Please change the shape of y to (n_samples, ), for example using ravel().\n",
      "  knn.fit(X_train, y_train)\n",
      "C:\\Users\\onjad\\anaconda3\\lib\\site-packages\\sklearn\\utils\\validation.py:509: UserWarning: pandas.DataFrame with sparse columns found.It will be converted to a dense numpy array.\n",
      "  warnings.warn(\n"
     ]
    },
    {
     "data": {
      "image/png": "[encoded data removed]",
      "text/plain": [
       "<Figure size 720x432 with 1 Axes>"
      ]
     },
     "metadata": {
      "needs_background": "light"
     },
     "output_type": "display_data"
    }
   ],
   "source": [
    "# Classifier(K-Nearest Neighbors)\n",
    "from sklearn.neighbors import KNeighborsClassifier\n",
    "knn = KNeighborsClassifier(n_neighbors=1)\n",
    "knn.fit(X_train,y_train)\n",
    "pred_knn = knn.predict(X_test)\n",
    "print('\\n\\n ACCURACY SCORE IS:', accuracy_score(true, pred_knn))\n",
    "\n",
    "# BEST VALUE OF K (Will take some time)\n",
    "error_rate = []\n",
    "for i in range(1, 40):\n",
    "    knn = KNeighborsClassifier(n_neighbors=i)\n",
    "    knn.fit(X_train, y_train)\n",
    "    pred_i = knn.predict(X_test)\n",
    "    pred_i = pred_i.reshape(25, 1)\n",
    "    error_rate.append(np.mean(pred_i != y_test))\n",
    "\n",
    "plt.figure(figsize=(10, 6))\n",
    "plt.plot(range(1, 40), error_rate, color='blue', linestyle='dashed', marker='o',\n",
    "          markerfacecolor='red', markersize=10)\n",
    "plt.title('Error Rate vs. K Value')\n",
    "plt.xlabel('K')\n",
    "plt.ylabel('Error Rate')\n",
    "plt.show()"
   ]
  },
  {
   "cell_type": "code",
   "execution_count": 38,
   "metadata": {},
   "outputs": [
    {
     "name": "stderr",
     "output_type": "stream",
     "text": [
      "C:\\Users\\onjad\\anaconda3\\lib\\site-packages\\sklearn\\utils\\validation.py:509: UserWarning: pandas.DataFrame with sparse columns found.It will be converted to a dense numpy array.\n",
      "  warnings.warn(\n",
      "<ipython-input-38-621470411893>:3: DataConversionWarning: A column-vector y was passed when a 1d array was expected. Please change the shape of y to (n_samples, ), for example using ravel().\n",
      "  knn.fit(X_train, y_train)\n",
      "C:\\Users\\onjad\\anaconda3\\lib\\site-packages\\sklearn\\utils\\validation.py:509: UserWarning: pandas.DataFrame with sparse columns found.It will be converted to a dense numpy array.\n",
      "  warnings.warn(\n"
     ]
    },
    {
     "name": "stdout",
     "output_type": "stream",
     "text": [
      "\n",
      " CONFUSION MATRIX:\n",
      " [[10  2]\n",
      " [ 3 10]]\n",
      "\n",
      "\n",
      " ACCURACY SCORE IS: 0.8\n"
     ]
    }
   ],
   "source": [
    "# KNN with best K\n",
    "knn = KNeighborsClassifier(n_neighbors=18)\n",
    "knn.fit(X_train, y_train)\n",
    "pred_knn = knn.predict(X_test)\n",
    "print('\\n CONFUSION MATRIX:\\n', confusion_matrix(true, pred_knn))\n",
    "print('\\n\\n ACCURACY SCORE IS:', accuracy_score(true, pred_knn))"
   ]
  },
  {
   "cell_type": "code",
   "execution_count": 39,
   "metadata": {},
   "outputs": [
    {
     "name": "stderr",
     "output_type": "stream",
     "text": [
      "C:\\Users\\onjad\\anaconda3\\lib\\site-packages\\sklearn\\utils\\validation.py:509: UserWarning: pandas.DataFrame with sparse columns found.It will be converted to a dense numpy array.\n",
      "  warnings.warn(\n",
      "C:\\Users\\onjad\\anaconda3\\lib\\site-packages\\sklearn\\utils\\validation.py:73: DataConversionWarning: A column-vector y was passed when a 1d array was expected. Please change the shape of y to (n_samples, ), for example using ravel().\n",
      "  return f(**kwargs)\n",
      "C:\\Users\\onjad\\anaconda3\\lib\\site-packages\\sklearn\\utils\\validation.py:509: UserWarning: pandas.DataFrame with sparse columns found.It will be converted to a dense numpy array.\n",
      "  warnings.warn(\n"
     ]
    },
    {
     "name": "stdout",
     "output_type": "stream",
     "text": [
      "\n",
      " CONFUSION MATRIX:\n",
      " [[10  2]\n",
      " [ 7  6]]\n",
      "\n",
      "\n",
      " ACCURACY SCORE IS: 0.64\n"
     ]
    }
   ],
   "source": [
    "# Classifier (Logistic Regression)\n",
    "from sklearn.linear_model import LogisticRegression\n",
    "logmodel = LogisticRegression()\n",
    "logmodel.fit(X_train,y_train)\n",
    "pred_log = logmodel.predict(X_test)\n",
    "print('\\n CONFUSION MATRIX:\\n', confusion_matrix(true, pred_log))\n",
    "print('\\n\\n ACCURACY SCORE IS:', accuracy_score(true, pred_log))"
   ]
  },
  {
   "cell_type": "code",
   "execution_count": 40,
   "metadata": {},
   "outputs": [
    {
     "name": "stderr",
     "output_type": "stream",
     "text": [
      "C:\\Users\\onjad\\anaconda3\\lib\\site-packages\\sklearn\\utils\\validation.py:509: UserWarning: pandas.DataFrame with sparse columns found.It will be converted to a dense numpy array.\n",
      "  warnings.warn(\n",
      "C:\\Users\\onjad\\anaconda3\\lib\\site-packages\\sklearn\\utils\\validation.py:73: DataConversionWarning: A column-vector y was passed when a 1d array was expected. Please change the shape of y to (n_samples, ), for example using ravel().\n",
      "  return f(**kwargs)\n",
      "C:\\Users\\onjad\\anaconda3\\lib\\site-packages\\sklearn\\utils\\validation.py:509: UserWarning: pandas.DataFrame with sparse columns found.It will be converted to a dense numpy array.\n",
      "  warnings.warn(\n"
     ]
    },
    {
     "name": "stdout",
     "output_type": "stream",
     "text": [
      "\n",
      " CONFUSION MATRIX:\n",
      " [[ 2 10]\n",
      " [ 0 13]]\n",
      "\n",
      "\n",
      " ACCURACY SCORE IS: 0.6 \n",
      "\n"
     ]
    }
   ],
   "source": [
    "# Classifier (Naive Bayes)\n",
    "from sklearn.naive_bayes import MultinomialNB\n",
    "nb = MultinomialNB()\n",
    "nb.fit(X_train,y_train)\n",
    "pred_naive = nb.predict(X_test)\n",
    "print('\\n CONFUSION MATRIX:\\n', confusion_matrix(true, pred_naive))\n",
    "print('\\n\\n ACCURACY SCORE IS:', accuracy_score(true, pred_naive), '\\n')"
   ]
  },
  {
   "cell_type": "code",
   "execution_count": 41,
   "metadata": {},
   "outputs": [
    {
     "name": "stdout",
     "output_type": "stream",
     "text": [
      "ACCURACY SCORE OF EACH CLASSIFIER:\n",
      "\n",
      "NEURAL NETWORK: 0.56\n",
      "RANDOM FOREST: 0.8\n",
      "DECISION TREE: 0.64\n",
      "SVM: 0.64\n",
      "K NEAREST NEIGHBORS: 0.8\n",
      "LOGISTIC REGRESSION: 0.64\n",
      "NAIVE BAYES: 0.6\n"
     ]
    }
   ],
   "source": [
    "print('ACCURACY SCORE OF EACH CLASSIFIER:\\n')\n",
    "print('NEURAL NETWORK:', accuracy_score(true, pred))\n",
    "print('RANDOM FOREST:', accuracy_score(true, pred_rfc))\n",
    "print('DECISION TREE:', accuracy_score(true, pred_tree))\n",
    "print('SVM:', accuracy_score(true, pred_svm))\n",
    "print('K NEAREST NEIGHBORS:', accuracy_score(true, pred_knn))\n",
    "print('LOGISTIC REGRESSION:', accuracy_score(true, pred_log))\n",
    "print('NAIVE BAYES:', accuracy_score(true, pred_naive))"
   ]
  }
 ],
 "metadata": {
  "kernelspec": {
   "display_name": "Python 3",
   "language": "python",
   "name": "python3"
  },
  "language_info": {
   "codemirror_mode": {
    "name": "ipython",
    "version": 3
   },
   "file_extension": ".py",
   "mimetype": "text/x-python",
   "name": "python",
   "nbconvert_exporter": "python",
   "pygments_lexer": "ipython3",
   "version": "3.8.5"
  }
 },
 "nbformat": 4,
 "nbformat_minor": 4
}
