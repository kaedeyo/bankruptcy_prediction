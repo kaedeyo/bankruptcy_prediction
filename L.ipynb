{
 "cells": [
  {
   "cell_type": "code",
   "execution_count": 1,
   "metadata": {},
   "outputs": [],
   "source": [
    "import pandas as pd\n",
    "import numpy as np\n",
    "import matplotlib.pyplot as plt\n",
    "import seaborn as sns\n",
    "%matplotlib inline\n",
    "\n",
    "import os"
   ]
  },
  {
   "cell_type": "markdown",
   "metadata": {},
   "source": [
    "# DATA IMPORT"
   ]
  },
  {
   "cell_type": "markdown",
   "metadata": {},
   "source": [
    "IMPORT TEXT FILES "
   ]
  },
  {
   "cell_type": "code",
   "execution_count": 2,
   "metadata": {},
   "outputs": [],
   "source": [
    "# TRAINING SET       \n",
    "#Bankrupt_perfo\n",
    "bankrupted_perfo_reports = os.listdir('C:/Users/onjad/OneDrive/Documents/RESEARCH PHD/article 3/CODES/DATAFRAMES/performance/bankrupted/trainB')\n",
    "bankrupted_perfo_reports = [file for file in bankrupted_perfo_reports]\n",
    "\n",
    "bankrupted_perfo_file = []\n",
    "for report in range(0, len(bankrupted_perfo_reports)):\n",
    "    with open(f\"C:/Users/onjad/OneDrive/Documents/RESEARCH PHD/article 3/CODES/DATAFRAMES/performance/bankrupted/trainB/{bankrupted_perfo_reports[report]}\", encoding=\"utf8\") as file:\n",
    "        perfo_filesB = file.read()\n",
    "        bankrupted_perfo_file.append(perfo_filesB)\n",
    "\n",
    "#Bankrupt_kadai\n",
    "bankrupted_kadai_reports = os.listdir('C:/Users/onjad/OneDrive/Documents/RESEARCH PHD/article 3/CODES/DATAFRAMES/kadai/bankrupted/trainB')\n",
    "bankrupted_kadai_reports = [file for file in bankrupted_kadai_reports]\n",
    "\n",
    "bankrupted_kadai_file = []\n",
    "for report in range(0, len(bankrupted_kadai_reports)):\n",
    "    with open(f\"C:/Users/onjad/OneDrive/Documents/RESEARCH PHD/article 3/CODES/DATAFRAMES/kadai/bankrupted/trainB/{bankrupted_kadai_reports[report]}\", encoding=\"utf8\") as file:\n",
    "        kadai_filesB = file.read()\n",
    "        bankrupted_kadai_file.append(kadai_filesB)\n",
    "\n",
    "#Bankrupt_tanshin\n",
    "bankrupted_tanshin_reports = os.listdir('C:/Users/onjad/OneDrive/Documents/RESEARCH PHD/article 3/CODES/DATAFRAMES/tanshin/bankrupted/trainB')\n",
    "bankrupted_tanshin_reports = [file for file in bankrupted_tanshin_reports]\n",
    "\n",
    "bankrupted_file_tanshin = []\n",
    "for report in range(0, len(bankrupted_tanshin_reports)):\n",
    "    with open(f\"C:/Users/onjad/OneDrive/Documents/RESEARCH PHD/article 3/CODES/DATAFRAMES/tanshin/bankrupted/trainB/{bankrupted_tanshin_reports[report]}\", encoding=\"utf8\") as file:\n",
    "        filesB_tanshin = file.read()\n",
    "        bankrupted_file_tanshin.append(filesB_tanshin)\n",
    "\n",
    "df_bankrupted_perfo = pd.DataFrame(bankrupted_perfo_file)\n",
    "df_bankrupted_perfo.columns = ['perfo']\n",
    "df_bankrupted_perfo['Y'] = 0\n",
    "\n",
    "df_bankrupted_kadai = pd.DataFrame(bankrupted_kadai_file)\n",
    "df_bankrupted_kadai.columns = ['kadai']\n",
    "df_bankrupted_kadai['Y'] = 0\n",
    "\n",
    "df_bankrupted_tanshin = pd.DataFrame(bankrupted_file_tanshin)\n",
    "df_bankrupted_tanshin.columns = ['tanshin']\n",
    "df_bankrupted_tanshin['Y'] = 0 \n",
    "        \n",
    "#Nonbankrupt_perfo\n",
    "nonbankrupted_perfo_reports = os.listdir('C:/Users/onjad/OneDrive/Documents/RESEARCH PHD/article 3/CODES/DATAFRAMES/performance/nonbankrupted/trainNB')\n",
    "nonbankrupted_perfo_reports = [file for file in nonbankrupted_perfo_reports]\n",
    "\n",
    "nonbankrupted_perfo_file = []\n",
    "for report in range(0, len(nonbankrupted_perfo_reports)):\n",
    "    with open(f\"C:/Users/onjad/OneDrive/Documents/RESEARCH PHD/article 3/CODES/DATAFRAMES/performance/nonbankrupted/trainNB/{nonbankrupted_perfo_reports[report]}\", encoding=\"utf8\") as file:\n",
    "        perfo_filesNB = file.read()\n",
    "        nonbankrupted_perfo_file.append(perfo_filesNB)\n",
    "        \n",
    "#Nonbankrupt_kadai\n",
    "nonbankrupted_kadai_reports = os.listdir('C:/Users/onjad/OneDrive/Documents/RESEARCH PHD/article 3/CODES/DATAFRAMES/kadai/nonbankrupted/trainNB')\n",
    "nonbankrupted_kadai_reports = [file for file in nonbankrupted_kadai_reports]\n",
    "\n",
    "nonbankrupted_kadai_file = []\n",
    "for report in range(0, len(nonbankrupted_kadai_reports)):\n",
    "    with open(f\"C:/Users/onjad/OneDrive/Documents/RESEARCH PHD/article 3/CODES/DATAFRAMES/kadai/nonbankrupted/trainNB/{nonbankrupted_kadai_reports[report]}\", encoding=\"utf8\") as file:\n",
    "        kadai_filesNB = file.read()\n",
    "        nonbankrupted_kadai_file.append(kadai_filesNB)\n",
    "\n",
    "#Nonbankrupt__tanshin\n",
    "nonbankrupted_tanshin_reports = os.listdir('C:/Users/onjad/OneDrive/Documents/RESEARCH PHD/article 3/CODES/DATAFRAMES/tanshin/nonbankrupted/trainNB')\n",
    "nonbankrupted_tanshin_reports = [file for file in nonbankrupted_tanshin_reports]\n",
    "\n",
    "nonbankrupted_file_tanshin = []\n",
    "for report in range(0, len(nonbankrupted_tanshin_reports)):\n",
    "    with open(f\"C:/Users/onjad/OneDrive/Documents/RESEARCH PHD/article 3/CODES/DATAFRAMES/tanshin/nonbankrupted/trainNB/{nonbankrupted_tanshin_reports[report]}\", encoding=\"utf8\") as file:\n",
    "        filesNB_tanshin = file.read()\n",
    "        nonbankrupted_file_tanshin.append(filesNB_tanshin) \n",
    "\n",
    "df_nonbankrupted_perfo = pd.DataFrame(nonbankrupted_perfo_file)\n",
    "df_nonbankrupted_perfo.columns = ['perfo']\n",
    "df_nonbankrupted_perfo['Y'] = 1\n",
    "\n",
    "\n",
    "df_nonbankrupted_kadai = pd.DataFrame(nonbankrupted_kadai_file)\n",
    "df_nonbankrupted_kadai.columns = ['kadai']\n",
    "df_nonbankrupted_kadai['Y'] = 1\n",
    "\n",
    "df_nonbankrupted_tanshin = pd.DataFrame(nonbankrupted_file_tanshin)\n",
    "df_nonbankrupted_tanshin.columns = ['tanshin']\n",
    "df_nonbankrupted_tanshin['Y'] = 1\n",
    "\n",
    "\n",
    "# concatenated_train\n",
    "df_perfo_train = [df_bankrupted_perfo,df_nonbankrupted_perfo]\n",
    "df_perfo_train = pd.concat(df_perfo_train, ignore_index=True)\n",
    "# print(df_perfo_train)\n",
    "\n",
    "df_kadai_train = [df_bankrupted_kadai,df_nonbankrupted_kadai]\n",
    "df_kadai_train = pd.concat(df_kadai_train, ignore_index=True)\n",
    "# print(df_kadai_train)\n",
    "\n",
    "concatenated_tanshin_train = [df_bankrupted_tanshin, df_nonbankrupted_tanshin]\n",
    "df_tanshin_train = pd.concat(concatenated_tanshin_train, ignore_index= True)\n",
    "# print(df_tanshin_train)"
   ]
  },
  {
   "cell_type": "code",
   "execution_count": 3,
   "metadata": {},
   "outputs": [],
   "source": [
    "# VALIDATION SET       \n",
    "#Bankrupt_perfo\n",
    "bankrupted_perfo_reports_val = os.listdir('C:/Users/onjad/OneDrive/Documents/RESEARCH PHD/article 3/CODES/DATAFRAMES/performance/bankrupted/valB')\n",
    "bankrupted_perfo_reports_val = [file for file in bankrupted_perfo_reports_val]\n",
    "\n",
    "bankrupted_perfo_file_val = []\n",
    "for report in range(0, len(bankrupted_perfo_reports_val)):\n",
    "    with open(f\"C:/Users/onjad/OneDrive/Documents/RESEARCH PHD/article 3/CODES/DATAFRAMES/performance/bankrupted/valB/{bankrupted_perfo_reports_val[report]}\", encoding=\"utf8\") as file:\n",
    "        perfo_filesB_val = file.read()\n",
    "        bankrupted_perfo_file_val.append(perfo_filesB_val)\n",
    "\n",
    "\n",
    "#Bankrupt_kadai\n",
    "bankrupted_kadai_reports_val = os.listdir('C:/Users/onjad/OneDrive/Documents/RESEARCH PHD/article 3/CODES/DATAFRAMES/kadai/bankrupted/valB')\n",
    "bankrupted_kadai_reports_val = [file for file in bankrupted_kadai_reports_val]\n",
    "\n",
    "bankrupted_kadai_file_val = []\n",
    "for report in range(0, len(bankrupted_kadai_reports_val)):\n",
    "    with open(f\"C:/Users/onjad/OneDrive/Documents/RESEARCH PHD/article 3/CODES/DATAFRAMES/kadai/bankrupted/valB/{bankrupted_kadai_reports_val[report]}\", encoding=\"utf8\") as file:\n",
    "        kadai_filesB_val = file.read()\n",
    "        bankrupted_kadai_file_val.append(kadai_filesB_val)        \n",
    "\n",
    "        \n",
    "#Bankrupt_tanshin\n",
    "bankrupted_tanshin_reports_val = os.listdir('C:/Users/onjad/OneDrive/Documents/RESEARCH PHD/article 3/CODES/DATAFRAMES/tanshin/bankrupted/valB')\n",
    "bankrupted_tanshin_reports_val = [file for file in bankrupted_tanshin_reports_val]\n",
    "\n",
    "bankrupted_file_tanshin_val = []\n",
    "for report in range(0, len(bankrupted_tanshin_reports_val)):\n",
    "    with open(f\"C:/Users/onjad/OneDrive/Documents/RESEARCH PHD/article 3/CODES/DATAFRAMES/tanshin/bankrupted/valB/{bankrupted_tanshin_reports_val[report]}\", encoding=\"utf8\") as file:\n",
    "        filesB_tanshin_val = file.read()\n",
    "        bankrupted_file_tanshin_val.append(filesB_tanshin_val)       \n",
    "\n",
    "df_bankrupted_perfo_val = pd.DataFrame(bankrupted_perfo_file_val)\n",
    "df_bankrupted_perfo_val.columns = ['perfo']\n",
    "df_bankrupted_perfo_val['Y'] = 0\n",
    "\n",
    "df_bankrupted_kadai_val = pd.DataFrame(bankrupted_kadai_file_val)\n",
    "df_bankrupted_kadai_val.columns = ['kadai']\n",
    "df_bankrupted_kadai_val['Y'] = 0\n",
    "\n",
    "df_bankrupted_tanshin_val = pd.DataFrame(bankrupted_file_tanshin_val)\n",
    "df_bankrupted_tanshin_val.columns = ['tanshin']\n",
    "df_bankrupted_tanshin_val['Y'] = 0\n",
    "        \n",
    "#Nonbankrupt_perfo\n",
    "nonbankrupted_perfo_reports_val = os.listdir('C:/Users/onjad/OneDrive/Documents/RESEARCH PHD/article 3/CODES/DATAFRAMES/performance/nonbankrupted/valNB')\n",
    "nonbankrupted_perfo_reports_val = [file for file in nonbankrupted_perfo_reports_val]\n",
    "\n",
    "nonbankrupted_perfo_file_val = []\n",
    "for report in range(0, len(nonbankrupted_perfo_reports_val)):\n",
    "    with open(f\"C:/Users/onjad/OneDrive/Documents/RESEARCH PHD/article 3/CODES/DATAFRAMES/performance/nonbankrupted/valNB/{nonbankrupted_perfo_reports_val[report]}\", encoding=\"utf8\") as file:\n",
    "        perfo_filesNB_val = file.read()\n",
    "        nonbankrupted_perfo_file_val.append(perfo_filesNB_val)\n",
    "\n",
    "#Nonbankrupt_kadai\n",
    "nonbankrupted_kadai_reports_val = os.listdir('C:/Users/onjad/OneDrive/Documents/RESEARCH PHD/article 3/CODES/DATAFRAMES/kadai/nonbankrupted/valNB')\n",
    "nonbankrupted_kadai_reports_val = [file for file in nonbankrupted_kadai_reports_val]\n",
    "\n",
    "nonbankrupted_kadai_file_val = []\n",
    "for report in range(0, len(nonbankrupted_kadai_reports_val)):\n",
    "    with open(f\"C:/Users/onjad/OneDrive/Documents/RESEARCH PHD/article 3/CODES/DATAFRAMES/kadai/nonbankrupted/valNB/{nonbankrupted_kadai_reports_val[report]}\", encoding=\"utf8\") as file:\n",
    "        kadai_filesNB_val = file.read()\n",
    "        nonbankrupted_kadai_file_val.append(kadai_filesNB_val)\n",
    "        \n",
    "#Nonbankrupt_tanshin\n",
    "nonbankrupted_tanshin_reports_val = os.listdir('C:/Users/onjad/OneDrive/Documents/RESEARCH PHD/article 3/CODES/DATAFRAMES/tanshin/nonbankrupted/valNB')\n",
    "nonbankrupted_tanshin_reports_val = [file for file in nonbankrupted_tanshin_reports_val]\n",
    "\n",
    "nonbankrupted_file_tanshin_val = []\n",
    "for report in range(0, len(nonbankrupted_tanshin_reports_val)):\n",
    "    with open(f\"C:/Users/onjad/OneDrive/Documents/RESEARCH PHD/article 3/CODES/DATAFRAMES/tanshin/nonbankrupted/valNB/{nonbankrupted_tanshin_reports_val[report]}\", encoding=\"utf8\") as file:\n",
    "        filesNB_tanshin_val = file.read()\n",
    "        nonbankrupted_file_tanshin_val.append(filesNB_tanshin_val)\n",
    "\n",
    "df_nonbankrupted_perfo_val = pd.DataFrame(nonbankrupted_perfo_file_val)\n",
    "df_nonbankrupted_perfo_val.columns = ['perfo']\n",
    "df_nonbankrupted_perfo_val['Y'] = 1\n",
    "\n",
    "df_nonbankrupted_kadai_val = pd.DataFrame(nonbankrupted_kadai_file_val)\n",
    "df_nonbankrupted_kadai_val.columns = ['kadai']\n",
    "df_nonbankrupted_kadai_val['Y'] = 1\n",
    "\n",
    "df_nonbankrupted_tanshin_val = pd.DataFrame(nonbankrupted_file_tanshin_val)\n",
    "df_nonbankrupted_tanshin_val.columns = ['tanshin']\n",
    "df_nonbankrupted_tanshin_val['Y'] = 1 \n",
    "\n",
    "\n",
    "# concatenated_val\n",
    "df_perfo_val = [df_bankrupted_perfo_val,df_nonbankrupted_perfo_val]\n",
    "df_perfo_val = pd.concat(df_perfo_val, ignore_index=True)\n",
    "# print(df_perfo_val)\n",
    "\n",
    "df_kadai_val = [df_bankrupted_kadai_val,df_nonbankrupted_kadai_val]\n",
    "df_kadai_val = pd.concat(df_kadai_val, ignore_index=True)\n",
    "# print(df_kadai_val)\n",
    "\n",
    "concatenated_tanshin_val = [df_bankrupted_tanshin_val, df_nonbankrupted_tanshin_val]\n",
    "df_tanshin_val = pd.concat(concatenated_tanshin_val, ignore_index=True)\n",
    "# print(df_tanshin_val) "
   ]
  },
  {
   "cell_type": "code",
   "execution_count": 4,
   "metadata": {},
   "outputs": [],
   "source": [
    "# TEST SET\n",
    "#Bankrupt_perfo(test data)\n",
    "bankrupted_perfo_reports_test = os.listdir('C:/Users/onjad/OneDrive/Documents/RESEARCH PHD/article 3/CODES/DATAFRAMES/performance/bankrupted/testB')\n",
    "bankrupted_perfo_reports_test = [file for file in bankrupted_perfo_reports_test]\n",
    "\n",
    "bankrupted_perfo_file_test = []\n",
    "for report in range(0, len(bankrupted_perfo_reports_test)):\n",
    "    with open(f\"C:/Users/onjad/OneDrive/Documents/RESEARCH PHD/article 3/CODES/DATAFRAMES/performance/bankrupted/testB/{bankrupted_perfo_reports_test[report]}\", encoding=\"utf8\") as file:\n",
    "        perfo_filesB_test = file.read()\n",
    "        bankrupted_perfo_file_test.append(perfo_filesB_test)\n",
    "\n",
    "\n",
    "#Bankrupt_kadai(test data)\n",
    "bankrupted_kadai_reports_test = os.listdir('C:/Users/onjad/OneDrive/Documents/RESEARCH PHD/article 3/CODES/DATAFRAMES/kadai/bankrupted/testB')\n",
    "bankrupted_kadai_reports_test = [file for file in bankrupted_kadai_reports_test]\n",
    "\n",
    "bankrupted_kadai_file_test = []\n",
    "for report in range(0, len(bankrupted_kadai_reports_test)):\n",
    "    with open(f\"C:/Users/onjad/OneDrive/Documents/RESEARCH PHD/article 3/CODES/DATAFRAMES/kadai/bankrupted/testB/{bankrupted_kadai_reports_test[report]}\", encoding=\"utf8\") as file:\n",
    "        kadai_filesB_test = file.read()\n",
    "        bankrupted_kadai_file_test.append(kadai_filesB_test)        \n",
    "\n",
    "#Bankrupt_tanshin(test data)\n",
    "bankrupted_tanshin_reports_test = os.listdir('C:/Users/onjad/OneDrive/Documents/RESEARCH PHD/article 3/CODES/DATAFRAMES/tanshin/bankrupted/testB')\n",
    "bankrupted_tanshin_reports_test = [file for file in bankrupted_tanshin_reports_test]\n",
    "\n",
    "bankrupted_tanshin_file_test = []\n",
    "for report in range(0, len(bankrupted_tanshin_reports_test)):\n",
    "    with open(f\"C:/Users/onjad/OneDrive/Documents/RESEARCH PHD/article 3/CODES/DATAFRAMES/tanshin/bankrupted/testB/{bankrupted_tanshin_reports_test[report]}\", encoding=\"utf8\") as file:\n",
    "        tanshin_filesB_test = file.read()\n",
    "        bankrupted_tanshin_file_test.append(tanshin_filesB_test)\n",
    "\n",
    "df_bankrupted_perfo_test = pd.DataFrame(bankrupted_perfo_file_test)\n",
    "df_bankrupted_perfo_test.columns = ['perfo']\n",
    "df_bankrupted_perfo_test['Y'] = 0\n",
    "\n",
    "df_bankrupted_kadai_test = pd.DataFrame(bankrupted_kadai_file_test)\n",
    "df_bankrupted_kadai_test.columns = ['kadai']\n",
    "df_bankrupted_kadai_test['Y'] = 0\n",
    "\n",
    "df_bankrupted_tanshin_test = pd.DataFrame(bankrupted_tanshin_file_test)\n",
    "df_bankrupted_tanshin_test.columns = ['tanshin']\n",
    "df_bankrupted_tanshin_test['Y'] = 0\n",
    "\n",
    "\n",
    "#Nonbankrupt_perfo(test data)\n",
    "nonbankrupted_perfo_reports_test = os.listdir('C:/Users/onjad/OneDrive/Documents/RESEARCH PHD/article 3/CODES/DATAFRAMES/performance/nonbankrupted/testNB')\n",
    "nonbankrupted_perfo_reports_test = [file for file in nonbankrupted_perfo_reports_test]\n",
    "\n",
    "nonbankrupted_perfo_file_test = []\n",
    "for report in range(0, len(nonbankrupted_perfo_reports_test)):\n",
    "    with open(f\"C:/Users/onjad/OneDrive/Documents/RESEARCH PHD/article 3/CODES/DATAFRAMES/performance/nonbankrupted/testNB/{nonbankrupted_perfo_reports_test[report]}\", encoding=\"utf8\") as file:\n",
    "        perfo_filesNB_test = file.read()\n",
    "        nonbankrupted_perfo_file_test.append(perfo_filesNB_test)\n",
    "\n",
    "#Nonbankrupt_kadai(test data)\n",
    "nonbankrupted_kadai_reports_test = os.listdir('C:/Users/onjad/OneDrive/Documents/RESEARCH PHD/article 3/CODES/DATAFRAMES/kadai/nonbankrupted/testNB')\n",
    "nonbankrupted_kadai_reports_test = [file for file in nonbankrupted_kadai_reports_test]\n",
    "\n",
    "nonbankrupted_kadai_file_test = []\n",
    "for report in range(0, len(nonbankrupted_kadai_reports_test)):\n",
    "    with open(f\"C:/Users/onjad/OneDrive/Documents/RESEARCH PHD/article 3/CODES/DATAFRAMES/kadai/nonbankrupted/testNB/{nonbankrupted_kadai_reports_test[report]}\", encoding=\"utf8\") as file:\n",
    "        kadai_filesNB_test = file.read()\n",
    "        nonbankrupted_kadai_file_test.append(kadai_filesNB_test)        \n",
    "        \n",
    "#Nonbankrupt_tanshin(test data)\n",
    "nonbankrupted_tanshin_reports_test = os.listdir('C:/Users/onjad/OneDrive/Documents/RESEARCH PHD/article 3/CODES/DATAFRAMES/tanshin/nonbankrupted/testNB')\n",
    "nonbankrupted_tanshin_reports_test = [file for file in nonbankrupted_tanshin_reports_test]\n",
    "\n",
    "nonbankrupted_tanshin_file_test = []\n",
    "for report in range(0, len(nonbankrupted_tanshin_reports_test)):\n",
    "    with open(f\"C:/Users/onjad/OneDrive/Documents/RESEARCH PHD/article 3/CODES/DATAFRAMES/tanshin/nonbankrupted/testNB/{nonbankrupted_tanshin_reports_test[report]}\", encoding=\"utf8\") as file:\n",
    "        tanshin_filesNB_test = file.read()\n",
    "        nonbankrupted_tanshin_file_test.append(tanshin_filesNB_test)\n",
    "\n",
    "df_nonbankrupted_perfo_test = pd.DataFrame(nonbankrupted_perfo_file_test)\n",
    "df_nonbankrupted_perfo_test.columns = ['perfo']\n",
    "df_nonbankrupted_perfo_test['Y'] = 1\n",
    "\n",
    "df_nonbankrupted_kadai_test = pd.DataFrame(nonbankrupted_kadai_file_test)\n",
    "df_nonbankrupted_kadai_test.columns = ['kadai']\n",
    "df_nonbankrupted_kadai_test['Y'] = 1\n",
    "\n",
    "df_nonbankrupted_tanshin_test = pd.DataFrame(nonbankrupted_tanshin_file_test)\n",
    "df_nonbankrupted_tanshin_test.columns = ['tanshin']\n",
    "df_nonbankrupted_tanshin_test['Y'] = 1\n",
    "\n",
    "# concatenated_test\n",
    "df_perfo_test = [df_bankrupted_perfo_test,df_nonbankrupted_perfo_test]\n",
    "df_perfo_test = pd.concat(df_perfo_test, ignore_index=True)\n",
    "# print(df_perfo_test)\n",
    "\n",
    "df_kadai_test = [df_bankrupted_kadai_test,df_nonbankrupted_kadai_test]\n",
    "df_kadai_test = pd.concat(df_kadai_test, ignore_index=True)\n",
    "# print(df_kadai_test)\n",
    "\n",
    "df_tanshin_test = [df_bankrupted_tanshin_test,df_nonbankrupted_tanshin_test]\n",
    "df_tanshin_test = pd.concat(df_tanshin_test, ignore_index=True)\n",
    "# print(df_tanshin_test)"
   ]
  },
  {
   "cell_type": "markdown",
   "metadata": {},
   "source": [
    "IMPORT RATIO DATASET"
   ]
  },
  {
   "cell_type": "code",
   "execution_count": 5,
   "metadata": {},
   "outputs": [],
   "source": [
    "# TRAINING SET\n",
    "\n",
    "traindata = pd.read_csv('C:/Users/onjad/OneDrive/Documents/RESEARCH PHD/article 3/CODES/DATAFRAMES/ratios/train_ratio.csv')\n",
    "# print('TRAINING DATASET \\n:', traindata.describe().transpose())\n",
    "X_train_ratio = traindata.drop('Y', axis=1)\n",
    "y_train_ratio = traindata['Y']\n",
    "# print(sns.countplot(x = 'Y', data=traindata))\n",
    "\n",
    "# VALIDATION SET\n",
    "\n",
    "valdata = pd.read_csv('C:/Users/onjad/OneDrive/Documents/RESEARCH PHD/article 3/CODES/DATAFRAMES/ratios/val_ratio.csv')\n",
    "# print('VALIDATION DATASET \\n:', valdata.describe().transpose())\n",
    "X_val_ratio = valdata.drop('Y', axis=1)\n",
    "y_val_ratio = valdata['Y']\n",
    "\n",
    "# TEST SET\n",
    "\n",
    "testdata = pd.read_csv('C:/Users/onjad/OneDrive/Documents/RESEARCH PHD/article 3/CODES/DATAFRAMES/ratios/test_ratio.csv')\n",
    "# print('TEST DATASET \\n:', testdata.describe().transpose())\n",
    "# print('TEST DATASET \\n:', testdata)\n",
    "X_test_ratio = testdata.drop('Y', axis=1)\n",
    "y_test_ratio = testdata['Y']"
   ]
  },
  {
   "cell_type": "markdown",
   "metadata": {},
   "source": [
    "COMBINE BOTH RATIOS + TEXT DATA"
   ]
  },
  {
   "cell_type": "code",
   "execution_count": 6,
   "metadata": {},
   "outputs": [],
   "source": [
    "# ADD THE A NEW COLUMN FOR TEXT FILE\n",
    "\n",
    "X_train_ratio['perfo'] = df_perfo_train['perfo']\n",
    "X_train_ratio['kadai'] = df_kadai_train['kadai']\n",
    "X_train_ratio['tanshin'] = df_tanshin_train['tanshin']\n",
    "\n",
    "X_val_ratio['perfo'] = df_perfo_val['perfo']\n",
    "X_val_ratio['kadai'] = df_kadai_val['kadai']\n",
    "X_val_ratio['tanshin'] = df_tanshin_val['tanshin']\n",
    "\n",
    "X_test_ratio['perfo'] = df_perfo_test.drop('Y', axis=1)\n",
    "X_test_ratio['kadai'] = df_kadai_test.drop('Y', axis=1)\n",
    "X_test_ratio['tanshin'] = df_tanshin_test.drop('Y', axis=1)\n",
    "\n",
    "# CREATE NEW DATAFRAME FOR COMBINED DATA\n",
    "\n",
    "X_train_both = X_train_ratio\n",
    "X_val_both = X_val_ratio\n",
    "X_test_both = X_test_ratio\n",
    "\n",
    "y_train_both = y_train_ratio\n",
    "y_val_both = y_val_ratio\n",
    "y_test_both = y_test_ratio"
   ]
  },
  {
   "cell_type": "code",
   "execution_count": 7,
   "metadata": {},
   "outputs": [],
   "source": [
    "# X_train_ratio"
   ]
  },
  {
   "cell_type": "code",
   "execution_count": 8,
   "metadata": {},
   "outputs": [
    {
     "name": "stdout",
     "output_type": "stream",
     "text": [
      "Length of X (train): 92 | Length of Y (train): 92\n",
      "Length of X (validation): 20 | Length of Y (validation): 20\n",
      "Length of X (test): 25 | Length of Y (test): 25\n"
     ]
    }
   ],
   "source": [
    "print('Length of X (train): {} | Length of Y (train): {}'.format(len(X_train_both), len(y_train_both)))\n",
    "print('Length of X (validation): {} | Length of Y (validation): {}'.format(len(X_val_both), len(y_val_both)))\n",
    "print('Length of X (test): {} | Length of Y (test): {}'.format(len(X_test_both), len(y_test_both)))"
   ]
  },
  {
   "cell_type": "code",
   "execution_count": 9,
   "metadata": {},
   "outputs": [],
   "source": [
    "# print(X_test_both)\n",
    "# print(X_train_both['perfo'])\n",
    "# print(X_train_both['kadai'])"
   ]
  },
  {
   "cell_type": "markdown",
   "metadata": {},
   "source": [
    "# TEXT PREPROCESSING"
   ]
  },
  {
   "cell_type": "code",
   "execution_count": 10,
   "metadata": {},
   "outputs": [],
   "source": [
    "from janome.tokenizer import Tokenizer\n",
    "from janome.analyzer import Analyzer\n",
    "from janome.charfilter import *\n",
    "from janome.tokenfilter import *\n",
    "import nltk\n",
    "import re"
   ]
  },
  {
   "cell_type": "code",
   "execution_count": 11,
   "metadata": {},
   "outputs": [],
   "source": [
    "def clean_data(risk_report_test):\n",
    "    \"\"\"Returns cleaned text data.\"\"\"\n",
    "    \n",
    "    with open(f\"C:/Users/onjad/OneDrive/Documents/RESEARCH PHD/article 3/CODES/stop_words.txt\", mode=\"r\", encoding=\"utf8\") as file:\n",
    "        stop_words = file.read()\n",
    "    \n",
    "    with open(f\"C:/Users/onjad/OneDrive/Documents/RESEARCH PHD/article 3/CODES/stop_words_accounting.txt\", mode=\"r\", encoding=\"utf8\") as file:\n",
    "        stop_words_acc = file.read()\n",
    "        \n",
    "    with open(f\"C:/Users/onjad/OneDrive/Documents/RESEARCH PHD/article 3/CODES/onaji_performance_vocab.txt\", mode=\"r\", encoding=\"utf8\") as file:\n",
    "        onaji_performance_vocab = file.read()\n",
    "    \n",
    "    with open(f\"C:/Users/onjad/OneDrive/Documents/RESEARCH PHD/article 3/CODES/onaji_kadai_vocab.txt\", mode=\"r\", encoding=\"utf8\") as file:\n",
    "        onaji_kadai_vocab = file.read()\n",
    "    \n",
    "    with open(f\"C:/Users/onjad/OneDrive/Documents/RESEARCH PHD/article 3/CODES/onaji_tanshin_vocab.txt\", mode=\"r\", encoding=\"utf8\") as file:\n",
    "        onaji_tanshin_vocab = file.read()  \n",
    "    \n",
    "    char_filters = [UnicodeNormalizeCharFilter(), \n",
    "                    RegexReplaceCharFilter(u'キャッシュ・フロー', u'キャッシュフロー')]\n",
    "    tokenizer = Tokenizer()\n",
    "    token_filters = [CompoundNounFilter(), \n",
    "                     POSStopFilter(['記号','助詞', '数', '数接続', '接続詞','連体詞', '接頭詞', '名詞,数','非自立', '代名詞', '自動詞', '他動詞']), \n",
    "                     LowerCaseFilter()]\n",
    "\n",
    "\n",
    "    a = Analyzer(char_filters=char_filters, tokenizer=tokenizer, token_filters=token_filters)\n",
    "    \n",
    "    def filter(text):\n",
    "        \"\"\"\n",
    "        :param text: str\n",
    "        :rtype : str\n",
    "        \"\"\"\n",
    "       # アルファベットと半角英数と記号と改行とタブを排除\n",
    "        text = re.sub(r'[a-zA-Z0-9¥\"¥.¥,¥@]+', '', text)\n",
    "        text = re.sub(r'[!\"“#$%&()\\*\\+\\-\\.,\\/:;<=>?@\\[\\\\\\]^_`{|}~]', '', text)\n",
    "        text = re.sub(r'[\\n|\\r|\\t]', '', text)\n",
    "        \n",
    "        # 日本語以外の文字を排除\n",
    "        jp_chartype_tokenizer = nltk.RegexpTokenizer(u'([ぁ-んー]+|[ァ-ンー]+|[\\u4e00-\\u9FFF]+|[ぁ-んァ-ンー\\u4e00-\\u9FFF]+)')\n",
    "        text = ''.join(jp_chartype_tokenizer.tokenize(text))\n",
    "        \n",
    "        return text\n",
    "\n",
    "    nosymbol_test = filter(risk_report_test)\n",
    "    \n",
    "    doc = []\n",
    "    for token in a.analyze(nosymbol_test):\n",
    "        doc.append(token.surface)\n",
    "    doc = [x for x in doc if x not in stop_words]\n",
    "    doc = [x for x in doc if x not in stop_words_acc]\n",
    "    doc = [x for x in doc if x not in onaji_performance_vocab]\n",
    "    doc = [x for x in doc if x not in onaji_kadai_vocab]\n",
    "    doc = [x for x in doc if x not in onaji_tanshin_vocab]\n",
    "    doc = np.array(doc)\n",
    "    \n",
    "    return doc\n",
    "\n",
    "#     corpus = ' '.join(doc)\n",
    "#     corpus = [corpus]\n",
    "    \n",
    "#     return corpus"
   ]
  },
  {
   "cell_type": "code",
   "execution_count": 12,
   "metadata": {},
   "outputs": [],
   "source": [
    "from sklearn.feature_extraction.text import CountVectorizer, TfidfTransformer"
   ]
  },
  {
   "cell_type": "code",
   "execution_count": 13,
   "metadata": {},
   "outputs": [],
   "source": [
    "X_train_both['texts'] = X_train_both[['perfo', 'kadai','tanshin']] .apply(lambda x: ''.join(x), axis=1)\n",
    "# print(X_train_both['texts'][0])\n",
    "\n",
    "X_val_both['texts'] = X_val_both[['perfo', 'kadai','tanshin']] .apply(lambda x: ''.join(x), axis=1)\n",
    "# print(X_val_both['texts'][0])\n",
    "\n",
    "X_test_both['texts'] = X_test_both[['perfo', 'kadai','tanshin']] .apply(lambda x: ''.join(x), axis=1)\n",
    "# print(X_test_both['texts'][0])"
   ]
  },
  {
   "cell_type": "code",
   "execution_count": 14,
   "metadata": {},
   "outputs": [],
   "source": [
    "df_text_only = pd.concat([X_train_both['texts'], X_val_both['texts'], X_test_both['texts']], ignore_index=True)\n",
    "# print(df_text_only)"
   ]
  },
  {
   "cell_type": "code",
   "execution_count": 15,
   "metadata": {},
   "outputs": [],
   "source": [
    "# print(df_text_only[91]) #train 0 a 92\n",
    "# print(df_text_only[111]) #val 92 a 112\n",
    "# print(df_text_only[112]) #test 112 a 137"
   ]
  },
  {
   "cell_type": "code",
   "execution_count": 16,
   "metadata": {},
   "outputs": [],
   "source": [
    "clean_file_transformer = CountVectorizer(analyzer=clean_data).fit(df_text_only)\n",
    "# print(clean_file_transformer.get_feature_names())"
   ]
  },
  {
   "cell_type": "code",
   "execution_count": 17,
   "metadata": {},
   "outputs": [
    {
     "name": "stdout",
     "output_type": "stream",
     "text": [
      "17968\n"
     ]
    }
   ],
   "source": [
    "print(len(clean_file_transformer.vocabulary_))"
   ]
  },
  {
   "cell_type": "code",
   "execution_count": 18,
   "metadata": {},
   "outputs": [
    {
     "name": "stdout",
     "output_type": "stream",
     "text": [
      "Shape of Sparse Matrix:  (137, 17968)\n"
     ]
    }
   ],
   "source": [
    "clean_file_bow = clean_file_transformer.transform(df_text_only)\n",
    "# print(clean_file_bow)\n",
    "print('Shape of Sparse Matrix: ', clean_file_bow.shape)"
   ]
  },
  {
   "cell_type": "code",
   "execution_count": 19,
   "metadata": {},
   "outputs": [
    {
     "name": "stdout",
     "output_type": "stream",
     "text": [
      "(137, 17968)\n"
     ]
    }
   ],
   "source": [
    "transformer_tfidf = TfidfTransformer().fit(clean_file_bow)\n",
    "clean_file_tfidf = transformer_tfidf.transform(clean_file_bow)\n",
    "\n",
    "# print(clean_file_tfidf)\n",
    "print(clean_file_tfidf.shape)"
   ]
  },
  {
   "cell_type": "markdown",
   "metadata": {},
   "source": [
    "# RATIO PREPROCESSING"
   ]
  },
  {
   "cell_type": "code",
   "execution_count": 20,
   "metadata": {},
   "outputs": [],
   "source": [
    "X_train_ratio = X_train_ratio.drop('perfo', axis=1)\n",
    "X_train_ratio = X_train_ratio.drop('kadai', axis=1)\n",
    "X_train_ratio = X_train_ratio.drop('tanshin', axis=1)\n",
    "# X_train_ratio"
   ]
  },
  {
   "cell_type": "code",
   "execution_count": 21,
   "metadata": {},
   "outputs": [],
   "source": [
    "X_val_ratio = X_val_ratio.drop('perfo', axis=1)\n",
    "X_val_ratio = X_val_ratio.drop('kadai', axis=1)\n",
    "X_val_ratio = X_val_ratio.drop('tanshin', axis=1)\n",
    "# print(X_val_ratio)\n",
    "\n",
    "X_test_ratio = X_test_ratio.drop('perfo', axis=1)\n",
    "X_test_ratio = X_test_ratio.drop('kadai', axis=1)\n",
    "X_test_ratio = X_test_ratio.drop('tanshin', axis=1)\n",
    "# print(X_test_ratio)"
   ]
  },
  {
   "cell_type": "code",
   "execution_count": 22,
   "metadata": {},
   "outputs": [],
   "source": [
    "# DATA PREPROCESSING\n",
    "\n",
    "from sklearn.preprocessing import MinMaxScaler\n",
    "scaler = MinMaxScaler()\n",
    "X_train_ratio = scaler.fit_transform(X_train_ratio.drop('texts', axis=1))\n",
    "X_val_ratio = scaler.transform(X_val_ratio.drop('texts', axis=1))\n",
    "X_test_ratio = scaler.transform(X_test_ratio.drop('texts', axis=1))"
   ]
  },
  {
   "cell_type": "code",
   "execution_count": 23,
   "metadata": {},
   "outputs": [],
   "source": [
    "# X_test_ratio"
   ]
  },
  {
   "cell_type": "markdown",
   "metadata": {},
   "source": [
    "# CLASSIFICATION TASK - NEURAL NETWORK"
   ]
  },
  {
   "cell_type": "markdown",
   "metadata": {},
   "source": [
    "DATA SPLIT"
   ]
  },
  {
   "cell_type": "code",
   "execution_count": 24,
   "metadata": {},
   "outputs": [
    {
     "name": "stdout",
     "output_type": "stream",
     "text": [
      "(92, 22) (20, 22) (25, 22)\n"
     ]
    }
   ],
   "source": [
    "# RATIOS\n",
    "Xtrain_ratio = pd.DataFrame(X_train_ratio)\n",
    "Xval_ratio = pd.DataFrame(X_val_ratio)\n",
    "Xtest_ratio = pd.DataFrame(X_test_ratio)\n",
    "\n",
    "# rename columns\n",
    "Xtrain_ratio.columns = ['X19','X20','X29','X47', 'X51', 'X54', 'X59', 'X62','X63','X64','X67', 'X69', 'X70', 'X71','X72', 'X73', 'X74', 'X76','X77', 'X79', 'X80', 'X84']\n",
    "Xval_ratio.columns = ['X19','X20','X29','X47', 'X51', 'X54', 'X59', 'X62','X63','X64','X67', 'X69', 'X70', 'X71','X72', 'X73', 'X74', 'X76','X77', 'X79', 'X80', 'X84']\n",
    "Xtest_ratio.columns = ['X19','X20','X29','X47', 'X51', 'X54', 'X59', 'X62','X63','X64','X67', 'X69', 'X70', 'X71','X72', 'X73', 'X74', 'X76','X77', 'X79', 'X80', 'X84']\n",
    "\n",
    "print(Xtrain_ratio.shape, Xval_ratio.shape, Xtest_ratio.shape)"
   ]
  },
  {
   "cell_type": "code",
   "execution_count": 25,
   "metadata": {},
   "outputs": [],
   "source": [
    "# Xtest_ratio"
   ]
  },
  {
   "cell_type": "code",
   "execution_count": 26,
   "metadata": {},
   "outputs": [],
   "source": [
    "# TEXT\n",
    "X = clean_file_tfidf\n",
    "X = pd.DataFrame.sparse.from_spmatrix(X)\n",
    "X_train_text = X[:92]\n",
    "X_val_text = pd.DataFrame(X[92:112])\n",
    "X_test_text = pd.DataFrame(X[112:])"
   ]
  },
  {
   "cell_type": "code",
   "execution_count": 27,
   "metadata": {},
   "outputs": [],
   "source": [
    "X_val_text.index.delete\n",
    "X_val_text = X_val_text.reset_index(drop=True)\n",
    "# X_val_text"
   ]
  },
  {
   "cell_type": "code",
   "execution_count": 28,
   "metadata": {},
   "outputs": [],
   "source": [
    "X_test_text.index.delete\n",
    "X_test_text = X_test_text.reset_index(drop=True)\n",
    "# X_test_text"
   ]
  },
  {
   "cell_type": "code",
   "execution_count": 29,
   "metadata": {},
   "outputs": [
    {
     "name": "stdout",
     "output_type": "stream",
     "text": [
      "(92, 17968) (20, 17968) (25, 17968)\n"
     ]
    }
   ],
   "source": [
    "print(X_train_text.shape, X_val_text.shape, X_test_text.shape)"
   ]
  },
  {
   "cell_type": "code",
   "execution_count": 30,
   "metadata": {},
   "outputs": [
    {
     "name": "stdout",
     "output_type": "stream",
     "text": [
      "(92, 17990) (20, 17990) (25, 17990)\n"
     ]
    }
   ],
   "source": [
    "# INPUT VALUES X\n",
    "\n",
    "X_train = pd.concat([Xtrain_ratio, X_train_text], ignore_index=True, axis=1)\n",
    "X_val = pd.concat([Xval_ratio, X_val_text], ignore_index=True, axis=1)\n",
    "X_test = pd.concat([Xtest_ratio, X_test_text], ignore_index=True, axis=1)\n",
    "\n",
    "print(X_train.shape, X_val.shape, X_test.shape)"
   ]
  },
  {
   "cell_type": "code",
   "execution_count": 31,
   "metadata": {},
   "outputs": [],
   "source": [
    "# X_test"
   ]
  },
  {
   "cell_type": "code",
   "execution_count": 32,
   "metadata": {},
   "outputs": [
    {
     "name": "stdout",
     "output_type": "stream",
     "text": [
      "(92, 1) (20, 1) (25, 1)\n"
     ]
    }
   ],
   "source": [
    "# TARGET VALUE Y\n",
    "\n",
    "y_train = pd.DataFrame(y_train_ratio)\n",
    "y_val = pd.DataFrame(y_val_ratio)\n",
    "y_test = pd.DataFrame(y_test_ratio)\n",
    "\n",
    "print(y_train.shape, y_val.shape, y_test.shape)"
   ]
  },
  {
   "cell_type": "markdown",
   "metadata": {},
   "source": [
    "NEURAL NETWORK CLASSIFIER"
   ]
  },
  {
   "cell_type": "code",
   "execution_count": 33,
   "metadata": {},
   "outputs": [
    {
     "name": "stdout",
     "output_type": "stream",
     "text": [
      "Model: \"sequential\"\n",
      "_________________________________________________________________\n",
      "Layer (type)                 Output Shape              Param #   \n",
      "=================================================================\n",
      "dense (Dense)                (None, 1000)              17991000  \n",
      "_________________________________________________________________\n",
      "dropout (Dropout)            (None, 1000)              0         \n",
      "_________________________________________________________________\n",
      "dense_1 (Dense)              (None, 1000)              1001000   \n",
      "_________________________________________________________________\n",
      "dropout_1 (Dropout)          (None, 1000)              0         \n",
      "_________________________________________________________________\n",
      "dense_2 (Dense)              (None, 1)                 1001      \n",
      "=================================================================\n",
      "Total params: 18,993,001\n",
      "Trainable params: 18,993,001\n",
      "Non-trainable params: 0\n",
      "_________________________________________________________________\n"
     ]
    }
   ],
   "source": [
    "from tensorflow.keras import Sequential\n",
    "from tensorflow.keras.layers import Dense, Dropout\n",
    "from tensorflow.keras import optimizers, regularizers\n",
    "import tensorflow as tf\n",
    "\n",
    "model = Sequential([\n",
    "    Dense(units=1000, activation='relu', input_dim=X_train.shape[1],\n",
    "         kernel_initializer='normal', kernel_regularizer=regularizers.l2(0.02)),\n",
    "    Dropout(0.8),\n",
    "    Dense(units=1000, activation='relu', kernel_initializer='normal', kernel_regularizer=regularizers.l2(0.02)),\n",
    "    Dropout(0.8),\n",
    "    Dense(units=1, activation='sigmoid')\n",
    "])\n",
    "\n",
    "model.compile(optimizer='adam', loss='binary_crossentropy', metrics=['accuracy'])\n",
    "model.summary()"
   ]
  },
  {
   "cell_type": "code",
   "execution_count": 34,
   "metadata": {
    "scrolled": true
   },
   "outputs": [
    {
     "name": "stdout",
     "output_type": "stream",
     "text": [
      "Epoch 1/1000\n",
      "3/3 - 1s - loss: 921.9449 - accuracy: 0.5217 - val_loss: 863.2156 - val_accuracy: 0.4000\n",
      "Epoch 2/1000\n",
      "3/3 - 0s - loss: 837.2653 - accuracy: 0.5217 - val_loss: 783.1526 - val_accuracy: 0.5000\n",
      "Epoch 3/1000\n",
      "3/3 - 0s - loss: 759.3026 - accuracy: 0.5109 - val_loss: 709.6616 - val_accuracy: 0.5000\n",
      "Epoch 4/1000\n",
      "3/3 - 0s - loss: 687.8118 - accuracy: 0.4674 - val_loss: 642.4268 - val_accuracy: 0.5000\n",
      "Epoch 5/1000\n",
      "3/3 - 0s - loss: 622.4791 - accuracy: 0.5543 - val_loss: 581.1342 - val_accuracy: 0.5000\n",
      "Epoch 6/1000\n",
      "3/3 - 0s - loss: 563.0266 - accuracy: 0.5000 - val_loss: 525.4085 - val_accuracy: 0.5500\n",
      "Epoch 7/1000\n",
      "3/3 - 0s - loss: 508.9748 - accuracy: 0.5109 - val_loss: 474.8602 - val_accuracy: 0.6000\n",
      "Epoch 8/1000\n",
      "3/3 - 0s - loss: 459.9629 - accuracy: 0.5000 - val_loss: 429.0856 - val_accuracy: 0.6000\n",
      "Epoch 9/1000\n",
      "3/3 - 0s - loss: 415.5834 - accuracy: 0.5435 - val_loss: 387.6929 - val_accuracy: 0.6500\n",
      "Epoch 10/1000\n",
      "3/3 - 0s - loss: 375.4443 - accuracy: 0.6848 - val_loss: 350.3036 - val_accuracy: 0.6500\n",
      "Epoch 11/1000\n",
      "3/3 - 0s - loss: 339.2763 - accuracy: 0.5870 - val_loss: 316.5579 - val_accuracy: 0.7500\n",
      "Epoch 12/1000\n",
      "3/3 - 0s - loss: 306.6213 - accuracy: 0.5978 - val_loss: 286.1180 - val_accuracy: 0.5500\n",
      "Epoch 13/1000\n",
      "3/3 - 0s - loss: 277.1606 - accuracy: 0.6087 - val_loss: 258.6706 - val_accuracy: 0.5000\n",
      "Epoch 14/1000\n",
      "3/3 - 0s - loss: 250.5399 - accuracy: 0.6087 - val_loss: 233.9243 - val_accuracy: 0.5500\n",
      "Epoch 15/1000\n",
      "3/3 - 0s - loss: 226.6344 - accuracy: 0.5978 - val_loss: 211.6167 - val_accuracy: 0.5500\n",
      "Epoch 16/1000\n",
      "3/3 - 0s - loss: 205.0059 - accuracy: 0.5978 - val_loss: 191.5059 - val_accuracy: 0.5500\n",
      "Epoch 17/1000\n",
      "3/3 - 0s - loss: 185.5334 - accuracy: 0.6848 - val_loss: 173.3690 - val_accuracy: 0.5500\n",
      "Epoch 18/1000\n",
      "3/3 - 0s - loss: 167.9945 - accuracy: 0.6087 - val_loss: 157.0099 - val_accuracy: 0.5500\n",
      "Epoch 19/1000\n",
      "3/3 - 0s - loss: 152.1151 - accuracy: 0.7391 - val_loss: 142.2502 - val_accuracy: 0.5500\n",
      "Epoch 20/1000\n",
      "3/3 - 0s - loss: 137.8574 - accuracy: 0.6087 - val_loss: 128.9293 - val_accuracy: 0.6000\n",
      "Epoch 21/1000\n",
      "3/3 - 0s - loss: 124.9175 - accuracy: 0.7391 - val_loss: 116.9033 - val_accuracy: 0.6500\n",
      "Epoch 22/1000\n",
      "3/3 - 0s - loss: 113.3136 - accuracy: 0.6848 - val_loss: 106.0412 - val_accuracy: 0.6500\n",
      "Epoch 23/1000\n",
      "3/3 - 0s - loss: 102.7876 - accuracy: 0.6739 - val_loss: 96.2300 - val_accuracy: 0.6500\n",
      "Epoch 24/1000\n",
      "3/3 - 0s - loss: 93.2250 - accuracy: 0.8152 - val_loss: 87.3632 - val_accuracy: 0.6000\n",
      "Epoch 25/1000\n",
      "3/3 - 0s - loss: 84.6538 - accuracy: 0.7065 - val_loss: 79.3429 - val_accuracy: 0.6500\n",
      "Epoch 26/1000\n",
      "3/3 - 0s - loss: 76.8782 - accuracy: 0.7391 - val_loss: 72.0885 - val_accuracy: 0.6500\n",
      "Epoch 27/1000\n",
      "3/3 - 0s - loss: 69.8426 - accuracy: 0.8043 - val_loss: 65.5265 - val_accuracy: 0.6000\n",
      "Epoch 28/1000\n",
      "3/3 - 0s - loss: 63.4981 - accuracy: 0.7174 - val_loss: 59.5819 - val_accuracy: 0.7500\n",
      "Epoch 29/1000\n",
      "3/3 - 0s - loss: 57.7440 - accuracy: 0.7174 - val_loss: 54.1989 - val_accuracy: 0.6000\n",
      "Epoch 30/1000\n",
      "3/3 - 0s - loss: 52.4861 - accuracy: 0.7935 - val_loss: 49.3263 - val_accuracy: 0.6500\n",
      "Epoch 31/1000\n",
      "3/3 - 0s - loss: 47.7981 - accuracy: 0.7391 - val_loss: 44.9092 - val_accuracy: 0.6500\n",
      "Epoch 32/1000\n",
      "3/3 - 0s - loss: 43.4970 - accuracy: 0.7935 - val_loss: 40.9068 - val_accuracy: 0.6500\n",
      "Epoch 33/1000\n",
      "3/3 - 0s - loss: 39.5994 - accuracy: 0.8152 - val_loss: 37.2793 - val_accuracy: 0.6500\n",
      "Epoch 34/1000\n",
      "3/3 - 0s - loss: 36.0050 - accuracy: 0.8587 - val_loss: 33.9872 - val_accuracy: 0.6000\n",
      "Epoch 35/1000\n",
      "3/3 - 0s - loss: 32.8573 - accuracy: 0.8370 - val_loss: 30.9995 - val_accuracy: 0.6500\n",
      "Epoch 36/1000\n",
      "3/3 - 0s - loss: 29.9259 - accuracy: 0.8696 - val_loss: 28.2889 - val_accuracy: 0.6500\n",
      "Epoch 37/1000\n",
      "3/3 - 0s - loss: 27.2593 - accuracy: 0.9022 - val_loss: 25.8298 - val_accuracy: 0.6500\n",
      "Epoch 38/1000\n",
      "3/3 - 0s - loss: 24.8885 - accuracy: 0.8370 - val_loss: 23.5952 - val_accuracy: 0.6500\n",
      "Epoch 39/1000\n",
      "3/3 - 0s - loss: 22.6948 - accuracy: 0.8913 - val_loss: 21.5685 - val_accuracy: 0.6500\n",
      "Epoch 40/1000\n",
      "3/3 - 0s - loss: 20.7522 - accuracy: 0.8913 - val_loss: 19.7298 - val_accuracy: 0.6500\n",
      "Epoch 41/1000\n",
      "3/3 - 0s - loss: 18.9615 - accuracy: 0.8152 - val_loss: 18.0562 - val_accuracy: 0.6500\n",
      "Epoch 42/1000\n",
      "3/3 - 0s - loss: 17.3273 - accuracy: 0.8370 - val_loss: 16.5421 - val_accuracy: 0.6500\n",
      "Epoch 43/1000\n",
      "3/3 - 0s - loss: 15.8206 - accuracy: 0.9239 - val_loss: 15.1696 - val_accuracy: 0.6500\n",
      "Epoch 44/1000\n",
      "3/3 - 0s - loss: 14.4644 - accuracy: 0.9130 - val_loss: 13.9166 - val_accuracy: 0.6500\n",
      "Epoch 45/1000\n",
      "3/3 - 0s - loss: 13.2399 - accuracy: 0.9130 - val_loss: 12.7718 - val_accuracy: 0.6500\n",
      "Epoch 46/1000\n",
      "3/3 - 0s - loss: 12.0959 - accuracy: 0.9457 - val_loss: 11.7323 - val_accuracy: 0.6500\n",
      "Epoch 47/1000\n",
      "3/3 - 0s - loss: 11.0818 - accuracy: 0.9565 - val_loss: 10.7829 - val_accuracy: 0.6500\n",
      "Epoch 48/1000\n",
      "3/3 - 0s - loss: 10.1919 - accuracy: 0.8696 - val_loss: 9.9244 - val_accuracy: 0.6500\n",
      "Epoch 49/1000\n",
      "3/3 - 0s - loss: 9.3085 - accuracy: 0.9239 - val_loss: 9.1416 - val_accuracy: 0.6500\n",
      "Epoch 50/1000\n",
      "3/3 - 0s - loss: 8.5341 - accuracy: 0.9348 - val_loss: 8.4275 - val_accuracy: 0.6500\n",
      "Epoch 51/1000\n",
      "3/3 - 0s - loss: 7.8642 - accuracy: 0.9565 - val_loss: 7.7770 - val_accuracy: 0.6500\n",
      "Epoch 52/1000\n",
      "3/3 - 0s - loss: 7.2402 - accuracy: 0.9130 - val_loss: 7.1933 - val_accuracy: 0.6500\n",
      "Epoch 53/1000\n",
      "3/3 - 0s - loss: 6.6466 - accuracy: 0.9022 - val_loss: 6.6554 - val_accuracy: 0.6500\n",
      "Epoch 54/1000\n",
      "3/3 - 0s - loss: 6.1010 - accuracy: 0.9674 - val_loss: 6.1637 - val_accuracy: 0.6000\n",
      "Epoch 55/1000\n",
      "3/3 - 0s - loss: 5.6631 - accuracy: 0.9130 - val_loss: 5.7204 - val_accuracy: 0.6000\n",
      "Epoch 56/1000\n",
      "3/3 - 0s - loss: 5.2053 - accuracy: 0.9348 - val_loss: 5.3134 - val_accuracy: 0.6500\n",
      "Epoch 57/1000\n",
      "3/3 - 0s - loss: 4.7996 - accuracy: 0.9457 - val_loss: 4.9650 - val_accuracy: 0.6000\n",
      "Epoch 58/1000\n",
      "3/3 - 0s - loss: 4.4636 - accuracy: 0.9348 - val_loss: 4.5915 - val_accuracy: 0.7000\n",
      "Epoch 59/1000\n",
      "3/3 - 0s - loss: 4.1250 - accuracy: 0.9348 - val_loss: 4.2883 - val_accuracy: 0.5500\n",
      "Epoch 60/1000\n",
      "3/3 - 0s - loss: 3.7989 - accuracy: 0.9783 - val_loss: 4.0072 - val_accuracy: 0.6500\n",
      "Epoch 61/1000\n",
      "3/3 - 0s - loss: 3.4979 - accuracy: 0.9783 - val_loss: 3.7556 - val_accuracy: 0.6500\n",
      "Epoch 62/1000\n",
      "3/3 - 0s - loss: 3.2858 - accuracy: 0.9674 - val_loss: 3.5099 - val_accuracy: 0.6500\n",
      "Epoch 63/1000\n",
      "3/3 - 0s - loss: 3.0501 - accuracy: 0.9891 - val_loss: 3.2957 - val_accuracy: 0.6500\n",
      "Epoch 64/1000\n",
      "3/3 - 0s - loss: 2.8165 - accuracy: 0.9674 - val_loss: 3.1029 - val_accuracy: 0.6500\n",
      "Epoch 65/1000\n",
      "3/3 - 0s - loss: 2.6107 - accuracy: 0.9891 - val_loss: 2.9223 - val_accuracy: 0.6500\n",
      "Epoch 66/1000\n",
      "3/3 - 0s - loss: 2.4427 - accuracy: 0.9891 - val_loss: 2.7580 - val_accuracy: 0.6500\n",
      "Epoch 67/1000\n",
      "3/3 - 0s - loss: 2.3072 - accuracy: 0.9565 - val_loss: 2.6103 - val_accuracy: 0.6500\n",
      "Epoch 68/1000\n",
      "3/3 - 0s - loss: 2.1320 - accuracy: 0.9783 - val_loss: 2.4773 - val_accuracy: 0.6500\n",
      "Epoch 69/1000\n",
      "3/3 - 0s - loss: 1.9740 - accuracy: 0.9891 - val_loss: 2.3499 - val_accuracy: 0.6500\n",
      "Epoch 70/1000\n",
      "3/3 - 0s - loss: 1.8801 - accuracy: 0.9783 - val_loss: 2.2318 - val_accuracy: 0.6500\n",
      "Epoch 71/1000\n",
      "3/3 - 0s - loss: 1.7819 - accuracy: 0.9674 - val_loss: 2.1286 - val_accuracy: 0.7000\n",
      "Epoch 72/1000\n",
      "3/3 - 0s - loss: 1.6600 - accuracy: 0.9783 - val_loss: 2.0415 - val_accuracy: 0.6500\n",
      "Epoch 73/1000\n",
      "3/3 - 0s - loss: 1.5920 - accuracy: 0.9891 - val_loss: 1.9515 - val_accuracy: 0.6500\n",
      "Epoch 74/1000\n",
      "3/3 - 0s - loss: 1.4880 - accuracy: 0.9783 - val_loss: 1.8733 - val_accuracy: 0.6500\n",
      "Epoch 75/1000\n",
      "3/3 - 0s - loss: 1.4270 - accuracy: 0.9674 - val_loss: 1.8014 - val_accuracy: 0.6500\n",
      "Epoch 76/1000\n",
      "3/3 - 0s - loss: 1.3596 - accuracy: 0.9891 - val_loss: 1.7395 - val_accuracy: 0.6500\n",
      "Epoch 77/1000\n",
      "3/3 - 0s - loss: 1.2786 - accuracy: 1.0000 - val_loss: 1.6806 - val_accuracy: 0.6500\n",
      "Epoch 78/1000\n",
      "3/3 - 0s - loss: 1.2193 - accuracy: 1.0000 - val_loss: 1.6308 - val_accuracy: 0.6500\n",
      "Epoch 79/1000\n",
      "3/3 - 0s - loss: 1.1720 - accuracy: 0.9891 - val_loss: 1.5731 - val_accuracy: 0.6500\n",
      "Epoch 80/1000\n",
      "3/3 - 0s - loss: 1.1241 - accuracy: 0.9891 - val_loss: 1.5260 - val_accuracy: 0.6500\n",
      "Epoch 81/1000\n",
      "3/3 - 0s - loss: 1.0721 - accuracy: 0.9891 - val_loss: 1.4870 - val_accuracy: 0.6500\n",
      "Epoch 82/1000\n",
      "3/3 - 0s - loss: 1.0149 - accuracy: 0.9674 - val_loss: 1.4473 - val_accuracy: 0.7000\n"
     ]
    },
    {
     "name": "stdout",
     "output_type": "stream",
     "text": [
      "Epoch 83/1000\n",
      "3/3 - 0s - loss: 0.9608 - accuracy: 0.9891 - val_loss: 1.4193 - val_accuracy: 0.6500\n",
      "Epoch 84/1000\n",
      "3/3 - 0s - loss: 0.9109 - accuracy: 0.9891 - val_loss: 1.3791 - val_accuracy: 0.6500\n",
      "Epoch 85/1000\n",
      "3/3 - 0s - loss: 0.9219 - accuracy: 0.9565 - val_loss: 1.3431 - val_accuracy: 0.7000\n",
      "Epoch 86/1000\n",
      "3/3 - 0s - loss: 0.8943 - accuracy: 0.9565 - val_loss: 1.3196 - val_accuracy: 0.6000\n",
      "Epoch 87/1000\n",
      "3/3 - 0s - loss: 0.8475 - accuracy: 0.9783 - val_loss: 1.2933 - val_accuracy: 0.7000\n",
      "Epoch 88/1000\n",
      "3/3 - 0s - loss: 0.8586 - accuracy: 0.9565 - val_loss: 1.2945 - val_accuracy: 0.6500\n",
      "Epoch 89/1000\n",
      "3/3 - 0s - loss: 0.8032 - accuracy: 1.0000 - val_loss: 1.2670 - val_accuracy: 0.7000\n",
      "Epoch 90/1000\n",
      "3/3 - 0s - loss: 0.8154 - accuracy: 0.9783 - val_loss: 1.2539 - val_accuracy: 0.6500\n",
      "Epoch 91/1000\n",
      "3/3 - 0s - loss: 0.7749 - accuracy: 0.9891 - val_loss: 1.2378 - val_accuracy: 0.6500\n",
      "Epoch 92/1000\n",
      "3/3 - 0s - loss: 0.7300 - accuracy: 1.0000 - val_loss: 1.2166 - val_accuracy: 0.6500\n",
      "Epoch 93/1000\n",
      "3/3 - 0s - loss: 0.7371 - accuracy: 0.9891 - val_loss: 1.1923 - val_accuracy: 0.6500\n",
      "Epoch 94/1000\n",
      "3/3 - 0s - loss: 0.7051 - accuracy: 0.9891 - val_loss: 1.1791 - val_accuracy: 0.6500\n",
      "Epoch 95/1000\n",
      "3/3 - 0s - loss: 0.7029 - accuracy: 0.9783 - val_loss: 1.1616 - val_accuracy: 0.7000\n",
      "Epoch 96/1000\n",
      "3/3 - 0s - loss: 0.6764 - accuracy: 1.0000 - val_loss: 1.1497 - val_accuracy: 0.7000\n",
      "Epoch 97/1000\n",
      "3/3 - 0s - loss: 0.6783 - accuracy: 0.9783 - val_loss: 1.1428 - val_accuracy: 0.6500\n",
      "Epoch 98/1000\n",
      "3/3 - 0s - loss: 0.6632 - accuracy: 0.9783 - val_loss: 1.1375 - val_accuracy: 0.6500\n",
      "Epoch 99/1000\n",
      "3/3 - 0s - loss: 0.6505 - accuracy: 0.9783 - val_loss: 1.1266 - val_accuracy: 0.6500\n",
      "Epoch 100/1000\n",
      "3/3 - 0s - loss: 0.6765 - accuracy: 0.9674 - val_loss: 1.1204 - val_accuracy: 0.6500\n",
      "Epoch 101/1000\n",
      "3/3 - 0s - loss: 0.6261 - accuracy: 0.9891 - val_loss: 1.1150 - val_accuracy: 0.7000\n",
      "Epoch 102/1000\n",
      "3/3 - 0s - loss: 0.6208 - accuracy: 1.0000 - val_loss: 1.1122 - val_accuracy: 0.6500\n",
      "Epoch 103/1000\n",
      "3/3 - 0s - loss: 0.6571 - accuracy: 0.9565 - val_loss: 1.1009 - val_accuracy: 0.6500\n",
      "Epoch 104/1000\n",
      "3/3 - 0s - loss: 0.6217 - accuracy: 0.9891 - val_loss: 1.1062 - val_accuracy: 0.6500\n",
      "Epoch 105/1000\n",
      "3/3 - 0s - loss: 0.6187 - accuracy: 0.9891 - val_loss: 1.0897 - val_accuracy: 0.7000\n",
      "Epoch 106/1000\n",
      "3/3 - 0s - loss: 0.6165 - accuracy: 0.9891 - val_loss: 1.0863 - val_accuracy: 0.6500\n",
      "Epoch 107/1000\n",
      "3/3 - 0s - loss: 0.5968 - accuracy: 0.9891 - val_loss: 1.0911 - val_accuracy: 0.6500\n",
      "Epoch 108/1000\n",
      "3/3 - 0s - loss: 0.6078 - accuracy: 0.9891 - val_loss: 1.0943 - val_accuracy: 0.6000\n",
      "Epoch 109/1000\n",
      "3/3 - 0s - loss: 0.5800 - accuracy: 0.9674 - val_loss: 1.0713 - val_accuracy: 0.7000\n",
      "Epoch 110/1000\n",
      "3/3 - 0s - loss: 0.6041 - accuracy: 0.9674 - val_loss: 1.0721 - val_accuracy: 0.6500\n",
      "Epoch 111/1000\n",
      "3/3 - 0s - loss: 0.6078 - accuracy: 0.9783 - val_loss: 1.0917 - val_accuracy: 0.6000\n",
      "Epoch 112/1000\n",
      "3/3 - 0s - loss: 0.6109 - accuracy: 0.9565 - val_loss: 1.0873 - val_accuracy: 0.6000\n",
      "Epoch 113/1000\n",
      "3/3 - 0s - loss: 0.5671 - accuracy: 0.9891 - val_loss: 1.0933 - val_accuracy: 0.6500\n",
      "Epoch 114/1000\n",
      "3/3 - 0s - loss: 0.6033 - accuracy: 0.9783 - val_loss: 1.0857 - val_accuracy: 0.7000\n",
      "Epoch 115/1000\n",
      "3/3 - 0s - loss: 0.5680 - accuracy: 0.9891 - val_loss: 1.0901 - val_accuracy: 0.6500\n",
      "Epoch 116/1000\n",
      "3/3 - 0s - loss: 0.6006 - accuracy: 0.9891 - val_loss: 1.0738 - val_accuracy: 0.7000\n",
      "Epoch 117/1000\n",
      "3/3 - 0s - loss: 0.5607 - accuracy: 0.9891 - val_loss: 1.0660 - val_accuracy: 0.7000\n",
      "Epoch 118/1000\n",
      "3/3 - 0s - loss: 0.5535 - accuracy: 1.0000 - val_loss: 1.0572 - val_accuracy: 0.6500\n",
      "Epoch 119/1000\n",
      "3/3 - 0s - loss: 0.5306 - accuracy: 1.0000 - val_loss: 1.0580 - val_accuracy: 0.6000\n",
      "Epoch 120/1000\n",
      "3/3 - 0s - loss: 0.5171 - accuracy: 1.0000 - val_loss: 1.0378 - val_accuracy: 0.6500\n",
      "Epoch 121/1000\n",
      "3/3 - 0s - loss: 0.5484 - accuracy: 0.9783 - val_loss: 1.0258 - val_accuracy: 0.7000\n",
      "Epoch 122/1000\n",
      "3/3 - 0s - loss: 0.5117 - accuracy: 1.0000 - val_loss: 1.0282 - val_accuracy: 0.6500\n",
      "Epoch 123/1000\n",
      "3/3 - 0s - loss: 0.5492 - accuracy: 0.9674 - val_loss: 1.0471 - val_accuracy: 0.6500\n",
      "Epoch 124/1000\n",
      "3/3 - 0s - loss: 0.5235 - accuracy: 1.0000 - val_loss: 1.0417 - val_accuracy: 0.6500\n",
      "Epoch 125/1000\n",
      "3/3 - 0s - loss: 0.5449 - accuracy: 0.9891 - val_loss: 1.0391 - val_accuracy: 0.6500\n",
      "Epoch 126/1000\n",
      "3/3 - 0s - loss: 0.5366 - accuracy: 0.9891 - val_loss: 1.0721 - val_accuracy: 0.6000\n",
      "Epoch 127/1000\n",
      "3/3 - 0s - loss: 0.5524 - accuracy: 0.9783 - val_loss: 1.0415 - val_accuracy: 0.6500\n",
      "Epoch 128/1000\n",
      "3/3 - 0s - loss: 0.5488 - accuracy: 0.9783 - val_loss: 1.0711 - val_accuracy: 0.7000\n",
      "Epoch 129/1000\n",
      "3/3 - 0s - loss: 0.5319 - accuracy: 0.9783 - val_loss: 1.0497 - val_accuracy: 0.7000\n",
      "Epoch 130/1000\n",
      "3/3 - 0s - loss: 0.5454 - accuracy: 0.9891 - val_loss: 1.0851 - val_accuracy: 0.6000\n",
      "Epoch 131/1000\n",
      "3/3 - 0s - loss: 0.5308 - accuracy: 0.9891 - val_loss: 1.0569 - val_accuracy: 0.6500\n",
      "Epoch 132/1000\n",
      "3/3 - 0s - loss: 0.5299 - accuracy: 0.9783 - val_loss: 1.0484 - val_accuracy: 0.6500\n",
      "Epoch 133/1000\n",
      "3/3 - 0s - loss: 0.5127 - accuracy: 0.9891 - val_loss: 1.0425 - val_accuracy: 0.7000\n",
      "Epoch 134/1000\n",
      "3/3 - 0s - loss: 0.5118 - accuracy: 1.0000 - val_loss: 1.0519 - val_accuracy: 0.6000\n",
      "Epoch 135/1000\n",
      "3/3 - 0s - loss: 0.5093 - accuracy: 0.9891 - val_loss: 1.0360 - val_accuracy: 0.7000\n",
      "Epoch 136/1000\n",
      "3/3 - 0s - loss: 0.5471 - accuracy: 0.9891 - val_loss: 1.0402 - val_accuracy: 0.6500\n",
      "Epoch 137/1000\n",
      "3/3 - 0s - loss: 0.5211 - accuracy: 1.0000 - val_loss: 1.0600 - val_accuracy: 0.6000\n",
      "Epoch 138/1000\n",
      "3/3 - 0s - loss: 0.5133 - accuracy: 0.9783 - val_loss: 1.0438 - val_accuracy: 0.7000\n",
      "Epoch 139/1000\n",
      "3/3 - 0s - loss: 0.5135 - accuracy: 0.9891 - val_loss: 1.0381 - val_accuracy: 0.7000\n",
      "Epoch 140/1000\n",
      "3/3 - 0s - loss: 0.5158 - accuracy: 1.0000 - val_loss: 1.0454 - val_accuracy: 0.6500\n",
      "Epoch 141/1000\n",
      "3/3 - 0s - loss: 0.5058 - accuracy: 0.9891 - val_loss: 1.0367 - val_accuracy: 0.6500\n",
      "Epoch 142/1000\n",
      "3/3 - 0s - loss: 0.5235 - accuracy: 0.9891 - val_loss: 1.0366 - val_accuracy: 0.6500\n",
      "Epoch 143/1000\n",
      "3/3 - 0s - loss: 0.5079 - accuracy: 1.0000 - val_loss: 1.0415 - val_accuracy: 0.6500\n",
      "Epoch 144/1000\n",
      "3/3 - 0s - loss: 0.5190 - accuracy: 0.9891 - val_loss: 1.0383 - val_accuracy: 0.6500\n",
      "Epoch 145/1000\n",
      "3/3 - 0s - loss: 0.5148 - accuracy: 1.0000 - val_loss: 1.0441 - val_accuracy: 0.6000\n",
      "Epoch 146/1000\n",
      "3/3 - 0s - loss: 0.4845 - accuracy: 0.9891 - val_loss: 1.0280 - val_accuracy: 0.7000\n",
      "Epoch 00146: early stopping\n"
     ]
    },
    {
     "data": {
      "text/plain": [
       "<tensorflow.python.keras.callbacks.History at 0x2bb2ecde3d0>"
      ]
     },
     "execution_count": 34,
     "metadata": {},
     "output_type": "execute_result"
    }
   ],
   "source": [
    "# TRAIN MODEL\n",
    "\n",
    "from tensorflow.keras.callbacks import EarlyStopping\n",
    "early_stop = EarlyStopping(monitor='val_loss', mode='min', verbose=1, patience=25)\n",
    "\n",
    "model.fit(X_train, y_train, validation_data=(X_val, y_val) , epochs=1000, verbose=2, callbacks=[early_stop])"
   ]
  },
  {
   "cell_type": "code",
   "execution_count": 35,
   "metadata": {},
   "outputs": [
    {
     "data": {
      "image/png": "[encoded data removed]",
      "text/plain": [
       "<Figure size 576x432 with 1 Axes>"
      ]
     },
     "metadata": {
      "needs_background": "light"
     },
     "output_type": "display_data"
    }
   ],
   "source": [
    "# PLOT THE LOSS\n",
    "\n",
    "plt.figure(figsize=(8, 6))\n",
    "plt.plot(model.history.history['loss'])\n",
    "plt.plot(model.history.history['val_loss'])\n",
    "plt.title('Model loss')\n",
    "plt.ylabel('loss')\n",
    "plt.xlabel('epoch')\n",
    "plt.ylim(0, 1)\n",
    "plt.legend(['train', 'validation'], loc='upper right')\n",
    "plt.show()"
   ]
  },
  {
   "cell_type": "code",
   "execution_count": 36,
   "metadata": {},
   "outputs": [
    {
     "name": "stdout",
     "output_type": "stream",
     "text": [
      "              precision    recall  f1-score   support\n",
      "\n",
      "           0       0.54      0.58      0.56        12\n",
      "           1       0.58      0.54      0.56        13\n",
      "\n",
      "    accuracy                           0.56        25\n",
      "   macro avg       0.56      0.56      0.56        25\n",
      "weighted avg       0.56      0.56      0.56        25\n",
      "\n",
      "\n",
      " CONFUSION MATRIX:\n",
      " [[7 5]\n",
      " [6 7]]\n",
      "\n",
      "\n",
      " ACCURACY SCORE IS: 0.56\n"
     ]
    }
   ],
   "source": [
    "# PERFORMANCE EVALUATION\n",
    "\n",
    "pred_NN = []\n",
    "\n",
    "for predictions in model.predict(X_test):\n",
    "    if predictions < 0.5:\n",
    "        predictions = 0\n",
    "    else:\n",
    "        predictions=1\n",
    "    pred_NN.append(predictions)\n",
    "    \n",
    "pred = np.array(pred_NN)\n",
    "true = np.array(y_test)\n",
    "\n",
    "# print(\"PREDICTED CLASS: \", pred)\n",
    "# print(\"ACTUAL CLASS: \", true, '\\n')\n",
    "\n",
    "from sklearn.metrics import classification_report, confusion_matrix, accuracy_score\n",
    "\n",
    "print(classification_report(true, pred))\n",
    "print('\\n CONFUSION MATRIX:\\n', confusion_matrix(true, pred))\n",
    "print('\\n\\n ACCURACY SCORE IS:', accuracy_score(true, pred))"
   ]
  },
  {
   "cell_type": "code",
   "execution_count": 37,
   "metadata": {},
   "outputs": [
    {
     "name": "stderr",
     "output_type": "stream",
     "text": [
      "C:\\Users\\onjad\\anaconda3\\lib\\site-packages\\sklearn\\utils\\validation.py:509: UserWarning: pandas.DataFrame with sparse columns found.It will be converted to a dense numpy array.\n",
      "  warnings.warn(\n",
      "<ipython-input-37-79420456313a>:4: DataConversionWarning: A column-vector y was passed when a 1d array was expected. Please change the shape of y to (n_samples,), for example using ravel().\n",
      "  rfc.fit(X_train,y_train)\n",
      "C:\\Users\\onjad\\anaconda3\\lib\\site-packages\\sklearn\\utils\\validation.py:509: UserWarning: pandas.DataFrame with sparse columns found.It will be converted to a dense numpy array.\n",
      "  warnings.warn(\n"
     ]
    },
    {
     "name": "stdout",
     "output_type": "stream",
     "text": [
      "\n",
      " CONFUSION MATRIX:\n",
      " [[10  2]\n",
      " [ 2 11]]\n",
      "\n",
      "\n",
      " ACCURACY SCORE IS: 0.84\n"
     ]
    }
   ],
   "source": [
    "# Classifier (Random Forest)\n",
    "from sklearn.ensemble import RandomForestClassifier\n",
    "rfc = RandomForestClassifier(n_estimators=600)\n",
    "rfc.fit(X_train,y_train)\n",
    "pred_rfc = rfc.predict(X_test)\n",
    "print('\\n CONFUSION MATRIX:\\n', confusion_matrix(true, pred_rfc))\n",
    "print('\\n\\n ACCURACY SCORE IS:', accuracy_score(true, pred_rfc))"
   ]
  },
  {
   "cell_type": "code",
   "execution_count": 38,
   "metadata": {},
   "outputs": [
    {
     "name": "stderr",
     "output_type": "stream",
     "text": [
      "C:\\Users\\onjad\\anaconda3\\lib\\site-packages\\sklearn\\utils\\validation.py:509: UserWarning: pandas.DataFrame with sparse columns found.It will be converted to a dense numpy array.\n",
      "  warnings.warn(\n",
      "C:\\Users\\onjad\\anaconda3\\lib\\site-packages\\sklearn\\utils\\validation.py:509: UserWarning: pandas.DataFrame with sparse columns found.It will be converted to a dense numpy array.\n",
      "  warnings.warn(\n"
     ]
    },
    {
     "name": "stdout",
     "output_type": "stream",
     "text": [
      "\n",
      " CONFUSION MATRIX:\n",
      " [[10  2]\n",
      " [ 5  8]]\n",
      "\n",
      "\n",
      " ACCURACY SCORE IS: 0.72\n"
     ]
    }
   ],
   "source": [
    "# Classifier (Decision Tree)\n",
    "from sklearn.tree import DecisionTreeClassifier\n",
    "dtree = DecisionTreeClassifier()\n",
    "dtree.fit(X_train,y_train)\n",
    "pred_tree = dtree.predict(X_test)\n",
    "print('\\n CONFUSION MATRIX:\\n', confusion_matrix(true, pred_tree))\n",
    "print('\\n\\n ACCURACY SCORE IS:', accuracy_score(true, pred_tree))"
   ]
  },
  {
   "cell_type": "code",
   "execution_count": 39,
   "metadata": {},
   "outputs": [
    {
     "name": "stderr",
     "output_type": "stream",
     "text": [
      "C:\\Users\\onjad\\anaconda3\\lib\\site-packages\\sklearn\\utils\\validation.py:509: UserWarning: pandas.DataFrame with sparse columns found.It will be converted to a dense numpy array.\n",
      "  warnings.warn(\n",
      "C:\\Users\\onjad\\anaconda3\\lib\\site-packages\\sklearn\\utils\\validation.py:73: DataConversionWarning: A column-vector y was passed when a 1d array was expected. Please change the shape of y to (n_samples, ), for example using ravel().\n",
      "  return f(**kwargs)\n"
     ]
    },
    {
     "name": "stdout",
     "output_type": "stream",
     "text": [
      "\n",
      " CONFUSION MATRIX:\n",
      " [[10  2]\n",
      " [ 6  7]]\n",
      "\n",
      "\n",
      " ACCURACY SCORE IS: 0.68\n"
     ]
    }
   ],
   "source": [
    "# Classifier (SVM)\n",
    "from sklearn.svm import SVC\n",
    "svm_model = SVC(C=1.0, kernel='linear', degree=3, gamma='auto')\n",
    "svm_model.fit(X_train, y_train)\n",
    "pred_svm = svm_model.predict(np.array(X_test))\n",
    "print('\\n CONFUSION MATRIX:\\n', confusion_matrix(true, pred_svm))\n",
    "print('\\n\\n ACCURACY SCORE IS:', accuracy_score(true, pred_svm))"
   ]
  },
  {
   "cell_type": "code",
   "execution_count": 40,
   "metadata": {},
   "outputs": [
    {
     "name": "stderr",
     "output_type": "stream",
     "text": [
      "C:\\Users\\onjad\\anaconda3\\lib\\site-packages\\sklearn\\utils\\validation.py:509: UserWarning: pandas.DataFrame with sparse columns found.It will be converted to a dense numpy array.\n",
      "  warnings.warn(\n",
      "<ipython-input-40-81ff8b0ca0d3>:4: DataConversionWarning: A column-vector y was passed when a 1d array was expected. Please change the shape of y to (n_samples, ), for example using ravel().\n",
      "  knn.fit(X_train,y_train)\n",
      "C:\\Users\\onjad\\anaconda3\\lib\\site-packages\\sklearn\\utils\\validation.py:509: UserWarning: pandas.DataFrame with sparse columns found.It will be converted to a dense numpy array.\n",
      "  warnings.warn(\n"
     ]
    },
    {
     "name": "stdout",
     "output_type": "stream",
     "text": [
      "\n",
      "\n",
      " ACCURACY SCORE IS: 0.72\n"
     ]
    },
    {
     "name": "stderr",
     "output_type": "stream",
     "text": [
      "C:\\Users\\onjad\\anaconda3\\lib\\site-packages\\sklearn\\utils\\validation.py:509: UserWarning: pandas.DataFrame with sparse columns found.It will be converted to a dense numpy array.\n",
      "  warnings.warn(\n",
      "<ipython-input-40-81ff8b0ca0d3>:12: DataConversionWarning: A column-vector y was passed when a 1d array was expected. Please change the shape of y to (n_samples, ), for example using ravel().\n",
      "  knn.fit(X_train, y_train)\n",
      "C:\\Users\\onjad\\anaconda3\\lib\\site-packages\\sklearn\\utils\\validation.py:509: UserWarning: pandas.DataFrame with sparse columns found.It will be converted to a dense numpy array.\n",
      "  warnings.warn(\n",
      "C:\\Users\\onjad\\anaconda3\\lib\\site-packages\\sklearn\\utils\\validation.py:509: UserWarning: pandas.DataFrame with sparse columns found.It will be converted to a dense numpy array.\n",
      "  warnings.warn(\n",
      "<ipython-input-40-81ff8b0ca0d3>:12: DataConversionWarning: A column-vector y was passed when a 1d array was expected. Please change the shape of y to (n_samples, ), for example using ravel().\n",
      "  knn.fit(X_train, y_train)\n",
      "C:\\Users\\onjad\\anaconda3\\lib\\site-packages\\sklearn\\utils\\validation.py:509: UserWarning: pandas.DataFrame with sparse columns found.It will be converted to a dense numpy array.\n",
      "  warnings.warn(\n",
      "C:\\Users\\onjad\\anaconda3\\lib\\site-packages\\sklearn\\utils\\validation.py:509: UserWarning: pandas.DataFrame with sparse columns found.It will be converted to a dense numpy array.\n",
      "  warnings.warn(\n",
      "<ipython-input-40-81ff8b0ca0d3>:12: DataConversionWarning: A column-vector y was passed when a 1d array was expected. Please change the shape of y to (n_samples, ), for example using ravel().\n",
      "  knn.fit(X_train, y_train)\n",
      "C:\\Users\\onjad\\anaconda3\\lib\\site-packages\\sklearn\\utils\\validation.py:509: UserWarning: pandas.DataFrame with sparse columns found.It will be converted to a dense numpy array.\n",
      "  warnings.warn(\n",
      "C:\\Users\\onjad\\anaconda3\\lib\\site-packages\\sklearn\\utils\\validation.py:509: UserWarning: pandas.DataFrame with sparse columns found.It will be converted to a dense numpy array.\n",
      "  warnings.warn(\n",
      "<ipython-input-40-81ff8b0ca0d3>:12: DataConversionWarning: A column-vector y was passed when a 1d array was expected. Please change the shape of y to (n_samples, ), for example using ravel().\n",
      "  knn.fit(X_train, y_train)\n",
      "C:\\Users\\onjad\\anaconda3\\lib\\site-packages\\sklearn\\utils\\validation.py:509: UserWarning: pandas.DataFrame with sparse columns found.It will be converted to a dense numpy array.\n",
      "  warnings.warn(\n",
      "C:\\Users\\onjad\\anaconda3\\lib\\site-packages\\sklearn\\utils\\validation.py:509: UserWarning: pandas.DataFrame with sparse columns found.It will be converted to a dense numpy array.\n",
      "  warnings.warn(\n",
      "<ipython-input-40-81ff8b0ca0d3>:12: DataConversionWarning: A column-vector y was passed when a 1d array was expected. Please change the shape of y to (n_samples, ), for example using ravel().\n",
      "  knn.fit(X_train, y_train)\n",
      "C:\\Users\\onjad\\anaconda3\\lib\\site-packages\\sklearn\\utils\\validation.py:509: UserWarning: pandas.DataFrame with sparse columns found.It will be converted to a dense numpy array.\n",
      "  warnings.warn(\n",
      "C:\\Users\\onjad\\anaconda3\\lib\\site-packages\\sklearn\\utils\\validation.py:509: UserWarning: pandas.DataFrame with sparse columns found.It will be converted to a dense numpy array.\n",
      "  warnings.warn(\n",
      "<ipython-input-40-81ff8b0ca0d3>:12: DataConversionWarning: A column-vector y was passed when a 1d array was expected. Please change the shape of y to (n_samples, ), for example using ravel().\n",
      "  knn.fit(X_train, y_train)\n",
      "C:\\Users\\onjad\\anaconda3\\lib\\site-packages\\sklearn\\utils\\validation.py:509: UserWarning: pandas.DataFrame with sparse columns found.It will be converted to a dense numpy array.\n",
      "  warnings.warn(\n",
      "C:\\Users\\onjad\\anaconda3\\lib\\site-packages\\sklearn\\utils\\validation.py:509: UserWarning: pandas.DataFrame with sparse columns found.It will be converted to a dense numpy array.\n",
      "  warnings.warn(\n",
      "<ipython-input-40-81ff8b0ca0d3>:12: DataConversionWarning: A column-vector y was passed when a 1d array was expected. Please change the shape of y to (n_samples, ), for example using ravel().\n",
      "  knn.fit(X_train, y_train)\n",
      "C:\\Users\\onjad\\anaconda3\\lib\\site-packages\\sklearn\\utils\\validation.py:509: UserWarning: pandas.DataFrame with sparse columns found.It will be converted to a dense numpy array.\n",
      "  warnings.warn(\n",
      "C:\\Users\\onjad\\anaconda3\\lib\\site-packages\\sklearn\\utils\\validation.py:509: UserWarning: pandas.DataFrame with sparse columns found.It will be converted to a dense numpy array.\n",
      "  warnings.warn(\n",
      "<ipython-input-40-81ff8b0ca0d3>:12: DataConversionWarning: A column-vector y was passed when a 1d array was expected. Please change the shape of y to (n_samples, ), for example using ravel().\n",
      "  knn.fit(X_train, y_train)\n",
      "C:\\Users\\onjad\\anaconda3\\lib\\site-packages\\sklearn\\utils\\validation.py:509: UserWarning: pandas.DataFrame with sparse columns found.It will be converted to a dense numpy array.\n",
      "  warnings.warn(\n",
      "C:\\Users\\onjad\\anaconda3\\lib\\site-packages\\sklearn\\utils\\validation.py:509: UserWarning: pandas.DataFrame with sparse columns found.It will be converted to a dense numpy array.\n",
      "  warnings.warn(\n",
      "<ipython-input-40-81ff8b0ca0d3>:12: DataConversionWarning: A column-vector y was passed when a 1d array was expected. Please change the shape of y to (n_samples, ), for example using ravel().\n",
      "  knn.fit(X_train, y_train)\n",
      "C:\\Users\\onjad\\anaconda3\\lib\\site-packages\\sklearn\\utils\\validation.py:509: UserWarning: pandas.DataFrame with sparse columns found.It will be converted to a dense numpy array.\n",
      "  warnings.warn(\n",
      "C:\\Users\\onjad\\anaconda3\\lib\\site-packages\\sklearn\\utils\\validation.py:509: UserWarning: pandas.DataFrame with sparse columns found.It will be converted to a dense numpy array.\n",
      "  warnings.warn(\n",
      "<ipython-input-40-81ff8b0ca0d3>:12: DataConversionWarning: A column-vector y was passed when a 1d array was expected. Please change the shape of y to (n_samples, ), for example using ravel().\n",
      "  knn.fit(X_train, y_train)\n",
      "C:\\Users\\onjad\\anaconda3\\lib\\site-packages\\sklearn\\utils\\validation.py:509: UserWarning: pandas.DataFrame with sparse columns found.It will be converted to a dense numpy array.\n",
      "  warnings.warn(\n",
      "C:\\Users\\onjad\\anaconda3\\lib\\site-packages\\sklearn\\utils\\validation.py:509: UserWarning: pandas.DataFrame with sparse columns found.It will be converted to a dense numpy array.\n",
      "  warnings.warn(\n",
      "<ipython-input-40-81ff8b0ca0d3>:12: DataConversionWarning: A column-vector y was passed when a 1d array was expected. Please change the shape of y to (n_samples, ), for example using ravel().\n",
      "  knn.fit(X_train, y_train)\n",
      "C:\\Users\\onjad\\anaconda3\\lib\\site-packages\\sklearn\\utils\\validation.py:509: UserWarning: pandas.DataFrame with sparse columns found.It will be converted to a dense numpy array.\n",
      "  warnings.warn(\n",
      "C:\\Users\\onjad\\anaconda3\\lib\\site-packages\\sklearn\\utils\\validation.py:509: UserWarning: pandas.DataFrame with sparse columns found.It will be converted to a dense numpy array.\n",
      "  warnings.warn(\n",
      "<ipython-input-40-81ff8b0ca0d3>:12: DataConversionWarning: A column-vector y was passed when a 1d array was expected. Please change the shape of y to (n_samples, ), for example using ravel().\n",
      "  knn.fit(X_train, y_train)\n",
      "C:\\Users\\onjad\\anaconda3\\lib\\site-packages\\sklearn\\utils\\validation.py:509: UserWarning: pandas.DataFrame with sparse columns found.It will be converted to a dense numpy array.\n",
      "  warnings.warn(\n",
      "C:\\Users\\onjad\\anaconda3\\lib\\site-packages\\sklearn\\utils\\validation.py:509: UserWarning: pandas.DataFrame with sparse columns found.It will be converted to a dense numpy array.\n",
      "  warnings.warn(\n",
      "<ipython-input-40-81ff8b0ca0d3>:12: DataConversionWarning: A column-vector y was passed when a 1d array was expected. Please change the shape of y to (n_samples, ), for example using ravel().\n",
      "  knn.fit(X_train, y_train)\n",
      "C:\\Users\\onjad\\anaconda3\\lib\\site-packages\\sklearn\\utils\\validation.py:509: UserWarning: pandas.DataFrame with sparse columns found.It will be converted to a dense numpy array.\n",
      "  warnings.warn(\n",
      "C:\\Users\\onjad\\anaconda3\\lib\\site-packages\\sklearn\\utils\\validation.py:509: UserWarning: pandas.DataFrame with sparse columns found.It will be converted to a dense numpy array.\n",
      "  warnings.warn(\n",
      "<ipython-input-40-81ff8b0ca0d3>:12: DataConversionWarning: A column-vector y was passed when a 1d array was expected. Please change the shape of y to (n_samples, ), for example using ravel().\n",
      "  knn.fit(X_train, y_train)\n"
     ]
    },
    {
     "name": "stderr",
     "output_type": "stream",
     "text": [
      "C:\\Users\\onjad\\anaconda3\\lib\\site-packages\\sklearn\\utils\\validation.py:509: UserWarning: pandas.DataFrame with sparse columns found.It will be converted to a dense numpy array.\n",
      "  warnings.warn(\n",
      "C:\\Users\\onjad\\anaconda3\\lib\\site-packages\\sklearn\\utils\\validation.py:509: UserWarning: pandas.DataFrame with sparse columns found.It will be converted to a dense numpy array.\n",
      "  warnings.warn(\n",
      "<ipython-input-40-81ff8b0ca0d3>:12: DataConversionWarning: A column-vector y was passed when a 1d array was expected. Please change the shape of y to (n_samples, ), for example using ravel().\n",
      "  knn.fit(X_train, y_train)\n",
      "C:\\Users\\onjad\\anaconda3\\lib\\site-packages\\sklearn\\utils\\validation.py:509: UserWarning: pandas.DataFrame with sparse columns found.It will be converted to a dense numpy array.\n",
      "  warnings.warn(\n",
      "C:\\Users\\onjad\\anaconda3\\lib\\site-packages\\sklearn\\utils\\validation.py:509: UserWarning: pandas.DataFrame with sparse columns found.It will be converted to a dense numpy array.\n",
      "  warnings.warn(\n",
      "<ipython-input-40-81ff8b0ca0d3>:12: DataConversionWarning: A column-vector y was passed when a 1d array was expected. Please change the shape of y to (n_samples, ), for example using ravel().\n",
      "  knn.fit(X_train, y_train)\n",
      "C:\\Users\\onjad\\anaconda3\\lib\\site-packages\\sklearn\\utils\\validation.py:509: UserWarning: pandas.DataFrame with sparse columns found.It will be converted to a dense numpy array.\n",
      "  warnings.warn(\n",
      "C:\\Users\\onjad\\anaconda3\\lib\\site-packages\\sklearn\\utils\\validation.py:509: UserWarning: pandas.DataFrame with sparse columns found.It will be converted to a dense numpy array.\n",
      "  warnings.warn(\n",
      "<ipython-input-40-81ff8b0ca0d3>:12: DataConversionWarning: A column-vector y was passed when a 1d array was expected. Please change the shape of y to (n_samples, ), for example using ravel().\n",
      "  knn.fit(X_train, y_train)\n",
      "C:\\Users\\onjad\\anaconda3\\lib\\site-packages\\sklearn\\utils\\validation.py:509: UserWarning: pandas.DataFrame with sparse columns found.It will be converted to a dense numpy array.\n",
      "  warnings.warn(\n",
      "C:\\Users\\onjad\\anaconda3\\lib\\site-packages\\sklearn\\utils\\validation.py:509: UserWarning: pandas.DataFrame with sparse columns found.It will be converted to a dense numpy array.\n",
      "  warnings.warn(\n",
      "<ipython-input-40-81ff8b0ca0d3>:12: DataConversionWarning: A column-vector y was passed when a 1d array was expected. Please change the shape of y to (n_samples, ), for example using ravel().\n",
      "  knn.fit(X_train, y_train)\n",
      "C:\\Users\\onjad\\anaconda3\\lib\\site-packages\\sklearn\\utils\\validation.py:509: UserWarning: pandas.DataFrame with sparse columns found.It will be converted to a dense numpy array.\n",
      "  warnings.warn(\n",
      "C:\\Users\\onjad\\anaconda3\\lib\\site-packages\\sklearn\\utils\\validation.py:509: UserWarning: pandas.DataFrame with sparse columns found.It will be converted to a dense numpy array.\n",
      "  warnings.warn(\n",
      "<ipython-input-40-81ff8b0ca0d3>:12: DataConversionWarning: A column-vector y was passed when a 1d array was expected. Please change the shape of y to (n_samples, ), for example using ravel().\n",
      "  knn.fit(X_train, y_train)\n",
      "C:\\Users\\onjad\\anaconda3\\lib\\site-packages\\sklearn\\utils\\validation.py:509: UserWarning: pandas.DataFrame with sparse columns found.It will be converted to a dense numpy array.\n",
      "  warnings.warn(\n",
      "C:\\Users\\onjad\\anaconda3\\lib\\site-packages\\sklearn\\utils\\validation.py:509: UserWarning: pandas.DataFrame with sparse columns found.It will be converted to a dense numpy array.\n",
      "  warnings.warn(\n",
      "<ipython-input-40-81ff8b0ca0d3>:12: DataConversionWarning: A column-vector y was passed when a 1d array was expected. Please change the shape of y to (n_samples, ), for example using ravel().\n",
      "  knn.fit(X_train, y_train)\n",
      "C:\\Users\\onjad\\anaconda3\\lib\\site-packages\\sklearn\\utils\\validation.py:509: UserWarning: pandas.DataFrame with sparse columns found.It will be converted to a dense numpy array.\n",
      "  warnings.warn(\n",
      "C:\\Users\\onjad\\anaconda3\\lib\\site-packages\\sklearn\\utils\\validation.py:509: UserWarning: pandas.DataFrame with sparse columns found.It will be converted to a dense numpy array.\n",
      "  warnings.warn(\n",
      "<ipython-input-40-81ff8b0ca0d3>:12: DataConversionWarning: A column-vector y was passed when a 1d array was expected. Please change the shape of y to (n_samples, ), for example using ravel().\n",
      "  knn.fit(X_train, y_train)\n",
      "C:\\Users\\onjad\\anaconda3\\lib\\site-packages\\sklearn\\utils\\validation.py:509: UserWarning: pandas.DataFrame with sparse columns found.It will be converted to a dense numpy array.\n",
      "  warnings.warn(\n",
      "C:\\Users\\onjad\\anaconda3\\lib\\site-packages\\sklearn\\utils\\validation.py:509: UserWarning: pandas.DataFrame with sparse columns found.It will be converted to a dense numpy array.\n",
      "  warnings.warn(\n",
      "<ipython-input-40-81ff8b0ca0d3>:12: DataConversionWarning: A column-vector y was passed when a 1d array was expected. Please change the shape of y to (n_samples, ), for example using ravel().\n",
      "  knn.fit(X_train, y_train)\n",
      "C:\\Users\\onjad\\anaconda3\\lib\\site-packages\\sklearn\\utils\\validation.py:509: UserWarning: pandas.DataFrame with sparse columns found.It will be converted to a dense numpy array.\n",
      "  warnings.warn(\n",
      "C:\\Users\\onjad\\anaconda3\\lib\\site-packages\\sklearn\\utils\\validation.py:509: UserWarning: pandas.DataFrame with sparse columns found.It will be converted to a dense numpy array.\n",
      "  warnings.warn(\n",
      "<ipython-input-40-81ff8b0ca0d3>:12: DataConversionWarning: A column-vector y was passed when a 1d array was expected. Please change the shape of y to (n_samples, ), for example using ravel().\n",
      "  knn.fit(X_train, y_train)\n",
      "C:\\Users\\onjad\\anaconda3\\lib\\site-packages\\sklearn\\utils\\validation.py:509: UserWarning: pandas.DataFrame with sparse columns found.It will be converted to a dense numpy array.\n",
      "  warnings.warn(\n",
      "C:\\Users\\onjad\\anaconda3\\lib\\site-packages\\sklearn\\utils\\validation.py:509: UserWarning: pandas.DataFrame with sparse columns found.It will be converted to a dense numpy array.\n",
      "  warnings.warn(\n",
      "<ipython-input-40-81ff8b0ca0d3>:12: DataConversionWarning: A column-vector y was passed when a 1d array was expected. Please change the shape of y to (n_samples, ), for example using ravel().\n",
      "  knn.fit(X_train, y_train)\n",
      "C:\\Users\\onjad\\anaconda3\\lib\\site-packages\\sklearn\\utils\\validation.py:509: UserWarning: pandas.DataFrame with sparse columns found.It will be converted to a dense numpy array.\n",
      "  warnings.warn(\n",
      "C:\\Users\\onjad\\anaconda3\\lib\\site-packages\\sklearn\\utils\\validation.py:509: UserWarning: pandas.DataFrame with sparse columns found.It will be converted to a dense numpy array.\n",
      "  warnings.warn(\n",
      "<ipython-input-40-81ff8b0ca0d3>:12: DataConversionWarning: A column-vector y was passed when a 1d array was expected. Please change the shape of y to (n_samples, ), for example using ravel().\n",
      "  knn.fit(X_train, y_train)\n",
      "C:\\Users\\onjad\\anaconda3\\lib\\site-packages\\sklearn\\utils\\validation.py:509: UserWarning: pandas.DataFrame with sparse columns found.It will be converted to a dense numpy array.\n",
      "  warnings.warn(\n",
      "C:\\Users\\onjad\\anaconda3\\lib\\site-packages\\sklearn\\utils\\validation.py:509: UserWarning: pandas.DataFrame with sparse columns found.It will be converted to a dense numpy array.\n",
      "  warnings.warn(\n",
      "<ipython-input-40-81ff8b0ca0d3>:12: DataConversionWarning: A column-vector y was passed when a 1d array was expected. Please change the shape of y to (n_samples, ), for example using ravel().\n",
      "  knn.fit(X_train, y_train)\n",
      "C:\\Users\\onjad\\anaconda3\\lib\\site-packages\\sklearn\\utils\\validation.py:509: UserWarning: pandas.DataFrame with sparse columns found.It will be converted to a dense numpy array.\n",
      "  warnings.warn(\n",
      "C:\\Users\\onjad\\anaconda3\\lib\\site-packages\\sklearn\\utils\\validation.py:509: UserWarning: pandas.DataFrame with sparse columns found.It will be converted to a dense numpy array.\n",
      "  warnings.warn(\n",
      "<ipython-input-40-81ff8b0ca0d3>:12: DataConversionWarning: A column-vector y was passed when a 1d array was expected. Please change the shape of y to (n_samples, ), for example using ravel().\n",
      "  knn.fit(X_train, y_train)\n",
      "C:\\Users\\onjad\\anaconda3\\lib\\site-packages\\sklearn\\utils\\validation.py:509: UserWarning: pandas.DataFrame with sparse columns found.It will be converted to a dense numpy array.\n",
      "  warnings.warn(\n",
      "C:\\Users\\onjad\\anaconda3\\lib\\site-packages\\sklearn\\utils\\validation.py:509: UserWarning: pandas.DataFrame with sparse columns found.It will be converted to a dense numpy array.\n",
      "  warnings.warn(\n"
     ]
    },
    {
     "name": "stderr",
     "output_type": "stream",
     "text": [
      "<ipython-input-40-81ff8b0ca0d3>:12: DataConversionWarning: A column-vector y was passed when a 1d array was expected. Please change the shape of y to (n_samples, ), for example using ravel().\n",
      "  knn.fit(X_train, y_train)\n",
      "C:\\Users\\onjad\\anaconda3\\lib\\site-packages\\sklearn\\utils\\validation.py:509: UserWarning: pandas.DataFrame with sparse columns found.It will be converted to a dense numpy array.\n",
      "  warnings.warn(\n",
      "C:\\Users\\onjad\\anaconda3\\lib\\site-packages\\sklearn\\utils\\validation.py:509: UserWarning: pandas.DataFrame with sparse columns found.It will be converted to a dense numpy array.\n",
      "  warnings.warn(\n",
      "<ipython-input-40-81ff8b0ca0d3>:12: DataConversionWarning: A column-vector y was passed when a 1d array was expected. Please change the shape of y to (n_samples, ), for example using ravel().\n",
      "  knn.fit(X_train, y_train)\n",
      "C:\\Users\\onjad\\anaconda3\\lib\\site-packages\\sklearn\\utils\\validation.py:509: UserWarning: pandas.DataFrame with sparse columns found.It will be converted to a dense numpy array.\n",
      "  warnings.warn(\n",
      "C:\\Users\\onjad\\anaconda3\\lib\\site-packages\\sklearn\\utils\\validation.py:509: UserWarning: pandas.DataFrame with sparse columns found.It will be converted to a dense numpy array.\n",
      "  warnings.warn(\n",
      "<ipython-input-40-81ff8b0ca0d3>:12: DataConversionWarning: A column-vector y was passed when a 1d array was expected. Please change the shape of y to (n_samples, ), for example using ravel().\n",
      "  knn.fit(X_train, y_train)\n",
      "C:\\Users\\onjad\\anaconda3\\lib\\site-packages\\sklearn\\utils\\validation.py:509: UserWarning: pandas.DataFrame with sparse columns found.It will be converted to a dense numpy array.\n",
      "  warnings.warn(\n",
      "C:\\Users\\onjad\\anaconda3\\lib\\site-packages\\sklearn\\utils\\validation.py:509: UserWarning: pandas.DataFrame with sparse columns found.It will be converted to a dense numpy array.\n",
      "  warnings.warn(\n",
      "<ipython-input-40-81ff8b0ca0d3>:12: DataConversionWarning: A column-vector y was passed when a 1d array was expected. Please change the shape of y to (n_samples, ), for example using ravel().\n",
      "  knn.fit(X_train, y_train)\n",
      "C:\\Users\\onjad\\anaconda3\\lib\\site-packages\\sklearn\\utils\\validation.py:509: UserWarning: pandas.DataFrame with sparse columns found.It will be converted to a dense numpy array.\n",
      "  warnings.warn(\n",
      "C:\\Users\\onjad\\anaconda3\\lib\\site-packages\\sklearn\\utils\\validation.py:509: UserWarning: pandas.DataFrame with sparse columns found.It will be converted to a dense numpy array.\n",
      "  warnings.warn(\n",
      "<ipython-input-40-81ff8b0ca0d3>:12: DataConversionWarning: A column-vector y was passed when a 1d array was expected. Please change the shape of y to (n_samples, ), for example using ravel().\n",
      "  knn.fit(X_train, y_train)\n",
      "C:\\Users\\onjad\\anaconda3\\lib\\site-packages\\sklearn\\utils\\validation.py:509: UserWarning: pandas.DataFrame with sparse columns found.It will be converted to a dense numpy array.\n",
      "  warnings.warn(\n",
      "C:\\Users\\onjad\\anaconda3\\lib\\site-packages\\sklearn\\utils\\validation.py:509: UserWarning: pandas.DataFrame with sparse columns found.It will be converted to a dense numpy array.\n",
      "  warnings.warn(\n",
      "<ipython-input-40-81ff8b0ca0d3>:12: DataConversionWarning: A column-vector y was passed when a 1d array was expected. Please change the shape of y to (n_samples, ), for example using ravel().\n",
      "  knn.fit(X_train, y_train)\n",
      "C:\\Users\\onjad\\anaconda3\\lib\\site-packages\\sklearn\\utils\\validation.py:509: UserWarning: pandas.DataFrame with sparse columns found.It will be converted to a dense numpy array.\n",
      "  warnings.warn(\n",
      "C:\\Users\\onjad\\anaconda3\\lib\\site-packages\\sklearn\\utils\\validation.py:509: UserWarning: pandas.DataFrame with sparse columns found.It will be converted to a dense numpy array.\n",
      "  warnings.warn(\n",
      "<ipython-input-40-81ff8b0ca0d3>:12: DataConversionWarning: A column-vector y was passed when a 1d array was expected. Please change the shape of y to (n_samples, ), for example using ravel().\n",
      "  knn.fit(X_train, y_train)\n",
      "C:\\Users\\onjad\\anaconda3\\lib\\site-packages\\sklearn\\utils\\validation.py:509: UserWarning: pandas.DataFrame with sparse columns found.It will be converted to a dense numpy array.\n",
      "  warnings.warn(\n",
      "C:\\Users\\onjad\\anaconda3\\lib\\site-packages\\sklearn\\utils\\validation.py:509: UserWarning: pandas.DataFrame with sparse columns found.It will be converted to a dense numpy array.\n",
      "  warnings.warn(\n",
      "<ipython-input-40-81ff8b0ca0d3>:12: DataConversionWarning: A column-vector y was passed when a 1d array was expected. Please change the shape of y to (n_samples, ), for example using ravel().\n",
      "  knn.fit(X_train, y_train)\n",
      "C:\\Users\\onjad\\anaconda3\\lib\\site-packages\\sklearn\\utils\\validation.py:509: UserWarning: pandas.DataFrame with sparse columns found.It will be converted to a dense numpy array.\n",
      "  warnings.warn(\n",
      "C:\\Users\\onjad\\anaconda3\\lib\\site-packages\\sklearn\\utils\\validation.py:509: UserWarning: pandas.DataFrame with sparse columns found.It will be converted to a dense numpy array.\n",
      "  warnings.warn(\n",
      "<ipython-input-40-81ff8b0ca0d3>:12: DataConversionWarning: A column-vector y was passed when a 1d array was expected. Please change the shape of y to (n_samples, ), for example using ravel().\n",
      "  knn.fit(X_train, y_train)\n",
      "C:\\Users\\onjad\\anaconda3\\lib\\site-packages\\sklearn\\utils\\validation.py:509: UserWarning: pandas.DataFrame with sparse columns found.It will be converted to a dense numpy array.\n",
      "  warnings.warn(\n",
      "C:\\Users\\onjad\\anaconda3\\lib\\site-packages\\sklearn\\utils\\validation.py:509: UserWarning: pandas.DataFrame with sparse columns found.It will be converted to a dense numpy array.\n",
      "  warnings.warn(\n",
      "<ipython-input-40-81ff8b0ca0d3>:12: DataConversionWarning: A column-vector y was passed when a 1d array was expected. Please change the shape of y to (n_samples, ), for example using ravel().\n",
      "  knn.fit(X_train, y_train)\n",
      "C:\\Users\\onjad\\anaconda3\\lib\\site-packages\\sklearn\\utils\\validation.py:509: UserWarning: pandas.DataFrame with sparse columns found.It will be converted to a dense numpy array.\n",
      "  warnings.warn(\n",
      "C:\\Users\\onjad\\anaconda3\\lib\\site-packages\\sklearn\\utils\\validation.py:509: UserWarning: pandas.DataFrame with sparse columns found.It will be converted to a dense numpy array.\n",
      "  warnings.warn(\n",
      "<ipython-input-40-81ff8b0ca0d3>:12: DataConversionWarning: A column-vector y was passed when a 1d array was expected. Please change the shape of y to (n_samples, ), for example using ravel().\n",
      "  knn.fit(X_train, y_train)\n",
      "C:\\Users\\onjad\\anaconda3\\lib\\site-packages\\sklearn\\utils\\validation.py:509: UserWarning: pandas.DataFrame with sparse columns found.It will be converted to a dense numpy array.\n",
      "  warnings.warn(\n",
      "C:\\Users\\onjad\\anaconda3\\lib\\site-packages\\sklearn\\utils\\validation.py:509: UserWarning: pandas.DataFrame with sparse columns found.It will be converted to a dense numpy array.\n",
      "  warnings.warn(\n",
      "<ipython-input-40-81ff8b0ca0d3>:12: DataConversionWarning: A column-vector y was passed when a 1d array was expected. Please change the shape of y to (n_samples, ), for example using ravel().\n",
      "  knn.fit(X_train, y_train)\n",
      "C:\\Users\\onjad\\anaconda3\\lib\\site-packages\\sklearn\\utils\\validation.py:509: UserWarning: pandas.DataFrame with sparse columns found.It will be converted to a dense numpy array.\n",
      "  warnings.warn(\n"
     ]
    },
    {
     "data": {
      "image/png": "[encoded data removed]",
      "text/plain": [
       "<Figure size 720x432 with 1 Axes>"
      ]
     },
     "metadata": {
      "needs_background": "light"
     },
     "output_type": "display_data"
    }
   ],
   "source": [
    "# Classifier(K-Nearest Neighbors)\n",
    "from sklearn.neighbors import KNeighborsClassifier\n",
    "knn = KNeighborsClassifier(n_neighbors=1)\n",
    "knn.fit(X_train,y_train)\n",
    "pred_knn = knn.predict(X_test)\n",
    "print('\\n\\n ACCURACY SCORE IS:', accuracy_score(true, pred_knn))\n",
    "\n",
    "# BEST VALUE OF K (Will take some time)\n",
    "error_rate = []\n",
    "for i in range(1, 40):\n",
    "    knn = KNeighborsClassifier(n_neighbors=i)\n",
    "    knn.fit(X_train, y_train)\n",
    "    pred_i = knn.predict(X_test)\n",
    "    pred_i = pred_i.reshape(25, 1)\n",
    "    error_rate.append(np.mean(pred_i != y_test))\n",
    "\n",
    "plt.figure(figsize=(10, 6))\n",
    "plt.plot(range(1, 40), error_rate, color='blue', linestyle='dashed', marker='o',\n",
    "          markerfacecolor='red', markersize=10)\n",
    "plt.title('Error Rate vs. K Value')\n",
    "plt.xlabel('K')\n",
    "plt.ylabel('Error Rate')\n",
    "plt.show()"
   ]
  },
  {
   "cell_type": "code",
   "execution_count": 41,
   "metadata": {},
   "outputs": [
    {
     "name": "stderr",
     "output_type": "stream",
     "text": [
      "C:\\Users\\onjad\\anaconda3\\lib\\site-packages\\sklearn\\utils\\validation.py:509: UserWarning: pandas.DataFrame with sparse columns found.It will be converted to a dense numpy array.\n",
      "  warnings.warn(\n",
      "<ipython-input-41-66744531adf5>:3: DataConversionWarning: A column-vector y was passed when a 1d array was expected. Please change the shape of y to (n_samples, ), for example using ravel().\n",
      "  knn.fit(X_train, y_train)\n",
      "C:\\Users\\onjad\\anaconda3\\lib\\site-packages\\sklearn\\utils\\validation.py:509: UserWarning: pandas.DataFrame with sparse columns found.It will be converted to a dense numpy array.\n",
      "  warnings.warn(\n"
     ]
    },
    {
     "name": "stdout",
     "output_type": "stream",
     "text": [
      "\n",
      " CONFUSION MATRIX:\n",
      " [[10  2]\n",
      " [ 3 10]]\n",
      "\n",
      "\n",
      " ACCURACY SCORE IS: 0.8\n"
     ]
    }
   ],
   "source": [
    "# KNN with best K\n",
    "knn = KNeighborsClassifier(n_neighbors=15)\n",
    "knn.fit(X_train, y_train)\n",
    "pred_knn = knn.predict(X_test)\n",
    "print('\\n CONFUSION MATRIX:\\n', confusion_matrix(true, pred_knn))\n",
    "print('\\n\\n ACCURACY SCORE IS:', accuracy_score(true, pred_knn))"
   ]
  },
  {
   "cell_type": "code",
   "execution_count": 42,
   "metadata": {},
   "outputs": [
    {
     "name": "stderr",
     "output_type": "stream",
     "text": [
      "C:\\Users\\onjad\\anaconda3\\lib\\site-packages\\sklearn\\utils\\validation.py:509: UserWarning: pandas.DataFrame with sparse columns found.It will be converted to a dense numpy array.\n",
      "  warnings.warn(\n",
      "C:\\Users\\onjad\\anaconda3\\lib\\site-packages\\sklearn\\utils\\validation.py:73: DataConversionWarning: A column-vector y was passed when a 1d array was expected. Please change the shape of y to (n_samples, ), for example using ravel().\n",
      "  return f(**kwargs)\n",
      "C:\\Users\\onjad\\anaconda3\\lib\\site-packages\\sklearn\\utils\\validation.py:509: UserWarning: pandas.DataFrame with sparse columns found.It will be converted to a dense numpy array.\n",
      "  warnings.warn(\n"
     ]
    },
    {
     "name": "stdout",
     "output_type": "stream",
     "text": [
      "\n",
      " CONFUSION MATRIX:\n",
      " [[10  2]\n",
      " [ 7  6]]\n",
      "\n",
      "\n",
      " ACCURACY SCORE IS: 0.64\n"
     ]
    }
   ],
   "source": [
    "# Classifier (Logistic Regression)\n",
    "from sklearn.linear_model import LogisticRegression\n",
    "logmodel = LogisticRegression()\n",
    "logmodel.fit(X_train,y_train)\n",
    "pred_log = logmodel.predict(X_test)\n",
    "print('\\n CONFUSION MATRIX:\\n', confusion_matrix(true, pred_log))\n",
    "print('\\n\\n ACCURACY SCORE IS:', accuracy_score(true, pred_log))"
   ]
  },
  {
   "cell_type": "code",
   "execution_count": 43,
   "metadata": {},
   "outputs": [
    {
     "name": "stderr",
     "output_type": "stream",
     "text": [
      "C:\\Users\\onjad\\anaconda3\\lib\\site-packages\\sklearn\\utils\\validation.py:509: UserWarning: pandas.DataFrame with sparse columns found.It will be converted to a dense numpy array.\n",
      "  warnings.warn(\n",
      "C:\\Users\\onjad\\anaconda3\\lib\\site-packages\\sklearn\\utils\\validation.py:73: DataConversionWarning: A column-vector y was passed when a 1d array was expected. Please change the shape of y to (n_samples, ), for example using ravel().\n",
      "  return f(**kwargs)\n",
      "C:\\Users\\onjad\\anaconda3\\lib\\site-packages\\sklearn\\utils\\validation.py:509: UserWarning: pandas.DataFrame with sparse columns found.It will be converted to a dense numpy array.\n",
      "  warnings.warn(\n"
     ]
    },
    {
     "name": "stdout",
     "output_type": "stream",
     "text": [
      "\n",
      " CONFUSION MATRIX:\n",
      " [[ 0 12]\n",
      " [ 0 13]]\n",
      "\n",
      "\n",
      " ACCURACY SCORE IS: 0.52 \n",
      "\n"
     ]
    }
   ],
   "source": [
    "# Classifier (Naive Bayes)\n",
    "from sklearn.naive_bayes import MultinomialNB\n",
    "nb = MultinomialNB()\n",
    "nb.fit(X_train,y_train)\n",
    "pred_naive = nb.predict(X_test)\n",
    "print('\\n CONFUSION MATRIX:\\n', confusion_matrix(true, pred_naive))\n",
    "print('\\n\\n ACCURACY SCORE IS:', accuracy_score(true, pred_naive), '\\n')"
   ]
  },
  {
   "cell_type": "code",
   "execution_count": 44,
   "metadata": {},
   "outputs": [
    {
     "name": "stdout",
     "output_type": "stream",
     "text": [
      "ACCURACY SCORE OF EACH CLASSIFIER:\n",
      "\n",
      "NEURAL NETWORK: 0.56\n",
      "RANDOM FOREST: 0.84\n",
      "DECISION TREE: 0.72\n",
      "SVM: 0.68\n",
      "K NEAREST NEIGHBORS: 0.8\n",
      "LOGISTIC REGRESSION: 0.64\n",
      "NAIVE BAYES: 0.52\n"
     ]
    }
   ],
   "source": [
    "print('ACCURACY SCORE OF EACH CLASSIFIER:\\n')\n",
    "print('NEURAL NETWORK:', accuracy_score(true, pred))\n",
    "print('RANDOM FOREST:', accuracy_score(true, pred_rfc))\n",
    "print('DECISION TREE:', accuracy_score(true, pred_tree))\n",
    "print('SVM:', accuracy_score(true, pred_svm))\n",
    "print('K NEAREST NEIGHBORS:', accuracy_score(true, pred_knn))\n",
    "print('LOGISTIC REGRESSION:', accuracy_score(true, pred_log))\n",
    "print('NAIVE BAYES:', accuracy_score(true, pred_naive))"
   ]
  },
  {
   "cell_type": "code",
   "execution_count": null,
   "metadata": {},
   "outputs": [],
   "source": []
  }
 ],
 "metadata": {
  "kernelspec": {
   "display_name": "Python 3",
   "language": "python",
   "name": "python3"
  },
  "language_info": {
   "codemirror_mode": {
    "name": "ipython",
    "version": 3
   },
   "file_extension": ".py",
   "mimetype": "text/x-python",
   "name": "python",
   "nbconvert_exporter": "python",
   "pygments_lexer": "ipython3",
   "version": "3.8.5"
  }
 },
 "nbformat": 4,
 "nbformat_minor": 4
}
