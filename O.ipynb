{
 "cells": [
  {
   "cell_type": "code",
   "execution_count": 1,
   "metadata": {},
   "outputs": [],
   "source": [
    "import pandas as pd\n",
    "import numpy as np\n",
    "import matplotlib.pyplot as plt\n",
    "import seaborn as sns\n",
    "%matplotlib inline\n",
    "\n",
    "import os"
   ]
  },
  {
   "cell_type": "markdown",
   "metadata": {},
   "source": [
    "# DATA IMPORT"
   ]
  },
  {
   "cell_type": "markdown",
   "metadata": {},
   "source": [
    "IMPORT TEXT FILES "
   ]
  },
  {
   "cell_type": "code",
   "execution_count": 2,
   "metadata": {},
   "outputs": [],
   "source": [
    "# TRAINING SET\n",
    "#Bankrupt_tanshin\n",
    "bankrupted_tanshin_reports = os.listdir('C:/Users/onjad/OneDrive/Documents/RESEARCH PHD/article 3/CODES/DATAFRAMES/tanshin/bankrupted/trainB')\n",
    "bankrupted_tanshin_reports = [file for file in bankrupted_tanshin_reports]\n",
    "\n",
    "bankrupted_file_tanshin = []\n",
    "for report in range(0, len(bankrupted_tanshin_reports)):\n",
    "    with open(f\"C:/Users/onjad/OneDrive/Documents/RESEARCH PHD/article 3/CODES/DATAFRAMES/tanshin/bankrupted/trainB/{bankrupted_tanshin_reports[report]}\", encoding=\"utf8\") as file:\n",
    "        filesB_tanshin = file.read()\n",
    "        bankrupted_file_tanshin.append(filesB_tanshin)\n",
    "\n",
    "df_bankrupted_tanshin = pd.DataFrame(bankrupted_file_tanshin)\n",
    "df_bankrupted_tanshin.columns = ['tanshin']\n",
    "df_bankrupted_tanshin['Y'] = 0 \n",
    "# print(df_bankrupted_tanshin)\n",
    "\n",
    "#Nonbankrupt__tanshin\n",
    "nonbankrupted_tanshin_reports = os.listdir('C:/Users/onjad/OneDrive/Documents/RESEARCH PHD/article 3/CODES/DATAFRAMES/tanshin/nonbankrupted/trainNB')\n",
    "nonbankrupted_tanshin_reports = [file for file in nonbankrupted_tanshin_reports]\n",
    "\n",
    "nonbankrupted_file_tanshin = []\n",
    "for report in range(0, len(nonbankrupted_tanshin_reports)):\n",
    "    with open(f\"C:/Users/onjad/OneDrive/Documents/RESEARCH PHD/article 3/CODES/DATAFRAMES/tanshin/nonbankrupted/trainNB/{nonbankrupted_tanshin_reports[report]}\", encoding=\"utf8\") as file:\n",
    "        filesNB_tanshin = file.read()\n",
    "        nonbankrupted_file_tanshin.append(filesNB_tanshin)\n",
    "\n",
    "df_nonbankrupted_tanshin = pd.DataFrame(nonbankrupted_file_tanshin)\n",
    "df_nonbankrupted_tanshin.columns = ['tanshin']\n",
    "df_nonbankrupted_tanshin['Y'] = 1 \n",
    "# print(df_nonbankrupted_tanshin)\n",
    "\n",
    "concatenated_tanshin_train = [df_bankrupted_tanshin, df_nonbankrupted_tanshin]\n",
    "df_tanshin_train = pd.concat(concatenated_tanshin_train, ignore_index= True)\n",
    "# print(df_tanshin_train)"
   ]
  },
  {
   "cell_type": "code",
   "execution_count": 3,
   "metadata": {},
   "outputs": [],
   "source": [
    "# VALIDATION SET\n",
    "#Bankrupt_tanshin\n",
    "bankrupted_tanshin_reports_val = os.listdir('C:/Users/onjad/OneDrive/Documents/RESEARCH PHD/article 3/CODES/DATAFRAMES/tanshin/bankrupted/valB')\n",
    "bankrupted_tanshin_reports_val = [file for file in bankrupted_tanshin_reports_val]\n",
    "\n",
    "bankrupted_file_tanshin_val = []\n",
    "for report in range(0, len(bankrupted_tanshin_reports_val)):\n",
    "    with open(f\"C:/Users/onjad/OneDrive/Documents/RESEARCH PHD/article 3/CODES/DATAFRAMES/tanshin/bankrupted/valB/{bankrupted_tanshin_reports_val[report]}\", encoding=\"utf8\") as file:\n",
    "        filesB_tanshin_val = file.read()\n",
    "        bankrupted_file_tanshin_val.append(filesB_tanshin_val)\n",
    "\n",
    "df_bankrupted_tanshin_val = pd.DataFrame(bankrupted_file_tanshin_val)\n",
    "df_bankrupted_tanshin_val.columns = ['tanshin']\n",
    "df_bankrupted_tanshin_val['Y'] = 0\n",
    "# print(df_bankrupted_tanshin_val)\n",
    "\n",
    "#Nonbankrupt_tanshin\n",
    "nonbankrupted_tanshin_reports_val = os.listdir('C:/Users/onjad/OneDrive/Documents/RESEARCH PHD/article 3/CODES/DATAFRAMES/tanshin/nonbankrupted/valNB')\n",
    "nonbankrupted_tanshin_reports_val = [file for file in nonbankrupted_tanshin_reports_val]\n",
    "\n",
    "nonbankrupted_file_tanshin_val = []\n",
    "for report in range(0, len(nonbankrupted_tanshin_reports_val)):\n",
    "    with open(f\"C:/Users/onjad/OneDrive/Documents/RESEARCH PHD/article 3/CODES/DATAFRAMES/tanshin/nonbankrupted/valNB/{nonbankrupted_tanshin_reports_val[report]}\", encoding=\"utf8\") as file:\n",
    "        filesNB_tanshin_val = file.read()\n",
    "        nonbankrupted_file_tanshin_val.append(filesNB_tanshin_val)\n",
    "\n",
    "df_nonbankrupted_tanshin_val = pd.DataFrame(nonbankrupted_file_tanshin_val)\n",
    "df_nonbankrupted_tanshin_val.columns = ['tanshin']\n",
    "df_nonbankrupted_tanshin_val['Y'] = 1 \n",
    "# print(df_nonbankrupted_tanshin_val)\n",
    "\n",
    "concatenated_tanshin_val = [df_bankrupted_tanshin_val, df_nonbankrupted_tanshin_val]\n",
    "df_tanshin_val = pd.concat(concatenated_tanshin_val, ignore_index=True)\n",
    "# print(df_tanshin_val)"
   ]
  },
  {
   "cell_type": "code",
   "execution_count": 4,
   "metadata": {},
   "outputs": [],
   "source": [
    "# TEST SET\n",
    "#Bankrupt_tanshin(test data)\n",
    "bankrupted_tanshin_reports_test = os.listdir('C:/Users/onjad/OneDrive/Documents/RESEARCH PHD/article 3/CODES/DATAFRAMES/tanshin/bankrupted/testB')\n",
    "bankrupted_tanshin_reports_test = [file for file in bankrupted_tanshin_reports_test]\n",
    "\n",
    "bankrupted_tanshin_file_test = []\n",
    "for report in range(0, len(bankrupted_tanshin_reports_test)):\n",
    "    with open(f\"C:/Users/onjad/OneDrive/Documents/RESEARCH PHD/article 3/CODES/DATAFRAMES/tanshin/bankrupted/testB/{bankrupted_tanshin_reports_test[report]}\", encoding=\"utf8\") as file:\n",
    "        tanshin_filesB_test = file.read()\n",
    "        bankrupted_tanshin_file_test.append(tanshin_filesB_test)\n",
    "        \n",
    "df_bankrupted_tanshin_test = pd.DataFrame(bankrupted_tanshin_file_test)\n",
    "df_bankrupted_tanshin_test.columns = ['tanshin']\n",
    "df_bankrupted_tanshin_test['Y'] = 0\n",
    "\n",
    "#Nonbankrupt_tanshin(test data)\n",
    "nonbankrupted_tanshin_reports_test = os.listdir('C:/Users/onjad/OneDrive/Documents/RESEARCH PHD/article 3/CODES/DATAFRAMES/tanshin/nonbankrupted/testNB')\n",
    "nonbankrupted_tanshin_reports_test = [file for file in nonbankrupted_tanshin_reports_test]\n",
    "\n",
    "nonbankrupted_tanshin_file_test = []\n",
    "for report in range(0, len(nonbankrupted_tanshin_reports_test)):\n",
    "    with open(f\"C:/Users/onjad/OneDrive/Documents/RESEARCH PHD/article 3/CODES/DATAFRAMES/tanshin/nonbankrupted/testNB/{nonbankrupted_tanshin_reports_test[report]}\", encoding=\"utf8\") as file:\n",
    "        tanshin_filesNB_test = file.read()\n",
    "        nonbankrupted_tanshin_file_test.append(tanshin_filesNB_test)\n",
    "\n",
    "df_nonbankrupted_tanshin_test = pd.DataFrame(nonbankrupted_tanshin_file_test)\n",
    "df_nonbankrupted_tanshin_test.columns = ['tanshin']\n",
    "df_nonbankrupted_tanshin_test['Y'] = 1\n",
    "\n",
    "\n",
    "# concatenated_tanshin_test\n",
    "df_tanshin_test = [df_bankrupted_tanshin_test,df_nonbankrupted_tanshin_test]\n",
    "df_tanshin_test = pd.concat(df_tanshin_test, ignore_index=True)\n",
    "# print(df_tanshin_test)"
   ]
  },
  {
   "cell_type": "markdown",
   "metadata": {},
   "source": [
    "IMPORT RATIO DATASET"
   ]
  },
  {
   "cell_type": "code",
   "execution_count": 5,
   "metadata": {},
   "outputs": [],
   "source": [
    "# TRAINING SET\n",
    "\n",
    "traindata = pd.read_csv('C:/Users/onjad/OneDrive/Documents/RESEARCH PHD/article 3/CODES/DATAFRAMES/ratios/train_ratio.csv')\n",
    "# print('TRAINING DATASET \\n:', traindata.describe().transpose())\n",
    "X_train_ratio = traindata.drop('Y', axis=1)\n",
    "y_train_ratio = traindata['Y']\n",
    "# print(sns.countplot(x = 'Y', data=traindata))\n",
    "\n",
    "# VALIDATION SET\n",
    "\n",
    "valdata = pd.read_csv('C:/Users/onjad/OneDrive/Documents/RESEARCH PHD/article 3/CODES/DATAFRAMES/ratios/val_ratio.csv')\n",
    "# print('VALIDATION DATASET \\n:', valdata.describe().transpose())\n",
    "X_val_ratio = valdata.drop('Y', axis=1)\n",
    "y_val_ratio = valdata['Y']\n",
    "\n",
    "# TEST SET\n",
    "\n",
    "testdata = pd.read_csv('C:/Users/onjad/OneDrive/Documents/RESEARCH PHD/article 3/CODES/DATAFRAMES/ratios/test_ratio.csv')\n",
    "# print('TEST DATASET \\n:', testdata.describe().transpose())\n",
    "# print('TEST DATASET \\n:', testdata)\n",
    "X_test_ratio = testdata.drop('Y', axis=1)\n",
    "y_test_ratio = testdata['Y']"
   ]
  },
  {
   "cell_type": "markdown",
   "metadata": {},
   "source": [
    "COMBINE BOTH"
   ]
  },
  {
   "cell_type": "code",
   "execution_count": 6,
   "metadata": {},
   "outputs": [],
   "source": [
    "# ADD THE A NEW COLUMN FOR TEXT FILE\n",
    "\n",
    "X_train_ratio['tanshin'] = df_tanshin_train['tanshin']\n",
    "X_val_ratio['tanshin'] = df_tanshin_val['tanshin']\n",
    "X_test_ratio['tanshin'] = df_tanshin_test.drop('Y', axis=1)\n",
    "\n",
    "# CREATE NEW DATAFRAME FOR COMBINED DATA\n",
    "\n",
    "X_train_both = X_train_ratio\n",
    "X_val_both = X_val_ratio\n",
    "X_test_both = X_test_ratio\n",
    "\n",
    "y_train_both = y_train_ratio\n",
    "y_val_both = y_val_ratio\n",
    "y_test_both = y_test_ratio"
   ]
  },
  {
   "cell_type": "code",
   "execution_count": 7,
   "metadata": {},
   "outputs": [],
   "source": [
    "# X_train_ratio"
   ]
  },
  {
   "cell_type": "code",
   "execution_count": 8,
   "metadata": {},
   "outputs": [
    {
     "name": "stdout",
     "output_type": "stream",
     "text": [
      "Length of X (train): 92 | Length of Y (train): 92\n",
      "Length of X (validation): 20 | Length of Y (validation): 20\n",
      "Length of X (test): 25 | Length of Y (test): 25\n"
     ]
    }
   ],
   "source": [
    "print('Length of X (train): {} | Length of Y (train): {}'.format(len(X_train_both), len(y_train_both)))\n",
    "print('Length of X (validation): {} | Length of Y (validation): {}'.format(len(X_val_both), len(y_val_both)))\n",
    "print('Length of X (test): {} | Length of Y (test): {}'.format(len(X_test_both), len(y_test_both)))"
   ]
  },
  {
   "cell_type": "code",
   "execution_count": 9,
   "metadata": {},
   "outputs": [],
   "source": [
    "# print(X_test_both)\n",
    "# print(X_train_both['text'])"
   ]
  },
  {
   "cell_type": "markdown",
   "metadata": {},
   "source": [
    "# TEXT PREPROCESSING"
   ]
  },
  {
   "cell_type": "code",
   "execution_count": 10,
   "metadata": {},
   "outputs": [],
   "source": [
    "from janome.tokenizer import Tokenizer\n",
    "from janome.analyzer import Analyzer\n",
    "from janome.charfilter import *\n",
    "from janome.tokenfilter import *\n",
    "import nltk\n",
    "import re"
   ]
  },
  {
   "cell_type": "code",
   "execution_count": 11,
   "metadata": {},
   "outputs": [],
   "source": [
    "def clean_data(risk_report_test):\n",
    "    \"\"\"Returns cleaned text data.\"\"\"\n",
    "    \n",
    "    with open(f\"C:/Users/onjad/OneDrive/Documents/RESEARCH PHD/article 3/CODES/stop_words.txt\", mode=\"r\", encoding=\"utf8\") as file:\n",
    "        stop_words = file.read()\n",
    "    \n",
    "    with open(f\"C:/Users/onjad/OneDrive/Documents/RESEARCH PHD/article 3/CODES/stop_words_accounting.txt\", mode=\"r\", encoding=\"utf8\") as file:\n",
    "        stop_words_acc = file.read()\n",
    "    \n",
    "    with open(f\"C:/Users/onjad/OneDrive/Documents/RESEARCH PHD/article 3/CODES/onaji_tanshin_vocab.txt\", mode=\"r\", encoding=\"utf8\") as file:\n",
    "        onaji_tanshin_vocab = file.read()\n",
    "        \n",
    "    \n",
    "    char_filters = [UnicodeNormalizeCharFilter(), \n",
    "                    RegexReplaceCharFilter(u'キャッシュ・フロー', u'キャッシュフロー')]\n",
    "    tokenizer = Tokenizer()\n",
    "    token_filters = [CompoundNounFilter(), \n",
    "                     POSStopFilter(['記号','助詞', '数', '数接続', '接続詞','連体詞', '接頭詞', '名詞,数','非自立', '代名詞', '自動詞', '他動詞']), \n",
    "                     LowerCaseFilter()]\n",
    "\n",
    "\n",
    "    a = Analyzer(char_filters=char_filters, tokenizer=tokenizer, token_filters=token_filters)\n",
    "    \n",
    "    def filter(text):\n",
    "        \"\"\"\n",
    "        :param text: str\n",
    "        :rtype : str\n",
    "        \"\"\"\n",
    "       # アルファベットと半角英数と記号と改行とタブを排除\n",
    "        text = re.sub(r'[a-zA-Z0-9¥\"¥.¥,¥@]+', '', text)\n",
    "        text = re.sub(r'[!\"“#$%&()\\*\\+\\-\\.,\\/:;<=>?@\\[\\\\\\]^_`{|}~]', '', text)\n",
    "        text = re.sub(r'[\\n|\\r|\\t]', '', text)\n",
    "        \n",
    "        # 日本語以外の文字を排除\n",
    "        jp_chartype_tokenizer = nltk.RegexpTokenizer(u'([ぁ-んー]+|[ァ-ンー]+|[\\u4e00-\\u9FFF]+|[ぁ-んァ-ンー\\u4e00-\\u9FFF]+)')\n",
    "        text = ''.join(jp_chartype_tokenizer.tokenize(text))\n",
    "        \n",
    "        return text\n",
    "\n",
    "    nosymbol_test = filter(risk_report_test)\n",
    "    \n",
    "    doc = []\n",
    "    for token in a.analyze(nosymbol_test):\n",
    "        doc.append(token.surface)\n",
    "    doc = [x for x in doc if x not in stop_words]\n",
    "    doc = [x for x in doc if x not in stop_words_acc]\n",
    "    doc = [x for x in doc if x not in onaji_tanshin_vocab]\n",
    "    doc = np.array(doc)\n",
    "    \n",
    "    return doc\n",
    "\n",
    "#     corpus = ' '.join(doc)\n",
    "#     corpus = [corpus]\n",
    "    \n",
    "#     return corpus"
   ]
  },
  {
   "cell_type": "code",
   "execution_count": 12,
   "metadata": {},
   "outputs": [],
   "source": [
    "from sklearn.feature_extraction.text import CountVectorizer, TfidfTransformer"
   ]
  },
  {
   "cell_type": "code",
   "execution_count": 13,
   "metadata": {},
   "outputs": [],
   "source": [
    "df_text_only = pd.concat([X_train_both['tanshin'], X_val_both['tanshin'], X_test_both['tanshin']], ignore_index=True)\n",
    "# print(df_text_only)"
   ]
  },
  {
   "cell_type": "code",
   "execution_count": 14,
   "metadata": {},
   "outputs": [],
   "source": [
    "# print(df_text_only[91]) #train 0 a 92\n",
    "# print(df_text_only[111]) #val 92 a 112\n",
    "# print(df_text_only[112]) #test 112 a 137"
   ]
  },
  {
   "cell_type": "code",
   "execution_count": 15,
   "metadata": {},
   "outputs": [],
   "source": [
    "clean_file_transformer = CountVectorizer(analyzer=clean_data).fit(df_text_only)\n",
    "# print(clean_file_transformer.get_feature_names())"
   ]
  },
  {
   "cell_type": "code",
   "execution_count": 16,
   "metadata": {},
   "outputs": [
    {
     "name": "stdout",
     "output_type": "stream",
     "text": [
      "3417\n"
     ]
    }
   ],
   "source": [
    "print(len(clean_file_transformer.vocabulary_))"
   ]
  },
  {
   "cell_type": "code",
   "execution_count": 17,
   "metadata": {},
   "outputs": [
    {
     "name": "stdout",
     "output_type": "stream",
     "text": [
      "Shape of Sparse Matrix:  (137, 3417)\n"
     ]
    }
   ],
   "source": [
    "clean_file_bow = clean_file_transformer.transform(df_text_only)\n",
    "# print(clean_file_bow)\n",
    "print('Shape of Sparse Matrix: ', clean_file_bow.shape)"
   ]
  },
  {
   "cell_type": "code",
   "execution_count": 18,
   "metadata": {},
   "outputs": [
    {
     "name": "stdout",
     "output_type": "stream",
     "text": [
      "(137, 3417)\n"
     ]
    }
   ],
   "source": [
    "transformer_tfidf = TfidfTransformer().fit(clean_file_bow)\n",
    "clean_file_tfidf = transformer_tfidf.transform(clean_file_bow)\n",
    "\n",
    "# print(clean_file_tfidf)\n",
    "print(clean_file_tfidf.shape)"
   ]
  },
  {
   "cell_type": "markdown",
   "metadata": {},
   "source": [
    "# RATIO PREPROCESSING"
   ]
  },
  {
   "cell_type": "code",
   "execution_count": 19,
   "metadata": {},
   "outputs": [],
   "source": [
    "# X_train_ratio"
   ]
  },
  {
   "cell_type": "code",
   "execution_count": 20,
   "metadata": {},
   "outputs": [],
   "source": [
    "# DATA PREPROCESSING\n",
    "\n",
    "from sklearn.preprocessing import MinMaxScaler\n",
    "scaler = MinMaxScaler()\n",
    "X_train_ratio = scaler.fit_transform(X_train_ratio.drop('tanshin', axis=1))\n",
    "X_val_ratio = scaler.transform(X_val_ratio.drop('tanshin', axis=1))\n",
    "X_test_ratio = scaler.transform(X_test_ratio.drop('tanshin', axis=1))"
   ]
  },
  {
   "cell_type": "code",
   "execution_count": 21,
   "metadata": {},
   "outputs": [],
   "source": [
    "# X_test_ratio"
   ]
  },
  {
   "cell_type": "markdown",
   "metadata": {},
   "source": [
    "# CLASSIFICATION TASK - NEURAL NETWORK"
   ]
  },
  {
   "cell_type": "markdown",
   "metadata": {},
   "source": [
    "DATA SPLIT"
   ]
  },
  {
   "cell_type": "code",
   "execution_count": 22,
   "metadata": {},
   "outputs": [
    {
     "name": "stdout",
     "output_type": "stream",
     "text": [
      "(92, 22) (20, 22) (25, 22)\n"
     ]
    }
   ],
   "source": [
    "# RATIOS\n",
    "Xtrain_ratio = pd.DataFrame(X_train_ratio)\n",
    "Xval_ratio = pd.DataFrame(X_val_ratio)\n",
    "Xtest_ratio = pd.DataFrame(X_test_ratio)\n",
    "\n",
    "# rename columns\n",
    "Xtrain_ratio.columns = ['X19','X20','X29','X47', 'X51', 'X54', 'X59', 'X62','X63','X64','X67', 'X69', 'X70', 'X71','X72', 'X73', 'X74', 'X76','X77', 'X79', 'X80', 'X84']\n",
    "Xval_ratio.columns = ['X19','X20','X29','X47', 'X51', 'X54', 'X59', 'X62','X63','X64','X67', 'X69', 'X70', 'X71','X72', 'X73', 'X74', 'X76','X77', 'X79', 'X80', 'X84']\n",
    "Xtest_ratio.columns = ['X19','X20','X29','X47', 'X51', 'X54', 'X59', 'X62','X63','X64','X67', 'X69', 'X70', 'X71','X72', 'X73', 'X74', 'X76','X77', 'X79', 'X80', 'X84']\n",
    "\n",
    "print(Xtrain_ratio.shape, Xval_ratio.shape, Xtest_ratio.shape)"
   ]
  },
  {
   "cell_type": "code",
   "execution_count": 23,
   "metadata": {},
   "outputs": [],
   "source": [
    "# Xtest_ratio"
   ]
  },
  {
   "cell_type": "code",
   "execution_count": 24,
   "metadata": {},
   "outputs": [],
   "source": [
    "# TEXT\n",
    "X = clean_file_tfidf\n",
    "X = pd.DataFrame.sparse.from_spmatrix(X)\n",
    "X_train_text = X[:92]\n",
    "X_val_text = pd.DataFrame(X[92:112])\n",
    "X_test_text = pd.DataFrame(X[112:])"
   ]
  },
  {
   "cell_type": "code",
   "execution_count": 25,
   "metadata": {},
   "outputs": [],
   "source": [
    "X_val_text.index.delete\n",
    "X_val_text = X_val_text.reset_index(drop=True)\n",
    "# X_val_text"
   ]
  },
  {
   "cell_type": "code",
   "execution_count": 26,
   "metadata": {},
   "outputs": [],
   "source": [
    "X_test_text.index.delete\n",
    "X_test_text = X_test_text.reset_index(drop=True)\n",
    "# X_test_text"
   ]
  },
  {
   "cell_type": "code",
   "execution_count": 27,
   "metadata": {},
   "outputs": [
    {
     "name": "stdout",
     "output_type": "stream",
     "text": [
      "(92, 3417) (20, 3417) (25, 3417)\n"
     ]
    }
   ],
   "source": [
    "print(X_train_text.shape, X_val_text.shape, X_test_text.shape)"
   ]
  },
  {
   "cell_type": "code",
   "execution_count": 28,
   "metadata": {},
   "outputs": [
    {
     "name": "stdout",
     "output_type": "stream",
     "text": [
      "(92, 3439) (20, 3439) (25, 3439)\n"
     ]
    }
   ],
   "source": [
    "# INPUT VALUES X\n",
    "\n",
    "X_train = pd.concat([Xtrain_ratio, X_train_text], ignore_index=True, axis=1)\n",
    "X_val = pd.concat([Xval_ratio, X_val_text], ignore_index=True, axis=1)\n",
    "X_test = pd.concat([Xtest_ratio, X_test_text], ignore_index=True, axis=1)\n",
    "\n",
    "print(X_train.shape, X_val.shape, X_test.shape)"
   ]
  },
  {
   "cell_type": "code",
   "execution_count": 29,
   "metadata": {},
   "outputs": [],
   "source": [
    "# X_test"
   ]
  },
  {
   "cell_type": "code",
   "execution_count": 30,
   "metadata": {},
   "outputs": [
    {
     "name": "stdout",
     "output_type": "stream",
     "text": [
      "(92, 1) (20, 1) (25, 1)\n"
     ]
    }
   ],
   "source": [
    "# TARGET VALUE Y\n",
    "\n",
    "y_train = pd.DataFrame(y_train_ratio)\n",
    "y_val = pd.DataFrame(y_val_ratio)\n",
    "y_test = pd.DataFrame(y_test_ratio)\n",
    "\n",
    "print(y_train.shape, y_val.shape, y_test.shape)"
   ]
  },
  {
   "cell_type": "markdown",
   "metadata": {},
   "source": [
    "NEURAL NETWORK CLASSIFIER"
   ]
  },
  {
   "cell_type": "code",
   "execution_count": 31,
   "metadata": {},
   "outputs": [
    {
     "name": "stdout",
     "output_type": "stream",
     "text": [
      "Model: \"sequential\"\n",
      "_________________________________________________________________\n",
      "Layer (type)                 Output Shape              Param #   \n",
      "=================================================================\n",
      "dense (Dense)                (None, 500)               1720000   \n",
      "_________________________________________________________________\n",
      "dropout (Dropout)            (None, 500)               0         \n",
      "_________________________________________________________________\n",
      "dense_1 (Dense)              (None, 500)               250500    \n",
      "_________________________________________________________________\n",
      "dropout_1 (Dropout)          (None, 500)               0         \n",
      "_________________________________________________________________\n",
      "dense_2 (Dense)              (None, 1)                 501       \n",
      "=================================================================\n",
      "Total params: 1,971,001\n",
      "Trainable params: 1,971,001\n",
      "Non-trainable params: 0\n",
      "_________________________________________________________________\n"
     ]
    }
   ],
   "source": [
    "from tensorflow.keras import Sequential\n",
    "from tensorflow.keras.layers import Dense, Dropout\n",
    "from tensorflow.keras import optimizers, regularizers\n",
    "import tensorflow as tf\n",
    "\n",
    "model = Sequential([\n",
    "    Dense(units=500, activation='relu', input_dim=X_train.shape[1]),\n",
    "    Dropout(0.8),\n",
    "    Dense(units=500, activation='relu', kernel_initializer='normal', kernel_regularizer=regularizers.l2(0.02)),\n",
    "    Dropout(0.8),\n",
    "    Dense(units=1, activation='sigmoid')\n",
    "])\n",
    "\n",
    "model.compile(optimizer='adam', loss='binary_crossentropy', metrics=['accuracy'])\n",
    "model.summary()"
   ]
  },
  {
   "cell_type": "code",
   "execution_count": 32,
   "metadata": {
    "scrolled": true
   },
   "outputs": [
    {
     "name": "stdout",
     "output_type": "stream",
     "text": [
      "Epoch 1/1000\n",
      "3/3 - 0s - loss: 12.8048 - accuracy: 0.5543 - val_loss: 12.0611 - val_accuracy: 0.5000\n",
      "Epoch 2/1000\n",
      "3/3 - 0s - loss: 11.7319 - accuracy: 0.5000 - val_loss: 11.0560 - val_accuracy: 0.5000\n",
      "Epoch 3/1000\n",
      "3/3 - 0s - loss: 10.7516 - accuracy: 0.5543 - val_loss: 10.1311 - val_accuracy: 0.5000\n",
      "Epoch 4/1000\n",
      "3/3 - 0s - loss: 9.8619 - accuracy: 0.4891 - val_loss: 9.2822 - val_accuracy: 0.5000\n",
      "Epoch 5/1000\n",
      "3/3 - 0s - loss: 9.0237 - accuracy: 0.4891 - val_loss: 8.5044 - val_accuracy: 0.5000\n",
      "Epoch 6/1000\n",
      "3/3 - 0s - loss: 8.2541 - accuracy: 0.5870 - val_loss: 7.7936 - val_accuracy: 0.5500\n",
      "Epoch 7/1000\n",
      "3/3 - 0s - loss: 7.5496 - accuracy: 0.6848 - val_loss: 7.1458 - val_accuracy: 0.5000\n",
      "Epoch 8/1000\n",
      "3/3 - 0s - loss: 6.9384 - accuracy: 0.5217 - val_loss: 6.5568 - val_accuracy: 0.4500\n",
      "Epoch 9/1000\n",
      "3/3 - 0s - loss: 6.3429 - accuracy: 0.6522 - val_loss: 6.0214 - val_accuracy: 0.5500\n",
      "Epoch 10/1000\n",
      "3/3 - 0s - loss: 5.8453 - accuracy: 0.5870 - val_loss: 5.5352 - val_accuracy: 0.6000\n",
      "Epoch 11/1000\n",
      "3/3 - 0s - loss: 5.3592 - accuracy: 0.6522 - val_loss: 5.0949 - val_accuracy: 0.6000\n",
      "Epoch 12/1000\n",
      "3/3 - 0s - loss: 4.8950 - accuracy: 0.7174 - val_loss: 4.6961 - val_accuracy: 0.6000\n",
      "Epoch 13/1000\n",
      "3/3 - 0s - loss: 4.5291 - accuracy: 0.5870 - val_loss: 4.3351 - val_accuracy: 0.6500\n",
      "Epoch 14/1000\n",
      "3/3 - 0s - loss: 4.1452 - accuracy: 0.7174 - val_loss: 4.0087 - val_accuracy: 0.6000\n",
      "Epoch 15/1000\n",
      "3/3 - 0s - loss: 3.8230 - accuracy: 0.6739 - val_loss: 3.7136 - val_accuracy: 0.5500\n",
      "Epoch 16/1000\n",
      "3/3 - 0s - loss: 3.5166 - accuracy: 0.8043 - val_loss: 3.4465 - val_accuracy: 0.6500\n",
      "Epoch 17/1000\n",
      "3/3 - 0s - loss: 3.2561 - accuracy: 0.7935 - val_loss: 3.2048 - val_accuracy: 0.5500\n",
      "Epoch 18/1000\n",
      "3/3 - 0s - loss: 3.0145 - accuracy: 0.7935 - val_loss: 2.9858 - val_accuracy: 0.6500\n",
      "Epoch 19/1000\n",
      "3/3 - 0s - loss: 2.7605 - accuracy: 0.8587 - val_loss: 2.7881 - val_accuracy: 0.6500\n",
      "Epoch 20/1000\n",
      "3/3 - 0s - loss: 2.5328 - accuracy: 0.8696 - val_loss: 2.6124 - val_accuracy: 0.6000\n",
      "Epoch 21/1000\n",
      "3/3 - 0s - loss: 2.3582 - accuracy: 0.8696 - val_loss: 2.4556 - val_accuracy: 0.5000\n",
      "Epoch 22/1000\n",
      "3/3 - 0s - loss: 2.1682 - accuracy: 0.9022 - val_loss: 2.3064 - val_accuracy: 0.6000\n",
      "Epoch 23/1000\n",
      "3/3 - 0s - loss: 1.9561 - accuracy: 0.9239 - val_loss: 2.1728 - val_accuracy: 0.6500\n",
      "Epoch 24/1000\n",
      "3/3 - 0s - loss: 1.8172 - accuracy: 0.9130 - val_loss: 2.0535 - val_accuracy: 0.6500\n",
      "Epoch 25/1000\n",
      "3/3 - 0s - loss: 1.6432 - accuracy: 0.9457 - val_loss: 1.9463 - val_accuracy: 0.6000\n",
      "Epoch 26/1000\n",
      "3/3 - 0s - loss: 1.5073 - accuracy: 0.9565 - val_loss: 1.8501 - val_accuracy: 0.6000\n",
      "Epoch 27/1000\n",
      "3/3 - 0s - loss: 1.4334 - accuracy: 0.9348 - val_loss: 1.7647 - val_accuracy: 0.6500\n",
      "Epoch 28/1000\n",
      "3/3 - 0s - loss: 1.2828 - accuracy: 0.9457 - val_loss: 1.6854 - val_accuracy: 0.6500\n",
      "Epoch 29/1000\n",
      "3/3 - 0s - loss: 1.2062 - accuracy: 0.9457 - val_loss: 1.6120 - val_accuracy: 0.6500\n",
      "Epoch 30/1000\n",
      "3/3 - 0s - loss: 1.1067 - accuracy: 0.9565 - val_loss: 1.5463 - val_accuracy: 0.6500\n",
      "Epoch 31/1000\n",
      "3/3 - 0s - loss: 0.9899 - accuracy: 0.9783 - val_loss: 1.4857 - val_accuracy: 0.6000\n",
      "Epoch 32/1000\n",
      "3/3 - 0s - loss: 0.9920 - accuracy: 0.9130 - val_loss: 1.4369 - val_accuracy: 0.6500\n",
      "Epoch 33/1000\n",
      "3/3 - 0s - loss: 0.8950 - accuracy: 0.9674 - val_loss: 1.3969 - val_accuracy: 0.6000\n",
      "Epoch 34/1000\n",
      "3/3 - 0s - loss: 0.8331 - accuracy: 0.9565 - val_loss: 1.3534 - val_accuracy: 0.6000\n",
      "Epoch 35/1000\n",
      "3/3 - 0s - loss: 0.7497 - accuracy: 0.9783 - val_loss: 1.3093 - val_accuracy: 0.6000\n",
      "Epoch 36/1000\n",
      "3/3 - 0s - loss: 0.7197 - accuracy: 0.9674 - val_loss: 1.2655 - val_accuracy: 0.6000\n",
      "Epoch 37/1000\n",
      "3/3 - 0s - loss: 0.6715 - accuracy: 0.9457 - val_loss: 1.2116 - val_accuracy: 0.6500\n",
      "Epoch 38/1000\n",
      "3/3 - 0s - loss: 0.6365 - accuracy: 0.9457 - val_loss: 1.1721 - val_accuracy: 0.6500\n",
      "Epoch 39/1000\n",
      "3/3 - 0s - loss: 0.5767 - accuracy: 0.9783 - val_loss: 1.1342 - val_accuracy: 0.6000\n",
      "Epoch 40/1000\n",
      "3/3 - 0s - loss: 0.5758 - accuracy: 0.9348 - val_loss: 1.0997 - val_accuracy: 0.6000\n",
      "Epoch 41/1000\n",
      "3/3 - 0s - loss: 0.5214 - accuracy: 0.9783 - val_loss: 1.0752 - val_accuracy: 0.6500\n",
      "Epoch 42/1000\n",
      "3/3 - 0s - loss: 0.4807 - accuracy: 0.9783 - val_loss: 1.0608 - val_accuracy: 0.6000\n",
      "Epoch 43/1000\n",
      "3/3 - 0s - loss: 0.4504 - accuracy: 0.9674 - val_loss: 1.0421 - val_accuracy: 0.6000\n",
      "Epoch 44/1000\n",
      "3/3 - 0s - loss: 0.4308 - accuracy: 0.9565 - val_loss: 1.0184 - val_accuracy: 0.6000\n",
      "Epoch 45/1000\n",
      "3/3 - 0s - loss: 0.4251 - accuracy: 0.9565 - val_loss: 0.9836 - val_accuracy: 0.6000\n",
      "Epoch 46/1000\n",
      "3/3 - 0s - loss: 0.3880 - accuracy: 0.9891 - val_loss: 0.9562 - val_accuracy: 0.6000\n",
      "Epoch 47/1000\n",
      "3/3 - 0s - loss: 0.3758 - accuracy: 0.9783 - val_loss: 0.9340 - val_accuracy: 0.7000\n",
      "Epoch 48/1000\n",
      "3/3 - 0s - loss: 0.3425 - accuracy: 0.9674 - val_loss: 0.9270 - val_accuracy: 0.6000\n",
      "Epoch 49/1000\n",
      "3/3 - 0s - loss: 0.3564 - accuracy: 0.9674 - val_loss: 0.9405 - val_accuracy: 0.5500\n",
      "Epoch 50/1000\n",
      "3/3 - 0s - loss: 0.3265 - accuracy: 0.9674 - val_loss: 0.9685 - val_accuracy: 0.4500\n",
      "Epoch 51/1000\n",
      "3/3 - 0s - loss: 0.3049 - accuracy: 0.9783 - val_loss: 0.9496 - val_accuracy: 0.5000\n",
      "Epoch 52/1000\n",
      "3/3 - 0s - loss: 0.2752 - accuracy: 0.9783 - val_loss: 0.9018 - val_accuracy: 0.5500\n",
      "Epoch 53/1000\n",
      "3/3 - 0s - loss: 0.2972 - accuracy: 0.9565 - val_loss: 0.8580 - val_accuracy: 0.7000\n",
      "Epoch 54/1000\n",
      "3/3 - 0s - loss: 0.2792 - accuracy: 0.9783 - val_loss: 0.8459 - val_accuracy: 0.7000\n",
      "Epoch 55/1000\n",
      "3/3 - 0s - loss: 0.2836 - accuracy: 0.9674 - val_loss: 0.8339 - val_accuracy: 0.7000\n",
      "Epoch 56/1000\n",
      "3/3 - 0s - loss: 0.2435 - accuracy: 0.9783 - val_loss: 0.8379 - val_accuracy: 0.6000\n",
      "Epoch 57/1000\n",
      "3/3 - 0s - loss: 0.2607 - accuracy: 0.9565 - val_loss: 0.8538 - val_accuracy: 0.5500\n",
      "Epoch 58/1000\n",
      "3/3 - 0s - loss: 0.2542 - accuracy: 0.9674 - val_loss: 0.8665 - val_accuracy: 0.5000\n",
      "Epoch 59/1000\n",
      "3/3 - 0s - loss: 0.2814 - accuracy: 0.9565 - val_loss: 0.8642 - val_accuracy: 0.4500\n",
      "Epoch 60/1000\n",
      "3/3 - 0s - loss: 0.2261 - accuracy: 0.9674 - val_loss: 0.8343 - val_accuracy: 0.5000\n",
      "Epoch 61/1000\n",
      "3/3 - 0s - loss: 0.2434 - accuracy: 0.9674 - val_loss: 0.8120 - val_accuracy: 0.5500\n",
      "Epoch 62/1000\n",
      "3/3 - 0s - loss: 0.2433 - accuracy: 0.9674 - val_loss: 0.8037 - val_accuracy: 0.6000\n",
      "Epoch 63/1000\n",
      "3/3 - 0s - loss: 0.2201 - accuracy: 0.9783 - val_loss: 0.8100 - val_accuracy: 0.5500\n",
      "Epoch 64/1000\n",
      "3/3 - 0s - loss: 0.2078 - accuracy: 0.9565 - val_loss: 0.8159 - val_accuracy: 0.5500\n",
      "Epoch 65/1000\n",
      "3/3 - 0s - loss: 0.2281 - accuracy: 0.9674 - val_loss: 0.8067 - val_accuracy: 0.5500\n",
      "Epoch 66/1000\n",
      "3/3 - 0s - loss: 0.1810 - accuracy: 0.9891 - val_loss: 0.8147 - val_accuracy: 0.5000\n",
      "Epoch 67/1000\n",
      "3/3 - 0s - loss: 0.1762 - accuracy: 0.9891 - val_loss: 0.8138 - val_accuracy: 0.5000\n",
      "Epoch 68/1000\n",
      "3/3 - 0s - loss: 0.1899 - accuracy: 0.9674 - val_loss: 0.8164 - val_accuracy: 0.5000\n",
      "Epoch 69/1000\n",
      "3/3 - 0s - loss: 0.1951 - accuracy: 0.9565 - val_loss: 0.8440 - val_accuracy: 0.5000\n",
      "Epoch 70/1000\n",
      "3/3 - 0s - loss: 0.1715 - accuracy: 0.9891 - val_loss: 0.8531 - val_accuracy: 0.5000\n",
      "Epoch 71/1000\n",
      "3/3 - 0s - loss: 0.1880 - accuracy: 0.9674 - val_loss: 0.8326 - val_accuracy: 0.5000\n",
      "Epoch 72/1000\n",
      "3/3 - 0s - loss: 0.2042 - accuracy: 0.9674 - val_loss: 0.7868 - val_accuracy: 0.5500\n",
      "Epoch 73/1000\n",
      "3/3 - 0s - loss: 0.1726 - accuracy: 0.9783 - val_loss: 0.7554 - val_accuracy: 0.6000\n",
      "Epoch 74/1000\n",
      "3/3 - 0s - loss: 0.1639 - accuracy: 0.9891 - val_loss: 0.7537 - val_accuracy: 0.6000\n",
      "Epoch 75/1000\n",
      "3/3 - 0s - loss: 0.1561 - accuracy: 0.9783 - val_loss: 0.7726 - val_accuracy: 0.5500\n",
      "Epoch 76/1000\n",
      "3/3 - 0s - loss: 0.2080 - accuracy: 0.9565 - val_loss: 0.7856 - val_accuracy: 0.5500\n",
      "Epoch 77/1000\n",
      "3/3 - 0s - loss: 0.1577 - accuracy: 0.9891 - val_loss: 0.8088 - val_accuracy: 0.5000\n",
      "Epoch 78/1000\n",
      "3/3 - 0s - loss: 0.1941 - accuracy: 0.9674 - val_loss: 0.7920 - val_accuracy: 0.5500\n",
      "Epoch 79/1000\n",
      "3/3 - 0s - loss: 0.2035 - accuracy: 0.9457 - val_loss: 0.7555 - val_accuracy: 0.5500\n",
      "Epoch 80/1000\n",
      "3/3 - 0s - loss: 0.1566 - accuracy: 0.9565 - val_loss: 0.7569 - val_accuracy: 0.5500\n",
      "Epoch 81/1000\n",
      "3/3 - 0s - loss: 0.1650 - accuracy: 0.9783 - val_loss: 0.7532 - val_accuracy: 0.6000\n",
      "Epoch 82/1000\n",
      "3/3 - 0s - loss: 0.1648 - accuracy: 0.9457 - val_loss: 0.7745 - val_accuracy: 0.6000\n",
      "Epoch 83/1000\n",
      "3/3 - 0s - loss: 0.1999 - accuracy: 0.9674 - val_loss: 0.7910 - val_accuracy: 0.5000\n"
     ]
    },
    {
     "name": "stdout",
     "output_type": "stream",
     "text": [
      "Epoch 84/1000\n",
      "3/3 - 0s - loss: 0.1661 - accuracy: 0.9783 - val_loss: 0.7800 - val_accuracy: 0.5500\n",
      "Epoch 85/1000\n",
      "3/3 - 0s - loss: 0.1817 - accuracy: 0.9457 - val_loss: 0.7739 - val_accuracy: 0.6000\n",
      "Epoch 86/1000\n",
      "3/3 - 0s - loss: 0.1474 - accuracy: 0.9783 - val_loss: 0.7897 - val_accuracy: 0.5000\n",
      "Epoch 87/1000\n",
      "3/3 - 0s - loss: 0.1848 - accuracy: 0.9565 - val_loss: 0.7839 - val_accuracy: 0.5000\n",
      "Epoch 88/1000\n",
      "3/3 - 0s - loss: 0.1882 - accuracy: 0.9674 - val_loss: 0.8021 - val_accuracy: 0.5500\n",
      "Epoch 89/1000\n",
      "3/3 - 0s - loss: 0.1737 - accuracy: 0.9565 - val_loss: 0.8182 - val_accuracy: 0.5500\n",
      "Epoch 90/1000\n",
      "3/3 - 0s - loss: 0.1658 - accuracy: 0.9565 - val_loss: 0.8323 - val_accuracy: 0.5000\n",
      "Epoch 91/1000\n",
      "3/3 - 0s - loss: 0.2009 - accuracy: 0.9674 - val_loss: 0.8229 - val_accuracy: 0.5000\n",
      "Epoch 92/1000\n",
      "3/3 - 0s - loss: 0.1640 - accuracy: 0.9674 - val_loss: 0.8067 - val_accuracy: 0.5500\n",
      "Epoch 93/1000\n",
      "3/3 - 0s - loss: 0.1724 - accuracy: 0.9674 - val_loss: 0.7607 - val_accuracy: 0.6500\n",
      "Epoch 94/1000\n",
      "3/3 - 0s - loss: 0.1492 - accuracy: 0.9674 - val_loss: 0.7323 - val_accuracy: 0.5500\n",
      "Epoch 95/1000\n",
      "3/3 - 0s - loss: 0.1474 - accuracy: 0.9891 - val_loss: 0.7245 - val_accuracy: 0.7000\n",
      "Epoch 96/1000\n",
      "3/3 - 0s - loss: 0.1644 - accuracy: 0.9674 - val_loss: 0.7205 - val_accuracy: 0.7000\n",
      "Epoch 97/1000\n",
      "3/3 - 0s - loss: 0.1660 - accuracy: 0.9674 - val_loss: 0.7255 - val_accuracy: 0.7000\n",
      "Epoch 98/1000\n",
      "3/3 - 0s - loss: 0.1584 - accuracy: 0.9674 - val_loss: 0.7424 - val_accuracy: 0.6000\n",
      "Epoch 99/1000\n",
      "3/3 - 0s - loss: 0.1482 - accuracy: 0.9674 - val_loss: 0.7906 - val_accuracy: 0.5000\n",
      "Epoch 100/1000\n",
      "3/3 - 0s - loss: 0.1552 - accuracy: 0.9674 - val_loss: 0.7990 - val_accuracy: 0.5000\n",
      "Epoch 101/1000\n",
      "3/3 - 0s - loss: 0.1370 - accuracy: 0.9891 - val_loss: 0.8009 - val_accuracy: 0.5000\n",
      "Epoch 102/1000\n",
      "3/3 - 0s - loss: 0.1309 - accuracy: 0.9891 - val_loss: 0.7959 - val_accuracy: 0.5000\n",
      "Epoch 103/1000\n",
      "3/3 - 0s - loss: 0.1293 - accuracy: 0.9891 - val_loss: 0.7443 - val_accuracy: 0.6000\n",
      "Epoch 104/1000\n",
      "3/3 - 0s - loss: 0.1710 - accuracy: 0.9565 - val_loss: 0.7225 - val_accuracy: 0.6500\n",
      "Epoch 105/1000\n",
      "3/3 - 0s - loss: 0.1218 - accuracy: 0.9891 - val_loss: 0.7217 - val_accuracy: 0.6500\n",
      "Epoch 106/1000\n",
      "3/3 - 0s - loss: 0.1212 - accuracy: 0.9783 - val_loss: 0.7398 - val_accuracy: 0.6000\n",
      "Epoch 107/1000\n",
      "3/3 - 0s - loss: 0.1393 - accuracy: 0.9674 - val_loss: 0.7853 - val_accuracy: 0.5000\n",
      "Epoch 108/1000\n",
      "3/3 - 0s - loss: 0.1325 - accuracy: 0.9674 - val_loss: 0.8229 - val_accuracy: 0.5000\n",
      "Epoch 109/1000\n",
      "3/3 - 0s - loss: 0.1423 - accuracy: 0.9891 - val_loss: 0.8133 - val_accuracy: 0.5500\n",
      "Epoch 110/1000\n",
      "3/3 - 0s - loss: 0.1499 - accuracy: 0.9674 - val_loss: 0.7606 - val_accuracy: 0.5500\n",
      "Epoch 111/1000\n",
      "3/3 - 0s - loss: 0.1328 - accuracy: 0.9674 - val_loss: 0.7378 - val_accuracy: 0.6000\n",
      "Epoch 112/1000\n",
      "3/3 - 0s - loss: 0.1409 - accuracy: 0.9674 - val_loss: 0.7317 - val_accuracy: 0.6500\n",
      "Epoch 113/1000\n",
      "3/3 - 0s - loss: 0.1357 - accuracy: 0.9783 - val_loss: 0.7466 - val_accuracy: 0.6000\n",
      "Epoch 114/1000\n",
      "3/3 - 0s - loss: 0.1532 - accuracy: 0.9565 - val_loss: 0.7724 - val_accuracy: 0.5000\n",
      "Epoch 115/1000\n",
      "3/3 - 0s - loss: 0.1398 - accuracy: 0.9674 - val_loss: 0.7975 - val_accuracy: 0.5500\n",
      "Epoch 116/1000\n",
      "3/3 - 0s - loss: 0.1192 - accuracy: 0.9891 - val_loss: 0.7781 - val_accuracy: 0.5500\n",
      "Epoch 117/1000\n",
      "3/3 - 0s - loss: 0.1568 - accuracy: 0.9565 - val_loss: 0.7479 - val_accuracy: 0.6000\n",
      "Epoch 118/1000\n",
      "3/3 - 0s - loss: 0.1391 - accuracy: 0.9674 - val_loss: 0.7476 - val_accuracy: 0.6000\n",
      "Epoch 119/1000\n",
      "3/3 - 0s - loss: 0.1393 - accuracy: 0.9891 - val_loss: 0.7852 - val_accuracy: 0.5500\n",
      "Epoch 120/1000\n",
      "3/3 - 0s - loss: 0.1499 - accuracy: 0.9783 - val_loss: 0.7686 - val_accuracy: 0.5000\n",
      "Epoch 121/1000\n",
      "3/3 - 0s - loss: 0.1516 - accuracy: 0.9565 - val_loss: 0.7800 - val_accuracy: 0.5500\n",
      "Epoch 00121: early stopping\n"
     ]
    },
    {
     "data": {
      "text/plain": [
       "<tensorflow.python.keras.callbacks.History at 0x1c94bf75fa0>"
      ]
     },
     "execution_count": 32,
     "metadata": {},
     "output_type": "execute_result"
    }
   ],
   "source": [
    "# TRAIN MODEL\n",
    "\n",
    "from tensorflow.keras.callbacks import EarlyStopping\n",
    "early_stop = EarlyStopping(monitor='val_loss', mode='min', verbose=1, patience=25)\n",
    "\n",
    "model.fit(X_train, y_train, validation_data=(X_val, y_val) , epochs=1000, verbose=2, callbacks=[early_stop])"
   ]
  },
  {
   "cell_type": "code",
   "execution_count": 33,
   "metadata": {},
   "outputs": [
    {
     "data": {
      "image/png": "[encoded data removed]",
      "text/plain": [
       "<Figure size 576x432 with 1 Axes>"
      ]
     },
     "metadata": {
      "needs_background": "light"
     },
     "output_type": "display_data"
    }
   ],
   "source": [
    "# PLOT THE LOSS\n",
    "\n",
    "plt.figure(figsize=(8, 6))\n",
    "plt.plot(model.history.history['loss'])\n",
    "plt.plot(model.history.history['val_loss'])\n",
    "plt.title('Model loss')\n",
    "plt.ylabel('loss')\n",
    "plt.xlabel('epoch')\n",
    "plt.ylim(0, 1)\n",
    "plt.legend(['train', 'validation'], loc='upper right')\n",
    "plt.show()"
   ]
  },
  {
   "cell_type": "code",
   "execution_count": 34,
   "metadata": {},
   "outputs": [
    {
     "name": "stdout",
     "output_type": "stream",
     "text": [
      "              precision    recall  f1-score   support\n",
      "\n",
      "           0       0.67      1.00      0.80        12\n",
      "           1       1.00      0.54      0.70        13\n",
      "\n",
      "    accuracy                           0.76        25\n",
      "   macro avg       0.83      0.77      0.75        25\n",
      "weighted avg       0.84      0.76      0.75        25\n",
      "\n",
      "\n",
      " CONFUSION MATRIX:\n",
      " [[12  0]\n",
      " [ 6  7]]\n",
      "\n",
      "\n",
      " ACCURACY SCORE IS: 0.76\n"
     ]
    }
   ],
   "source": [
    "# PERFORMANCE EVALUATION\n",
    "\n",
    "pred_NN = []\n",
    "\n",
    "for predictions in model.predict(X_test):\n",
    "    if predictions < 0.5:\n",
    "        predictions = 0\n",
    "    else:\n",
    "        predictions=1\n",
    "    pred_NN.append(predictions)\n",
    "    \n",
    "pred = np.array(pred_NN)\n",
    "true = np.array(y_test)\n",
    "\n",
    "# print(\"PREDICTED CLASS: \", pred)\n",
    "# print(\"ACTUAL CLASS: \", true, '\\n')\n",
    "\n",
    "from sklearn.metrics import classification_report, confusion_matrix, accuracy_score\n",
    "\n",
    "print(classification_report(true, pred))\n",
    "print('\\n CONFUSION MATRIX:\\n', confusion_matrix(true, pred))\n",
    "print('\\n\\n ACCURACY SCORE IS:', accuracy_score(true, pred))"
   ]
  },
  {
   "cell_type": "code",
   "execution_count": 35,
   "metadata": {},
   "outputs": [
    {
     "name": "stderr",
     "output_type": "stream",
     "text": [
      "C:\\Users\\onjad\\anaconda3\\lib\\site-packages\\sklearn\\utils\\validation.py:509: UserWarning: pandas.DataFrame with sparse columns found.It will be converted to a dense numpy array.\n",
      "  warnings.warn(\n",
      "<ipython-input-35-79420456313a>:4: DataConversionWarning: A column-vector y was passed when a 1d array was expected. Please change the shape of y to (n_samples,), for example using ravel().\n",
      "  rfc.fit(X_train,y_train)\n"
     ]
    },
    {
     "name": "stdout",
     "output_type": "stream",
     "text": [
      "\n",
      " CONFUSION MATRIX:\n",
      " [[10  2]\n",
      " [ 2 11]]\n",
      "\n",
      "\n",
      " ACCURACY SCORE IS: 0.84\n"
     ]
    },
    {
     "name": "stderr",
     "output_type": "stream",
     "text": [
      "C:\\Users\\onjad\\anaconda3\\lib\\site-packages\\sklearn\\utils\\validation.py:509: UserWarning: pandas.DataFrame with sparse columns found.It will be converted to a dense numpy array.\n",
      "  warnings.warn(\n"
     ]
    }
   ],
   "source": [
    "# Classifier (Random Forest)\n",
    "from sklearn.ensemble import RandomForestClassifier\n",
    "rfc = RandomForestClassifier(n_estimators=600)\n",
    "rfc.fit(X_train,y_train)\n",
    "pred_rfc = rfc.predict(X_test)\n",
    "print('\\n CONFUSION MATRIX:\\n', confusion_matrix(true, pred_rfc))\n",
    "print('\\n\\n ACCURACY SCORE IS:', accuracy_score(true, pred_rfc))"
   ]
  },
  {
   "cell_type": "code",
   "execution_count": 36,
   "metadata": {},
   "outputs": [
    {
     "name": "stderr",
     "output_type": "stream",
     "text": [
      "C:\\Users\\onjad\\anaconda3\\lib\\site-packages\\sklearn\\utils\\validation.py:509: UserWarning: pandas.DataFrame with sparse columns found.It will be converted to a dense numpy array.\n",
      "  warnings.warn(\n"
     ]
    },
    {
     "name": "stdout",
     "output_type": "stream",
     "text": [
      "\n",
      " CONFUSION MATRIX:\n",
      " [[ 6  6]\n",
      " [ 3 10]]\n",
      "\n",
      "\n",
      " ACCURACY SCORE IS: 0.64\n"
     ]
    },
    {
     "name": "stderr",
     "output_type": "stream",
     "text": [
      "C:\\Users\\onjad\\anaconda3\\lib\\site-packages\\sklearn\\utils\\validation.py:509: UserWarning: pandas.DataFrame with sparse columns found.It will be converted to a dense numpy array.\n",
      "  warnings.warn(\n"
     ]
    }
   ],
   "source": [
    "# Classifier (Decision Tree)\n",
    "from sklearn.tree import DecisionTreeClassifier\n",
    "dtree = DecisionTreeClassifier()\n",
    "dtree.fit(X_train,y_train)\n",
    "pred_tree = dtree.predict(X_test)\n",
    "print('\\n CONFUSION MATRIX:\\n', confusion_matrix(true, pred_tree))\n",
    "print('\\n\\n ACCURACY SCORE IS:', accuracy_score(true, pred_tree))"
   ]
  },
  {
   "cell_type": "code",
   "execution_count": 37,
   "metadata": {},
   "outputs": [
    {
     "name": "stderr",
     "output_type": "stream",
     "text": [
      "C:\\Users\\onjad\\anaconda3\\lib\\site-packages\\sklearn\\utils\\validation.py:509: UserWarning: pandas.DataFrame with sparse columns found.It will be converted to a dense numpy array.\n",
      "  warnings.warn(\n"
     ]
    },
    {
     "name": "stdout",
     "output_type": "stream",
     "text": [
      "\n",
      " CONFUSION MATRIX:\n",
      " [[9 3]\n",
      " [6 7]]\n",
      "\n",
      "\n",
      " ACCURACY SCORE IS: 0.64\n"
     ]
    },
    {
     "name": "stderr",
     "output_type": "stream",
     "text": [
      "C:\\Users\\onjad\\anaconda3\\lib\\site-packages\\sklearn\\utils\\validation.py:73: DataConversionWarning: A column-vector y was passed when a 1d array was expected. Please change the shape of y to (n_samples, ), for example using ravel().\n",
      "  return f(**kwargs)\n"
     ]
    }
   ],
   "source": [
    "# Classifier (SVM)\n",
    "from sklearn.svm import SVC\n",
    "svm_model = SVC(C=1.0, kernel='linear', degree=3, gamma='auto')\n",
    "svm_model.fit(X_train, y_train)\n",
    "pred_svm = svm_model.predict(np.array(X_test))\n",
    "print('\\n CONFUSION MATRIX:\\n', confusion_matrix(true, pred_svm))\n",
    "print('\\n\\n ACCURACY SCORE IS:', accuracy_score(true, pred_svm))"
   ]
  },
  {
   "cell_type": "code",
   "execution_count": 38,
   "metadata": {},
   "outputs": [
    {
     "name": "stderr",
     "output_type": "stream",
     "text": [
      "C:\\Users\\onjad\\anaconda3\\lib\\site-packages\\sklearn\\utils\\validation.py:509: UserWarning: pandas.DataFrame with sparse columns found.It will be converted to a dense numpy array.\n",
      "  warnings.warn(\n",
      "<ipython-input-38-81ff8b0ca0d3>:4: DataConversionWarning: A column-vector y was passed when a 1d array was expected. Please change the shape of y to (n_samples, ), for example using ravel().\n",
      "  knn.fit(X_train,y_train)\n",
      "C:\\Users\\onjad\\anaconda3\\lib\\site-packages\\sklearn\\utils\\validation.py:509: UserWarning: pandas.DataFrame with sparse columns found.It will be converted to a dense numpy array.\n",
      "  warnings.warn(\n",
      "C:\\Users\\onjad\\anaconda3\\lib\\site-packages\\sklearn\\utils\\validation.py:509: UserWarning: pandas.DataFrame with sparse columns found.It will be converted to a dense numpy array.\n",
      "  warnings.warn(\n"
     ]
    },
    {
     "name": "stdout",
     "output_type": "stream",
     "text": [
      "\n",
      "\n",
      " ACCURACY SCORE IS: 0.6\n"
     ]
    },
    {
     "name": "stderr",
     "output_type": "stream",
     "text": [
      "<ipython-input-38-81ff8b0ca0d3>:12: DataConversionWarning: A column-vector y was passed when a 1d array was expected. Please change the shape of y to (n_samples, ), for example using ravel().\n",
      "  knn.fit(X_train, y_train)\n",
      "C:\\Users\\onjad\\anaconda3\\lib\\site-packages\\sklearn\\utils\\validation.py:509: UserWarning: pandas.DataFrame with sparse columns found.It will be converted to a dense numpy array.\n",
      "  warnings.warn(\n",
      "C:\\Users\\onjad\\anaconda3\\lib\\site-packages\\sklearn\\utils\\validation.py:509: UserWarning: pandas.DataFrame with sparse columns found.It will be converted to a dense numpy array.\n",
      "  warnings.warn(\n",
      "<ipython-input-38-81ff8b0ca0d3>:12: DataConversionWarning: A column-vector y was passed when a 1d array was expected. Please change the shape of y to (n_samples, ), for example using ravel().\n",
      "  knn.fit(X_train, y_train)\n",
      "C:\\Users\\onjad\\anaconda3\\lib\\site-packages\\sklearn\\utils\\validation.py:509: UserWarning: pandas.DataFrame with sparse columns found.It will be converted to a dense numpy array.\n",
      "  warnings.warn(\n",
      "C:\\Users\\onjad\\anaconda3\\lib\\site-packages\\sklearn\\utils\\validation.py:509: UserWarning: pandas.DataFrame with sparse columns found.It will be converted to a dense numpy array.\n",
      "  warnings.warn(\n",
      "<ipython-input-38-81ff8b0ca0d3>:12: DataConversionWarning: A column-vector y was passed when a 1d array was expected. Please change the shape of y to (n_samples, ), for example using ravel().\n",
      "  knn.fit(X_train, y_train)\n",
      "C:\\Users\\onjad\\anaconda3\\lib\\site-packages\\sklearn\\utils\\validation.py:509: UserWarning: pandas.DataFrame with sparse columns found.It will be converted to a dense numpy array.\n",
      "  warnings.warn(\n",
      "C:\\Users\\onjad\\anaconda3\\lib\\site-packages\\sklearn\\utils\\validation.py:509: UserWarning: pandas.DataFrame with sparse columns found.It will be converted to a dense numpy array.\n",
      "  warnings.warn(\n",
      "<ipython-input-38-81ff8b0ca0d3>:12: DataConversionWarning: A column-vector y was passed when a 1d array was expected. Please change the shape of y to (n_samples, ), for example using ravel().\n",
      "  knn.fit(X_train, y_train)\n",
      "C:\\Users\\onjad\\anaconda3\\lib\\site-packages\\sklearn\\utils\\validation.py:509: UserWarning: pandas.DataFrame with sparse columns found.It will be converted to a dense numpy array.\n",
      "  warnings.warn(\n",
      "C:\\Users\\onjad\\anaconda3\\lib\\site-packages\\sklearn\\utils\\validation.py:509: UserWarning: pandas.DataFrame with sparse columns found.It will be converted to a dense numpy array.\n",
      "  warnings.warn(\n",
      "<ipython-input-38-81ff8b0ca0d3>:12: DataConversionWarning: A column-vector y was passed when a 1d array was expected. Please change the shape of y to (n_samples, ), for example using ravel().\n",
      "  knn.fit(X_train, y_train)\n",
      "C:\\Users\\onjad\\anaconda3\\lib\\site-packages\\sklearn\\utils\\validation.py:509: UserWarning: pandas.DataFrame with sparse columns found.It will be converted to a dense numpy array.\n",
      "  warnings.warn(\n",
      "C:\\Users\\onjad\\anaconda3\\lib\\site-packages\\sklearn\\utils\\validation.py:509: UserWarning: pandas.DataFrame with sparse columns found.It will be converted to a dense numpy array.\n",
      "  warnings.warn(\n",
      "<ipython-input-38-81ff8b0ca0d3>:12: DataConversionWarning: A column-vector y was passed when a 1d array was expected. Please change the shape of y to (n_samples, ), for example using ravel().\n",
      "  knn.fit(X_train, y_train)\n",
      "C:\\Users\\onjad\\anaconda3\\lib\\site-packages\\sklearn\\utils\\validation.py:509: UserWarning: pandas.DataFrame with sparse columns found.It will be converted to a dense numpy array.\n",
      "  warnings.warn(\n",
      "C:\\Users\\onjad\\anaconda3\\lib\\site-packages\\sklearn\\utils\\validation.py:509: UserWarning: pandas.DataFrame with sparse columns found.It will be converted to a dense numpy array.\n",
      "  warnings.warn(\n",
      "<ipython-input-38-81ff8b0ca0d3>:12: DataConversionWarning: A column-vector y was passed when a 1d array was expected. Please change the shape of y to (n_samples, ), for example using ravel().\n",
      "  knn.fit(X_train, y_train)\n",
      "C:\\Users\\onjad\\anaconda3\\lib\\site-packages\\sklearn\\utils\\validation.py:509: UserWarning: pandas.DataFrame with sparse columns found.It will be converted to a dense numpy array.\n",
      "  warnings.warn(\n",
      "C:\\Users\\onjad\\anaconda3\\lib\\site-packages\\sklearn\\utils\\validation.py:509: UserWarning: pandas.DataFrame with sparse columns found.It will be converted to a dense numpy array.\n",
      "  warnings.warn(\n",
      "<ipython-input-38-81ff8b0ca0d3>:12: DataConversionWarning: A column-vector y was passed when a 1d array was expected. Please change the shape of y to (n_samples, ), for example using ravel().\n",
      "  knn.fit(X_train, y_train)\n",
      "C:\\Users\\onjad\\anaconda3\\lib\\site-packages\\sklearn\\utils\\validation.py:509: UserWarning: pandas.DataFrame with sparse columns found.It will be converted to a dense numpy array.\n",
      "  warnings.warn(\n",
      "C:\\Users\\onjad\\anaconda3\\lib\\site-packages\\sklearn\\utils\\validation.py:509: UserWarning: pandas.DataFrame with sparse columns found.It will be converted to a dense numpy array.\n",
      "  warnings.warn(\n",
      "<ipython-input-38-81ff8b0ca0d3>:12: DataConversionWarning: A column-vector y was passed when a 1d array was expected. Please change the shape of y to (n_samples, ), for example using ravel().\n",
      "  knn.fit(X_train, y_train)\n",
      "C:\\Users\\onjad\\anaconda3\\lib\\site-packages\\sklearn\\utils\\validation.py:509: UserWarning: pandas.DataFrame with sparse columns found.It will be converted to a dense numpy array.\n",
      "  warnings.warn(\n",
      "C:\\Users\\onjad\\anaconda3\\lib\\site-packages\\sklearn\\utils\\validation.py:509: UserWarning: pandas.DataFrame with sparse columns found.It will be converted to a dense numpy array.\n",
      "  warnings.warn(\n",
      "<ipython-input-38-81ff8b0ca0d3>:12: DataConversionWarning: A column-vector y was passed when a 1d array was expected. Please change the shape of y to (n_samples, ), for example using ravel().\n",
      "  knn.fit(X_train, y_train)\n",
      "C:\\Users\\onjad\\anaconda3\\lib\\site-packages\\sklearn\\utils\\validation.py:509: UserWarning: pandas.DataFrame with sparse columns found.It will be converted to a dense numpy array.\n",
      "  warnings.warn(\n",
      "C:\\Users\\onjad\\anaconda3\\lib\\site-packages\\sklearn\\utils\\validation.py:509: UserWarning: pandas.DataFrame with sparse columns found.It will be converted to a dense numpy array.\n",
      "  warnings.warn(\n",
      "<ipython-input-38-81ff8b0ca0d3>:12: DataConversionWarning: A column-vector y was passed when a 1d array was expected. Please change the shape of y to (n_samples, ), for example using ravel().\n",
      "  knn.fit(X_train, y_train)\n",
      "C:\\Users\\onjad\\anaconda3\\lib\\site-packages\\sklearn\\utils\\validation.py:509: UserWarning: pandas.DataFrame with sparse columns found.It will be converted to a dense numpy array.\n",
      "  warnings.warn(\n",
      "C:\\Users\\onjad\\anaconda3\\lib\\site-packages\\sklearn\\utils\\validation.py:509: UserWarning: pandas.DataFrame with sparse columns found.It will be converted to a dense numpy array.\n",
      "  warnings.warn(\n",
      "<ipython-input-38-81ff8b0ca0d3>:12: DataConversionWarning: A column-vector y was passed when a 1d array was expected. Please change the shape of y to (n_samples, ), for example using ravel().\n",
      "  knn.fit(X_train, y_train)\n",
      "C:\\Users\\onjad\\anaconda3\\lib\\site-packages\\sklearn\\utils\\validation.py:509: UserWarning: pandas.DataFrame with sparse columns found.It will be converted to a dense numpy array.\n",
      "  warnings.warn(\n",
      "C:\\Users\\onjad\\anaconda3\\lib\\site-packages\\sklearn\\utils\\validation.py:509: UserWarning: pandas.DataFrame with sparse columns found.It will be converted to a dense numpy array.\n",
      "  warnings.warn(\n",
      "<ipython-input-38-81ff8b0ca0d3>:12: DataConversionWarning: A column-vector y was passed when a 1d array was expected. Please change the shape of y to (n_samples, ), for example using ravel().\n",
      "  knn.fit(X_train, y_train)\n",
      "C:\\Users\\onjad\\anaconda3\\lib\\site-packages\\sklearn\\utils\\validation.py:509: UserWarning: pandas.DataFrame with sparse columns found.It will be converted to a dense numpy array.\n",
      "  warnings.warn(\n",
      "C:\\Users\\onjad\\anaconda3\\lib\\site-packages\\sklearn\\utils\\validation.py:509: UserWarning: pandas.DataFrame with sparse columns found.It will be converted to a dense numpy array.\n",
      "  warnings.warn(\n",
      "<ipython-input-38-81ff8b0ca0d3>:12: DataConversionWarning: A column-vector y was passed when a 1d array was expected. Please change the shape of y to (n_samples, ), for example using ravel().\n",
      "  knn.fit(X_train, y_train)\n",
      "C:\\Users\\onjad\\anaconda3\\lib\\site-packages\\sklearn\\utils\\validation.py:509: UserWarning: pandas.DataFrame with sparse columns found.It will be converted to a dense numpy array.\n",
      "  warnings.warn(\n",
      "C:\\Users\\onjad\\anaconda3\\lib\\site-packages\\sklearn\\utils\\validation.py:509: UserWarning: pandas.DataFrame with sparse columns found.It will be converted to a dense numpy array.\n",
      "  warnings.warn(\n"
     ]
    },
    {
     "name": "stderr",
     "output_type": "stream",
     "text": [
      "<ipython-input-38-81ff8b0ca0d3>:12: DataConversionWarning: A column-vector y was passed when a 1d array was expected. Please change the shape of y to (n_samples, ), for example using ravel().\n",
      "  knn.fit(X_train, y_train)\n",
      "C:\\Users\\onjad\\anaconda3\\lib\\site-packages\\sklearn\\utils\\validation.py:509: UserWarning: pandas.DataFrame with sparse columns found.It will be converted to a dense numpy array.\n",
      "  warnings.warn(\n",
      "C:\\Users\\onjad\\anaconda3\\lib\\site-packages\\sklearn\\utils\\validation.py:509: UserWarning: pandas.DataFrame with sparse columns found.It will be converted to a dense numpy array.\n",
      "  warnings.warn(\n",
      "<ipython-input-38-81ff8b0ca0d3>:12: DataConversionWarning: A column-vector y was passed when a 1d array was expected. Please change the shape of y to (n_samples, ), for example using ravel().\n",
      "  knn.fit(X_train, y_train)\n",
      "C:\\Users\\onjad\\anaconda3\\lib\\site-packages\\sklearn\\utils\\validation.py:509: UserWarning: pandas.DataFrame with sparse columns found.It will be converted to a dense numpy array.\n",
      "  warnings.warn(\n",
      "C:\\Users\\onjad\\anaconda3\\lib\\site-packages\\sklearn\\utils\\validation.py:509: UserWarning: pandas.DataFrame with sparse columns found.It will be converted to a dense numpy array.\n",
      "  warnings.warn(\n",
      "<ipython-input-38-81ff8b0ca0d3>:12: DataConversionWarning: A column-vector y was passed when a 1d array was expected. Please change the shape of y to (n_samples, ), for example using ravel().\n",
      "  knn.fit(X_train, y_train)\n",
      "C:\\Users\\onjad\\anaconda3\\lib\\site-packages\\sklearn\\utils\\validation.py:509: UserWarning: pandas.DataFrame with sparse columns found.It will be converted to a dense numpy array.\n",
      "  warnings.warn(\n",
      "C:\\Users\\onjad\\anaconda3\\lib\\site-packages\\sklearn\\utils\\validation.py:509: UserWarning: pandas.DataFrame with sparse columns found.It will be converted to a dense numpy array.\n",
      "  warnings.warn(\n",
      "<ipython-input-38-81ff8b0ca0d3>:12: DataConversionWarning: A column-vector y was passed when a 1d array was expected. Please change the shape of y to (n_samples, ), for example using ravel().\n",
      "  knn.fit(X_train, y_train)\n",
      "C:\\Users\\onjad\\anaconda3\\lib\\site-packages\\sklearn\\utils\\validation.py:509: UserWarning: pandas.DataFrame with sparse columns found.It will be converted to a dense numpy array.\n",
      "  warnings.warn(\n",
      "C:\\Users\\onjad\\anaconda3\\lib\\site-packages\\sklearn\\utils\\validation.py:509: UserWarning: pandas.DataFrame with sparse columns found.It will be converted to a dense numpy array.\n",
      "  warnings.warn(\n",
      "<ipython-input-38-81ff8b0ca0d3>:12: DataConversionWarning: A column-vector y was passed when a 1d array was expected. Please change the shape of y to (n_samples, ), for example using ravel().\n",
      "  knn.fit(X_train, y_train)\n",
      "C:\\Users\\onjad\\anaconda3\\lib\\site-packages\\sklearn\\utils\\validation.py:509: UserWarning: pandas.DataFrame with sparse columns found.It will be converted to a dense numpy array.\n",
      "  warnings.warn(\n",
      "C:\\Users\\onjad\\anaconda3\\lib\\site-packages\\sklearn\\utils\\validation.py:509: UserWarning: pandas.DataFrame with sparse columns found.It will be converted to a dense numpy array.\n",
      "  warnings.warn(\n",
      "<ipython-input-38-81ff8b0ca0d3>:12: DataConversionWarning: A column-vector y was passed when a 1d array was expected. Please change the shape of y to (n_samples, ), for example using ravel().\n",
      "  knn.fit(X_train, y_train)\n",
      "C:\\Users\\onjad\\anaconda3\\lib\\site-packages\\sklearn\\utils\\validation.py:509: UserWarning: pandas.DataFrame with sparse columns found.It will be converted to a dense numpy array.\n",
      "  warnings.warn(\n",
      "C:\\Users\\onjad\\anaconda3\\lib\\site-packages\\sklearn\\utils\\validation.py:509: UserWarning: pandas.DataFrame with sparse columns found.It will be converted to a dense numpy array.\n",
      "  warnings.warn(\n",
      "<ipython-input-38-81ff8b0ca0d3>:12: DataConversionWarning: A column-vector y was passed when a 1d array was expected. Please change the shape of y to (n_samples, ), for example using ravel().\n",
      "  knn.fit(X_train, y_train)\n",
      "C:\\Users\\onjad\\anaconda3\\lib\\site-packages\\sklearn\\utils\\validation.py:509: UserWarning: pandas.DataFrame with sparse columns found.It will be converted to a dense numpy array.\n",
      "  warnings.warn(\n",
      "C:\\Users\\onjad\\anaconda3\\lib\\site-packages\\sklearn\\utils\\validation.py:509: UserWarning: pandas.DataFrame with sparse columns found.It will be converted to a dense numpy array.\n",
      "  warnings.warn(\n",
      "<ipython-input-38-81ff8b0ca0d3>:12: DataConversionWarning: A column-vector y was passed when a 1d array was expected. Please change the shape of y to (n_samples, ), for example using ravel().\n",
      "  knn.fit(X_train, y_train)\n",
      "C:\\Users\\onjad\\anaconda3\\lib\\site-packages\\sklearn\\utils\\validation.py:509: UserWarning: pandas.DataFrame with sparse columns found.It will be converted to a dense numpy array.\n",
      "  warnings.warn(\n",
      "C:\\Users\\onjad\\anaconda3\\lib\\site-packages\\sklearn\\utils\\validation.py:509: UserWarning: pandas.DataFrame with sparse columns found.It will be converted to a dense numpy array.\n",
      "  warnings.warn(\n",
      "<ipython-input-38-81ff8b0ca0d3>:12: DataConversionWarning: A column-vector y was passed when a 1d array was expected. Please change the shape of y to (n_samples, ), for example using ravel().\n",
      "  knn.fit(X_train, y_train)\n",
      "C:\\Users\\onjad\\anaconda3\\lib\\site-packages\\sklearn\\utils\\validation.py:509: UserWarning: pandas.DataFrame with sparse columns found.It will be converted to a dense numpy array.\n",
      "  warnings.warn(\n",
      "C:\\Users\\onjad\\anaconda3\\lib\\site-packages\\sklearn\\utils\\validation.py:509: UserWarning: pandas.DataFrame with sparse columns found.It will be converted to a dense numpy array.\n",
      "  warnings.warn(\n",
      "<ipython-input-38-81ff8b0ca0d3>:12: DataConversionWarning: A column-vector y was passed when a 1d array was expected. Please change the shape of y to (n_samples, ), for example using ravel().\n",
      "  knn.fit(X_train, y_train)\n",
      "C:\\Users\\onjad\\anaconda3\\lib\\site-packages\\sklearn\\utils\\validation.py:509: UserWarning: pandas.DataFrame with sparse columns found.It will be converted to a dense numpy array.\n",
      "  warnings.warn(\n",
      "C:\\Users\\onjad\\anaconda3\\lib\\site-packages\\sklearn\\utils\\validation.py:509: UserWarning: pandas.DataFrame with sparse columns found.It will be converted to a dense numpy array.\n",
      "  warnings.warn(\n",
      "<ipython-input-38-81ff8b0ca0d3>:12: DataConversionWarning: A column-vector y was passed when a 1d array was expected. Please change the shape of y to (n_samples, ), for example using ravel().\n",
      "  knn.fit(X_train, y_train)\n",
      "C:\\Users\\onjad\\anaconda3\\lib\\site-packages\\sklearn\\utils\\validation.py:509: UserWarning: pandas.DataFrame with sparse columns found.It will be converted to a dense numpy array.\n",
      "  warnings.warn(\n",
      "C:\\Users\\onjad\\anaconda3\\lib\\site-packages\\sklearn\\utils\\validation.py:509: UserWarning: pandas.DataFrame with sparse columns found.It will be converted to a dense numpy array.\n",
      "  warnings.warn(\n",
      "<ipython-input-38-81ff8b0ca0d3>:12: DataConversionWarning: A column-vector y was passed when a 1d array was expected. Please change the shape of y to (n_samples, ), for example using ravel().\n",
      "  knn.fit(X_train, y_train)\n",
      "C:\\Users\\onjad\\anaconda3\\lib\\site-packages\\sklearn\\utils\\validation.py:509: UserWarning: pandas.DataFrame with sparse columns found.It will be converted to a dense numpy array.\n",
      "  warnings.warn(\n",
      "C:\\Users\\onjad\\anaconda3\\lib\\site-packages\\sklearn\\utils\\validation.py:509: UserWarning: pandas.DataFrame with sparse columns found.It will be converted to a dense numpy array.\n",
      "  warnings.warn(\n",
      "<ipython-input-38-81ff8b0ca0d3>:12: DataConversionWarning: A column-vector y was passed when a 1d array was expected. Please change the shape of y to (n_samples, ), for example using ravel().\n",
      "  knn.fit(X_train, y_train)\n",
      "C:\\Users\\onjad\\anaconda3\\lib\\site-packages\\sklearn\\utils\\validation.py:509: UserWarning: pandas.DataFrame with sparse columns found.It will be converted to a dense numpy array.\n",
      "  warnings.warn(\n",
      "C:\\Users\\onjad\\anaconda3\\lib\\site-packages\\sklearn\\utils\\validation.py:509: UserWarning: pandas.DataFrame with sparse columns found.It will be converted to a dense numpy array.\n",
      "  warnings.warn(\n",
      "<ipython-input-38-81ff8b0ca0d3>:12: DataConversionWarning: A column-vector y was passed when a 1d array was expected. Please change the shape of y to (n_samples, ), for example using ravel().\n",
      "  knn.fit(X_train, y_train)\n",
      "C:\\Users\\onjad\\anaconda3\\lib\\site-packages\\sklearn\\utils\\validation.py:509: UserWarning: pandas.DataFrame with sparse columns found.It will be converted to a dense numpy array.\n",
      "  warnings.warn(\n",
      "C:\\Users\\onjad\\anaconda3\\lib\\site-packages\\sklearn\\utils\\validation.py:509: UserWarning: pandas.DataFrame with sparse columns found.It will be converted to a dense numpy array.\n",
      "  warnings.warn(\n"
     ]
    },
    {
     "name": "stderr",
     "output_type": "stream",
     "text": [
      "<ipython-input-38-81ff8b0ca0d3>:12: DataConversionWarning: A column-vector y was passed when a 1d array was expected. Please change the shape of y to (n_samples, ), for example using ravel().\n",
      "  knn.fit(X_train, y_train)\n",
      "C:\\Users\\onjad\\anaconda3\\lib\\site-packages\\sklearn\\utils\\validation.py:509: UserWarning: pandas.DataFrame with sparse columns found.It will be converted to a dense numpy array.\n",
      "  warnings.warn(\n",
      "C:\\Users\\onjad\\anaconda3\\lib\\site-packages\\sklearn\\utils\\validation.py:509: UserWarning: pandas.DataFrame with sparse columns found.It will be converted to a dense numpy array.\n",
      "  warnings.warn(\n",
      "<ipython-input-38-81ff8b0ca0d3>:12: DataConversionWarning: A column-vector y was passed when a 1d array was expected. Please change the shape of y to (n_samples, ), for example using ravel().\n",
      "  knn.fit(X_train, y_train)\n",
      "C:\\Users\\onjad\\anaconda3\\lib\\site-packages\\sklearn\\utils\\validation.py:509: UserWarning: pandas.DataFrame with sparse columns found.It will be converted to a dense numpy array.\n",
      "  warnings.warn(\n",
      "C:\\Users\\onjad\\anaconda3\\lib\\site-packages\\sklearn\\utils\\validation.py:509: UserWarning: pandas.DataFrame with sparse columns found.It will be converted to a dense numpy array.\n",
      "  warnings.warn(\n",
      "<ipython-input-38-81ff8b0ca0d3>:12: DataConversionWarning: A column-vector y was passed when a 1d array was expected. Please change the shape of y to (n_samples, ), for example using ravel().\n",
      "  knn.fit(X_train, y_train)\n",
      "C:\\Users\\onjad\\anaconda3\\lib\\site-packages\\sklearn\\utils\\validation.py:509: UserWarning: pandas.DataFrame with sparse columns found.It will be converted to a dense numpy array.\n",
      "  warnings.warn(\n",
      "C:\\Users\\onjad\\anaconda3\\lib\\site-packages\\sklearn\\utils\\validation.py:509: UserWarning: pandas.DataFrame with sparse columns found.It will be converted to a dense numpy array.\n",
      "  warnings.warn(\n",
      "<ipython-input-38-81ff8b0ca0d3>:12: DataConversionWarning: A column-vector y was passed when a 1d array was expected. Please change the shape of y to (n_samples, ), for example using ravel().\n",
      "  knn.fit(X_train, y_train)\n",
      "C:\\Users\\onjad\\anaconda3\\lib\\site-packages\\sklearn\\utils\\validation.py:509: UserWarning: pandas.DataFrame with sparse columns found.It will be converted to a dense numpy array.\n",
      "  warnings.warn(\n",
      "C:\\Users\\onjad\\anaconda3\\lib\\site-packages\\sklearn\\utils\\validation.py:509: UserWarning: pandas.DataFrame with sparse columns found.It will be converted to a dense numpy array.\n",
      "  warnings.warn(\n",
      "<ipython-input-38-81ff8b0ca0d3>:12: DataConversionWarning: A column-vector y was passed when a 1d array was expected. Please change the shape of y to (n_samples, ), for example using ravel().\n",
      "  knn.fit(X_train, y_train)\n",
      "C:\\Users\\onjad\\anaconda3\\lib\\site-packages\\sklearn\\utils\\validation.py:509: UserWarning: pandas.DataFrame with sparse columns found.It will be converted to a dense numpy array.\n",
      "  warnings.warn(\n",
      "C:\\Users\\onjad\\anaconda3\\lib\\site-packages\\sklearn\\utils\\validation.py:509: UserWarning: pandas.DataFrame with sparse columns found.It will be converted to a dense numpy array.\n",
      "  warnings.warn(\n",
      "<ipython-input-38-81ff8b0ca0d3>:12: DataConversionWarning: A column-vector y was passed when a 1d array was expected. Please change the shape of y to (n_samples, ), for example using ravel().\n",
      "  knn.fit(X_train, y_train)\n",
      "C:\\Users\\onjad\\anaconda3\\lib\\site-packages\\sklearn\\utils\\validation.py:509: UserWarning: pandas.DataFrame with sparse columns found.It will be converted to a dense numpy array.\n",
      "  warnings.warn(\n",
      "C:\\Users\\onjad\\anaconda3\\lib\\site-packages\\sklearn\\utils\\validation.py:509: UserWarning: pandas.DataFrame with sparse columns found.It will be converted to a dense numpy array.\n",
      "  warnings.warn(\n",
      "<ipython-input-38-81ff8b0ca0d3>:12: DataConversionWarning: A column-vector y was passed when a 1d array was expected. Please change the shape of y to (n_samples, ), for example using ravel().\n",
      "  knn.fit(X_train, y_train)\n",
      "C:\\Users\\onjad\\anaconda3\\lib\\site-packages\\sklearn\\utils\\validation.py:509: UserWarning: pandas.DataFrame with sparse columns found.It will be converted to a dense numpy array.\n",
      "  warnings.warn(\n",
      "C:\\Users\\onjad\\anaconda3\\lib\\site-packages\\sklearn\\utils\\validation.py:509: UserWarning: pandas.DataFrame with sparse columns found.It will be converted to a dense numpy array.\n",
      "  warnings.warn(\n",
      "<ipython-input-38-81ff8b0ca0d3>:12: DataConversionWarning: A column-vector y was passed when a 1d array was expected. Please change the shape of y to (n_samples, ), for example using ravel().\n",
      "  knn.fit(X_train, y_train)\n",
      "C:\\Users\\onjad\\anaconda3\\lib\\site-packages\\sklearn\\utils\\validation.py:509: UserWarning: pandas.DataFrame with sparse columns found.It will be converted to a dense numpy array.\n",
      "  warnings.warn(\n",
      "C:\\Users\\onjad\\anaconda3\\lib\\site-packages\\sklearn\\utils\\validation.py:509: UserWarning: pandas.DataFrame with sparse columns found.It will be converted to a dense numpy array.\n",
      "  warnings.warn(\n",
      "<ipython-input-38-81ff8b0ca0d3>:12: DataConversionWarning: A column-vector y was passed when a 1d array was expected. Please change the shape of y to (n_samples, ), for example using ravel().\n",
      "  knn.fit(X_train, y_train)\n",
      "C:\\Users\\onjad\\anaconda3\\lib\\site-packages\\sklearn\\utils\\validation.py:509: UserWarning: pandas.DataFrame with sparse columns found.It will be converted to a dense numpy array.\n",
      "  warnings.warn(\n",
      "C:\\Users\\onjad\\anaconda3\\lib\\site-packages\\sklearn\\utils\\validation.py:509: UserWarning: pandas.DataFrame with sparse columns found.It will be converted to a dense numpy array.\n",
      "  warnings.warn(\n",
      "<ipython-input-38-81ff8b0ca0d3>:12: DataConversionWarning: A column-vector y was passed when a 1d array was expected. Please change the shape of y to (n_samples, ), for example using ravel().\n",
      "  knn.fit(X_train, y_train)\n",
      "C:\\Users\\onjad\\anaconda3\\lib\\site-packages\\sklearn\\utils\\validation.py:509: UserWarning: pandas.DataFrame with sparse columns found.It will be converted to a dense numpy array.\n",
      "  warnings.warn(\n",
      "C:\\Users\\onjad\\anaconda3\\lib\\site-packages\\sklearn\\utils\\validation.py:509: UserWarning: pandas.DataFrame with sparse columns found.It will be converted to a dense numpy array.\n",
      "  warnings.warn(\n",
      "<ipython-input-38-81ff8b0ca0d3>:12: DataConversionWarning: A column-vector y was passed when a 1d array was expected. Please change the shape of y to (n_samples, ), for example using ravel().\n",
      "  knn.fit(X_train, y_train)\n",
      "C:\\Users\\onjad\\anaconda3\\lib\\site-packages\\sklearn\\utils\\validation.py:509: UserWarning: pandas.DataFrame with sparse columns found.It will be converted to a dense numpy array.\n",
      "  warnings.warn(\n"
     ]
    },
    {
     "data": {
      "image/png": "[encoded data removed]",
      "text/plain": [
       "<Figure size 720x432 with 1 Axes>"
      ]
     },
     "metadata": {
      "needs_background": "light"
     },
     "output_type": "display_data"
    }
   ],
   "source": [
    "# Classifier(K-Nearest Neighbors)\n",
    "from sklearn.neighbors import KNeighborsClassifier\n",
    "knn = KNeighborsClassifier(n_neighbors=1)\n",
    "knn.fit(X_train,y_train)\n",
    "pred_knn = knn.predict(X_test)\n",
    "print('\\n\\n ACCURACY SCORE IS:', accuracy_score(true, pred_knn))\n",
    "\n",
    "# BEST VALUE OF K (Will take some time)\n",
    "error_rate = []\n",
    "for i in range(1, 40):\n",
    "    knn = KNeighborsClassifier(n_neighbors=i)\n",
    "    knn.fit(X_train, y_train)\n",
    "    pred_i = knn.predict(X_test)\n",
    "    pred_i = pred_i.reshape(25, 1)\n",
    "    error_rate.append(np.mean(pred_i != y_test))\n",
    "\n",
    "plt.figure(figsize=(10, 6))\n",
    "plt.plot(range(1, 40), error_rate, color='blue', linestyle='dashed', marker='o',\n",
    "          markerfacecolor='red', markersize=10)\n",
    "plt.title('Error Rate vs. K Value')\n",
    "plt.xlabel('K')\n",
    "plt.ylabel('Error Rate')\n",
    "plt.show()"
   ]
  },
  {
   "cell_type": "code",
   "execution_count": 44,
   "metadata": {},
   "outputs": [
    {
     "name": "stdout",
     "output_type": "stream",
     "text": [
      "\n",
      " CONFUSION MATRIX:\n",
      " [[11  1]\n",
      " [ 4  9]]\n",
      "\n",
      "\n",
      " ACCURACY SCORE IS: 0.8\n"
     ]
    },
    {
     "name": "stderr",
     "output_type": "stream",
     "text": [
      "C:\\Users\\onjad\\anaconda3\\lib\\site-packages\\sklearn\\utils\\validation.py:509: UserWarning: pandas.DataFrame with sparse columns found.It will be converted to a dense numpy array.\n",
      "  warnings.warn(\n",
      "<ipython-input-44-65f51a1c4227>:3: DataConversionWarning: A column-vector y was passed when a 1d array was expected. Please change the shape of y to (n_samples, ), for example using ravel().\n",
      "  knn.fit(X_train, y_train)\n",
      "C:\\Users\\onjad\\anaconda3\\lib\\site-packages\\sklearn\\utils\\validation.py:509: UserWarning: pandas.DataFrame with sparse columns found.It will be converted to a dense numpy array.\n",
      "  warnings.warn(\n"
     ]
    }
   ],
   "source": [
    "# KNN with best K\n",
    "knn = KNeighborsClassifier(n_neighbors=23)\n",
    "knn.fit(X_train, y_train)\n",
    "pred_knn = knn.predict(X_test)\n",
    "print('\\n CONFUSION MATRIX:\\n', confusion_matrix(true, pred_knn))\n",
    "print('\\n\\n ACCURACY SCORE IS:', accuracy_score(true, pred_knn))"
   ]
  },
  {
   "cell_type": "code",
   "execution_count": 40,
   "metadata": {},
   "outputs": [
    {
     "name": "stdout",
     "output_type": "stream",
     "text": [
      "\n",
      " CONFUSION MATRIX:\n",
      " [[10  2]\n",
      " [ 6  7]]\n",
      "\n",
      "\n",
      " ACCURACY SCORE IS: 0.68\n"
     ]
    },
    {
     "name": "stderr",
     "output_type": "stream",
     "text": [
      "C:\\Users\\onjad\\anaconda3\\lib\\site-packages\\sklearn\\utils\\validation.py:509: UserWarning: pandas.DataFrame with sparse columns found.It will be converted to a dense numpy array.\n",
      "  warnings.warn(\n",
      "C:\\Users\\onjad\\anaconda3\\lib\\site-packages\\sklearn\\utils\\validation.py:73: DataConversionWarning: A column-vector y was passed when a 1d array was expected. Please change the shape of y to (n_samples, ), for example using ravel().\n",
      "  return f(**kwargs)\n",
      "C:\\Users\\onjad\\anaconda3\\lib\\site-packages\\sklearn\\utils\\validation.py:509: UserWarning: pandas.DataFrame with sparse columns found.It will be converted to a dense numpy array.\n",
      "  warnings.warn(\n"
     ]
    }
   ],
   "source": [
    "# Classifier (Logistic Regression)\n",
    "from sklearn.linear_model import LogisticRegression\n",
    "logmodel = LogisticRegression()\n",
    "logmodel.fit(X_train,y_train)\n",
    "pred_log = logmodel.predict(X_test)\n",
    "print('\\n CONFUSION MATRIX:\\n', confusion_matrix(true, pred_log))\n",
    "print('\\n\\n ACCURACY SCORE IS:', accuracy_score(true, pred_log))"
   ]
  },
  {
   "cell_type": "code",
   "execution_count": 41,
   "metadata": {},
   "outputs": [
    {
     "name": "stderr",
     "output_type": "stream",
     "text": [
      "C:\\Users\\onjad\\anaconda3\\lib\\site-packages\\sklearn\\utils\\validation.py:509: UserWarning: pandas.DataFrame with sparse columns found.It will be converted to a dense numpy array.\n",
      "  warnings.warn(\n"
     ]
    },
    {
     "name": "stdout",
     "output_type": "stream",
     "text": [
      "\n",
      " CONFUSION MATRIX:\n",
      " [[ 4  8]\n",
      " [ 1 12]]\n",
      "\n",
      "\n",
      " ACCURACY SCORE IS: 0.64 \n",
      "\n"
     ]
    },
    {
     "name": "stderr",
     "output_type": "stream",
     "text": [
      "C:\\Users\\onjad\\anaconda3\\lib\\site-packages\\sklearn\\utils\\validation.py:73: DataConversionWarning: A column-vector y was passed when a 1d array was expected. Please change the shape of y to (n_samples, ), for example using ravel().\n",
      "  return f(**kwargs)\n",
      "C:\\Users\\onjad\\anaconda3\\lib\\site-packages\\sklearn\\utils\\validation.py:509: UserWarning: pandas.DataFrame with sparse columns found.It will be converted to a dense numpy array.\n",
      "  warnings.warn(\n"
     ]
    }
   ],
   "source": [
    "# Classifier (Naive Bayes)\n",
    "from sklearn.naive_bayes import MultinomialNB\n",
    "nb = MultinomialNB()\n",
    "nb.fit(X_train,y_train)\n",
    "pred_naive = nb.predict(X_test)\n",
    "print('\\n CONFUSION MATRIX:\\n', confusion_matrix(true, pred_naive))\n",
    "print('\\n\\n ACCURACY SCORE IS:', accuracy_score(true, pred_naive), '\\n')"
   ]
  },
  {
   "cell_type": "code",
   "execution_count": 45,
   "metadata": {},
   "outputs": [
    {
     "name": "stdout",
     "output_type": "stream",
     "text": [
      "ACCURACY SCORE OF EACH CLASSIFIER:\n",
      "\n",
      "NEURAL NETWORK: 0.76\n",
      "RANDOM FOREST: 0.84\n",
      "DECISION TREE: 0.64\n",
      "SVM: 0.64\n",
      "K NEAREST NEIGHBORS: 0.8\n",
      "LOGISTIC REGRESSION: 0.68\n",
      "NAIVE BAYES: 0.64\n"
     ]
    }
   ],
   "source": [
    "print('ACCURACY SCORE OF EACH CLASSIFIER:\\n')\n",
    "print('NEURAL NETWORK:', accuracy_score(true, pred))\n",
    "print('RANDOM FOREST:', accuracy_score(true, pred_rfc))\n",
    "print('DECISION TREE:', accuracy_score(true, pred_tree))\n",
    "print('SVM:', accuracy_score(true, pred_svm))\n",
    "print('K NEAREST NEIGHBORS:', accuracy_score(true, pred_knn))\n",
    "print('LOGISTIC REGRESSION:', accuracy_score(true, pred_log))\n",
    "print('NAIVE BAYES:', accuracy_score(true, pred_naive))"
   ]
  },
  {
   "cell_type": "code",
   "execution_count": 46,
   "metadata": {},
   "outputs": [
    {
     "name": "stdout",
     "output_type": "stream",
     "text": [
      "Saved model to disk\n",
      "Loaded model from disk\n",
      "accuracy: 76.00%\n"
     ]
    }
   ],
   "source": [
    "from tensorflow.keras.models import model_from_json\n",
    "\n",
    "# serialize model to JSON\n",
    "model_json = model.to_json()\n",
    "\n",
    "with open(\"model.json\", \"w\") as json_file:\n",
    "    json_file.write(model_json)\n",
    "\n",
    "# serialize weights to HDF5\n",
    "model.save_weights(\"model_O.h5\")\n",
    "print(\"Saved model to disk\")\n",
    " \n",
    "# load json and create model\n",
    "json_file = open('model.json', 'r')\n",
    "loaded_model_json = json_file.read()\n",
    "json_file.close()\n",
    "loaded_model = model_from_json(loaded_model_json)\n",
    "\n",
    "# load weights into new model\n",
    "loaded_model.load_weights(\"model_O.h5\")\n",
    "print(\"Loaded model from disk\")\n",
    " \n",
    "# evaluate loaded model on test data\n",
    "loaded_model.compile(loss='binary_crossentropy', optimizer='adam', metrics=['accuracy'])\n",
    "score = loaded_model.evaluate(X_test, y_test, verbose=0)\n",
    "print(\"%s: %.2f%%\" % (loaded_model.metrics_names[1], score[1]*100))"
   ]
  },
  {
   "cell_type": "code",
   "execution_count": null,
   "metadata": {},
   "outputs": [],
   "source": []
  }
 ],
 "metadata": {
  "kernelspec": {
   "display_name": "Python 3",
   "language": "python",
   "name": "python3"
  },
  "language_info": {
   "codemirror_mode": {
    "name": "ipython",
    "version": 3
   },
   "file_extension": ".py",
   "mimetype": "text/x-python",
   "name": "python",
   "nbconvert_exporter": "python",
   "pygments_lexer": "ipython3",
   "version": "3.8.5"
  }
 },
 "nbformat": 4,
 "nbformat_minor": 4
}
