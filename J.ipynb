{
 "cells": [
  {
   "cell_type": "code",
   "execution_count": 1,
   "metadata": {},
   "outputs": [],
   "source": [
    "import pandas as pd\n",
    "import numpy as np\n",
    "import matplotlib.pyplot as plt\n",
    "import seaborn as sns\n",
    "%matplotlib inline\n",
    "\n",
    "import os"
   ]
  },
  {
   "cell_type": "markdown",
   "metadata": {},
   "source": [
    "# DATA IMPORT"
   ]
  },
  {
   "cell_type": "markdown",
   "metadata": {},
   "source": [
    "IMPORT TEXT FILES "
   ]
  },
  {
   "cell_type": "code",
   "execution_count": 2,
   "metadata": {},
   "outputs": [],
   "source": [
    "# TRAINING SET\n",
    "\n",
    "#Bankrupt_perfo\n",
    "bankrupted_perfo_reports = os.listdir('C:/Users/onjad/OneDrive/Documents/RESEARCH PHD/article 3/CODES/DATAFRAMES/performance/bankrupted/trainB')\n",
    "bankrupted_perfo_reports = [file for file in bankrupted_perfo_reports]\n",
    "\n",
    "bankrupted_perfo_file = []\n",
    "for report in range(0, len(bankrupted_perfo_reports)):\n",
    "    with open(f\"C:/Users/onjad/OneDrive/Documents/RESEARCH PHD/article 3/CODES/DATAFRAMES/performance/bankrupted/trainB/{bankrupted_perfo_reports[report]}\", encoding=\"utf8\") as file:\n",
    "        perfo_filesB = file.read()\n",
    "        bankrupted_perfo_file.append(perfo_filesB)\n",
    "\n",
    "\n",
    "#Bankrupt_kadai\n",
    "bankrupted_kadai_reports = os.listdir('C:/Users/onjad/OneDrive/Documents/RESEARCH PHD/article 3/CODES/DATAFRAMES/kadai/bankrupted/trainB')\n",
    "bankrupted_kadai_reports = [file for file in bankrupted_kadai_reports]\n",
    "\n",
    "bankrupted_kadai_file = []\n",
    "for report in range(0, len(bankrupted_kadai_reports)):\n",
    "    with open(f\"C:/Users/onjad/OneDrive/Documents/RESEARCH PHD/article 3/CODES/DATAFRAMES/kadai/bankrupted/trainB/{bankrupted_kadai_reports[report]}\", encoding=\"utf8\") as file:\n",
    "        kadai_filesB = file.read()\n",
    "        bankrupted_kadai_file.append(kadai_filesB)\n",
    "\n",
    "\n",
    "\n",
    "\n",
    "df_bankrupted_perfo = pd.DataFrame(bankrupted_perfo_file)\n",
    "df_bankrupted_perfo.columns = ['perfo']\n",
    "df_bankrupted_perfo['Y'] = 0\n",
    "\n",
    "df_bankrupted_kadai = pd.DataFrame(bankrupted_kadai_file)\n",
    "df_bankrupted_kadai.columns = ['kadai']\n",
    "df_bankrupted_kadai['Y'] = 0\n",
    "\n",
    "\n",
    "\n",
    "\n",
    "        \n",
    "#Nonbankrupt_perfo\n",
    "nonbankrupted_perfo_reports = os.listdir('C:/Users/onjad/OneDrive/Documents/RESEARCH PHD/article 3/CODES/DATAFRAMES/performance/nonbankrupted/trainNB')\n",
    "nonbankrupted_perfo_reports = [file for file in nonbankrupted_perfo_reports]\n",
    "\n",
    "nonbankrupted_perfo_file = []\n",
    "for report in range(0, len(nonbankrupted_perfo_reports)):\n",
    "    with open(f\"C:/Users/onjad/OneDrive/Documents/RESEARCH PHD/article 3/CODES/DATAFRAMES/performance/nonbankrupted/trainNB/{nonbankrupted_perfo_reports[report]}\", encoding=\"utf8\") as file:\n",
    "        perfo_filesNB = file.read()\n",
    "        nonbankrupted_perfo_file.append(perfo_filesNB)\n",
    "        \n",
    "\n",
    "#Nonbankrupt_kadai\n",
    "nonbankrupted_kadai_reports = os.listdir('C:/Users/onjad/OneDrive/Documents/RESEARCH PHD/article 3/CODES/DATAFRAMES/kadai/nonbankrupted/trainNB')\n",
    "nonbankrupted_kadai_reports = [file for file in nonbankrupted_kadai_reports]\n",
    "\n",
    "nonbankrupted_kadai_file = []\n",
    "for report in range(0, len(nonbankrupted_kadai_reports)):\n",
    "    with open(f\"C:/Users/onjad/OneDrive/Documents/RESEARCH PHD/article 3/CODES/DATAFRAMES/kadai/nonbankrupted/trainNB/{nonbankrupted_kadai_reports[report]}\", encoding=\"utf8\") as file:\n",
    "        kadai_filesNB = file.read()\n",
    "        nonbankrupted_kadai_file.append(kadai_filesNB)\n",
    "\n",
    "\n",
    "\n",
    "df_nonbankrupted_perfo = pd.DataFrame(nonbankrupted_perfo_file)\n",
    "df_nonbankrupted_perfo.columns = ['perfo']\n",
    "df_nonbankrupted_perfo['Y'] = 1\n",
    "\n",
    "\n",
    "df_nonbankrupted_kadai = pd.DataFrame(nonbankrupted_kadai_file)\n",
    "df_nonbankrupted_kadai.columns = ['kadai']\n",
    "df_nonbankrupted_kadai['Y'] = 1\n",
    "\n",
    "# concatenated_train\n",
    "\n",
    "df_perfo_train = [df_bankrupted_perfo,df_nonbankrupted_perfo]\n",
    "df_perfo_train = pd.concat(df_perfo_train, ignore_index=True)\n",
    "# print(df_perfo_train)\n",
    "\n",
    "df_kadai_train = [df_bankrupted_kadai,df_nonbankrupted_kadai]\n",
    "df_kadai_train = pd.concat(df_kadai_train, ignore_index=True)\n",
    "# print(df_kadai_train)"
   ]
  },
  {
   "cell_type": "code",
   "execution_count": 3,
   "metadata": {},
   "outputs": [],
   "source": [
    "# VALIDATION SET\n",
    "        \n",
    "#Bankrupt_perfo\n",
    "bankrupted_perfo_reports_val = os.listdir('C:/Users/onjad/OneDrive/Documents/RESEARCH PHD/article 3/CODES/DATAFRAMES/performance/bankrupted/valB')\n",
    "bankrupted_perfo_reports_val = [file for file in bankrupted_perfo_reports_val]\n",
    "\n",
    "bankrupted_perfo_file_val = []\n",
    "for report in range(0, len(bankrupted_perfo_reports_val)):\n",
    "    with open(f\"C:/Users/onjad/OneDrive/Documents/RESEARCH PHD/article 3/CODES/DATAFRAMES/performance/bankrupted/valB/{bankrupted_perfo_reports_val[report]}\", encoding=\"utf8\") as file:\n",
    "        perfo_filesB_val = file.read()\n",
    "        bankrupted_perfo_file_val.append(perfo_filesB_val)\n",
    "\n",
    "\n",
    "#Bankrupt_kadai\n",
    "bankrupted_kadai_reports_val = os.listdir('C:/Users/onjad/OneDrive/Documents/RESEARCH PHD/article 3/CODES/DATAFRAMES/kadai/bankrupted/valB')\n",
    "bankrupted_kadai_reports_val = [file for file in bankrupted_kadai_reports_val]\n",
    "\n",
    "bankrupted_kadai_file_val = []\n",
    "for report in range(0, len(bankrupted_kadai_reports_val)):\n",
    "    with open(f\"C:/Users/onjad/OneDrive/Documents/RESEARCH PHD/article 3/CODES/DATAFRAMES/kadai/bankrupted/valB/{bankrupted_kadai_reports_val[report]}\", encoding=\"utf8\") as file:\n",
    "        kadai_filesB_val = file.read()\n",
    "        bankrupted_kadai_file_val.append(kadai_filesB_val)        \n",
    "        \n",
    "\n",
    "\n",
    "df_bankrupted_perfo_val = pd.DataFrame(bankrupted_perfo_file_val)\n",
    "df_bankrupted_perfo_val.columns = ['perfo']\n",
    "df_bankrupted_perfo_val['Y'] = 0\n",
    "\n",
    "df_bankrupted_kadai_val = pd.DataFrame(bankrupted_kadai_file_val)\n",
    "df_bankrupted_kadai_val.columns = ['kadai']\n",
    "df_bankrupted_kadai_val['Y'] = 0\n",
    "\n",
    "\n",
    "#Nonbankrupt_perfo\n",
    "nonbankrupted_perfo_reports_val = os.listdir('C:/Users/onjad/OneDrive/Documents/RESEARCH PHD/article 3/CODES/DATAFRAMES/performance/nonbankrupted/valNB')\n",
    "nonbankrupted_perfo_reports_val = [file for file in nonbankrupted_perfo_reports_val]\n",
    "\n",
    "nonbankrupted_perfo_file_val = []\n",
    "for report in range(0, len(nonbankrupted_perfo_reports_val)):\n",
    "    with open(f\"C:/Users/onjad/OneDrive/Documents/RESEARCH PHD/article 3/CODES/DATAFRAMES/performance/nonbankrupted/valNB/{nonbankrupted_perfo_reports_val[report]}\", encoding=\"utf8\") as file:\n",
    "        perfo_filesNB_val = file.read()\n",
    "        nonbankrupted_perfo_file_val.append(perfo_filesNB_val)\n",
    "\n",
    "#Nonbankrupt_kadai\n",
    "nonbankrupted_kadai_reports_val = os.listdir('C:/Users/onjad/OneDrive/Documents/RESEARCH PHD/article 3/CODES/DATAFRAMES/kadai/nonbankrupted/valNB')\n",
    "nonbankrupted_kadai_reports_val = [file for file in nonbankrupted_kadai_reports_val]\n",
    "\n",
    "nonbankrupted_kadai_file_val = []\n",
    "for report in range(0, len(nonbankrupted_kadai_reports_val)):\n",
    "    with open(f\"C:/Users/onjad/OneDrive/Documents/RESEARCH PHD/article 3/CODES/DATAFRAMES/kadai/nonbankrupted/valNB/{nonbankrupted_kadai_reports_val[report]}\", encoding=\"utf8\") as file:\n",
    "        kadai_filesNB_val = file.read()\n",
    "        nonbankrupted_kadai_file_val.append(kadai_filesNB_val)\n",
    "        \n",
    "    \n",
    "\n",
    "\n",
    "df_nonbankrupted_perfo_val = pd.DataFrame(nonbankrupted_perfo_file_val)\n",
    "df_nonbankrupted_perfo_val.columns = ['perfo']\n",
    "df_nonbankrupted_perfo_val['Y'] = 1\n",
    "\n",
    "df_nonbankrupted_kadai_val = pd.DataFrame(nonbankrupted_kadai_file_val)\n",
    "df_nonbankrupted_kadai_val.columns = ['kadai']\n",
    "df_nonbankrupted_kadai_val['Y'] = 1\n",
    "\n",
    "# concatenated_val\n",
    "\n",
    "df_perfo_val = [df_bankrupted_perfo_val,df_nonbankrupted_perfo_val]\n",
    "df_perfo_val = pd.concat(df_perfo_val, ignore_index=True)\n",
    "# print(df_perfo_val)\n",
    "\n",
    "df_kadai_val = [df_bankrupted_kadai_val,df_nonbankrupted_kadai_val]\n",
    "df_kadai_val = pd.concat(df_kadai_val, ignore_index=True)\n",
    "# print(df_kadai_val)"
   ]
  },
  {
   "cell_type": "code",
   "execution_count": 4,
   "metadata": {},
   "outputs": [],
   "source": [
    "# TEST SET\n",
    "\n",
    "#Bankrupt_perfo(test data)\n",
    "bankrupted_perfo_reports_test = os.listdir('C:/Users/onjad/OneDrive/Documents/RESEARCH PHD/article 3/CODES/DATAFRAMES/performance/bankrupted/testB')\n",
    "bankrupted_perfo_reports_test = [file for file in bankrupted_perfo_reports_test]\n",
    "\n",
    "bankrupted_perfo_file_test = []\n",
    "for report in range(0, len(bankrupted_perfo_reports_test)):\n",
    "    with open(f\"C:/Users/onjad/OneDrive/Documents/RESEARCH PHD/article 3/CODES/DATAFRAMES/performance/bankrupted/testB/{bankrupted_perfo_reports_test[report]}\", encoding=\"utf8\") as file:\n",
    "        perfo_filesB_test = file.read()\n",
    "        bankrupted_perfo_file_test.append(perfo_filesB_test)\n",
    "\n",
    "\n",
    "#Bankrupt_kadai(test data)\n",
    "bankrupted_kadai_reports_test = os.listdir('C:/Users/onjad/OneDrive/Documents/RESEARCH PHD/article 3/CODES/DATAFRAMES/kadai/bankrupted/testB')\n",
    "bankrupted_kadai_reports_test = [file for file in bankrupted_kadai_reports_test]\n",
    "\n",
    "bankrupted_kadai_file_test = []\n",
    "for report in range(0, len(bankrupted_kadai_reports_test)):\n",
    "    with open(f\"C:/Users/onjad/OneDrive/Documents/RESEARCH PHD/article 3/CODES/DATAFRAMES/kadai/bankrupted/testB/{bankrupted_kadai_reports_test[report]}\", encoding=\"utf8\") as file:\n",
    "        kadai_filesB_test = file.read()\n",
    "        bankrupted_kadai_file_test.append(kadai_filesB_test)        \n",
    "\n",
    "\n",
    "df_bankrupted_perfo_test = pd.DataFrame(bankrupted_perfo_file_test)\n",
    "df_bankrupted_perfo_test.columns = ['perfo']\n",
    "df_bankrupted_perfo_test['Y'] = 0\n",
    "\n",
    "df_bankrupted_kadai_test = pd.DataFrame(bankrupted_kadai_file_test)\n",
    "df_bankrupted_kadai_test.columns = ['kadai']\n",
    "df_bankrupted_kadai_test['Y'] = 0\n",
    "\n",
    "        \n",
    "#Nonbankrupt_perfo(test data)\n",
    "nonbankrupted_perfo_reports_test = os.listdir('C:/Users/onjad/OneDrive/Documents/RESEARCH PHD/article 3/CODES/DATAFRAMES/performance/nonbankrupted/testNB')\n",
    "nonbankrupted_perfo_reports_test = [file for file in nonbankrupted_perfo_reports_test]\n",
    "\n",
    "nonbankrupted_perfo_file_test = []\n",
    "for report in range(0, len(nonbankrupted_perfo_reports_test)):\n",
    "    with open(f\"C:/Users/onjad/OneDrive/Documents/RESEARCH PHD/article 3/CODES/DATAFRAMES/performance/nonbankrupted/testNB/{nonbankrupted_perfo_reports_test[report]}\", encoding=\"utf8\") as file:\n",
    "        perfo_filesNB_test = file.read()\n",
    "        nonbankrupted_perfo_file_test.append(perfo_filesNB_test)\n",
    "\n",
    "#Nonbankrupt_kadai(test data)\n",
    "nonbankrupted_kadai_reports_test = os.listdir('C:/Users/onjad/OneDrive/Documents/RESEARCH PHD/article 3/CODES/DATAFRAMES/kadai/nonbankrupted/testNB')\n",
    "nonbankrupted_kadai_reports_test = [file for file in nonbankrupted_kadai_reports_test]\n",
    "\n",
    "nonbankrupted_kadai_file_test = []\n",
    "for report in range(0, len(nonbankrupted_kadai_reports_test)):\n",
    "    with open(f\"C:/Users/onjad/OneDrive/Documents/RESEARCH PHD/article 3/CODES/DATAFRAMES/kadai/nonbankrupted/testNB/{nonbankrupted_kadai_reports_test[report]}\", encoding=\"utf8\") as file:\n",
    "        kadai_filesNB_test = file.read()\n",
    "        nonbankrupted_kadai_file_test.append(kadai_filesNB_test)        \n",
    "        \n",
    "\n",
    "\n",
    "df_nonbankrupted_perfo_test = pd.DataFrame(nonbankrupted_perfo_file_test)\n",
    "df_nonbankrupted_perfo_test.columns = ['perfo']\n",
    "df_nonbankrupted_perfo_test['Y'] = 1\n",
    "\n",
    "df_nonbankrupted_kadai_test = pd.DataFrame(nonbankrupted_kadai_file_test)\n",
    "df_nonbankrupted_kadai_test.columns = ['kadai']\n",
    "df_nonbankrupted_kadai_test['Y'] = 1\n",
    "\n",
    "# concatenated_test\n",
    "\n",
    "df_perfo_test = [df_bankrupted_perfo_test,df_nonbankrupted_perfo_test]\n",
    "df_perfo_test = pd.concat(df_perfo_test, ignore_index=True)\n",
    "# print(df_perfo_test)\n",
    "\n",
    "df_kadai_test = [df_bankrupted_kadai_test,df_nonbankrupted_kadai_test]\n",
    "df_kadai_test = pd.concat(df_kadai_test, ignore_index=True)\n",
    "# print(df_kadai_test)"
   ]
  },
  {
   "cell_type": "markdown",
   "metadata": {},
   "source": [
    "IMPORT RATIO DATASET"
   ]
  },
  {
   "cell_type": "code",
   "execution_count": 5,
   "metadata": {},
   "outputs": [],
   "source": [
    "# TRAINING SET\n",
    "\n",
    "traindata = pd.read_csv('C:/Users/onjad/OneDrive/Documents/RESEARCH PHD/article 3/CODES/DATAFRAMES/ratios/train_ratio.csv')\n",
    "# print('TRAINING DATASET \\n:', traindata.describe().transpose())\n",
    "X_train_ratio = traindata.drop('Y', axis=1)\n",
    "y_train_ratio = traindata['Y']\n",
    "# print(sns.countplot(x = 'Y', data=traindata))\n",
    "\n",
    "# VALIDATION SET\n",
    "\n",
    "valdata = pd.read_csv('C:/Users/onjad/OneDrive/Documents/RESEARCH PHD/article 3/CODES/DATAFRAMES/ratios/val_ratio.csv')\n",
    "# print('VALIDATION DATASET \\n:', valdata.describe().transpose())\n",
    "X_val_ratio = valdata.drop('Y', axis=1)\n",
    "y_val_ratio = valdata['Y']\n",
    "\n",
    "# TEST SET\n",
    "\n",
    "testdata = pd.read_csv('C:/Users/onjad/OneDrive/Documents/RESEARCH PHD/article 3/CODES/DATAFRAMES/ratios/test_ratio.csv')\n",
    "# print('TEST DATASET \\n:', testdata.describe().transpose())\n",
    "# print('TEST DATASET \\n:', testdata)\n",
    "X_test_ratio = testdata.drop('Y', axis=1)\n",
    "y_test_ratio = testdata['Y']"
   ]
  },
  {
   "cell_type": "markdown",
   "metadata": {},
   "source": [
    "COMBINE BOTH RATIOS + TEXT DATA"
   ]
  },
  {
   "cell_type": "code",
   "execution_count": 6,
   "metadata": {},
   "outputs": [],
   "source": [
    "# ADD THE A NEW COLUMN FOR TEXT FILE\n",
    "\n",
    "X_train_ratio['perfo'] = df_perfo_train['perfo']\n",
    "X_train_ratio['kadai'] = df_kadai_train['kadai']\n",
    "\n",
    "X_val_ratio['perfo'] = df_perfo_val['perfo']\n",
    "X_val_ratio['kadai'] = df_kadai_val['kadai']\n",
    "\n",
    "X_test_ratio['perfo'] = df_perfo_test.drop('Y', axis=1)\n",
    "X_test_ratio['kadai'] = df_kadai_test['kadai']\n",
    "\n",
    "# CREATE NEW DATAFRAME FOR COMBINED DATA\n",
    "\n",
    "X_train_both = X_train_ratio\n",
    "X_val_both = X_val_ratio\n",
    "X_test_both = X_test_ratio\n",
    "\n",
    "y_train_both = y_train_ratio\n",
    "y_val_both = y_val_ratio\n",
    "y_test_both = y_test_ratio"
   ]
  },
  {
   "cell_type": "code",
   "execution_count": 7,
   "metadata": {},
   "outputs": [],
   "source": [
    "# X_train_ratio"
   ]
  },
  {
   "cell_type": "code",
   "execution_count": 8,
   "metadata": {},
   "outputs": [
    {
     "name": "stdout",
     "output_type": "stream",
     "text": [
      "Length of X (train): 92 | Length of Y (train): 92\n",
      "Length of X (validation): 20 | Length of Y (validation): 20\n",
      "Length of X (test): 25 | Length of Y (test): 25\n"
     ]
    }
   ],
   "source": [
    "print('Length of X (train): {} | Length of Y (train): {}'.format(len(X_train_both), len(y_train_both)))\n",
    "print('Length of X (validation): {} | Length of Y (validation): {}'.format(len(X_val_both), len(y_val_both)))\n",
    "print('Length of X (test): {} | Length of Y (test): {}'.format(len(X_test_both), len(y_test_both)))"
   ]
  },
  {
   "cell_type": "code",
   "execution_count": 9,
   "metadata": {},
   "outputs": [],
   "source": [
    "# print(X_test_both)\n",
    "# print(X_train_both['risk'])\n",
    "# print(X_train_both['perfo'])\n",
    "# print(X_train_both['kadai'])"
   ]
  },
  {
   "cell_type": "markdown",
   "metadata": {},
   "source": [
    "# TEXT PREPROCESSING"
   ]
  },
  {
   "cell_type": "code",
   "execution_count": 10,
   "metadata": {},
   "outputs": [],
   "source": [
    "from janome.tokenizer import Tokenizer\n",
    "from janome.analyzer import Analyzer\n",
    "from janome.charfilter import *\n",
    "from janome.tokenfilter import *\n",
    "import nltk\n",
    "import re"
   ]
  },
  {
   "cell_type": "code",
   "execution_count": 11,
   "metadata": {},
   "outputs": [],
   "source": [
    "def clean_data(risk_report_test):\n",
    "    \"\"\"Returns cleaned text data.\"\"\"\n",
    "    \n",
    "    with open(f\"C:/Users/onjad/OneDrive/Documents/RESEARCH PHD/article 3/CODES/stop_words.txt\", mode=\"r\", encoding=\"utf8\") as file:\n",
    "        stop_words = file.read()\n",
    "    \n",
    "    with open(f\"C:/Users/onjad/OneDrive/Documents/RESEARCH PHD/article 3/CODES/stop_words_accounting.txt\", mode=\"r\", encoding=\"utf8\") as file:\n",
    "        stop_words_acc = file.read()\n",
    "        \n",
    "    with open(f\"C:/Users/onjad/OneDrive/Documents/RESEARCH PHD/article 3/CODES/onaji_performance_vocab.txt\", mode=\"r\", encoding=\"utf8\") as file:\n",
    "        onaji_performance_vocab = file.read()\n",
    "    \n",
    "    with open(f\"C:/Users/onjad/OneDrive/Documents/RESEARCH PHD/article 3/CODES/onaji_kadai_vocab.txt\", mode=\"r\", encoding=\"utf8\") as file:\n",
    "        onaji_kadai_vocab = file.read()\n",
    "        \n",
    "    \n",
    "    char_filters = [UnicodeNormalizeCharFilter(), \n",
    "                    RegexReplaceCharFilter(u'キャッシュ・フロー', u'キャッシュフロー')]\n",
    "    tokenizer = Tokenizer()\n",
    "    token_filters = [CompoundNounFilter(), \n",
    "                     POSStopFilter(['記号','助詞', '数', '数接続', '接続詞','連体詞', '接頭詞', '名詞,数','非自立', '代名詞', '自動詞', '他動詞']), \n",
    "                     LowerCaseFilter()]\n",
    "\n",
    "\n",
    "    a = Analyzer(char_filters=char_filters, tokenizer=tokenizer, token_filters=token_filters)\n",
    "    \n",
    "    def filter(text):\n",
    "        \"\"\"\n",
    "        :param text: str\n",
    "        :rtype : str\n",
    "        \"\"\"\n",
    "       # アルファベットと半角英数と記号と改行とタブを排除\n",
    "        text = re.sub(r'[a-zA-Z0-9¥\"¥.¥,¥@]+', '', text)\n",
    "        text = re.sub(r'[!\"“#$%&()\\*\\+\\-\\.,\\/:;<=>?@\\[\\\\\\]^_`{|}~]', '', text)\n",
    "        text = re.sub(r'[\\n|\\r|\\t]', '', text)\n",
    "        \n",
    "        # 日本語以外の文字を排除\n",
    "        jp_chartype_tokenizer = nltk.RegexpTokenizer(u'([ぁ-んー]+|[ァ-ンー]+|[\\u4e00-\\u9FFF]+|[ぁ-んァ-ンー\\u4e00-\\u9FFF]+)')\n",
    "        text = ''.join(jp_chartype_tokenizer.tokenize(text))\n",
    "        \n",
    "        return text\n",
    "\n",
    "    nosymbol_test = filter(risk_report_test)\n",
    "    \n",
    "    doc = []\n",
    "    for token in a.analyze(nosymbol_test):\n",
    "        doc.append(token.surface)\n",
    "    doc = [x for x in doc if x not in stop_words]\n",
    "    doc = [x for x in doc if x not in stop_words_acc]\n",
    "    doc = [x for x in doc if x not in onaji_performance_vocab]\n",
    "    doc = [x for x in doc if x not in onaji_kadai_vocab]\n",
    "    doc = np.array(doc)\n",
    "    \n",
    "    return doc\n",
    "\n",
    "#     corpus = ' '.join(doc)\n",
    "#     corpus = [corpus]\n",
    "    \n",
    "#     return corpus"
   ]
  },
  {
   "cell_type": "code",
   "execution_count": 12,
   "metadata": {},
   "outputs": [],
   "source": [
    "from sklearn.feature_extraction.text import CountVectorizer, TfidfTransformer"
   ]
  },
  {
   "cell_type": "code",
   "execution_count": 13,
   "metadata": {},
   "outputs": [],
   "source": [
    "X_train_both['texts'] = X_train_both[['perfo', 'kadai']] .apply(lambda x: ''.join(x), axis=1)\n",
    "# print(X_train_both['texts'][0])\n",
    "\n",
    "X_val_both['texts'] = X_val_both[['perfo', 'kadai']] .apply(lambda x: ''.join(x), axis=1)\n",
    "# print(X_val_both['texts'][0])\n",
    "\n",
    "X_test_both['texts'] = X_test_both[['perfo', 'kadai']] .apply(lambda x: ''.join(x), axis=1)\n",
    "# print(X_test_both['texts'][0])"
   ]
  },
  {
   "cell_type": "code",
   "execution_count": 14,
   "metadata": {},
   "outputs": [],
   "source": [
    "df_text_only = pd.concat([X_train_both['texts'], X_val_both['texts'], X_test_both['texts']], ignore_index=True)\n",
    "# print(df_text_only)"
   ]
  },
  {
   "cell_type": "code",
   "execution_count": 15,
   "metadata": {},
   "outputs": [],
   "source": [
    "# print(df_text_only[91]) #train 0 a 92\n",
    "# print(df_text_only[111]) #val 92 a 112\n",
    "# print(df_text_only[112]) #test 112 a 137"
   ]
  },
  {
   "cell_type": "code",
   "execution_count": 16,
   "metadata": {},
   "outputs": [],
   "source": [
    "clean_file_transformer = CountVectorizer(analyzer=clean_data).fit(df_text_only)\n",
    "# print(clean_file_transformer.get_feature_names())"
   ]
  },
  {
   "cell_type": "code",
   "execution_count": 17,
   "metadata": {},
   "outputs": [
    {
     "name": "stdout",
     "output_type": "stream",
     "text": [
      "16695\n"
     ]
    }
   ],
   "source": [
    "print(len(clean_file_transformer.vocabulary_))"
   ]
  },
  {
   "cell_type": "code",
   "execution_count": 18,
   "metadata": {},
   "outputs": [
    {
     "name": "stdout",
     "output_type": "stream",
     "text": [
      "Shape of Sparse Matrix:  (137, 16695)\n"
     ]
    }
   ],
   "source": [
    "clean_file_bow = clean_file_transformer.transform(df_text_only)\n",
    "# print(clean_file_bow)\n",
    "print('Shape of Sparse Matrix: ', clean_file_bow.shape)"
   ]
  },
  {
   "cell_type": "code",
   "execution_count": 19,
   "metadata": {},
   "outputs": [
    {
     "name": "stdout",
     "output_type": "stream",
     "text": [
      "(137, 16695)\n"
     ]
    }
   ],
   "source": [
    "transformer_tfidf = TfidfTransformer().fit(clean_file_bow)\n",
    "clean_file_tfidf = transformer_tfidf.transform(clean_file_bow)\n",
    "\n",
    "# print(clean_file_tfidf)\n",
    "print(clean_file_tfidf.shape)"
   ]
  },
  {
   "cell_type": "markdown",
   "metadata": {},
   "source": [
    "# RATIO PREPROCESSING"
   ]
  },
  {
   "cell_type": "code",
   "execution_count": 20,
   "metadata": {},
   "outputs": [],
   "source": [
    "X_train_ratio = X_train_ratio.drop('perfo', axis=1)\n",
    "X_train_ratio = X_train_ratio.drop('kadai', axis=1)\n",
    "# X_train_ratio"
   ]
  },
  {
   "cell_type": "code",
   "execution_count": 21,
   "metadata": {},
   "outputs": [],
   "source": [
    "X_val_ratio = X_val_ratio.drop('perfo', axis=1)\n",
    "X_val_ratio = X_val_ratio.drop('kadai', axis=1)\n",
    "# print(X_val_ratio)\n",
    "\n",
    "X_test_ratio = X_test_ratio.drop('perfo', axis=1)\n",
    "X_test_ratio = X_test_ratio.drop('kadai', axis=1)\n",
    "# print(X_test_ratio)"
   ]
  },
  {
   "cell_type": "code",
   "execution_count": 22,
   "metadata": {},
   "outputs": [],
   "source": [
    "# DATA PREPROCESSING\n",
    "\n",
    "from sklearn.preprocessing import MinMaxScaler\n",
    "scaler = MinMaxScaler()\n",
    "X_train_ratio = scaler.fit_transform(X_train_ratio.drop('texts', axis=1))\n",
    "X_val_ratio = scaler.transform(X_val_ratio.drop('texts', axis=1))\n",
    "X_test_ratio = scaler.transform(X_test_ratio.drop('texts', axis=1))"
   ]
  },
  {
   "cell_type": "code",
   "execution_count": 23,
   "metadata": {},
   "outputs": [],
   "source": [
    "# X_test_ratio"
   ]
  },
  {
   "cell_type": "markdown",
   "metadata": {},
   "source": [
    "# CLASSIFICATION TASK - NEURAL NETWORK"
   ]
  },
  {
   "cell_type": "markdown",
   "metadata": {},
   "source": [
    "DATA SPLIT"
   ]
  },
  {
   "cell_type": "code",
   "execution_count": 24,
   "metadata": {},
   "outputs": [
    {
     "name": "stdout",
     "output_type": "stream",
     "text": [
      "(92, 22) (20, 22) (25, 22)\n"
     ]
    }
   ],
   "source": [
    "# RATIOS\n",
    "Xtrain_ratio = pd.DataFrame(X_train_ratio)\n",
    "Xval_ratio = pd.DataFrame(X_val_ratio)\n",
    "Xtest_ratio = pd.DataFrame(X_test_ratio)\n",
    "\n",
    "# rename columns\n",
    "Xtrain_ratio.columns = ['X19','X20','X29','X47', 'X51', 'X54', 'X59', 'X62','X63','X64','X67', 'X69', 'X70', 'X71','X72', 'X73', 'X74', 'X76','X77', 'X79', 'X80', 'X84']\n",
    "Xval_ratio.columns = ['X19','X20','X29','X47', 'X51', 'X54', 'X59', 'X62','X63','X64','X67', 'X69', 'X70', 'X71','X72', 'X73', 'X74', 'X76','X77', 'X79', 'X80', 'X84']\n",
    "Xtest_ratio.columns = ['X19','X20','X29','X47', 'X51', 'X54', 'X59', 'X62','X63','X64','X67', 'X69', 'X70', 'X71','X72', 'X73', 'X74', 'X76','X77', 'X79', 'X80', 'X84']\n",
    "\n",
    "print(Xtrain_ratio.shape, Xval_ratio.shape, Xtest_ratio.shape)"
   ]
  },
  {
   "cell_type": "code",
   "execution_count": 25,
   "metadata": {},
   "outputs": [],
   "source": [
    "# Xtest_ratio"
   ]
  },
  {
   "cell_type": "code",
   "execution_count": 26,
   "metadata": {},
   "outputs": [],
   "source": [
    "# TEXT\n",
    "X = clean_file_tfidf\n",
    "X = pd.DataFrame.sparse.from_spmatrix(X)\n",
    "X_train_text = X[:92]\n",
    "X_val_text = pd.DataFrame(X[92:112])\n",
    "X_test_text = pd.DataFrame(X[112:])"
   ]
  },
  {
   "cell_type": "code",
   "execution_count": 27,
   "metadata": {},
   "outputs": [],
   "source": [
    "X_val_text.index.delete\n",
    "X_val_text = X_val_text.reset_index(drop=True)\n",
    "# X_val_text"
   ]
  },
  {
   "cell_type": "code",
   "execution_count": 28,
   "metadata": {},
   "outputs": [],
   "source": [
    "X_test_text.index.delete\n",
    "X_test_text = X_test_text.reset_index(drop=True)\n",
    "# X_test_text"
   ]
  },
  {
   "cell_type": "code",
   "execution_count": 29,
   "metadata": {},
   "outputs": [
    {
     "name": "stdout",
     "output_type": "stream",
     "text": [
      "(92, 16695) (20, 16695) (25, 16695)\n"
     ]
    }
   ],
   "source": [
    "print(X_train_text.shape, X_val_text.shape, X_test_text.shape)"
   ]
  },
  {
   "cell_type": "code",
   "execution_count": 30,
   "metadata": {},
   "outputs": [
    {
     "name": "stdout",
     "output_type": "stream",
     "text": [
      "(92, 16717) (20, 16717) (25, 16717)\n"
     ]
    }
   ],
   "source": [
    "# INPUT VALUES X\n",
    "\n",
    "X_train = pd.concat([Xtrain_ratio, X_train_text], ignore_index=True, axis=1)\n",
    "X_val = pd.concat([Xval_ratio, X_val_text], ignore_index=True, axis=1)\n",
    "X_test = pd.concat([Xtest_ratio, X_test_text], ignore_index=True, axis=1)\n",
    "\n",
    "print(X_train.shape, X_val.shape, X_test.shape)"
   ]
  },
  {
   "cell_type": "code",
   "execution_count": 31,
   "metadata": {},
   "outputs": [],
   "source": [
    "# X_test"
   ]
  },
  {
   "cell_type": "code",
   "execution_count": 32,
   "metadata": {},
   "outputs": [
    {
     "name": "stdout",
     "output_type": "stream",
     "text": [
      "(92, 1) (20, 1) (25, 1)\n"
     ]
    }
   ],
   "source": [
    "# TARGET VALUE Y\n",
    "\n",
    "y_train = pd.DataFrame(y_train_ratio)\n",
    "y_val = pd.DataFrame(y_val_ratio)\n",
    "y_test = pd.DataFrame(y_test_ratio)\n",
    "\n",
    "print(y_train.shape, y_val.shape, y_test.shape)"
   ]
  },
  {
   "cell_type": "markdown",
   "metadata": {},
   "source": [
    "NEURAL NETWORK CLASSIFIER"
   ]
  },
  {
   "cell_type": "code",
   "execution_count": 33,
   "metadata": {},
   "outputs": [
    {
     "name": "stderr",
     "output_type": "stream",
     "text": [
      "C:\\Users\\onjad\\Anaconda3\\lib\\site-packages\\tensorflow\\python\\framework\\dtypes.py:516: FutureWarning: Passing (type, 1) or '1type' as a synonym of type is deprecated; in a future version of numpy, it will be understood as (type, (1,)) / '(1,)type'.\n",
      "  _np_qint8 = np.dtype([(\"qint8\", np.int8, 1)])\n",
      "C:\\Users\\onjad\\Anaconda3\\lib\\site-packages\\tensorflow\\python\\framework\\dtypes.py:517: FutureWarning: Passing (type, 1) or '1type' as a synonym of type is deprecated; in a future version of numpy, it will be understood as (type, (1,)) / '(1,)type'.\n",
      "  _np_quint8 = np.dtype([(\"quint8\", np.uint8, 1)])\n",
      "C:\\Users\\onjad\\Anaconda3\\lib\\site-packages\\tensorflow\\python\\framework\\dtypes.py:518: FutureWarning: Passing (type, 1) or '1type' as a synonym of type is deprecated; in a future version of numpy, it will be understood as (type, (1,)) / '(1,)type'.\n",
      "  _np_qint16 = np.dtype([(\"qint16\", np.int16, 1)])\n",
      "C:\\Users\\onjad\\Anaconda3\\lib\\site-packages\\tensorflow\\python\\framework\\dtypes.py:519: FutureWarning: Passing (type, 1) or '1type' as a synonym of type is deprecated; in a future version of numpy, it will be understood as (type, (1,)) / '(1,)type'.\n",
      "  _np_quint16 = np.dtype([(\"quint16\", np.uint16, 1)])\n",
      "C:\\Users\\onjad\\Anaconda3\\lib\\site-packages\\tensorflow\\python\\framework\\dtypes.py:520: FutureWarning: Passing (type, 1) or '1type' as a synonym of type is deprecated; in a future version of numpy, it will be understood as (type, (1,)) / '(1,)type'.\n",
      "  _np_qint32 = np.dtype([(\"qint32\", np.int32, 1)])\n",
      "C:\\Users\\onjad\\Anaconda3\\lib\\site-packages\\tensorflow\\python\\framework\\dtypes.py:525: FutureWarning: Passing (type, 1) or '1type' as a synonym of type is deprecated; in a future version of numpy, it will be understood as (type, (1,)) / '(1,)type'.\n",
      "  np_resource = np.dtype([(\"resource\", np.ubyte, 1)])\n",
      "C:\\Users\\onjad\\Anaconda3\\lib\\site-packages\\tensorboard\\compat\\tensorflow_stub\\dtypes.py:541: FutureWarning: Passing (type, 1) or '1type' as a synonym of type is deprecated; in a future version of numpy, it will be understood as (type, (1,)) / '(1,)type'.\n",
      "  _np_qint8 = np.dtype([(\"qint8\", np.int8, 1)])\n",
      "C:\\Users\\onjad\\Anaconda3\\lib\\site-packages\\tensorboard\\compat\\tensorflow_stub\\dtypes.py:542: FutureWarning: Passing (type, 1) or '1type' as a synonym of type is deprecated; in a future version of numpy, it will be understood as (type, (1,)) / '(1,)type'.\n",
      "  _np_quint8 = np.dtype([(\"quint8\", np.uint8, 1)])\n",
      "C:\\Users\\onjad\\Anaconda3\\lib\\site-packages\\tensorboard\\compat\\tensorflow_stub\\dtypes.py:543: FutureWarning: Passing (type, 1) or '1type' as a synonym of type is deprecated; in a future version of numpy, it will be understood as (type, (1,)) / '(1,)type'.\n",
      "  _np_qint16 = np.dtype([(\"qint16\", np.int16, 1)])\n",
      "C:\\Users\\onjad\\Anaconda3\\lib\\site-packages\\tensorboard\\compat\\tensorflow_stub\\dtypes.py:544: FutureWarning: Passing (type, 1) or '1type' as a synonym of type is deprecated; in a future version of numpy, it will be understood as (type, (1,)) / '(1,)type'.\n",
      "  _np_quint16 = np.dtype([(\"quint16\", np.uint16, 1)])\n",
      "C:\\Users\\onjad\\Anaconda3\\lib\\site-packages\\tensorboard\\compat\\tensorflow_stub\\dtypes.py:545: FutureWarning: Passing (type, 1) or '1type' as a synonym of type is deprecated; in a future version of numpy, it will be understood as (type, (1,)) / '(1,)type'.\n",
      "  _np_qint32 = np.dtype([(\"qint32\", np.int32, 1)])\n",
      "C:\\Users\\onjad\\Anaconda3\\lib\\site-packages\\tensorboard\\compat\\tensorflow_stub\\dtypes.py:550: FutureWarning: Passing (type, 1) or '1type' as a synonym of type is deprecated; in a future version of numpy, it will be understood as (type, (1,)) / '(1,)type'.\n",
      "  np_resource = np.dtype([(\"resource\", np.ubyte, 1)])\n"
     ]
    },
    {
     "name": "stdout",
     "output_type": "stream",
     "text": [
      "WARNING:tensorflow:From C:\\Users\\onjad\\Anaconda3\\lib\\site-packages\\tensorflow\\python\\ops\\init_ops.py:1251: calling VarianceScaling.__init__ (from tensorflow.python.ops.init_ops) with dtype is deprecated and will be removed in a future version.\n",
      "Instructions for updating:\n",
      "Call initializer instance with the dtype argument instead of passing it to the constructor\n",
      "WARNING:tensorflow:From C:\\Users\\onjad\\Anaconda3\\lib\\site-packages\\tensorflow\\python\\keras\\initializers.py:143: calling RandomNormal.__init__ (from tensorflow.python.ops.init_ops) with dtype is deprecated and will be removed in a future version.\n",
      "Instructions for updating:\n",
      "Call initializer instance with the dtype argument instead of passing it to the constructor\n",
      "WARNING:tensorflow:Large dropout rate: 0.8 (>0.5). In TensorFlow 2.x, dropout() uses dropout rate instead of keep_prob. Please ensure that this is intended.\n",
      "WARNING:tensorflow:Large dropout rate: 0.8 (>0.5). In TensorFlow 2.x, dropout() uses dropout rate instead of keep_prob. Please ensure that this is intended.\n",
      "WARNING:tensorflow:From C:\\Users\\onjad\\Anaconda3\\lib\\site-packages\\tensorflow\\python\\ops\\nn_impl.py:180: add_dispatch_support.<locals>.wrapper (from tensorflow.python.ops.array_ops) is deprecated and will be removed in a future version.\n",
      "Instructions for updating:\n",
      "Use tf.where in 2.0, which has the same broadcast rule as np.where\n",
      "Model: \"sequential\"\n",
      "_________________________________________________________________\n",
      "Layer (type)                 Output Shape              Param #   \n",
      "=================================================================\n",
      "dense (Dense)                (None, 500)               8359000   \n",
      "_________________________________________________________________\n",
      "dropout (Dropout)            (None, 500)               0         \n",
      "_________________________________________________________________\n",
      "dense_1 (Dense)              (None, 500)               250500    \n",
      "_________________________________________________________________\n",
      "dropout_1 (Dropout)          (None, 500)               0         \n",
      "_________________________________________________________________\n",
      "dense_2 (Dense)              (None, 1)                 501       \n",
      "=================================================================\n",
      "Total params: 8,610,001\n",
      "Trainable params: 8,610,001\n",
      "Non-trainable params: 0\n",
      "_________________________________________________________________\n"
     ]
    }
   ],
   "source": [
    "from tensorflow.keras import Sequential\n",
    "from tensorflow.keras.layers import Dense, Dropout\n",
    "from tensorflow.keras import optimizers, regularizers\n",
    "\n",
    "\n",
    "model = Sequential([\n",
    "    Dense(units=500, activation='relu', input_dim=X_train.shape[1]),\n",
    "    Dropout(0.8),\n",
    "    Dense(units=500, activation='relu', kernel_initializer='normal', kernel_regularizer=regularizers.l2(0.02)),\n",
    "    Dropout(0.8),\n",
    "    Dense(units=1, activation='sigmoid')\n",
    "])\n",
    "\n",
    "model.compile(optimizer='adam', loss='binary_crossentropy', metrics=['accuracy'])\n",
    "model.summary()"
   ]
  },
  {
   "cell_type": "code",
   "execution_count": 34,
   "metadata": {
    "scrolled": true
   },
   "outputs": [
    {
     "name": "stdout",
     "output_type": "stream",
     "text": [
      "Train on 92 samples, validate on 20 samples\n",
      "Epoch 1/1000\n",
      "92/92 - 1s - loss: 12.8316 - acc: 0.5978 - val_loss: 12.0768 - val_acc: 0.5500\n",
      "Epoch 2/1000\n",
      "92/92 - 0s - loss: 11.7398 - acc: 0.5435 - val_loss: 11.0391 - val_acc: 0.5500\n",
      "Epoch 3/1000\n",
      "92/92 - 0s - loss: 10.7349 - acc: 0.5109 - val_loss: 10.0886 - val_acc: 0.5000\n",
      "Epoch 4/1000\n",
      "92/92 - 0s - loss: 9.7946 - acc: 0.5652 - val_loss: 9.2203 - val_acc: 0.5000\n",
      "Epoch 5/1000\n",
      "92/92 - 0s - loss: 8.9438 - acc: 0.5761 - val_loss: 8.4293 - val_acc: 0.8000\n",
      "Epoch 6/1000\n",
      "92/92 - 0s - loss: 8.1835 - acc: 0.5761 - val_loss: 7.7098 - val_acc: 0.7000\n",
      "Epoch 7/1000\n",
      "92/92 - 0s - loss: 7.4722 - acc: 0.6739 - val_loss: 7.0569 - val_acc: 0.7000\n",
      "Epoch 8/1000\n",
      "92/92 - 0s - loss: 6.8217 - acc: 0.6957 - val_loss: 6.4656 - val_acc: 0.7000\n",
      "Epoch 9/1000\n",
      "92/92 - 0s - loss: 6.2367 - acc: 0.6630 - val_loss: 5.9304 - val_acc: 0.6000\n",
      "Epoch 10/1000\n",
      "92/92 - 0s - loss: 5.7078 - acc: 0.7826 - val_loss: 5.4472 - val_acc: 0.5500\n",
      "Epoch 11/1000\n",
      "92/92 - 0s - loss: 5.2200 - acc: 0.7500 - val_loss: 5.0111 - val_acc: 0.5000\n",
      "Epoch 12/1000\n",
      "92/92 - 0s - loss: 4.7635 - acc: 0.8587 - val_loss: 4.6172 - val_acc: 0.5000\n",
      "Epoch 13/1000\n",
      "92/92 - 0s - loss: 4.3727 - acc: 0.8370 - val_loss: 4.2626 - val_acc: 0.5500\n",
      "Epoch 14/1000\n",
      "92/92 - 0s - loss: 4.0139 - acc: 0.8152 - val_loss: 3.9436 - val_acc: 0.5500\n",
      "Epoch 15/1000\n",
      "92/92 - 0s - loss: 3.6509 - acc: 0.9130 - val_loss: 3.6561 - val_acc: 0.5000\n",
      "Epoch 16/1000\n",
      "92/92 - 0s - loss: 3.3368 - acc: 0.9239 - val_loss: 3.3966 - val_acc: 0.6000\n",
      "Epoch 17/1000\n",
      "92/92 - 0s - loss: 3.0247 - acc: 0.9674 - val_loss: 3.1634 - val_acc: 0.6000\n",
      "Epoch 18/1000\n",
      "92/92 - 0s - loss: 2.7325 - acc: 1.0000 - val_loss: 2.9548 - val_acc: 0.6000\n",
      "Epoch 19/1000\n",
      "92/92 - 0s - loss: 2.5000 - acc: 0.9783 - val_loss: 2.7672 - val_acc: 0.6500\n",
      "Epoch 20/1000\n",
      "92/92 - 0s - loss: 2.2467 - acc: 0.9783 - val_loss: 2.5981 - val_acc: 0.6500\n",
      "Epoch 21/1000\n",
      "92/92 - 0s - loss: 2.0336 - acc: 0.9891 - val_loss: 2.4453 - val_acc: 0.6500\n",
      "Epoch 22/1000\n",
      "92/92 - 0s - loss: 1.8547 - acc: 1.0000 - val_loss: 2.3068 - val_acc: 0.6500\n",
      "Epoch 23/1000\n",
      "92/92 - 0s - loss: 1.6828 - acc: 1.0000 - val_loss: 2.1814 - val_acc: 0.6500\n",
      "Epoch 24/1000\n",
      "92/92 - 0s - loss: 1.5343 - acc: 1.0000 - val_loss: 2.0658 - val_acc: 0.7000\n",
      "Epoch 25/1000\n",
      "92/92 - 0s - loss: 1.4212 - acc: 0.9891 - val_loss: 1.9582 - val_acc: 0.6500\n",
      "Epoch 26/1000\n",
      "92/92 - 0s - loss: 1.2850 - acc: 1.0000 - val_loss: 1.8591 - val_acc: 0.7000\n",
      "Epoch 27/1000\n",
      "92/92 - 0s - loss: 1.1859 - acc: 1.0000 - val_loss: 1.7683 - val_acc: 0.7000\n",
      "Epoch 28/1000\n",
      "92/92 - 0s - loss: 1.0861 - acc: 1.0000 - val_loss: 1.6821 - val_acc: 0.7500\n",
      "Epoch 29/1000\n",
      "92/92 - 0s - loss: 0.9834 - acc: 1.0000 - val_loss: 1.6012 - val_acc: 0.6500\n",
      "Epoch 30/1000\n",
      "92/92 - 0s - loss: 0.9101 - acc: 1.0000 - val_loss: 1.5271 - val_acc: 0.6500\n",
      "Epoch 31/1000\n",
      "92/92 - 0s - loss: 0.8330 - acc: 1.0000 - val_loss: 1.4590 - val_acc: 0.6000\n",
      "Epoch 32/1000\n",
      "92/92 - 0s - loss: 0.7686 - acc: 1.0000 - val_loss: 1.3978 - val_acc: 0.6000\n",
      "Epoch 33/1000\n",
      "92/92 - 0s - loss: 0.6968 - acc: 1.0000 - val_loss: 1.3425 - val_acc: 0.6000\n",
      "Epoch 34/1000\n",
      "92/92 - 0s - loss: 0.6377 - acc: 1.0000 - val_loss: 1.2894 - val_acc: 0.6000\n",
      "Epoch 35/1000\n",
      "92/92 - 0s - loss: 0.5933 - acc: 1.0000 - val_loss: 1.2373 - val_acc: 0.6000\n",
      "Epoch 36/1000\n",
      "92/92 - 0s - loss: 0.5518 - acc: 1.0000 - val_loss: 1.1909 - val_acc: 0.6500\n",
      "Epoch 37/1000\n",
      "92/92 - 0s - loss: 0.4981 - acc: 1.0000 - val_loss: 1.1506 - val_acc: 0.6500\n",
      "Epoch 38/1000\n",
      "92/92 - 0s - loss: 0.4614 - acc: 1.0000 - val_loss: 1.1136 - val_acc: 0.6500\n",
      "Epoch 39/1000\n",
      "92/92 - 0s - loss: 0.4264 - acc: 1.0000 - val_loss: 1.0800 - val_acc: 0.6500\n",
      "Epoch 40/1000\n",
      "92/92 - 0s - loss: 0.3989 - acc: 1.0000 - val_loss: 1.0499 - val_acc: 0.6500\n",
      "Epoch 41/1000\n",
      "92/92 - 0s - loss: 0.3603 - acc: 1.0000 - val_loss: 1.0229 - val_acc: 0.6500\n",
      "Epoch 42/1000\n",
      "92/92 - 0s - loss: 0.3415 - acc: 1.0000 - val_loss: 0.9987 - val_acc: 0.6500\n",
      "Epoch 43/1000\n",
      "92/92 - 0s - loss: 0.3100 - acc: 1.0000 - val_loss: 0.9770 - val_acc: 0.6500\n",
      "Epoch 44/1000\n",
      "92/92 - 0s - loss: 0.2893 - acc: 1.0000 - val_loss: 0.9573 - val_acc: 0.6500\n",
      "Epoch 45/1000\n",
      "92/92 - 0s - loss: 0.2705 - acc: 1.0000 - val_loss: 0.9395 - val_acc: 0.6500\n",
      "Epoch 46/1000\n",
      "92/92 - 0s - loss: 0.2516 - acc: 1.0000 - val_loss: 0.9240 - val_acc: 0.6000\n",
      "Epoch 47/1000\n",
      "92/92 - 0s - loss: 0.2322 - acc: 1.0000 - val_loss: 0.9107 - val_acc: 0.6000\n",
      "Epoch 48/1000\n",
      "92/92 - 0s - loss: 0.2186 - acc: 1.0000 - val_loss: 0.8982 - val_acc: 0.6000\n",
      "Epoch 49/1000\n",
      "92/92 - 0s - loss: 0.2062 - acc: 1.0000 - val_loss: 0.8869 - val_acc: 0.6000\n",
      "Epoch 50/1000\n",
      "92/92 - 0s - loss: 0.1874 - acc: 1.0000 - val_loss: 0.8744 - val_acc: 0.6000\n",
      "Epoch 51/1000\n",
      "92/92 - 0s - loss: 0.1774 - acc: 1.0000 - val_loss: 0.8606 - val_acc: 0.6000\n",
      "Epoch 52/1000\n",
      "92/92 - 0s - loss: 0.1741 - acc: 1.0000 - val_loss: 0.8506 - val_acc: 0.6000\n",
      "Epoch 53/1000\n",
      "92/92 - 0s - loss: 0.1603 - acc: 1.0000 - val_loss: 0.8413 - val_acc: 0.6000\n",
      "Epoch 54/1000\n",
      "92/92 - 0s - loss: 0.1498 - acc: 1.0000 - val_loss: 0.8342 - val_acc: 0.7500\n",
      "Epoch 55/1000\n",
      "92/92 - 0s - loss: 0.1422 - acc: 1.0000 - val_loss: 0.8291 - val_acc: 0.7000\n",
      "Epoch 56/1000\n",
      "92/92 - 0s - loss: 0.1340 - acc: 1.0000 - val_loss: 0.8221 - val_acc: 0.7000\n",
      "Epoch 57/1000\n",
      "92/92 - 0s - loss: 0.1337 - acc: 1.0000 - val_loss: 0.8137 - val_acc: 0.6500\n",
      "Epoch 58/1000\n",
      "92/92 - 0s - loss: 0.1152 - acc: 1.0000 - val_loss: 0.8121 - val_acc: 0.6000\n",
      "Epoch 59/1000\n",
      "92/92 - 0s - loss: 0.1099 - acc: 1.0000 - val_loss: 0.8126 - val_acc: 0.6000\n",
      "Epoch 60/1000\n",
      "92/92 - 0s - loss: 0.1010 - acc: 1.0000 - val_loss: 0.8110 - val_acc: 0.6000\n",
      "Epoch 61/1000\n",
      "92/92 - 0s - loss: 0.1023 - acc: 1.0000 - val_loss: 0.7994 - val_acc: 0.6000\n",
      "Epoch 62/1000\n",
      "92/92 - 0s - loss: 0.0923 - acc: 1.0000 - val_loss: 0.7902 - val_acc: 0.6000\n",
      "Epoch 63/1000\n",
      "92/92 - 0s - loss: 0.0906 - acc: 1.0000 - val_loss: 0.7844 - val_acc: 0.6000\n",
      "Epoch 64/1000\n",
      "92/92 - 0s - loss: 0.0875 - acc: 1.0000 - val_loss: 0.7806 - val_acc: 0.6000\n",
      "Epoch 65/1000\n",
      "92/92 - 0s - loss: 0.0820 - acc: 1.0000 - val_loss: 0.7755 - val_acc: 0.6000\n",
      "Epoch 66/1000\n",
      "92/92 - 0s - loss: 0.0819 - acc: 1.0000 - val_loss: 0.7708 - val_acc: 0.7000\n",
      "Epoch 67/1000\n",
      "92/92 - 0s - loss: 0.0755 - acc: 1.0000 - val_loss: 0.7694 - val_acc: 0.7000\n",
      "Epoch 68/1000\n",
      "92/92 - 0s - loss: 0.0750 - acc: 1.0000 - val_loss: 0.7671 - val_acc: 0.7500\n",
      "Epoch 69/1000\n",
      "92/92 - 0s - loss: 0.0711 - acc: 1.0000 - val_loss: 0.7653 - val_acc: 0.6500\n",
      "Epoch 70/1000\n",
      "92/92 - 0s - loss: 0.0670 - acc: 1.0000 - val_loss: 0.7639 - val_acc: 0.6000\n",
      "Epoch 71/1000\n",
      "92/92 - 0s - loss: 0.0627 - acc: 1.0000 - val_loss: 0.7617 - val_acc: 0.6000\n",
      "Epoch 72/1000\n",
      "92/92 - 0s - loss: 0.0632 - acc: 1.0000 - val_loss: 0.7592 - val_acc: 0.7500\n",
      "Epoch 73/1000\n",
      "92/92 - 0s - loss: 0.0637 - acc: 1.0000 - val_loss: 0.7608 - val_acc: 0.6500\n",
      "Epoch 74/1000\n",
      "92/92 - 0s - loss: 0.0534 - acc: 1.0000 - val_loss: 0.7618 - val_acc: 0.7000\n",
      "Epoch 75/1000\n",
      "92/92 - 0s - loss: 0.0593 - acc: 1.0000 - val_loss: 0.7575 - val_acc: 0.6500\n",
      "Epoch 76/1000\n",
      "92/92 - 0s - loss: 0.0567 - acc: 1.0000 - val_loss: 0.7517 - val_acc: 0.7000\n",
      "Epoch 77/1000\n",
      "92/92 - 0s - loss: 0.0539 - acc: 1.0000 - val_loss: 0.7510 - val_acc: 0.6000\n",
      "Epoch 78/1000\n",
      "92/92 - 0s - loss: 0.0493 - acc: 1.0000 - val_loss: 0.7523 - val_acc: 0.6000\n",
      "Epoch 79/1000\n",
      "92/92 - 0s - loss: 0.0512 - acc: 1.0000 - val_loss: 0.7498 - val_acc: 0.6000\n",
      "Epoch 80/1000\n",
      "92/92 - 0s - loss: 0.0535 - acc: 1.0000 - val_loss: 0.7481 - val_acc: 0.7500\n",
      "Epoch 81/1000\n",
      "92/92 - 0s - loss: 0.0477 - acc: 1.0000 - val_loss: 0.7481 - val_acc: 0.7500\n",
      "Epoch 82/1000\n",
      "92/92 - 0s - loss: 0.0464 - acc: 1.0000 - val_loss: 0.7486 - val_acc: 0.7000\n",
      "Epoch 83/1000\n",
      "92/92 - 0s - loss: 0.0461 - acc: 1.0000 - val_loss: 0.7483 - val_acc: 0.6500\n",
      "Epoch 84/1000\n",
      "92/92 - 0s - loss: 0.0450 - acc: 1.0000 - val_loss: 0.7453 - val_acc: 0.7000\n",
      "Epoch 85/1000\n",
      "92/92 - 0s - loss: 0.0467 - acc: 1.0000 - val_loss: 0.7441 - val_acc: 0.6500\n",
      "Epoch 86/1000\n",
      "92/92 - 0s - loss: 0.0475 - acc: 1.0000 - val_loss: 0.7487 - val_acc: 0.6000\n",
      "Epoch 87/1000\n",
      "92/92 - 0s - loss: 0.0406 - acc: 1.0000 - val_loss: 0.7463 - val_acc: 0.6000\n",
      "Epoch 88/1000\n",
      "92/92 - 0s - loss: 0.0418 - acc: 1.0000 - val_loss: 0.7469 - val_acc: 0.7500\n",
      "Epoch 89/1000\n",
      "92/92 - 0s - loss: 0.0396 - acc: 1.0000 - val_loss: 0.7491 - val_acc: 0.6500\n",
      "Epoch 90/1000\n",
      "92/92 - 0s - loss: 0.0410 - acc: 1.0000 - val_loss: 0.7519 - val_acc: 0.7000\n"
     ]
    },
    {
     "name": "stdout",
     "output_type": "stream",
     "text": [
      "Epoch 91/1000\n",
      "92/92 - 0s - loss: 0.0453 - acc: 1.0000 - val_loss: 0.7446 - val_acc: 0.7000\n",
      "Epoch 92/1000\n",
      "92/92 - 0s - loss: 0.0421 - acc: 1.0000 - val_loss: 0.7508 - val_acc: 0.6000\n",
      "Epoch 93/1000\n",
      "92/92 - 0s - loss: 0.0402 - acc: 1.0000 - val_loss: 0.7615 - val_acc: 0.6000\n",
      "Epoch 94/1000\n",
      "92/92 - 0s - loss: 0.0405 - acc: 1.0000 - val_loss: 0.7622 - val_acc: 0.6000\n",
      "Epoch 95/1000\n",
      "92/92 - 0s - loss: 0.0430 - acc: 1.0000 - val_loss: 0.7507 - val_acc: 0.6000\n",
      "Epoch 96/1000\n",
      "92/92 - 0s - loss: 0.0387 - acc: 1.0000 - val_loss: 0.7503 - val_acc: 0.7000\n",
      "Epoch 97/1000\n",
      "92/92 - 0s - loss: 0.0397 - acc: 1.0000 - val_loss: 0.7659 - val_acc: 0.7000\n",
      "Epoch 98/1000\n",
      "92/92 - 0s - loss: 0.0375 - acc: 1.0000 - val_loss: 0.7673 - val_acc: 0.7000\n",
      "Epoch 99/1000\n",
      "92/92 - 0s - loss: 0.0356 - acc: 1.0000 - val_loss: 0.7546 - val_acc: 0.7000\n",
      "Epoch 100/1000\n",
      "92/92 - 0s - loss: 0.0352 - acc: 1.0000 - val_loss: 0.7447 - val_acc: 0.7500\n",
      "Epoch 101/1000\n",
      "92/92 - 0s - loss: 0.0358 - acc: 1.0000 - val_loss: 0.7433 - val_acc: 0.6000\n",
      "Epoch 102/1000\n",
      "92/92 - 0s - loss: 0.0352 - acc: 1.0000 - val_loss: 0.7460 - val_acc: 0.6000\n",
      "Epoch 103/1000\n",
      "92/92 - 0s - loss: 0.0341 - acc: 1.0000 - val_loss: 0.7487 - val_acc: 0.6000\n",
      "Epoch 104/1000\n",
      "92/92 - 0s - loss: 0.0310 - acc: 1.0000 - val_loss: 0.7507 - val_acc: 0.6000\n",
      "Epoch 105/1000\n",
      "92/92 - 0s - loss: 0.0331 - acc: 1.0000 - val_loss: 0.7465 - val_acc: 0.6000\n",
      "Epoch 106/1000\n",
      "92/92 - 0s - loss: 0.0343 - acc: 1.0000 - val_loss: 0.7402 - val_acc: 0.6000\n",
      "Epoch 107/1000\n",
      "92/92 - 0s - loss: 0.0305 - acc: 1.0000 - val_loss: 0.7418 - val_acc: 0.7500\n",
      "Epoch 108/1000\n",
      "92/92 - 0s - loss: 0.0316 - acc: 1.0000 - val_loss: 0.7449 - val_acc: 0.6500\n",
      "Epoch 109/1000\n",
      "92/92 - 0s - loss: 0.0331 - acc: 1.0000 - val_loss: 0.7429 - val_acc: 0.7000\n",
      "Epoch 110/1000\n",
      "92/92 - 0s - loss: 0.0324 - acc: 1.0000 - val_loss: 0.7422 - val_acc: 0.6000\n",
      "Epoch 111/1000\n",
      "92/92 - 0s - loss: 0.0292 - acc: 1.0000 - val_loss: 0.7489 - val_acc: 0.6000\n",
      "Epoch 112/1000\n",
      "92/92 - 0s - loss: 0.0300 - acc: 1.0000 - val_loss: 0.7507 - val_acc: 0.6000\n",
      "Epoch 113/1000\n",
      "92/92 - 0s - loss: 0.0323 - acc: 1.0000 - val_loss: 0.7425 - val_acc: 0.6000\n",
      "Epoch 114/1000\n",
      "92/92 - 0s - loss: 0.0281 - acc: 1.0000 - val_loss: 0.7401 - val_acc: 0.7000\n",
      "Epoch 115/1000\n",
      "92/92 - 0s - loss: 0.0307 - acc: 1.0000 - val_loss: 0.7402 - val_acc: 0.7500\n",
      "Epoch 116/1000\n",
      "92/92 - 0s - loss: 0.0284 - acc: 1.0000 - val_loss: 0.7393 - val_acc: 0.7500\n",
      "Epoch 117/1000\n",
      "92/92 - 0s - loss: 0.0310 - acc: 1.0000 - val_loss: 0.7391 - val_acc: 0.6000\n",
      "Epoch 118/1000\n",
      "92/92 - 0s - loss: 0.0264 - acc: 1.0000 - val_loss: 0.7409 - val_acc: 0.6000\n",
      "Epoch 119/1000\n",
      "92/92 - 0s - loss: 0.0308 - acc: 1.0000 - val_loss: 0.7438 - val_acc: 0.6000\n",
      "Epoch 120/1000\n",
      "92/92 - 0s - loss: 0.0273 - acc: 1.0000 - val_loss: 0.7451 - val_acc: 0.6000\n",
      "Epoch 121/1000\n",
      "92/92 - 0s - loss: 0.0291 - acc: 1.0000 - val_loss: 0.7439 - val_acc: 0.6000\n",
      "Epoch 122/1000\n",
      "92/92 - 0s - loss: 0.0304 - acc: 1.0000 - val_loss: 0.7403 - val_acc: 0.6000\n",
      "Epoch 123/1000\n",
      "92/92 - 0s - loss: 0.0288 - acc: 1.0000 - val_loss: 0.7416 - val_acc: 0.6500\n",
      "Epoch 124/1000\n",
      "92/92 - 0s - loss: 0.0274 - acc: 1.0000 - val_loss: 0.7420 - val_acc: 0.6500\n",
      "Epoch 125/1000\n",
      "92/92 - 0s - loss: 0.0272 - acc: 1.0000 - val_loss: 0.7405 - val_acc: 0.6500\n",
      "Epoch 126/1000\n",
      "92/92 - 0s - loss: 0.0255 - acc: 1.0000 - val_loss: 0.7375 - val_acc: 0.6500\n",
      "Epoch 127/1000\n",
      "92/92 - 0s - loss: 0.0277 - acc: 1.0000 - val_loss: 0.7349 - val_acc: 0.6500\n",
      "Epoch 128/1000\n",
      "92/92 - 0s - loss: 0.0264 - acc: 1.0000 - val_loss: 0.7342 - val_acc: 0.7500\n",
      "Epoch 129/1000\n",
      "92/92 - 0s - loss: 0.0272 - acc: 1.0000 - val_loss: 0.7355 - val_acc: 0.7500\n",
      "Epoch 130/1000\n",
      "92/92 - 0s - loss: 0.0266 - acc: 1.0000 - val_loss: 0.7361 - val_acc: 0.7500\n",
      "Epoch 131/1000\n",
      "92/92 - 0s - loss: 0.0269 - acc: 1.0000 - val_loss: 0.7374 - val_acc: 0.6500\n",
      "Epoch 132/1000\n",
      "92/92 - 0s - loss: 0.0255 - acc: 1.0000 - val_loss: 0.7427 - val_acc: 0.6000\n",
      "Epoch 133/1000\n",
      "92/92 - 0s - loss: 0.0245 - acc: 1.0000 - val_loss: 0.7436 - val_acc: 0.6000\n",
      "Epoch 134/1000\n",
      "92/92 - 0s - loss: 0.0257 - acc: 1.0000 - val_loss: 0.7398 - val_acc: 0.6000\n",
      "Epoch 135/1000\n",
      "92/92 - 0s - loss: 0.0257 - acc: 1.0000 - val_loss: 0.7373 - val_acc: 0.7000\n",
      "Epoch 136/1000\n",
      "92/92 - 0s - loss: 0.0239 - acc: 1.0000 - val_loss: 0.7398 - val_acc: 0.7000\n",
      "Epoch 137/1000\n",
      "92/92 - 0s - loss: 0.0239 - acc: 1.0000 - val_loss: 0.7399 - val_acc: 0.6500\n",
      "Epoch 138/1000\n",
      "92/92 - 0s - loss: 0.0227 - acc: 1.0000 - val_loss: 0.7367 - val_acc: 0.7000\n",
      "Epoch 139/1000\n",
      "92/92 - 0s - loss: 0.0250 - acc: 1.0000 - val_loss: 0.7351 - val_acc: 0.7500\n",
      "Epoch 140/1000\n",
      "92/92 - 0s - loss: 0.0243 - acc: 1.0000 - val_loss: 0.7362 - val_acc: 0.7500\n",
      "Epoch 141/1000\n",
      "92/92 - 0s - loss: 0.0255 - acc: 1.0000 - val_loss: 0.7430 - val_acc: 0.6500\n",
      "Epoch 142/1000\n",
      "92/92 - 0s - loss: 0.0231 - acc: 1.0000 - val_loss: 0.7533 - val_acc: 0.7000\n",
      "Epoch 143/1000\n",
      "92/92 - 0s - loss: 0.0255 - acc: 1.0000 - val_loss: 0.7475 - val_acc: 0.6500\n",
      "Epoch 144/1000\n",
      "92/92 - 0s - loss: 0.0244 - acc: 1.0000 - val_loss: 0.7448 - val_acc: 0.7500\n",
      "Epoch 145/1000\n",
      "92/92 - 0s - loss: 0.0262 - acc: 1.0000 - val_loss: 0.7471 - val_acc: 0.6000\n",
      "Epoch 146/1000\n",
      "92/92 - 0s - loss: 0.0258 - acc: 1.0000 - val_loss: 0.7594 - val_acc: 0.6000\n",
      "Epoch 147/1000\n",
      "92/92 - 0s - loss: 0.0247 - acc: 1.0000 - val_loss: 0.7685 - val_acc: 0.6000\n",
      "Epoch 148/1000\n",
      "92/92 - 0s - loss: 0.0235 - acc: 1.0000 - val_loss: 0.7662 - val_acc: 0.6000\n",
      "Epoch 149/1000\n",
      "92/92 - 0s - loss: 0.0251 - acc: 1.0000 - val_loss: 0.7531 - val_acc: 0.6000\n",
      "Epoch 150/1000\n",
      "92/92 - 0s - loss: 0.0221 - acc: 1.0000 - val_loss: 0.7449 - val_acc: 0.6000\n",
      "Epoch 151/1000\n",
      "92/92 - 0s - loss: 0.0237 - acc: 1.0000 - val_loss: 0.7418 - val_acc: 0.6000\n",
      "Epoch 152/1000\n",
      "92/92 - 0s - loss: 0.0244 - acc: 1.0000 - val_loss: 0.7447 - val_acc: 0.6000\n",
      "Epoch 153/1000\n",
      "92/92 - 0s - loss: 0.0218 - acc: 1.0000 - val_loss: 0.7452 - val_acc: 0.6000\n",
      "Epoch 00153: early stopping\n"
     ]
    },
    {
     "data": {
      "text/plain": [
       "<tensorflow.python.keras.callbacks.History at 0x2d2b32ddd68>"
      ]
     },
     "execution_count": 34,
     "metadata": {},
     "output_type": "execute_result"
    }
   ],
   "source": [
    "# TRAIN MODEL\n",
    "\n",
    "from tensorflow.keras.callbacks import EarlyStopping\n",
    "early_stop = EarlyStopping(monitor='val_loss', mode='min', verbose=1, patience=25)\n",
    "\n",
    "model.fit(X_train, y_train, validation_data=(X_val, y_val) , epochs=1000, verbose=2, callbacks=[early_stop])"
   ]
  },
  {
   "cell_type": "code",
   "execution_count": 35,
   "metadata": {},
   "outputs": [
    {
     "data": {
      "image/png": "[encoded data removed]",
      "text/plain": [
       "<Figure size 432x288 with 1 Axes>"
      ]
     },
     "metadata": {
      "needs_background": "light"
     },
     "output_type": "display_data"
    }
   ],
   "source": [
    "# PLOT THE LOSS\n",
    "\n",
    "losses = pd.DataFrame(model.history.history)\n",
    "losses.plot()\n",
    "plt.title('Model loss and accuracy during training') \n",
    "plt.ylabel('Loss or Accuracy') \n",
    "plt.xlabel('Epochs')\n",
    "plt.show()"
   ]
  },
  {
   "cell_type": "code",
   "execution_count": 36,
   "metadata": {},
   "outputs": [
    {
     "name": "stdout",
     "output_type": "stream",
     "text": [
      "              precision    recall  f1-score   support\n",
      "\n",
      "           0       0.50      0.33      0.40        12\n",
      "           1       0.53      0.69      0.60        13\n",
      "\n",
      "    accuracy                           0.52        25\n",
      "   macro avg       0.51      0.51      0.50        25\n",
      "weighted avg       0.52      0.52      0.50        25\n",
      "\n",
      "\n",
      " CONFUSION MATRIX:\n",
      " [[4 8]\n",
      " [4 9]]\n",
      "\n",
      "\n",
      " ACCURACY SCORE IS: 0.52\n"
     ]
    }
   ],
   "source": [
    "# PERFORMANCE EVALUATION\n",
    "\n",
    "pred_NN = []\n",
    "\n",
    "for predictions in model.predict(X_test):\n",
    "    if predictions < 0.5:\n",
    "        predictions = 0\n",
    "    else:\n",
    "        predictions=1\n",
    "    pred_NN.append(predictions)\n",
    "    \n",
    "pred = np.array(pred_NN)\n",
    "true = np.array(y_test)\n",
    "\n",
    "# print(\"PREDICTED CLASS: \", pred)\n",
    "# print(\"ACTUAL CLASS: \", true, '\\n')\n",
    "\n",
    "from sklearn.metrics import classification_report, confusion_matrix, accuracy_score\n",
    "\n",
    "print(classification_report(true, pred))\n",
    "print('\\n CONFUSION MATRIX:\\n', confusion_matrix(true, pred))\n",
    "print('\\n\\n ACCURACY SCORE IS:', accuracy_score(true, pred))"
   ]
  },
  {
   "cell_type": "code",
   "execution_count": 47,
   "metadata": {},
   "outputs": [
    {
     "name": "stderr",
     "output_type": "stream",
     "text": [
      "C:\\Users\\onjad\\Anaconda3\\lib\\site-packages\\sklearn\\utils\\validation.py:573: UserWarning: pandas.DataFrame with sparse columns found.It will be converted to a dense numpy array.\n",
      "  \"pandas.DataFrame with sparse columns found.\"\n",
      "C:\\Users\\onjad\\Anaconda3\\lib\\site-packages\\ipykernel_launcher.py:4: DataConversionWarning: A column-vector y was passed when a 1d array was expected. Please change the shape of y to (n_samples,), for example using ravel().\n",
      "  after removing the cwd from sys.path.\n",
      "C:\\Users\\onjad\\Anaconda3\\lib\\site-packages\\sklearn\\utils\\validation.py:573: UserWarning: pandas.DataFrame with sparse columns found.It will be converted to a dense numpy array.\n",
      "  \"pandas.DataFrame with sparse columns found.\"\n"
     ]
    },
    {
     "name": "stdout",
     "output_type": "stream",
     "text": [
      "\n",
      " CONFUSION MATRIX:\n",
      " [[10  2]\n",
      " [ 3 10]]\n",
      "\n",
      "\n",
      " ACCURACY SCORE IS: 0.8\n"
     ]
    }
   ],
   "source": [
    "# Classifier (Random Forest)\n",
    "from sklearn.ensemble import RandomForestClassifier\n",
    "rfc = RandomForestClassifier(n_estimators=800)\n",
    "rfc.fit(X_train,y_train)\n",
    "pred_rfc = rfc.predict(X_test)\n",
    "print('\\n CONFUSION MATRIX:\\n', confusion_matrix(true, pred_rfc))\n",
    "print('\\n\\n ACCURACY SCORE IS:', accuracy_score(true, pred_rfc))"
   ]
  },
  {
   "cell_type": "code",
   "execution_count": 38,
   "metadata": {},
   "outputs": [
    {
     "name": "stderr",
     "output_type": "stream",
     "text": [
      "C:\\Users\\onjad\\Anaconda3\\lib\\site-packages\\sklearn\\utils\\validation.py:573: UserWarning: pandas.DataFrame with sparse columns found.It will be converted to a dense numpy array.\n",
      "  \"pandas.DataFrame with sparse columns found.\"\n",
      "C:\\Users\\onjad\\Anaconda3\\lib\\site-packages\\sklearn\\utils\\validation.py:573: UserWarning: pandas.DataFrame with sparse columns found.It will be converted to a dense numpy array.\n",
      "  \"pandas.DataFrame with sparse columns found.\"\n"
     ]
    },
    {
     "name": "stdout",
     "output_type": "stream",
     "text": [
      "\n",
      " CONFUSION MATRIX:\n",
      " [[9 3]\n",
      " [5 8]]\n",
      "\n",
      "\n",
      " ACCURACY SCORE IS: 0.68\n"
     ]
    }
   ],
   "source": [
    "# Classifier (Decision Tree)\n",
    "from sklearn.tree import DecisionTreeClassifier\n",
    "dtree = DecisionTreeClassifier()\n",
    "dtree.fit(X_train,y_train)\n",
    "pred_tree = dtree.predict(X_test)\n",
    "print('\\n CONFUSION MATRIX:\\n', confusion_matrix(true, pred_tree))\n",
    "print('\\n\\n ACCURACY SCORE IS:', accuracy_score(true, pred_tree))"
   ]
  },
  {
   "cell_type": "code",
   "execution_count": 39,
   "metadata": {},
   "outputs": [
    {
     "name": "stderr",
     "output_type": "stream",
     "text": [
      "C:\\Users\\onjad\\Anaconda3\\lib\\site-packages\\sklearn\\utils\\validation.py:573: UserWarning: pandas.DataFrame with sparse columns found.It will be converted to a dense numpy array.\n",
      "  \"pandas.DataFrame with sparse columns found.\"\n",
      "C:\\Users\\onjad\\Anaconda3\\lib\\site-packages\\sklearn\\utils\\validation.py:63: DataConversionWarning: A column-vector y was passed when a 1d array was expected. Please change the shape of y to (n_samples, ), for example using ravel().\n",
      "  return f(*args, **kwargs)\n"
     ]
    },
    {
     "name": "stdout",
     "output_type": "stream",
     "text": [
      "\n",
      " CONFUSION MATRIX:\n",
      " [[9 3]\n",
      " [7 6]]\n",
      "\n",
      "\n",
      " ACCURACY SCORE IS: 0.6\n"
     ]
    }
   ],
   "source": [
    "# Classifier (SVM)\n",
    "from sklearn.svm import SVC\n",
    "svm_model = SVC(C=1.0, kernel='linear', degree=3, gamma='auto')\n",
    "svm_model.fit(X_train, y_train)\n",
    "pred_svm = svm_model.predict(np.array(X_test))\n",
    "print('\\n CONFUSION MATRIX:\\n', confusion_matrix(true, pred_svm))\n",
    "print('\\n\\n ACCURACY SCORE IS:', accuracy_score(true, pred_svm))"
   ]
  },
  {
   "cell_type": "code",
   "execution_count": 40,
   "metadata": {},
   "outputs": [
    {
     "name": "stderr",
     "output_type": "stream",
     "text": [
      "C:\\Users\\onjad\\Anaconda3\\lib\\site-packages\\sklearn\\utils\\validation.py:573: UserWarning: pandas.DataFrame with sparse columns found.It will be converted to a dense numpy array.\n",
      "  \"pandas.DataFrame with sparse columns found.\"\n",
      "C:\\Users\\onjad\\Anaconda3\\lib\\site-packages\\sklearn\\neighbors\\_classification.py:179: DataConversionWarning: A column-vector y was passed when a 1d array was expected. Please change the shape of y to (n_samples,), for example using ravel().\n",
      "  return self._fit(X, y)\n",
      "C:\\Users\\onjad\\Anaconda3\\lib\\site-packages\\sklearn\\utils\\validation.py:573: UserWarning: pandas.DataFrame with sparse columns found.It will be converted to a dense numpy array.\n",
      "  \"pandas.DataFrame with sparse columns found.\"\n"
     ]
    },
    {
     "name": "stdout",
     "output_type": "stream",
     "text": [
      "\n",
      "\n",
      " ACCURACY SCORE IS: 0.68\n"
     ]
    },
    {
     "name": "stderr",
     "output_type": "stream",
     "text": [
      "C:\\Users\\onjad\\Anaconda3\\lib\\site-packages\\sklearn\\utils\\validation.py:573: UserWarning: pandas.DataFrame with sparse columns found.It will be converted to a dense numpy array.\n",
      "  \"pandas.DataFrame with sparse columns found.\"\n",
      "C:\\Users\\onjad\\Anaconda3\\lib\\site-packages\\sklearn\\neighbors\\_classification.py:179: DataConversionWarning: A column-vector y was passed when a 1d array was expected. Please change the shape of y to (n_samples,), for example using ravel().\n",
      "  return self._fit(X, y)\n",
      "C:\\Users\\onjad\\Anaconda3\\lib\\site-packages\\sklearn\\utils\\validation.py:573: UserWarning: pandas.DataFrame with sparse columns found.It will be converted to a dense numpy array.\n",
      "  \"pandas.DataFrame with sparse columns found.\"\n",
      "C:\\Users\\onjad\\Anaconda3\\lib\\site-packages\\sklearn\\utils\\validation.py:573: UserWarning: pandas.DataFrame with sparse columns found.It will be converted to a dense numpy array.\n",
      "  \"pandas.DataFrame with sparse columns found.\"\n",
      "C:\\Users\\onjad\\Anaconda3\\lib\\site-packages\\sklearn\\neighbors\\_classification.py:179: DataConversionWarning: A column-vector y was passed when a 1d array was expected. Please change the shape of y to (n_samples,), for example using ravel().\n",
      "  return self._fit(X, y)\n",
      "C:\\Users\\onjad\\Anaconda3\\lib\\site-packages\\sklearn\\utils\\validation.py:573: UserWarning: pandas.DataFrame with sparse columns found.It will be converted to a dense numpy array.\n",
      "  \"pandas.DataFrame with sparse columns found.\"\n",
      "C:\\Users\\onjad\\Anaconda3\\lib\\site-packages\\sklearn\\utils\\validation.py:573: UserWarning: pandas.DataFrame with sparse columns found.It will be converted to a dense numpy array.\n",
      "  \"pandas.DataFrame with sparse columns found.\"\n",
      "C:\\Users\\onjad\\Anaconda3\\lib\\site-packages\\sklearn\\neighbors\\_classification.py:179: DataConversionWarning: A column-vector y was passed when a 1d array was expected. Please change the shape of y to (n_samples,), for example using ravel().\n",
      "  return self._fit(X, y)\n",
      "C:\\Users\\onjad\\Anaconda3\\lib\\site-packages\\sklearn\\utils\\validation.py:573: UserWarning: pandas.DataFrame with sparse columns found.It will be converted to a dense numpy array.\n",
      "  \"pandas.DataFrame with sparse columns found.\"\n",
      "C:\\Users\\onjad\\Anaconda3\\lib\\site-packages\\sklearn\\utils\\validation.py:573: UserWarning: pandas.DataFrame with sparse columns found.It will be converted to a dense numpy array.\n",
      "  \"pandas.DataFrame with sparse columns found.\"\n",
      "C:\\Users\\onjad\\Anaconda3\\lib\\site-packages\\sklearn\\neighbors\\_classification.py:179: DataConversionWarning: A column-vector y was passed when a 1d array was expected. Please change the shape of y to (n_samples,), for example using ravel().\n",
      "  return self._fit(X, y)\n",
      "C:\\Users\\onjad\\Anaconda3\\lib\\site-packages\\sklearn\\utils\\validation.py:573: UserWarning: pandas.DataFrame with sparse columns found.It will be converted to a dense numpy array.\n",
      "  \"pandas.DataFrame with sparse columns found.\"\n",
      "C:\\Users\\onjad\\Anaconda3\\lib\\site-packages\\sklearn\\utils\\validation.py:573: UserWarning: pandas.DataFrame with sparse columns found.It will be converted to a dense numpy array.\n",
      "  \"pandas.DataFrame with sparse columns found.\"\n",
      "C:\\Users\\onjad\\Anaconda3\\lib\\site-packages\\sklearn\\neighbors\\_classification.py:179: DataConversionWarning: A column-vector y was passed when a 1d array was expected. Please change the shape of y to (n_samples,), for example using ravel().\n",
      "  return self._fit(X, y)\n",
      "C:\\Users\\onjad\\Anaconda3\\lib\\site-packages\\sklearn\\utils\\validation.py:573: UserWarning: pandas.DataFrame with sparse columns found.It will be converted to a dense numpy array.\n",
      "  \"pandas.DataFrame with sparse columns found.\"\n",
      "C:\\Users\\onjad\\Anaconda3\\lib\\site-packages\\sklearn\\utils\\validation.py:573: UserWarning: pandas.DataFrame with sparse columns found.It will be converted to a dense numpy array.\n",
      "  \"pandas.DataFrame with sparse columns found.\"\n",
      "C:\\Users\\onjad\\Anaconda3\\lib\\site-packages\\sklearn\\neighbors\\_classification.py:179: DataConversionWarning: A column-vector y was passed when a 1d array was expected. Please change the shape of y to (n_samples,), for example using ravel().\n",
      "  return self._fit(X, y)\n",
      "C:\\Users\\onjad\\Anaconda3\\lib\\site-packages\\sklearn\\utils\\validation.py:573: UserWarning: pandas.DataFrame with sparse columns found.It will be converted to a dense numpy array.\n",
      "  \"pandas.DataFrame with sparse columns found.\"\n",
      "C:\\Users\\onjad\\Anaconda3\\lib\\site-packages\\sklearn\\utils\\validation.py:573: UserWarning: pandas.DataFrame with sparse columns found.It will be converted to a dense numpy array.\n",
      "  \"pandas.DataFrame with sparse columns found.\"\n",
      "C:\\Users\\onjad\\Anaconda3\\lib\\site-packages\\sklearn\\neighbors\\_classification.py:179: DataConversionWarning: A column-vector y was passed when a 1d array was expected. Please change the shape of y to (n_samples,), for example using ravel().\n",
      "  return self._fit(X, y)\n",
      "C:\\Users\\onjad\\Anaconda3\\lib\\site-packages\\sklearn\\utils\\validation.py:573: UserWarning: pandas.DataFrame with sparse columns found.It will be converted to a dense numpy array.\n",
      "  \"pandas.DataFrame with sparse columns found.\"\n",
      "C:\\Users\\onjad\\Anaconda3\\lib\\site-packages\\sklearn\\utils\\validation.py:573: UserWarning: pandas.DataFrame with sparse columns found.It will be converted to a dense numpy array.\n",
      "  \"pandas.DataFrame with sparse columns found.\"\n",
      "C:\\Users\\onjad\\Anaconda3\\lib\\site-packages\\sklearn\\neighbors\\_classification.py:179: DataConversionWarning: A column-vector y was passed when a 1d array was expected. Please change the shape of y to (n_samples,), for example using ravel().\n",
      "  return self._fit(X, y)\n",
      "C:\\Users\\onjad\\Anaconda3\\lib\\site-packages\\sklearn\\utils\\validation.py:573: UserWarning: pandas.DataFrame with sparse columns found.It will be converted to a dense numpy array.\n",
      "  \"pandas.DataFrame with sparse columns found.\"\n",
      "C:\\Users\\onjad\\Anaconda3\\lib\\site-packages\\sklearn\\utils\\validation.py:573: UserWarning: pandas.DataFrame with sparse columns found.It will be converted to a dense numpy array.\n",
      "  \"pandas.DataFrame with sparse columns found.\"\n",
      "C:\\Users\\onjad\\Anaconda3\\lib\\site-packages\\sklearn\\neighbors\\_classification.py:179: DataConversionWarning: A column-vector y was passed when a 1d array was expected. Please change the shape of y to (n_samples,), for example using ravel().\n",
      "  return self._fit(X, y)\n",
      "C:\\Users\\onjad\\Anaconda3\\lib\\site-packages\\sklearn\\utils\\validation.py:573: UserWarning: pandas.DataFrame with sparse columns found.It will be converted to a dense numpy array.\n",
      "  \"pandas.DataFrame with sparse columns found.\"\n",
      "C:\\Users\\onjad\\Anaconda3\\lib\\site-packages\\sklearn\\utils\\validation.py:573: UserWarning: pandas.DataFrame with sparse columns found.It will be converted to a dense numpy array.\n",
      "  \"pandas.DataFrame with sparse columns found.\"\n",
      "C:\\Users\\onjad\\Anaconda3\\lib\\site-packages\\sklearn\\neighbors\\_classification.py:179: DataConversionWarning: A column-vector y was passed when a 1d array was expected. Please change the shape of y to (n_samples,), for example using ravel().\n",
      "  return self._fit(X, y)\n",
      "C:\\Users\\onjad\\Anaconda3\\lib\\site-packages\\sklearn\\utils\\validation.py:573: UserWarning: pandas.DataFrame with sparse columns found.It will be converted to a dense numpy array.\n",
      "  \"pandas.DataFrame with sparse columns found.\"\n",
      "C:\\Users\\onjad\\Anaconda3\\lib\\site-packages\\sklearn\\utils\\validation.py:573: UserWarning: pandas.DataFrame with sparse columns found.It will be converted to a dense numpy array.\n",
      "  \"pandas.DataFrame with sparse columns found.\"\n",
      "C:\\Users\\onjad\\Anaconda3\\lib\\site-packages\\sklearn\\neighbors\\_classification.py:179: DataConversionWarning: A column-vector y was passed when a 1d array was expected. Please change the shape of y to (n_samples,), for example using ravel().\n",
      "  return self._fit(X, y)\n",
      "C:\\Users\\onjad\\Anaconda3\\lib\\site-packages\\sklearn\\utils\\validation.py:573: UserWarning: pandas.DataFrame with sparse columns found.It will be converted to a dense numpy array.\n",
      "  \"pandas.DataFrame with sparse columns found.\"\n",
      "C:\\Users\\onjad\\Anaconda3\\lib\\site-packages\\sklearn\\utils\\validation.py:573: UserWarning: pandas.DataFrame with sparse columns found.It will be converted to a dense numpy array.\n",
      "  \"pandas.DataFrame with sparse columns found.\"\n",
      "C:\\Users\\onjad\\Anaconda3\\lib\\site-packages\\sklearn\\neighbors\\_classification.py:179: DataConversionWarning: A column-vector y was passed when a 1d array was expected. Please change the shape of y to (n_samples,), for example using ravel().\n",
      "  return self._fit(X, y)\n",
      "C:\\Users\\onjad\\Anaconda3\\lib\\site-packages\\sklearn\\utils\\validation.py:573: UserWarning: pandas.DataFrame with sparse columns found.It will be converted to a dense numpy array.\n",
      "  \"pandas.DataFrame with sparse columns found.\"\n"
     ]
    },
    {
     "name": "stderr",
     "output_type": "stream",
     "text": [
      "C:\\Users\\onjad\\Anaconda3\\lib\\site-packages\\sklearn\\utils\\validation.py:573: UserWarning: pandas.DataFrame with sparse columns found.It will be converted to a dense numpy array.\n",
      "  \"pandas.DataFrame with sparse columns found.\"\n",
      "C:\\Users\\onjad\\Anaconda3\\lib\\site-packages\\sklearn\\neighbors\\_classification.py:179: DataConversionWarning: A column-vector y was passed when a 1d array was expected. Please change the shape of y to (n_samples,), for example using ravel().\n",
      "  return self._fit(X, y)\n",
      "C:\\Users\\onjad\\Anaconda3\\lib\\site-packages\\sklearn\\utils\\validation.py:573: UserWarning: pandas.DataFrame with sparse columns found.It will be converted to a dense numpy array.\n",
      "  \"pandas.DataFrame with sparse columns found.\"\n",
      "C:\\Users\\onjad\\Anaconda3\\lib\\site-packages\\sklearn\\utils\\validation.py:573: UserWarning: pandas.DataFrame with sparse columns found.It will be converted to a dense numpy array.\n",
      "  \"pandas.DataFrame with sparse columns found.\"\n",
      "C:\\Users\\onjad\\Anaconda3\\lib\\site-packages\\sklearn\\neighbors\\_classification.py:179: DataConversionWarning: A column-vector y was passed when a 1d array was expected. Please change the shape of y to (n_samples,), for example using ravel().\n",
      "  return self._fit(X, y)\n",
      "C:\\Users\\onjad\\Anaconda3\\lib\\site-packages\\sklearn\\utils\\validation.py:573: UserWarning: pandas.DataFrame with sparse columns found.It will be converted to a dense numpy array.\n",
      "  \"pandas.DataFrame with sparse columns found.\"\n",
      "C:\\Users\\onjad\\Anaconda3\\lib\\site-packages\\sklearn\\utils\\validation.py:573: UserWarning: pandas.DataFrame with sparse columns found.It will be converted to a dense numpy array.\n",
      "  \"pandas.DataFrame with sparse columns found.\"\n",
      "C:\\Users\\onjad\\Anaconda3\\lib\\site-packages\\sklearn\\neighbors\\_classification.py:179: DataConversionWarning: A column-vector y was passed when a 1d array was expected. Please change the shape of y to (n_samples,), for example using ravel().\n",
      "  return self._fit(X, y)\n",
      "C:\\Users\\onjad\\Anaconda3\\lib\\site-packages\\sklearn\\utils\\validation.py:573: UserWarning: pandas.DataFrame with sparse columns found.It will be converted to a dense numpy array.\n",
      "  \"pandas.DataFrame with sparse columns found.\"\n",
      "C:\\Users\\onjad\\Anaconda3\\lib\\site-packages\\sklearn\\utils\\validation.py:573: UserWarning: pandas.DataFrame with sparse columns found.It will be converted to a dense numpy array.\n",
      "  \"pandas.DataFrame with sparse columns found.\"\n",
      "C:\\Users\\onjad\\Anaconda3\\lib\\site-packages\\sklearn\\neighbors\\_classification.py:179: DataConversionWarning: A column-vector y was passed when a 1d array was expected. Please change the shape of y to (n_samples,), for example using ravel().\n",
      "  return self._fit(X, y)\n",
      "C:\\Users\\onjad\\Anaconda3\\lib\\site-packages\\sklearn\\utils\\validation.py:573: UserWarning: pandas.DataFrame with sparse columns found.It will be converted to a dense numpy array.\n",
      "  \"pandas.DataFrame with sparse columns found.\"\n",
      "C:\\Users\\onjad\\Anaconda3\\lib\\site-packages\\sklearn\\utils\\validation.py:573: UserWarning: pandas.DataFrame with sparse columns found.It will be converted to a dense numpy array.\n",
      "  \"pandas.DataFrame with sparse columns found.\"\n",
      "C:\\Users\\onjad\\Anaconda3\\lib\\site-packages\\sklearn\\neighbors\\_classification.py:179: DataConversionWarning: A column-vector y was passed when a 1d array was expected. Please change the shape of y to (n_samples,), for example using ravel().\n",
      "  return self._fit(X, y)\n",
      "C:\\Users\\onjad\\Anaconda3\\lib\\site-packages\\sklearn\\utils\\validation.py:573: UserWarning: pandas.DataFrame with sparse columns found.It will be converted to a dense numpy array.\n",
      "  \"pandas.DataFrame with sparse columns found.\"\n",
      "C:\\Users\\onjad\\Anaconda3\\lib\\site-packages\\sklearn\\utils\\validation.py:573: UserWarning: pandas.DataFrame with sparse columns found.It will be converted to a dense numpy array.\n",
      "  \"pandas.DataFrame with sparse columns found.\"\n",
      "C:\\Users\\onjad\\Anaconda3\\lib\\site-packages\\sklearn\\neighbors\\_classification.py:179: DataConversionWarning: A column-vector y was passed when a 1d array was expected. Please change the shape of y to (n_samples,), for example using ravel().\n",
      "  return self._fit(X, y)\n",
      "C:\\Users\\onjad\\Anaconda3\\lib\\site-packages\\sklearn\\utils\\validation.py:573: UserWarning: pandas.DataFrame with sparse columns found.It will be converted to a dense numpy array.\n",
      "  \"pandas.DataFrame with sparse columns found.\"\n",
      "C:\\Users\\onjad\\Anaconda3\\lib\\site-packages\\sklearn\\utils\\validation.py:573: UserWarning: pandas.DataFrame with sparse columns found.It will be converted to a dense numpy array.\n",
      "  \"pandas.DataFrame with sparse columns found.\"\n",
      "C:\\Users\\onjad\\Anaconda3\\lib\\site-packages\\sklearn\\neighbors\\_classification.py:179: DataConversionWarning: A column-vector y was passed when a 1d array was expected. Please change the shape of y to (n_samples,), for example using ravel().\n",
      "  return self._fit(X, y)\n",
      "C:\\Users\\onjad\\Anaconda3\\lib\\site-packages\\sklearn\\utils\\validation.py:573: UserWarning: pandas.DataFrame with sparse columns found.It will be converted to a dense numpy array.\n",
      "  \"pandas.DataFrame with sparse columns found.\"\n",
      "C:\\Users\\onjad\\Anaconda3\\lib\\site-packages\\sklearn\\utils\\validation.py:573: UserWarning: pandas.DataFrame with sparse columns found.It will be converted to a dense numpy array.\n",
      "  \"pandas.DataFrame with sparse columns found.\"\n",
      "C:\\Users\\onjad\\Anaconda3\\lib\\site-packages\\sklearn\\neighbors\\_classification.py:179: DataConversionWarning: A column-vector y was passed when a 1d array was expected. Please change the shape of y to (n_samples,), for example using ravel().\n",
      "  return self._fit(X, y)\n",
      "C:\\Users\\onjad\\Anaconda3\\lib\\site-packages\\sklearn\\utils\\validation.py:573: UserWarning: pandas.DataFrame with sparse columns found.It will be converted to a dense numpy array.\n",
      "  \"pandas.DataFrame with sparse columns found.\"\n",
      "C:\\Users\\onjad\\Anaconda3\\lib\\site-packages\\sklearn\\utils\\validation.py:573: UserWarning: pandas.DataFrame with sparse columns found.It will be converted to a dense numpy array.\n",
      "  \"pandas.DataFrame with sparse columns found.\"\n",
      "C:\\Users\\onjad\\Anaconda3\\lib\\site-packages\\sklearn\\neighbors\\_classification.py:179: DataConversionWarning: A column-vector y was passed when a 1d array was expected. Please change the shape of y to (n_samples,), for example using ravel().\n",
      "  return self._fit(X, y)\n",
      "C:\\Users\\onjad\\Anaconda3\\lib\\site-packages\\sklearn\\utils\\validation.py:573: UserWarning: pandas.DataFrame with sparse columns found.It will be converted to a dense numpy array.\n",
      "  \"pandas.DataFrame with sparse columns found.\"\n",
      "C:\\Users\\onjad\\Anaconda3\\lib\\site-packages\\sklearn\\utils\\validation.py:573: UserWarning: pandas.DataFrame with sparse columns found.It will be converted to a dense numpy array.\n",
      "  \"pandas.DataFrame with sparse columns found.\"\n",
      "C:\\Users\\onjad\\Anaconda3\\lib\\site-packages\\sklearn\\neighbors\\_classification.py:179: DataConversionWarning: A column-vector y was passed when a 1d array was expected. Please change the shape of y to (n_samples,), for example using ravel().\n",
      "  return self._fit(X, y)\n",
      "C:\\Users\\onjad\\Anaconda3\\lib\\site-packages\\sklearn\\utils\\validation.py:573: UserWarning: pandas.DataFrame with sparse columns found.It will be converted to a dense numpy array.\n",
      "  \"pandas.DataFrame with sparse columns found.\"\n",
      "C:\\Users\\onjad\\Anaconda3\\lib\\site-packages\\sklearn\\utils\\validation.py:573: UserWarning: pandas.DataFrame with sparse columns found.It will be converted to a dense numpy array.\n",
      "  \"pandas.DataFrame with sparse columns found.\"\n",
      "C:\\Users\\onjad\\Anaconda3\\lib\\site-packages\\sklearn\\neighbors\\_classification.py:179: DataConversionWarning: A column-vector y was passed when a 1d array was expected. Please change the shape of y to (n_samples,), for example using ravel().\n",
      "  return self._fit(X, y)\n",
      "C:\\Users\\onjad\\Anaconda3\\lib\\site-packages\\sklearn\\utils\\validation.py:573: UserWarning: pandas.DataFrame with sparse columns found.It will be converted to a dense numpy array.\n",
      "  \"pandas.DataFrame with sparse columns found.\"\n",
      "C:\\Users\\onjad\\Anaconda3\\lib\\site-packages\\sklearn\\utils\\validation.py:573: UserWarning: pandas.DataFrame with sparse columns found.It will be converted to a dense numpy array.\n",
      "  \"pandas.DataFrame with sparse columns found.\"\n",
      "C:\\Users\\onjad\\Anaconda3\\lib\\site-packages\\sklearn\\neighbors\\_classification.py:179: DataConversionWarning: A column-vector y was passed when a 1d array was expected. Please change the shape of y to (n_samples,), for example using ravel().\n",
      "  return self._fit(X, y)\n",
      "C:\\Users\\onjad\\Anaconda3\\lib\\site-packages\\sklearn\\utils\\validation.py:573: UserWarning: pandas.DataFrame with sparse columns found.It will be converted to a dense numpy array.\n",
      "  \"pandas.DataFrame with sparse columns found.\"\n"
     ]
    },
    {
     "name": "stderr",
     "output_type": "stream",
     "text": [
      "C:\\Users\\onjad\\Anaconda3\\lib\\site-packages\\sklearn\\utils\\validation.py:573: UserWarning: pandas.DataFrame with sparse columns found.It will be converted to a dense numpy array.\n",
      "  \"pandas.DataFrame with sparse columns found.\"\n",
      "C:\\Users\\onjad\\Anaconda3\\lib\\site-packages\\sklearn\\neighbors\\_classification.py:179: DataConversionWarning: A column-vector y was passed when a 1d array was expected. Please change the shape of y to (n_samples,), for example using ravel().\n",
      "  return self._fit(X, y)\n",
      "C:\\Users\\onjad\\Anaconda3\\lib\\site-packages\\sklearn\\utils\\validation.py:573: UserWarning: pandas.DataFrame with sparse columns found.It will be converted to a dense numpy array.\n",
      "  \"pandas.DataFrame with sparse columns found.\"\n",
      "C:\\Users\\onjad\\Anaconda3\\lib\\site-packages\\sklearn\\utils\\validation.py:573: UserWarning: pandas.DataFrame with sparse columns found.It will be converted to a dense numpy array.\n",
      "  \"pandas.DataFrame with sparse columns found.\"\n",
      "C:\\Users\\onjad\\Anaconda3\\lib\\site-packages\\sklearn\\neighbors\\_classification.py:179: DataConversionWarning: A column-vector y was passed when a 1d array was expected. Please change the shape of y to (n_samples,), for example using ravel().\n",
      "  return self._fit(X, y)\n",
      "C:\\Users\\onjad\\Anaconda3\\lib\\site-packages\\sklearn\\utils\\validation.py:573: UserWarning: pandas.DataFrame with sparse columns found.It will be converted to a dense numpy array.\n",
      "  \"pandas.DataFrame with sparse columns found.\"\n",
      "C:\\Users\\onjad\\Anaconda3\\lib\\site-packages\\sklearn\\utils\\validation.py:573: UserWarning: pandas.DataFrame with sparse columns found.It will be converted to a dense numpy array.\n",
      "  \"pandas.DataFrame with sparse columns found.\"\n",
      "C:\\Users\\onjad\\Anaconda3\\lib\\site-packages\\sklearn\\neighbors\\_classification.py:179: DataConversionWarning: A column-vector y was passed when a 1d array was expected. Please change the shape of y to (n_samples,), for example using ravel().\n",
      "  return self._fit(X, y)\n",
      "C:\\Users\\onjad\\Anaconda3\\lib\\site-packages\\sklearn\\utils\\validation.py:573: UserWarning: pandas.DataFrame with sparse columns found.It will be converted to a dense numpy array.\n",
      "  \"pandas.DataFrame with sparse columns found.\"\n",
      "C:\\Users\\onjad\\Anaconda3\\lib\\site-packages\\sklearn\\utils\\validation.py:573: UserWarning: pandas.DataFrame with sparse columns found.It will be converted to a dense numpy array.\n",
      "  \"pandas.DataFrame with sparse columns found.\"\n",
      "C:\\Users\\onjad\\Anaconda3\\lib\\site-packages\\sklearn\\neighbors\\_classification.py:179: DataConversionWarning: A column-vector y was passed when a 1d array was expected. Please change the shape of y to (n_samples,), for example using ravel().\n",
      "  return self._fit(X, y)\n",
      "C:\\Users\\onjad\\Anaconda3\\lib\\site-packages\\sklearn\\utils\\validation.py:573: UserWarning: pandas.DataFrame with sparse columns found.It will be converted to a dense numpy array.\n",
      "  \"pandas.DataFrame with sparse columns found.\"\n",
      "C:\\Users\\onjad\\Anaconda3\\lib\\site-packages\\sklearn\\utils\\validation.py:573: UserWarning: pandas.DataFrame with sparse columns found.It will be converted to a dense numpy array.\n",
      "  \"pandas.DataFrame with sparse columns found.\"\n",
      "C:\\Users\\onjad\\Anaconda3\\lib\\site-packages\\sklearn\\neighbors\\_classification.py:179: DataConversionWarning: A column-vector y was passed when a 1d array was expected. Please change the shape of y to (n_samples,), for example using ravel().\n",
      "  return self._fit(X, y)\n",
      "C:\\Users\\onjad\\Anaconda3\\lib\\site-packages\\sklearn\\utils\\validation.py:573: UserWarning: pandas.DataFrame with sparse columns found.It will be converted to a dense numpy array.\n",
      "  \"pandas.DataFrame with sparse columns found.\"\n",
      "C:\\Users\\onjad\\Anaconda3\\lib\\site-packages\\sklearn\\utils\\validation.py:573: UserWarning: pandas.DataFrame with sparse columns found.It will be converted to a dense numpy array.\n",
      "  \"pandas.DataFrame with sparse columns found.\"\n",
      "C:\\Users\\onjad\\Anaconda3\\lib\\site-packages\\sklearn\\neighbors\\_classification.py:179: DataConversionWarning: A column-vector y was passed when a 1d array was expected. Please change the shape of y to (n_samples,), for example using ravel().\n",
      "  return self._fit(X, y)\n",
      "C:\\Users\\onjad\\Anaconda3\\lib\\site-packages\\sklearn\\utils\\validation.py:573: UserWarning: pandas.DataFrame with sparse columns found.It will be converted to a dense numpy array.\n",
      "  \"pandas.DataFrame with sparse columns found.\"\n",
      "C:\\Users\\onjad\\Anaconda3\\lib\\site-packages\\sklearn\\utils\\validation.py:573: UserWarning: pandas.DataFrame with sparse columns found.It will be converted to a dense numpy array.\n",
      "  \"pandas.DataFrame with sparse columns found.\"\n",
      "C:\\Users\\onjad\\Anaconda3\\lib\\site-packages\\sklearn\\neighbors\\_classification.py:179: DataConversionWarning: A column-vector y was passed when a 1d array was expected. Please change the shape of y to (n_samples,), for example using ravel().\n",
      "  return self._fit(X, y)\n",
      "C:\\Users\\onjad\\Anaconda3\\lib\\site-packages\\sklearn\\utils\\validation.py:573: UserWarning: pandas.DataFrame with sparse columns found.It will be converted to a dense numpy array.\n",
      "  \"pandas.DataFrame with sparse columns found.\"\n",
      "C:\\Users\\onjad\\Anaconda3\\lib\\site-packages\\sklearn\\utils\\validation.py:573: UserWarning: pandas.DataFrame with sparse columns found.It will be converted to a dense numpy array.\n",
      "  \"pandas.DataFrame with sparse columns found.\"\n",
      "C:\\Users\\onjad\\Anaconda3\\lib\\site-packages\\sklearn\\neighbors\\_classification.py:179: DataConversionWarning: A column-vector y was passed when a 1d array was expected. Please change the shape of y to (n_samples,), for example using ravel().\n",
      "  return self._fit(X, y)\n",
      "C:\\Users\\onjad\\Anaconda3\\lib\\site-packages\\sklearn\\utils\\validation.py:573: UserWarning: pandas.DataFrame with sparse columns found.It will be converted to a dense numpy array.\n",
      "  \"pandas.DataFrame with sparse columns found.\"\n",
      "C:\\Users\\onjad\\Anaconda3\\lib\\site-packages\\sklearn\\utils\\validation.py:573: UserWarning: pandas.DataFrame with sparse columns found.It will be converted to a dense numpy array.\n",
      "  \"pandas.DataFrame with sparse columns found.\"\n",
      "C:\\Users\\onjad\\Anaconda3\\lib\\site-packages\\sklearn\\neighbors\\_classification.py:179: DataConversionWarning: A column-vector y was passed when a 1d array was expected. Please change the shape of y to (n_samples,), for example using ravel().\n",
      "  return self._fit(X, y)\n",
      "C:\\Users\\onjad\\Anaconda3\\lib\\site-packages\\sklearn\\utils\\validation.py:573: UserWarning: pandas.DataFrame with sparse columns found.It will be converted to a dense numpy array.\n",
      "  \"pandas.DataFrame with sparse columns found.\"\n",
      "C:\\Users\\onjad\\Anaconda3\\lib\\site-packages\\sklearn\\utils\\validation.py:573: UserWarning: pandas.DataFrame with sparse columns found.It will be converted to a dense numpy array.\n",
      "  \"pandas.DataFrame with sparse columns found.\"\n",
      "C:\\Users\\onjad\\Anaconda3\\lib\\site-packages\\sklearn\\neighbors\\_classification.py:179: DataConversionWarning: A column-vector y was passed when a 1d array was expected. Please change the shape of y to (n_samples,), for example using ravel().\n",
      "  return self._fit(X, y)\n",
      "C:\\Users\\onjad\\Anaconda3\\lib\\site-packages\\sklearn\\utils\\validation.py:573: UserWarning: pandas.DataFrame with sparse columns found.It will be converted to a dense numpy array.\n",
      "  \"pandas.DataFrame with sparse columns found.\"\n",
      "C:\\Users\\onjad\\Anaconda3\\lib\\site-packages\\sklearn\\utils\\validation.py:573: UserWarning: pandas.DataFrame with sparse columns found.It will be converted to a dense numpy array.\n",
      "  \"pandas.DataFrame with sparse columns found.\"\n",
      "C:\\Users\\onjad\\Anaconda3\\lib\\site-packages\\sklearn\\neighbors\\_classification.py:179: DataConversionWarning: A column-vector y was passed when a 1d array was expected. Please change the shape of y to (n_samples,), for example using ravel().\n",
      "  return self._fit(X, y)\n",
      "C:\\Users\\onjad\\Anaconda3\\lib\\site-packages\\sklearn\\utils\\validation.py:573: UserWarning: pandas.DataFrame with sparse columns found.It will be converted to a dense numpy array.\n",
      "  \"pandas.DataFrame with sparse columns found.\"\n",
      "C:\\Users\\onjad\\Anaconda3\\lib\\site-packages\\sklearn\\utils\\validation.py:573: UserWarning: pandas.DataFrame with sparse columns found.It will be converted to a dense numpy array.\n",
      "  \"pandas.DataFrame with sparse columns found.\"\n",
      "C:\\Users\\onjad\\Anaconda3\\lib\\site-packages\\sklearn\\neighbors\\_classification.py:179: DataConversionWarning: A column-vector y was passed when a 1d array was expected. Please change the shape of y to (n_samples,), for example using ravel().\n",
      "  return self._fit(X, y)\n",
      "C:\\Users\\onjad\\Anaconda3\\lib\\site-packages\\sklearn\\utils\\validation.py:573: UserWarning: pandas.DataFrame with sparse columns found.It will be converted to a dense numpy array.\n",
      "  \"pandas.DataFrame with sparse columns found.\"\n"
     ]
    },
    {
     "name": "stderr",
     "output_type": "stream",
     "text": [
      "C:\\Users\\onjad\\Anaconda3\\lib\\site-packages\\sklearn\\utils\\validation.py:573: UserWarning: pandas.DataFrame with sparse columns found.It will be converted to a dense numpy array.\n",
      "  \"pandas.DataFrame with sparse columns found.\"\n",
      "C:\\Users\\onjad\\Anaconda3\\lib\\site-packages\\sklearn\\neighbors\\_classification.py:179: DataConversionWarning: A column-vector y was passed when a 1d array was expected. Please change the shape of y to (n_samples,), for example using ravel().\n",
      "  return self._fit(X, y)\n",
      "C:\\Users\\onjad\\Anaconda3\\lib\\site-packages\\sklearn\\utils\\validation.py:573: UserWarning: pandas.DataFrame with sparse columns found.It will be converted to a dense numpy array.\n",
      "  \"pandas.DataFrame with sparse columns found.\"\n",
      "C:\\Users\\onjad\\Anaconda3\\lib\\site-packages\\sklearn\\utils\\validation.py:573: UserWarning: pandas.DataFrame with sparse columns found.It will be converted to a dense numpy array.\n",
      "  \"pandas.DataFrame with sparse columns found.\"\n",
      "C:\\Users\\onjad\\Anaconda3\\lib\\site-packages\\sklearn\\neighbors\\_classification.py:179: DataConversionWarning: A column-vector y was passed when a 1d array was expected. Please change the shape of y to (n_samples,), for example using ravel().\n",
      "  return self._fit(X, y)\n",
      "C:\\Users\\onjad\\Anaconda3\\lib\\site-packages\\sklearn\\utils\\validation.py:573: UserWarning: pandas.DataFrame with sparse columns found.It will be converted to a dense numpy array.\n",
      "  \"pandas.DataFrame with sparse columns found.\"\n",
      "C:\\Users\\onjad\\Anaconda3\\lib\\site-packages\\sklearn\\utils\\validation.py:573: UserWarning: pandas.DataFrame with sparse columns found.It will be converted to a dense numpy array.\n",
      "  \"pandas.DataFrame with sparse columns found.\"\n",
      "C:\\Users\\onjad\\Anaconda3\\lib\\site-packages\\sklearn\\neighbors\\_classification.py:179: DataConversionWarning: A column-vector y was passed when a 1d array was expected. Please change the shape of y to (n_samples,), for example using ravel().\n",
      "  return self._fit(X, y)\n",
      "C:\\Users\\onjad\\Anaconda3\\lib\\site-packages\\sklearn\\utils\\validation.py:573: UserWarning: pandas.DataFrame with sparse columns found.It will be converted to a dense numpy array.\n",
      "  \"pandas.DataFrame with sparse columns found.\"\n"
     ]
    },
    {
     "data": {
      "image/png": "[encoded data removed]",
      "text/plain": [
       "<Figure size 720x432 with 1 Axes>"
      ]
     },
     "metadata": {
      "needs_background": "light"
     },
     "output_type": "display_data"
    }
   ],
   "source": [
    "# Classifier(K-Nearest Neighbors)\n",
    "from sklearn.neighbors import KNeighborsClassifier\n",
    "knn = KNeighborsClassifier(n_neighbors=1)\n",
    "knn.fit(X_train,y_train)\n",
    "pred_knn = knn.predict(X_test)\n",
    "print('\\n\\n ACCURACY SCORE IS:', accuracy_score(true, pred_knn))\n",
    "\n",
    "# BEST VALUE OF K (Will take some time)\n",
    "error_rate = []\n",
    "for i in range(1, 40):\n",
    "    knn = KNeighborsClassifier(n_neighbors=i)\n",
    "    knn.fit(X_train, y_train)\n",
    "    pred_i = knn.predict(X_test)\n",
    "    pred_i = pred_i.reshape(25, 1)\n",
    "    error_rate.append(np.mean(pred_i != y_test))\n",
    "\n",
    "plt.figure(figsize=(10, 6))\n",
    "plt.plot(range(1, 40), error_rate, color='blue', linestyle='dashed', marker='o',\n",
    "          markerfacecolor='red', markersize=10)\n",
    "plt.title('Error Rate vs. K Value')\n",
    "plt.xlabel('K')\n",
    "plt.ylabel('Error Rate')\n",
    "plt.show()"
   ]
  },
  {
   "cell_type": "code",
   "execution_count": 45,
   "metadata": {},
   "outputs": [
    {
     "name": "stderr",
     "output_type": "stream",
     "text": [
      "C:\\Users\\onjad\\Anaconda3\\lib\\site-packages\\sklearn\\utils\\validation.py:573: UserWarning: pandas.DataFrame with sparse columns found.It will be converted to a dense numpy array.\n",
      "  \"pandas.DataFrame with sparse columns found.\"\n",
      "C:\\Users\\onjad\\Anaconda3\\lib\\site-packages\\sklearn\\neighbors\\_classification.py:179: DataConversionWarning: A column-vector y was passed when a 1d array was expected. Please change the shape of y to (n_samples,), for example using ravel().\n",
      "  return self._fit(X, y)\n",
      "C:\\Users\\onjad\\Anaconda3\\lib\\site-packages\\sklearn\\utils\\validation.py:573: UserWarning: pandas.DataFrame with sparse columns found.It will be converted to a dense numpy array.\n",
      "  \"pandas.DataFrame with sparse columns found.\"\n"
     ]
    },
    {
     "name": "stdout",
     "output_type": "stream",
     "text": [
      "\n",
      " CONFUSION MATRIX:\n",
      " [[10  2]\n",
      " [ 3 10]]\n",
      "\n",
      "\n",
      " ACCURACY SCORE IS: 0.8\n"
     ]
    }
   ],
   "source": [
    "# KNN with best K\n",
    "knn = KNeighborsClassifier(n_neighbors=15)\n",
    "knn.fit(X_train, y_train)\n",
    "pred_knn = knn.predict(X_test)\n",
    "print('\\n CONFUSION MATRIX:\\n', confusion_matrix(true, pred_knn))\n",
    "print('\\n\\n ACCURACY SCORE IS:', accuracy_score(true, pred_knn))"
   ]
  },
  {
   "cell_type": "code",
   "execution_count": 42,
   "metadata": {},
   "outputs": [
    {
     "name": "stderr",
     "output_type": "stream",
     "text": [
      "C:\\Users\\onjad\\Anaconda3\\lib\\site-packages\\sklearn\\utils\\validation.py:573: UserWarning: pandas.DataFrame with sparse columns found.It will be converted to a dense numpy array.\n",
      "  \"pandas.DataFrame with sparse columns found.\"\n",
      "C:\\Users\\onjad\\Anaconda3\\lib\\site-packages\\sklearn\\utils\\validation.py:63: DataConversionWarning: A column-vector y was passed when a 1d array was expected. Please change the shape of y to (n_samples, ), for example using ravel().\n",
      "  return f(*args, **kwargs)\n",
      "C:\\Users\\onjad\\Anaconda3\\lib\\site-packages\\sklearn\\utils\\validation.py:573: UserWarning: pandas.DataFrame with sparse columns found.It will be converted to a dense numpy array.\n",
      "  \"pandas.DataFrame with sparse columns found.\"\n"
     ]
    },
    {
     "name": "stdout",
     "output_type": "stream",
     "text": [
      "\n",
      " CONFUSION MATRIX:\n",
      " [[10  2]\n",
      " [ 7  6]]\n",
      "\n",
      "\n",
      " ACCURACY SCORE IS: 0.64\n"
     ]
    }
   ],
   "source": [
    "# Classifier (Logistic Regression)\n",
    "from sklearn.linear_model import LogisticRegression\n",
    "logmodel = LogisticRegression()\n",
    "logmodel.fit(X_train,y_train)\n",
    "pred_log = logmodel.predict(X_test)\n",
    "print('\\n CONFUSION MATRIX:\\n', confusion_matrix(true, pred_log))\n",
    "print('\\n\\n ACCURACY SCORE IS:', accuracy_score(true, pred_log))"
   ]
  },
  {
   "cell_type": "code",
   "execution_count": 43,
   "metadata": {},
   "outputs": [
    {
     "name": "stderr",
     "output_type": "stream",
     "text": [
      "C:\\Users\\onjad\\Anaconda3\\lib\\site-packages\\sklearn\\utils\\validation.py:573: UserWarning: pandas.DataFrame with sparse columns found.It will be converted to a dense numpy array.\n",
      "  \"pandas.DataFrame with sparse columns found.\"\n",
      "C:\\Users\\onjad\\Anaconda3\\lib\\site-packages\\sklearn\\utils\\validation.py:63: DataConversionWarning: A column-vector y was passed when a 1d array was expected. Please change the shape of y to (n_samples, ), for example using ravel().\n",
      "  return f(*args, **kwargs)\n",
      "C:\\Users\\onjad\\Anaconda3\\lib\\site-packages\\sklearn\\utils\\validation.py:573: UserWarning: pandas.DataFrame with sparse columns found.It will be converted to a dense numpy array.\n",
      "  \"pandas.DataFrame with sparse columns found.\"\n"
     ]
    },
    {
     "name": "stdout",
     "output_type": "stream",
     "text": [
      "\n",
      " CONFUSION MATRIX:\n",
      " [[ 0 12]\n",
      " [ 0 13]]\n",
      "\n",
      "\n",
      " ACCURACY SCORE IS: 0.52 \n",
      "\n"
     ]
    }
   ],
   "source": [
    "# Classifier (Naive Bayes)\n",
    "from sklearn.naive_bayes import MultinomialNB\n",
    "nb = MultinomialNB()\n",
    "nb.fit(X_train,y_train)\n",
    "pred_naive = nb.predict(X_test)\n",
    "print('\\n CONFUSION MATRIX:\\n', confusion_matrix(true, pred_naive))\n",
    "print('\\n\\n ACCURACY SCORE IS:', accuracy_score(true, pred_naive), '\\n')"
   ]
  },
  {
   "cell_type": "code",
   "execution_count": 48,
   "metadata": {},
   "outputs": [
    {
     "name": "stdout",
     "output_type": "stream",
     "text": [
      "ACCURACY SCORE OF EACH CLASSIFIER:\n",
      "\n",
      "NEURAL NETWORK: 0.52\n",
      "RANDOM FOREST: 0.8\n",
      "DECISION TREE: 0.68\n",
      "SVM: 0.6\n",
      "K NEAREST NEIGHBORS: 0.8\n",
      "LOGISTIC REGRESSION: 0.64\n",
      "NAIVE BAYES: 0.52\n"
     ]
    }
   ],
   "source": [
    "print('ACCURACY SCORE OF EACH CLASSIFIER:\\n')\n",
    "print('NEURAL NETWORK:', accuracy_score(true, pred))\n",
    "print('RANDOM FOREST:', accuracy_score(true, pred_rfc))\n",
    "print('DECISION TREE:', accuracy_score(true, pred_tree))\n",
    "print('SVM:', accuracy_score(true, pred_svm))\n",
    "print('K NEAREST NEIGHBORS:', accuracy_score(true, pred_knn))\n",
    "print('LOGISTIC REGRESSION:', accuracy_score(true, pred_log))\n",
    "print('NAIVE BAYES:', accuracy_score(true, pred_naive))"
   ]
  },
  {
   "cell_type": "code",
   "execution_count": null,
   "metadata": {},
   "outputs": [],
   "source": [
    "# from tensorflow.keras.models import model_from_json\n",
    "\n",
    "# # serialize model to JSON\n",
    "# model_json = model.to_json()\n",
    "\n",
    "# with open(\"model.json\", \"w\") as json_file:\n",
    "#     json_file.write(model_json)\n",
    "\n",
    "# # serialize weights to HDF5\n",
    "# model.save_weights(\"model_J.h5\")\n",
    "# print(\"Saved model to disk\")\n",
    " \n",
    "# # load json and create model\n",
    "# json_file = open('model.json', 'r')\n",
    "# loaded_model_json = json_file.read()\n",
    "# json_file.close()\n",
    "# loaded_model = model_from_json(loaded_model_json)\n",
    "\n",
    "# # load weights into new model\n",
    "# loaded_model.load_weights(\"model_J.h5\")\n",
    "# print(\"Loaded model from disk\")\n",
    " \n",
    "# # evaluate loaded model on test data\n",
    "# loaded_model.compile(loss='binary_crossentropy', optimizer='adam', metrics=['accuracy'])\n",
    "# score = loaded_model.evaluate(X_test, y_test, verbose=0)\n",
    "# print(\"%s: %.2f%%\" % (loaded_model.metrics_names[1], score[1]*100))"
   ]
  }
 ],
 "metadata": {
  "kernelspec": {
   "display_name": "Python 3",
   "language": "python",
   "name": "python3"
  },
  "language_info": {
   "codemirror_mode": {
    "name": "ipython",
    "version": 3
   },
   "file_extension": ".py",
   "mimetype": "text/x-python",
   "name": "python",
   "nbconvert_exporter": "python",
   "pygments_lexer": "ipython3",
   "version": "3.8.5"
  }
 },
 "nbformat": 4,
 "nbformat_minor": 4
}
